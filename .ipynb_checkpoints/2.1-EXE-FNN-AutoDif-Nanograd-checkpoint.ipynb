{
 "cells": [
  {
   "cell_type": "markdown",
   "metadata": {
    "id": "HAva8TnYFtFu"
   },
   "source": [
    "# Contents and why we need this lab\n",
    "\n",
    "This lab is about implementing neural networks yourself before we start using other frameworks which hide some of the computation from you. It builds on the first lab where you derived the equations for neural network forward and backward propagation and gradient descent parameter updates. \n",
    "\n",
    "All the frameworks for deep learning you will meet from now on uses automatic differentiation (autodiff) so you don't have to code the backward step yourself. In this version of this lab you will develop your own autodif implementation. We also have a [version](https://github.com/DeepLearningDTU/02456-deep-learning-with-PyTorch/blob/master/2_Feedforward_NumPy/2.1-FNN-NumPy.ipynb) of this lab where you have to code the backward pass explicitly in Numpy."
   ]
  },
  {
   "cell_type": "markdown",
   "metadata": {
    "id": "sCa7HzwpFtFy"
   },
   "source": [
    "# External sources of information\n",
    "\n",
    "1. Jupyter notebook. You can find more information about Jupyter notebooks [here](https://jupyter.org/). It will come as part of the [Anaconda](https://www.anaconda.com/) Python installation. \n",
    "2. [NumPy](https://numpy.org/). Part of Anaconda distribution. If you already know how to program most things about Python and NumPy can be found through Google search.\n",
    "3. [Nanograd](https://github.com/rasmusbergpalm/nanograd) is a minimalistic version of autodiff developed by Rasmus Berg Palm that we use for our framework.\n"
   ]
  },
  {
   "cell_type": "markdown",
   "metadata": {
    "id": "1SjiIp-TFtF0"
   },
   "source": [
    "# This notebook will follow the next steps:\n",
    "\n",
    "1. Nanograd automatic differentiation framework\n",
    "2. Finite difference method\n",
    "3. Data generation\n",
    "4. Defining and initializing the network\n",
    "5. Forward pass\n",
    "6. Training loop \n",
    "7. Testing your model\n",
    "8. Further extensions"
   ]
  },
  {
   "cell_type": "markdown",
   "metadata": {
    "id": "OyXeAA-HuT7s"
   },
   "source": [
    "# Nanograd automatic differention framework"
   ]
  },
  {
   "cell_type": "markdown",
   "metadata": {
    "id": "k6UWKCLKubgA"
   },
   "source": [
    "The [Nanograd](https://github.com/rasmusbergpalm/nanograd) framework defines a class Var which both holds a value and gradient value that we can use to store the intermediate values when we apply the chain rule of differentiation."
   ]
  },
  {
   "cell_type": "code",
   "execution_count": 1,
   "metadata": {
    "id": "Jd4CoEBNzNWS"
   },
   "outputs": [],
   "source": [
    "# Copy and pasted from https://github.com/rasmusbergpalm/nanograd/blob/main/nanograd.py\n",
    "\n",
    "from math import exp, log\n",
    "\n",
    "class Var:\n",
    "    \"\"\"\n",
    "    A variable which holds a float and enables gradient computations.\n",
    "    \"\"\"\n",
    "\n",
    "    def __init__(self, val: float, grad_fn=lambda: []):\n",
    "        assert type(val) == float\n",
    "        self.v = val\n",
    "        self.grad_fn = grad_fn\n",
    "        self.grad = 0.0\n",
    "\n",
    "    def backprop(self, bp):\n",
    "        self.grad += bp\n",
    "        for input, grad in self.grad_fn():\n",
    "            input.backprop(grad * bp)\n",
    "\n",
    "    def backward(self):\n",
    "        self.backprop(1.0)\n",
    "\n",
    "    def __add__(self: 'Var', other: 'Var') -> 'Var':\n",
    "        return Var(self.v + other.v, lambda: [(self, 1.0), (other, 1.0)])\n",
    "\n",
    "    def __mul__(self: 'Var', other: 'Var') -> 'Var':\n",
    "        return Var(self.v * other.v, lambda: [(self, other.v), (other, self.v)])\n",
    "\n",
    "    def __pow__(self, power):\n",
    "        assert type(power) in {float, int}, \"power must be float or int\"\n",
    "        return Var(self.v ** power, lambda: [(self, power * self.v ** (power - 1))])\n",
    "\n",
    "    def __neg__(self: 'Var') -> 'Var':\n",
    "        return Var(-1.0) * self\n",
    "\n",
    "    def __sub__(self: 'Var', other: 'Var') -> 'Var':\n",
    "        return self + (-other)\n",
    "\n",
    "    def __truediv__(self: 'Var', other: 'Var') -> 'Var':\n",
    "        return self * other ** -1\n",
    "\n",
    "    def __repr__(self):\n",
    "        return \"Var(v=%.4f, grad=%.4f)\" % (self.v, self.grad)\n",
    "\n",
    "    def relu(self):\n",
    "        return Var(self.v if self.v > 0.0 else 0.0, lambda: [(self, 1.0 if self.v > 0.0 else 0.0)])"
   ]
  },
  {
   "cell_type": "markdown",
   "metadata": {
    "id": "yDX67D6jzcte"
   },
   "source": [
    "A few examples illustrate how we can use this:"
   ]
  },
  {
   "cell_type": "code",
   "execution_count": null,
   "metadata": {
    "colab": {
     "base_uri": "https://localhost:8080/"
    },
    "id": "xk6PeLc3zwPT",
    "outputId": "47e431b2-07ba-4cb1-ea21-997769641c67"
   },
   "outputs": [],
   "source": [
    "a = Var(3.0)\n",
    "b = Var(5.0)\n",
    "f = a * b\n",
    "\n",
    "f.backward()\n",
    "\n",
    "for v in [a, b, f]:\n",
    "    print(v)"
   ]
  },
  {
   "cell_type": "code",
   "execution_count": null,
   "metadata": {
    "colab": {
     "base_uri": "https://localhost:8080/"
    },
    "id": "JmKhYgsY0g_o",
    "outputId": "06c1b1df-c33c-40d3-922a-624612a591c7"
   },
   "outputs": [],
   "source": [
    "a = Var(3.0)\n",
    "b = Var(5.0)\n",
    "c = a * b\n",
    "d = Var(9.0)\n",
    "e = a * d\n",
    "f = c + e\n",
    "\n",
    "f.backward()\n",
    "\n",
    "for v in [a, b, c, d, e, f]:\n",
    "    print(v)"
   ]
  },
  {
   "cell_type": "markdown",
   "metadata": {
    "id": "Fe3B6uEH140p"
   },
   "source": [
    "## Exercise a) What is being calculated?\n",
    "\n",
    "Explain briefly the output of the code? What is the expression we differentiate and with respect to what variables?"
   ]
  },
  {
   "cell_type": "markdown",
   "metadata": {},
   "source": [
    "## Answer a)\n",
    "\n",
    "The output is the gradient of specific variable, like the output of f.backward(), output a is Var(v=3, grad=14), it means the value of a is 3 and the differential coefficient of a to f is 14.\n",
    "\n",
    "$$\n",
    "\\frac{\\partial f}{\\partial a} = 14\n",
    "$$\n",
    "\n"
   ]
  },
  {
   "cell_type": "markdown",
   "metadata": {
    "id": "q8_Q0t2I3Ruj"
   },
   "source": [
    "## Exercise b) How does the backward function work?\n",
    "\n",
    "You need to understand how the backward function calculates the gradients. We can use the two examples above to help with that.\n",
    "\n",
    "Go through the following four steps and answer the questions on the way:\n",
    "\n",
    "1. We represent the two expressions as graphs as shown below. Fill in the missing expressions for the different derivatives.\n",
    "\n",
    "2. In the remainder consider the first expression. Make a schematic of the data structure which is generated when we define the expression for f. \n",
    "\n",
    "3. Then execute the backward function by hand to convince yourself that it indeed calculates the gradients with respect to the variables. \n",
    "\n",
    "4. Write down the sequence of calls to backprop."
   ]
  },
  {
   "cell_type": "code",
   "execution_count": null,
   "metadata": {
    "id": "idGr71jYXl26"
   },
   "outputs": [],
   "source": [
    "# import logging\n",
    "import graphviz\n",
    "\n",
    "#logging.basicConfig(format='[%(levelname)s@%(name)s] %(message)s', level=logging.DEBUG)\n",
    "\n",
    "#graphviz.__version__, graphviz.version()"
   ]
  },
  {
   "cell_type": "markdown",
   "metadata": {},
   "source": [
    "## Answer b)\n",
    "\n",
    "As shown before, a=3, b=5, d=9"
   ]
  },
  {
   "cell_type": "code",
   "execution_count": null,
   "metadata": {
    "colab": {
     "base_uri": "https://localhost:8080/",
     "height": 152
    },
    "id": "KPe30Q2QXzeG",
    "outputId": "7fa002cd-a018-4dbb-ddf1-28ed5e99ee19"
   },
   "outputs": [],
   "source": [
    "e1 = graphviz.Digraph('first expression', filename='fsm.gv')\n",
    "\n",
    "e1.attr(rankdir='LR', size='8,5')\n",
    "\n",
    "e1.attr('node', shape='circle')\n",
    "e1.edge('a', 'f', label='df/da=5')\n",
    "e1.edge('b', 'f', label='df/db=3')\n",
    "\n",
    "e1"
   ]
  },
  {
   "cell_type": "code",
   "execution_count": null,
   "metadata": {
    "colab": {
     "base_uri": "https://localhost:8080/",
     "height": 232
    },
    "id": "0nittR-mZFeX",
    "outputId": "fa3656a3-732c-4abe-8084-98a492b0d6be"
   },
   "outputs": [],
   "source": [
    "e2 = graphviz.Digraph('second expression', filename='fsm.gv')\n",
    "\n",
    "e2.attr(rankdir='LR', size='8,5')\n",
    "\n",
    "e2.attr('node', shape='circle')\n",
    "e2.edge('a', 'c', label='dc/da=5')\n",
    "e2.edge('b', 'c', label='dc/db=3')\n",
    "e2.edge('a', 'e', label='de/da=9')\n",
    "e2.edge('d', 'e', label='de/dd=3')\n",
    "e2.edge('c', 'f', label='df/dc=1')\n",
    "e2.edge('e', 'f', label='df/de=1')\n",
    "\n",
    "e2"
   ]
  },
  {
   "cell_type": "markdown",
   "metadata": {
    "id": "A5oi21W4gpeM"
   },
   "source": [
    "## Exercise c) What happens if we run backward again?\n",
    "\n",
    "Try to execute the code below. Explain what happens."
   ]
  },
  {
   "cell_type": "code",
   "execution_count": null,
   "metadata": {
    "colab": {
     "base_uri": "https://localhost:8080/"
    },
    "id": "DCtpJyr-gyX1",
    "outputId": "d014bcfa-c9ae-49c3-d268-91cc6ca94ea5"
   },
   "outputs": [],
   "source": [
    "f.backward()\n",
    "\n",
    "for v in [a, b, c, d, e, f]:\n",
    "    print(v)"
   ]
  },
  {
   "cell_type": "markdown",
   "metadata": {},
   "source": [
    "## Answer c)\n",
    "\n",
    "The gradient of each variable is doubled. Because in this class, the author create one array to store each variable's value and gradient, what's more, the overload operators like: add and so on, are defined with corresponding derivate formula.\n",
    "\n",
    "Therefore, the intial gradient of each variable is the value calculated before, then if f.backward() twice, the gradient will be calculated again, ie, double. "
   ]
  },
  {
   "cell_type": "markdown",
   "metadata": {
    "id": "e8bPVq2VhsP-"
   },
   "source": [
    "## Exercise d) Zero gradient\n",
    "\n",
    "We can zero the gradient by backpropagating a -1.0 as is shown in the example below. (If you have run backward multiple time then you also have to run the cell below an equal amount of times.) Explain what is going on."
   ]
  },
  {
   "cell_type": "code",
   "execution_count": null,
   "metadata": {
    "colab": {
     "base_uri": "https://localhost:8080/"
    },
    "id": "OnyPDQx9lJe0",
    "outputId": "7a125fdc-60c4-4340-a580-8b82aea5b0db"
   },
   "outputs": [],
   "source": [
    "a = Var(2.0)\n",
    "\n",
    "for v in [a, b, c, d, e, f]:\n",
    "    print(v)\n",
    "\n",
    "f.backprop(-1.0)\n",
    "\n",
    "print(\"_________________________________________________\")\n",
    "\n",
    "for v in [a, b, c, d, e, f]:\n",
    "    print(v)"
   ]
  },
  {
   "cell_type": "markdown",
   "metadata": {},
   "source": [
    "## Answer d)\n",
    "\n",
    "For a, it mainly because the property of jupyter notebook. If we define the same variable with different value, the old one still exist and the related functions or algorithms still based on the old one, they will not be updated with new one. Therefore, the \"a\" in this exercise is the new \"a\", it does not one part of \"f\" function. That is why the gradient is zero.\n",
    "\n",
    "for f.backprop(-1), backprop() is different with backward(), in backward() the initial value of backprop() is 1. Therefore that's why if we f.backward() twice the gradient of each value will be double. But if we specify the value of f.backprop() is \"-1\" and run it, the doubled gradient will decrease their original gradient."
   ]
  },
  {
   "cell_type": "markdown",
   "metadata": {
    "id": "U4057_ljNvWB"
   },
   "source": [
    "## Exercise e) Test correctness of derivatives with the finite difference method\n",
    "\n",
    "Write a small function that uses [the finite difference method](https://en.wikipedia.org/wiki/Finite_difference_method) to numerically test that backpropation implementation is working. In short we will use\n",
    "$$\n",
    "\\frac{\\partial f(a)}{\\partial a} \\approx \\frac{f(a+da)-f(a)}{da}\n",
    "$$\n",
    "for $da \\ll 1$.\n",
    "\n",
    "As an example, we could approximate the derivative of the function $f(a)=a^2$ in e.g. the value $a=4$ using the finite difference method. This amounts to inserting the relevant values and approximating the gradient $f'(4)$ with the fraction above. \n"
   ]
  },
  {
   "cell_type": "code",
   "execution_count": 2,
   "metadata": {
    "colab": {
     "base_uri": "https://localhost:8080/"
    },
    "id": "9TGil92lSXDN",
    "outputId": "7ef5489b-b525-4132-ab08-0b1109c07f4d"
   },
   "outputs": [
    {
     "name": "stdout",
     "output_type": "stream",
     "text": [
      "Var(v=3.0000, grad=5.0000)\n",
      "Var(v=5.0000, grad=3.0000)\n",
      "Var(v=15.0000, grad=1.0000)\n",
      "8.000000661922968\n"
     ]
    }
   ],
   "source": [
    "# f function - try to change the code to test other types of functions as well (such as different polynomials etc.)\n",
    "def f_function(a):\n",
    "    a = Var(a)\n",
    "    b = Var(5.0)\n",
    "    f = a * b\n",
    "    f.backward()\n",
    "    \n",
    "    return a,b,f\n",
    "\n",
    "for v in f_function(3.0):\n",
    "    print(v)\n",
    "\n",
    "# Insert your finite difference code here\n",
    "def finite_difference(da=1e-10):\n",
    "    \"\"\"\n",
    "    This function compute the finite difference between\n",
    "    \n",
    "    Input:\n",
    "    da:          The finite difference                           (float)\n",
    "    \n",
    "    Output:\n",
    "    finite_difference: numerical approximation to the derivative (float) \n",
    "    \"\"\"\n",
    "    \n",
    "    fa_da = (4+da)**2           # <- Insert correct expression\n",
    "    fa = 4 ** 2               # <- Insert correct expression\n",
    "\n",
    "    finite_difference = (fa_da - fa) / da\n",
    "    \n",
    "    return finite_difference\n",
    "\n",
    "print(finite_difference())"
   ]
  },
  {
   "cell_type": "markdown",
   "metadata": {
    "id": "6pZar5RKaUkg"
   },
   "source": [
    "# Create an artificial dataset to play with\n",
    "\n",
    "We create a non-linear 1d regression task. The generator supports various noise levels and it creates train, validation and test sets. You can modify it yourself if you want more or less challenging tasks."
   ]
  },
  {
   "cell_type": "code",
   "execution_count": 3,
   "metadata": {
    "id": "Y6yfMAQ8aduj"
   },
   "outputs": [],
   "source": [
    "import numpy as np\n",
    "import matplotlib.pyplot as plt\n",
    "\n",
    "np.random.seed(42)"
   ]
  },
  {
   "cell_type": "code",
   "execution_count": 4,
   "metadata": {
    "id": "4YabfD43ajNh"
   },
   "outputs": [],
   "source": [
    "def data_generator(noise=0.1, n_samples=300, D1=True):\n",
    "    # Create covariates and response variable\n",
    "    if D1:\n",
    "        X = np.linspace(-3, 3, num=n_samples).reshape(-1,1) # 1-D\n",
    "        np.random.shuffle(X)\n",
    "        y = np.random.normal((0.5*np.sin(X[:,0]*3) + X[:,0]), noise) # 1-D with trend\n",
    "    else:\n",
    "        X = np.random.multivariate_normal(np.zeros(3), noise*np.eye(3), size = n_samples) # 3-D\n",
    "        np.random.shuffle(X)    \n",
    "        y = np.sin(X[:,0]) - 5*(X[:,1]**2) + 0.5*X[:,2] # 3-D\n",
    "\n",
    "    # Stack them together vertically to split data set\n",
    "    data_set = np.vstack((X.T,y)).T\n",
    "    \n",
    "    train, validation, test = np.split(data_set, [int(0.35*n_samples), int(0.7*n_samples)], axis=0)\n",
    "    \n",
    "    # Standardization of the data, remember we do the standardization with the training set mean and standard deviation\n",
    "    train_mu = np.mean(train, axis=0)\n",
    "    train_sigma = np.std(train, axis=0)\n",
    "    \n",
    "    train = (train-train_mu)/train_sigma\n",
    "    validation = (validation-train_mu)/train_sigma\n",
    "    test = (test-train_mu)/train_sigma\n",
    "    \n",
    "    x_train, x_validation, x_test = train[:,:-1], validation[:,:-1], test[:,:-1]\n",
    "    y_train, y_validation, y_test = train[:,-1], validation[:,-1], test[:,-1]\n",
    "\n",
    "    return x_train, y_train,  x_validation, y_validation, x_test, y_test"
   ]
  },
  {
   "cell_type": "code",
   "execution_count": 5,
   "metadata": {
    "id": "u1oDngHLapIz"
   },
   "outputs": [],
   "source": [
    "D1 = True\n",
    "x_train, y_train,  x_validation, y_validation, x_test, y_test = data_generator(noise=0.5, D1=D1)"
   ]
  },
  {
   "cell_type": "code",
   "execution_count": 6,
   "metadata": {
    "colab": {
     "base_uri": "https://localhost:8080/",
     "height": 265
    },
    "id": "Ysfa3FsBavlm",
    "outputId": "399e5382-ae7d-48f6-9774-7ea4c73e7d95"
   },
   "outputs": [
    {
     "data": {
      "image/png": "[encoded data removed]",
      "text/plain": [
       "<Figure size 432x288 with 1 Axes>"
      ]
     },
     "metadata": {
      "needs_background": "light"
     },
     "output_type": "display_data"
    }
   ],
   "source": [
    "if D1:\n",
    "    plt.scatter(x_train[:,0], y_train);\n",
    "    plt.scatter(x_validation[:,0], y_validation);\n",
    "    plt.scatter(x_test[:,0], y_test);\n",
    "else:\n",
    "    plt.scatter(x_train[:,1], y_train);\n",
    "    plt.scatter(x_validation[:,1], y_validation);\n",
    "    plt.scatter(x_test[:,1], y_test);\n",
    "plt.show()"
   ]
  },
  {
   "cell_type": "code",
   "execution_count": 7,
   "metadata": {
    "id": "zac2HHNlgbpm"
   },
   "outputs": [],
   "source": [
    "# convert from nparray to Var\n",
    "def nparray_to_Var(x):\n",
    "    if x.ndim==1:\n",
    "        y = [[Var(float(x[i]))] for i in range(x.shape[0])] # always work with list of list\n",
    "        \n",
    "    else:\n",
    "        y = [[Var(float(x[i,j])) for j in range(x.shape[1])] for i in range(x.shape[0])]\n",
    "        \n",
    "    return y\n",
    "   \n",
    "x_train = nparray_to_Var(x_train)\n",
    "y_train = nparray_to_Var(y_train)\n",
    "x_validation = nparray_to_Var(x_validation)\n",
    "y_validation = nparray_to_Var(y_validation)\n",
    "x_test = nparray_to_Var(x_test)\n",
    "y_test = nparray_to_Var(y_test)\n"
   ]
  },
  {
   "cell_type": "markdown",
   "metadata": {
    "id": "VbjrqcpVFtGe"
   },
   "source": [
    "# Defining and initializing the network\n",
    "\n",
    "The steps to create a feed forward neural network are the following:\n",
    "\n",
    "1. **Number of hidden layer and hidden units**. We have to define the number of hidden units in each layer. The number of features in X and the output dimensionality (the size of Y) are given but the numbers in between are set by the researcher. Remember that for each unit in each layer beside in the input has a bias term.\n",
    "2. **Activation functions** for each hidden layer. Each hidden layer in your list must have an activation function (it can also be the linear activation which is equivalent to identity function). The power of neural networks comes from non-linear activation functions that learn representations (features) from the data allowing us to learn from it. \n",
    "3. **Parameter initialization**. We will initialize the weights to have random values. This is done in practice by drawing pseudo random numbers from a Gaussian or uniform distribution. It turns out that for deeper models we have to be careful about how we scale the random numbers. This will be the topic of the exercise below. For now we will just use unit variance Gaussians.  \n",
    "\n",
    "In order to make life easier for ourselves we define a DenseLayer class that takes care of initialization and the forward pass. We can also extend it later with print and advanced initialization capabilities. For the latter we have introduced a Initializer class.\n",
    "\n",
    "Note that we use Sequence in the code below. A Sequence is an ordered list. This means the order we insert and access items are the same."
   ]
  },
  {
   "cell_type": "code",
   "execution_count": 8,
   "metadata": {
    "id": "ij_ieRsAt7Xt"
   },
   "outputs": [],
   "source": [
    "class Initializer:\n",
    "    def init_weights(self, n_in, n_out):\n",
    "        raise NotImplementedError\n",
    "        \n",
    "    def init_bias(self, n_out):\n",
    "        raise NotImplementedError"
   ]
  },
  {
   "cell_type": "code",
   "execution_count": 9,
   "metadata": {
    "id": "eb18N5phuIha"
   },
   "outputs": [],
   "source": [
    "import random\n",
    "\n",
    "class NormalInitializer(Initializer):\n",
    "\n",
    "    def __init__(self, mean=0, std=0.1):\n",
    "        self.mean = mean\n",
    "        self.std = std\n",
    "\n",
    "    def init_weights(self, n_in, n_out):\n",
    "        return [[Var(random.gauss(self.mean, self.std)) for _ in range(n_out)] for _ in range(n_in)]\n",
    "\n",
    "    def init_bias(self, n_out):\n",
    "        return [Var(0.0) for _ in range(n_out)]\n",
    "\n",
    "class ConstantInitializer(Initializer):\n",
    "\n",
    "    def __init__(self, weight=1.0, bias=0.0):\n",
    "        self.weight = weight\n",
    "        self.bias = bias\n",
    "\n",
    "    def init_weights(self, n_in, n_out):\n",
    "        return [[Var(self.weight) for _ in range(n_out)] for _ in range(n_in)]\n",
    "\n",
    "    def init_bias(self, n_out):\n",
    "        return [Var(self.bias) for _ in range(n_out)]"
   ]
  },
  {
   "cell_type": "code",
   "execution_count": 10,
   "metadata": {
    "id": "jOLYGnZKuM6W"
   },
   "outputs": [],
   "source": [
    "from typing import Sequence\n",
    "\n",
    "class DenseLayer:\n",
    "    def __init__(self, n_in: int, n_out: int, act_fn, initializer = NormalInitializer()):\n",
    "        self.weights = initializer.init_weights(n_in, n_out)\n",
    "        self.bias = initializer.init_bias(n_out)\n",
    "        self.act_fn = act_fn\n",
    "    \n",
    "    def __repr__(self):\n",
    "        \n",
    "        return 'Weights: ' + repr(self.weights) + ' Biases: ' + repr(self.bias)\n",
    "                      \n",
    "    def parameters(self) -> Sequence[Var]:\n",
    "        params = []\n",
    "        for r in self.weights:\n",
    "            params += r\n",
    "        \n",
    "        return params + self.bias\n",
    "\n",
    "    def forward(self, single_input: Sequence[Var]) -> Sequence[Var]:\n",
    "        # self.weights is a matrix with dimension n_in x n_out. We check that the dimensionality of the input \n",
    "        # to the current layer matches the number of nodes in the current layer\n",
    "        assert len(self.weights) == len(single_input), \"weights and single_input must match in first dimension\"\n",
    "        weights = self.weights\n",
    "        out = []\n",
    "        # For some given data point single_input, we now want to calculate the resulting value in each node in the current layer\n",
    "        # We therefore loop over the (number of) nodes in the current layer:\n",
    "        for j in range(len(weights[0])): \n",
    "            # Initialize the node value depending on its corresponding parameters.\n",
    "            node = Var(0.0) # <- Insert code\n",
    "            \n",
    "            # We now finish the linear transformation corresponding to the parameters of the currently considered node.\n",
    "            for i in range(len(weights)):\n",
    "                node += weights[i][j] * single_input[i] + self.bias[j]# <- Insert code\n",
    "                \n",
    "            node = self.act_fn(node)\n",
    "            out.append(node)\n",
    "\n",
    "        return out"
   ]
  },
  {
   "cell_type": "markdown",
   "metadata": {
    "id": "jpIZPBpNI0pO"
   },
   "source": [
    "## Exercise f) Add more activation functions\n",
    "\n",
    "To have a full definition of the neural network, we must define an activation function for every layer. Several activation functions have been proposed and have different characteristics. In the Var class we have already defined the rectified linear init (relu). \n",
    " \n",
    "Implement the following activation functions in the Var class:\n",
    "\n",
    "* Identity: $$\\mathrm{identity}(x) = x$$\n",
    "* Hyperbolic tangent: $$\\tanh(x)$$\n",
    "* Sigmoid (or logistic function): $$\\mathrm{sigmoid}(x) = \\frac{1}{1.0 + \\exp(-x ) }$$  Hint: $\\mathrm{sigmoid}'(x)= \\mathrm{sigmoid}(x)(1-\\mathrm{sigmoid}(x))$.  \n",
    "\n",
    "Hint: You can seek inspiration in the relu method in the Var class."
   ]
  },
  {
   "cell_type": "markdown",
   "metadata": {},
   "source": [
    "## Answer f)"
   ]
  },
  {
   "cell_type": "code",
   "execution_count": 11,
   "metadata": {},
   "outputs": [],
   "source": [
    "from math import exp, log\n",
    "\n",
    "class Var:\n",
    "    \"\"\"\n",
    "    A variable which holds a float and enables gradient computations.\n",
    "    \"\"\"\n",
    "\n",
    "    def __init__(self, val: float, grad_fn=lambda: []):\n",
    "        assert type(val) == float\n",
    "        self.v = val\n",
    "        self.grad_fn = grad_fn\n",
    "        self.grad = 0.0\n",
    "\n",
    "    def backprop(self, bp):\n",
    "        self.grad += bp\n",
    "        for input, grad in self.grad_fn():\n",
    "            input.backprop(grad * bp)\n",
    "\n",
    "    def backward(self):\n",
    "        self.backprop(1.0)\n",
    "\n",
    "    def __add__(self: 'Var', other: 'Var') -> 'Var':\n",
    "        return Var(self.v + other.v, lambda: [(self, 1.0), (other, 1.0)])\n",
    "\n",
    "    def __mul__(self: 'Var', other: 'Var') -> 'Var':\n",
    "        return Var(self.v * other.v, lambda: [(self, other.v), (other, self.v)])\n",
    "\n",
    "    def __pow__(self, power):\n",
    "        assert type(power) in {float, int}, \"power must be float or int\"\n",
    "        return Var(self.v ** power, lambda: [(self, power * self.v ** (power - 1))])\n",
    "\n",
    "    def __neg__(self: 'Var') -> 'Var':\n",
    "        return Var(-1.0) * self\n",
    "\n",
    "    def __sub__(self: 'Var', other: 'Var') -> 'Var':\n",
    "        return self + (-other)\n",
    "\n",
    "    def __truediv__(self: 'Var', other: 'Var') -> 'Var':\n",
    "        return self * other ** -1\n",
    "\n",
    "    def __repr__(self):\n",
    "        return \"Var(v=%.4f, grad=%.4f)\" % (self.v, self.grad)\n",
    "\n",
    "    def relu(self):\n",
    "        return Var(self.v if self.v > 0.0 else 0.0, lambda: [(self, 1.0 if self.v > 0.0 else 0.0)])\n",
    "    \n",
    "    def identity(self):\n",
    "        return Var(self.v, lambda:[(self, 1.0)])\n",
    "\n",
    "    def tanh(self):\n",
    "        return Var(self.v, lambda:[(self, 1.0-(self.v)**2)])\n",
    "\n",
    "    def sigmoid(self):\n",
    "        return Var(self.v, lambda:[(self, self.v * (1-self.v))])\n",
    "    \n",
    "    def exp(self):\n",
    "        return Var(exp(self.v), lambda: [(self, exp(self.v))])\n",
    "    \n",
    "    def log(self):\n",
    "        return Var(log(self.v), lambda: [(self, self.v ** -1)])"
   ]
  },
  {
   "cell_type": "markdown",
   "metadata": {
    "id": "p_8n_SKnIW2F"
   },
   "source": [
    "## Exercise g) Complete the forward pass\n",
    "\n",
    "In the code below we initialize a 1-5-1 network and pass the training set through it. *The forward method in DenseLayer is **not** complete*. It just outputs zeros right now. The method forward should perform an [affine transformation](https://en.wikipedia.org/wiki/Affine_transformation) on the input followed by an application of the activation function."
   ]
  },
  {
   "cell_type": "code",
   "execution_count": 12,
   "metadata": {
    "colab": {
     "base_uri": "https://localhost:8080/",
     "height": 337
    },
    "id": "xDEjtePxE7Mv",
    "outputId": "753406cd-d8a1-4282-ce03-25ad959b0e11"
   },
   "outputs": [
    {
     "name": "stdout",
     "output_type": "stream",
     "text": [
      "[[Var(v=-0.0099, grad=0.0000)], [Var(v=-0.0199, grad=0.0000)], [Var(v=-0.0018, grad=0.0000)], [Var(v=-0.0140, grad=0.0000)], [Var(v=-0.0147, grad=0.0000)], [Var(v=-0.0135, grad=0.0000)], [Var(v=-0.0088, grad=0.0000)], [Var(v=-0.0034, grad=0.0000)], [Var(v=-0.0144, grad=0.0000)], [Var(v=-0.0055, grad=0.0000)], [Var(v=-0.0153, grad=0.0000)], [Var(v=-0.0089, grad=0.0000)], [Var(v=-0.0123, grad=0.0000)], [Var(v=-0.0102, grad=0.0000)], [Var(v=-0.0066, grad=0.0000)], [Var(v=-0.0128, grad=0.0000)], [Var(v=-0.0235, grad=0.0000)], [Var(v=-0.0112, grad=0.0000)], [Var(v=-0.0012, grad=0.0000)], [Var(v=-0.0039, grad=0.0000)], [Var(v=-0.0066, grad=0.0000)], [Var(v=-0.0029, grad=0.0000)], [Var(v=-0.0172, grad=0.0000)], [Var(v=-0.0174, grad=0.0000)], [Var(v=-0.0039, grad=0.0000)], [Var(v=-0.0105, grad=0.0000)], [Var(v=-0.0223, grad=0.0000)], [Var(v=-0.0245, grad=0.0000)], [Var(v=-0.0026, grad=0.0000)], [Var(v=-0.0155, grad=0.0000)], [Var(v=-0.0131, grad=0.0000)], [Var(v=-0.0037, grad=0.0000)], [Var(v=-0.0114, grad=0.0000)], [Var(v=-0.0124, grad=0.0000)], [Var(v=-0.0118, grad=0.0000)], [Var(v=-0.0023, grad=0.0000)], [Var(v=-0.0142, grad=0.0000)], [Var(v=-0.0054, grad=0.0000)], [Var(v=-0.0100, grad=0.0000)], [Var(v=-0.0072, grad=0.0000)], [Var(v=-0.0051, grad=0.0000)], [Var(v=-0.0069, grad=0.0000)], [Var(v=-0.0231, grad=0.0000)], [Var(v=-0.0086, grad=0.0000)], [Var(v=-0.0068, grad=0.0000)], [Var(v=-0.0082, grad=0.0000)], [Var(v=-0.0148, grad=0.0000)], [Var(v=-0.0140, grad=0.0000)], [Var(v=-0.0031, grad=0.0000)], [Var(v=-0.0143, grad=0.0000)], [Var(v=-0.0062, grad=0.0000)], [Var(v=-0.0005, grad=0.0000)], [Var(v=-0.0156, grad=0.0000)], [Var(v=-0.0070, grad=0.0000)], [Var(v=-0.0248, grad=0.0000)], [Var(v=-0.0218, grad=0.0000)], [Var(v=-0.0046, grad=0.0000)], [Var(v=-0.0052, grad=0.0000)], [Var(v=-0.0082, grad=0.0000)], [Var(v=-0.0123, grad=0.0000)], [Var(v=-0.0145, grad=0.0000)], [Var(v=-0.0087, grad=0.0000)], [Var(v=-0.0143, grad=0.0000)], [Var(v=-0.0070, grad=0.0000)], [Var(v=-0.0051, grad=0.0000)], [Var(v=-0.0117, grad=0.0000)], [Var(v=-0.0126, grad=0.0000)], [Var(v=-0.0183, grad=0.0000)], [Var(v=-0.0090, grad=0.0000)], [Var(v=-0.0072, grad=0.0000)], [Var(v=-0.0035, grad=0.0000)], [Var(v=-0.0016, grad=0.0000)], [Var(v=-0.0142, grad=0.0000)], [Var(v=-0.0083, grad=0.0000)], [Var(v=-0.0012, grad=0.0000)], [Var(v=-0.0224, grad=0.0000)], [Var(v=-0.0062, grad=0.0000)], [Var(v=-0.0060, grad=0.0000)], [Var(v=-0.0079, grad=0.0000)], [Var(v=-0.0234, grad=0.0000)], [Var(v=-0.0036, grad=0.0000)], [Var(v=-0.0021, grad=0.0000)], [Var(v=-0.0129, grad=0.0000)], [Var(v=-0.0018, grad=0.0000)], [Var(v=-0.0065, grad=0.0000)], [Var(v=-0.0028, grad=0.0000)], [Var(v=-0.0024, grad=0.0000)], [Var(v=-0.0073, grad=0.0000)], [Var(v=-0.0133, grad=0.0000)], [Var(v=-0.0139, grad=0.0000)], [Var(v=-0.0085, grad=0.0000)], [Var(v=-0.0042, grad=0.0000)], [Var(v=-0.0077, grad=0.0000)], [Var(v=-0.0132, grad=0.0000)], [Var(v=-0.0110, grad=0.0000)], [Var(v=-0.0132, grad=0.0000)], [Var(v=-0.0061, grad=0.0000)], [Var(v=-0.0010, grad=0.0000)], [Var(v=-0.0212, grad=0.0000)], [Var(v=-0.0078, grad=0.0000)], [Var(v=-0.0139, grad=0.0000)], [Var(v=-0.0076, grad=0.0000)], [Var(v=-0.0116, grad=0.0000)], [Var(v=-0.0067, grad=0.0000)], [Var(v=-0.0197, grad=0.0000)]]\n"
     ]
    }
   ],
   "source": [
    "NN = [\n",
    "    DenseLayer(1, 5, lambda x: x.relu()),\n",
    "    DenseLayer(5, 1, lambda x: x.identity())\n",
    "]\n",
    "\n",
    "def forward(input, network):\n",
    "    \n",
    "    def forward_single(x, network):\n",
    "        for layer in network:\n",
    "            x = layer.forward(x)\n",
    "        return x\n",
    "\n",
    "    output = [ forward_single(input[n], network) for n in range(len(input))]\n",
    "    \n",
    "    return output\n",
    "\n",
    "print(forward(x_train, NN))"
   ]
  },
  {
   "cell_type": "markdown",
   "metadata": {
    "id": "oLrGJytZFtGm"
   },
   "source": [
    "## Exercise h) Print all network parameters\n",
    "\n",
    "Make a function that prints all the parameters of the network (weights and biases) with information about in which layer the appear. In the object oriented spirit you should introduce a method in the DenseLayer class to print the parameters of a layer. Hint: You can take inspiration from the corresponding method in Var. "
   ]
  },
  {
   "cell_type": "code",
   "execution_count": 13,
   "metadata": {
    "id": "iac-VwYGFtGm"
   },
   "outputs": [],
   "source": [
    "# Insert code here and in the DenseLayer class\n",
    "from typing import Sequence\n",
    "\n",
    "class DenseLayer:\n",
    "    def __init__(self, n_in: int, n_out: int, act_fn, initializer = NormalInitializer()):\n",
    "        self.weights = initializer.init_weights(n_in, n_out)\n",
    "        self.bias = initializer.init_bias(n_out)\n",
    "        self.act_fn = act_fn\n",
    "    \n",
    "    def __repr__(self):\n",
    "        \n",
    "        return \"%s input nodes \\n%s output nodes \\n Weights:%s \\n Biases:%s\" % (len(self.weights), len(self.weights[0]), self.weights, self.bias)\n",
    "                      \n",
    "    def parameters(self) -> Sequence[Var]:\n",
    "        params = []\n",
    "        for r in self.weights:\n",
    "            params += r\n",
    "        \n",
    "        return params + self.bias\n",
    "\n",
    "    def forward(self, single_input: Sequence[Var]) -> Sequence[Var]:\n",
    "        # self.weights is a matrix with dimension n_in x n_out. We check that the dimensionality of the input \n",
    "        # to the current layer matches the number of nodes in the current layer\n",
    "        assert len(self.weights) == len(single_input), \"weights and single_input must match in first dimension\"\n",
    "        weights = self.weights\n",
    "        out = []\n",
    "        # For some given data point single_input, we now want to calculate the resulting value in each node in the current layer\n",
    "        # We therefore loop over the (number of) nodes in the current layer:\n",
    "        for j in range(len(weights[0])): \n",
    "            # Initialize the node value depending on its corresponding parameters.\n",
    "            node = Var(0.0) # <- Insert code\n",
    "            \n",
    "            # We now finish the linear transformation corresponding to the parameters of the currently considered node.\n",
    "            for i in range(len(weights)):\n",
    "                node += weights[i][j] * single_input[i] + self.bias[j]# <- Insert code\n",
    "                \n",
    "            node = self.act_fn(node)\n",
    "            out.append(node)\n",
    "\n",
    "        return out"
   ]
  },
  {
   "cell_type": "code",
   "execution_count": 14,
   "metadata": {},
   "outputs": [
    {
     "name": "stdout",
     "output_type": "stream",
     "text": [
      "1 input nodes \n",
      "5 output nodes \n",
      " Weights:[[Var(v=-0.0894, grad=0.0000), Var(v=-0.0105, grad=0.0000), Var(v=0.0186, grad=0.0000), Var(v=0.0363, grad=0.0000), Var(v=-0.1723, grad=0.0000)]] \n",
      " Biases:[Var(v=0.0000, grad=0.0000), Var(v=0.0000, grad=0.0000), Var(v=0.0000, grad=0.0000), Var(v=0.0000, grad=0.0000), Var(v=0.0000, grad=0.0000)]\n"
     ]
    }
   ],
   "source": [
    "print(DenseLayer(1, 5, lambda x: x.relu()))"
   ]
  },
  {
   "cell_type": "markdown",
   "metadata": {
    "id": "_79HOAXrFtHK"
   },
   "source": [
    "## Visualization\n",
    "\n",
    "Now that we have defined our activation functions we can visualize them to see what they look like:"
   ]
  },
  {
   "cell_type": "code",
   "execution_count": 15,
   "metadata": {
    "id": "1FcylHqLTl-Z"
   },
   "outputs": [
    {
     "data": {
      "text/plain": [
       "[<matplotlib.lines.Line2D at 0x26461988a60>]"
      ]
     },
     "execution_count": 15,
     "metadata": {},
     "output_type": "execute_result"
    },
    {
     "data": {
      "image/png": "[encoded data removed]",
      "text/plain": [
       "<Figure size 432x288 with 1 Axes>"
      ]
     },
     "metadata": {
      "needs_background": "light"
     },
     "output_type": "display_data"
    }
   ],
   "source": [
    "x = np.linspace(-6, 6, 100)\n",
    "\n",
    "# convert from Var to ndarray  \n",
    "def Var_to_nparray(x):\n",
    "    y = np.zeros((len(x),len(x[0])))\n",
    "    for i in range(len(x)):\n",
    "        for j in range(len(x[0])):\n",
    "            y[i,j] = x[i][j].v\n",
    "    \n",
    "    return y\n",
    "\n",
    "# define 1-1 network with weight = 1 and relu activation \n",
    "NN = [ DenseLayer(1, 1, lambda x: x.relu(), initializer = ConstantInitializer(1.0)) ] \n",
    "y = Var_to_nparray(forward(nparray_to_Var(x), NN))\n",
    "\n",
    "#y = Var_to_nparray(relu(nparray_to_Var(x)))\n",
    "plt.plot(x,y)"
   ]
  },
  {
   "cell_type": "code",
   "execution_count": 16,
   "metadata": {
    "id": "oOL2UolJFtHL"
   },
   "outputs": [
    {
     "data": {
      "image/png": "[encoded data removed]",
      "text/plain": [
       "<Figure size 360x360 with 1 Axes>"
      ]
     },
     "metadata": {
      "needs_background": "light"
     },
     "output_type": "display_data"
    }
   ],
   "source": [
    "# Testing all activation layers\n",
    "\n",
    "x = np.linspace(-6, 6, 100)\n",
    "units = {\n",
    "    \"identity\": lambda x: x.identity(),\n",
    "    #\"sigmoid\": lambda x: x.sigmoid(),  <- uncomment before sharing\n",
    "    \"relu\": lambda x: x.relu(),\n",
    "    #\"tanh\": lambda x: x.tanh() <- uncomment before sharing\n",
    "}\n",
    "\n",
    "plt.figure(figsize=(5, 5))\n",
    "[plt.plot(x, Var_to_nparray(forward(nparray_to_Var(x), [DenseLayer(1, 1, unit, initializer = ConstantInitializer(1.0))]) ), label=unit_name, lw=2) for unit_name, unit in units.items()] # unit(nparray_to_Var(x))), label=unit_name, lw=2) for unit_name, unit in units.items()]\n",
    "plt.legend(loc=2, fontsize=16)\n",
    "plt.title('Our activation functions', fontsize=20)\n",
    "plt.ylim([-2, 5])\n",
    "plt.xlim([-6, 6])\n",
    "plt.show()"
   ]
  },
  {
   "cell_type": "markdown",
   "metadata": {
    "id": "b-jdEl-7FtGs"
   },
   "source": [
    "# Advanced initialization schemes\n",
    "\n",
    "If we are not careful with initialization, the signals we propagate forward ($a^{(l)}$, $l=1,\\ldots,L$) and backward ($\\delta^l$, $l=L,L-1,\\ldots,1$) can blow up or shrink to zero. A statistical analysis of the variance of the signals for different activation functions can be found in these two papers: [Glorot initialization](http://proceedings.mlr.press/v9/glorot10a/glorot10a.pdf) and [He initialization](https://arxiv.org/pdf/1502.01852v1.pdf). \n",
    "\n",
    "The result of the analyses are proposals for how to make the initialization such that the variance of the signals (forward and backward) are kept approxmimatly constant when propagating from layer to layer. The exact expressions depend upon the non-linear activation function used. In Glorot initialization, the aim is to keep both the forward and backward variances constant whereas He only aims at keeping the variance in the forward pass constant.\n",
    "\n",
    "We define $n_{in}$ and $n_{out}$ as the number of input units and output units of a particular layer. \n",
    "\n",
    "The Glorot initialization has the form: \n",
    "\n",
    "$$w_{ij} \\sim N \\bigg( 0, \\, \\frac{2 \\alpha }{n_{in} + n_{out}} \\bigg) \\ . $$\n",
    "\n",
    "where $N(\\mu,\\sigma^2)$ is a Gaussian distribution with mean $\\mu$ and variance $\\sigma^2$ and $\\alpha$ is a parameter that depends upon the activation function used. For $\\tanh$, $\\alpha=1$ and for Rectified Linear Unit (ReLU) activations, $\\alpha=2$. (It is also possible to use a uniform distribution for initialization, see [this blog post](https://mmuratarat.github.io/2019-02-25/xavier-glorot-he-weight-init).) \n",
    "\n",
    "The He initialization is very similar\n",
    "\n",
    "$$w_{ij} \\sim N \\bigg( 0, \\, \\frac{\\alpha}{n_{in}} \\bigg) \\ . $$"
   ]
  },
  {
   "cell_type": "markdown",
   "metadata": {
    "id": "mqeyab9qFtGs"
   },
   "source": [
    "## Exercise i) Glorot and He initialization\n",
    " \n",
    "Using the Initializer class, implement functions that implement Glorot and He \n",
    "\n",
    "Explain briefly how you would test numerically that these initializations have the sought after property. Hint: See plots in Glorot paper.\n",
    "\n",
    "Comment: If you want to be more advanced then try to make a universal initializer taking both the activation function and type (Glorot or He) as argument."
   ]
  },
  {
   "cell_type": "code",
   "execution_count": 17,
   "metadata": {
    "id": "Qyk01CgaFtGt"
   },
   "outputs": [],
   "source": [
    "## Glorot\n",
    "def DenseLayer_Glorot_tanh(n_in: int, n_out: int):\n",
    "    std = 2 / (n_in + n_out) # <- replace with proper initialization\n",
    "    return DenseLayer(n_in, n_out, lambda x: x.tanh(), initializer = NormalInitializer(std))\n",
    "\n",
    "## He\n",
    "def DenseLayer_He_relu(n_in: int, n_out: int):\n",
    "    std = 1 / (n_in) # <- replace with proper initialization\n",
    "    return DenseLayer(n_in, n_out, lambda x: x.relu(), initializer = NormalInitializer(std))"
   ]
  },
  {
   "cell_type": "markdown",
   "metadata": {
    "id": "-XyXBD37FtHk"
   },
   "source": [
    "## Exercise j) Forward pass unit test\n",
    "\n",
    "Write a bit of code to make a unit test that the forward pass works. This can be done by defining a simple network with for example all weights equal to one (using the ConstantInitializer method) and identity activation functions. \n",
    "\n",
    "Hints: Use the [assert](https://www.w3schools.com/python/ref_keyword_assert.asp), the nparray_to_Var and the Var_to_nparray commands. "
   ]
  },
  {
   "cell_type": "code",
   "execution_count": 18,
   "metadata": {
    "id": "k0miqRUAFtHl"
   },
   "outputs": [
    {
     "data": {
      "text/plain": [
       "[<matplotlib.lines.Line2D at 0x26461982820>]"
      ]
     },
     "execution_count": 18,
     "metadata": {},
     "output_type": "execute_result"
    },
    {
     "data": {
      "image/png": "[encoded data removed]",
      "text/plain": [
       "<Figure size 432x288 with 1 Axes>"
      ]
     },
     "metadata": {
      "needs_background": "light"
     },
     "output_type": "display_data"
    }
   ],
   "source": [
    "# Insert code here\n",
    "x = np.linspace(-6, 6, 100)\n",
    "\n",
    "x = nparray_to_Var(x)\n",
    "\n",
    "NN = [\n",
    "    DenseLayer_Glorot_tanh(1, 5),\n",
    "    DenseLayer_He_relu(5, 1)\n",
    "]\n",
    "\n",
    "output = Var_to_nparray(forward(x, NN))\n",
    "\n",
    "x = Var_to_nparray(x)\n",
    "\n",
    "plt.plot(x,y)"
   ]
  },
  {
   "cell_type": "markdown",
   "metadata": {
    "id": "faCxhfFnFtHp"
   },
   "source": [
    "# Loss functions\n",
    "\n",
    "We are only missing a loss function to we need to define a loss function and its derivative with respect to the output of the neural network $y$"
   ]
  },
  {
   "cell_type": "code",
   "execution_count": 19,
   "metadata": {
    "id": "I2eDYKvAFtHq"
   },
   "outputs": [],
   "source": [
    "def squared_loss(x, y):\n",
    "    \n",
    "  # add check that sizes agree\n",
    "    def squared_loss_single(t, y):\n",
    "        loss = Var(0.0)\n",
    "        for i in range(len(t)): # sum over outputs\n",
    "            loss += (t[i]-y[i]) ** 2\n",
    "        \n",
    "        return loss\n",
    "        \n",
    "    Loss = Var(0.0)\n",
    "    for n in range(len(x)): # sum over training data\n",
    "        Loss += squared_loss_single(x[n],y[n])\n",
    "        \n",
    "    return Loss"
   ]
  },
  {
   "cell_type": "markdown",
   "metadata": {
    "id": "SrwSJ2UWFtHu"
   },
   "source": [
    "## Exercise j) Implement cross entropy loss\n",
    "\n",
    "Insert code below to implement cross-entropy loss for general dimensionality of $t$. Use a logits formulation:\n",
    "$$\n",
    "\\rm{Loss} = - \\sum_i t_i \\, log \\, p_i \n",
    "$$\n",
    "with $p$ given by the the softmax function in terms of the logits $h$:\n",
    "$$\n",
    "p_i = \\frac{\\exp(h_i)}{\\sum_{i'} \\exp(h_{i'})} .\n",
    "$$\n",
    "Inserting $p$ in the expression for the loss gives\n",
    "$$\n",
    "\\rm{Loss} = - \\sum_i t_i h_i + \\rm{LogSumExp}(h) \\ ,\n",
    "$$\n",
    "where \n",
    "$$\n",
    "\\rm{LogSumExp}(h) = \\log \\sum_i \\exp h_i \\ .\n",
    "$$\n",
    "This is true for $t$ being a one-hot vector. \n",
    "\n",
    "Call the function to convince yourself it works. \n",
    "\n",
    "In practice you want to implement a [numerically stable](https://leimao.github.io/blog/LogSumExp/) version of LogSumExp. But we will not bother about that here.\n",
    "\n",
    "Help: You can add these methods in the Var class:\n",
    "\n",
    "    def exp(self):\n",
    "        return Var(exp(self.v), lambda: [(self, exp(self.v))])\n",
    "    \n",
    "    def log(self):\n",
    "        return Var(log(self.v), lambda: [(self, self.v ** -1)])"
   ]
  },
  {
   "cell_type": "code",
   "execution_count": 20,
   "metadata": {
    "id": "6nMuxyfzFtHv"
   },
   "outputs": [],
   "source": [
    "def cross_entropy_loss(t, h):\n",
    "     \n",
    "    loss = Var(0.0)\n",
    "    loss_a = 0\n",
    "    # Insert code here\n",
    "    for i in range(len(h)):\n",
    "        SumExp += exp(h[i])\n",
    "        \n",
    "        loss_a += t[i] * h[i]\n",
    "        \n",
    "    LogSumExp = log(SumExp)\n",
    "    \n",
    "    loss = -loss_a + LogSumExp\n",
    "    \n",
    "    return loss"
   ]
  },
  {
   "cell_type": "markdown",
   "metadata": {
    "id": "8fAF5ew4FtHy"
   },
   "source": [
    "# Backward pass\n",
    "\n",
    "Now the magic happens! We get the calculation of the gradients for free. Just do:"
   ]
  },
  {
   "cell_type": "code",
   "execution_count": 21,
   "metadata": {
    "id": "iHyfPPI9Qqwu"
   },
   "outputs": [],
   "source": [
    "NN = [\n",
    "    DenseLayer(1, 5, lambda x: x.relu()),\n",
    "    DenseLayer(5, 1, lambda x: x.identity())\n",
    "]\n",
    "\n",
    "output = forward(x_train, NN)\n",
    "\n",
    "loss = squared_loss(y_train,output)\n",
    "loss.backward()"
   ]
  },
  {
   "cell_type": "markdown",
   "metadata": {
    "id": "49biIAYKQ1oG"
   },
   "source": [
    "and the gradients will be calculated:"
   ]
  },
  {
   "cell_type": "code",
   "execution_count": 22,
   "metadata": {
    "id": "_rGt1bq_Q7uk"
   },
   "outputs": [
    {
     "name": "stdout",
     "output_type": "stream",
     "text": [
      "Layer 0 \n",
      " 1 input nodes \n",
      "5 output nodes \n",
      " Weights:[[Var(v=0.0435, grad=4.1966), Var(v=-0.0705, grad=0.0432), Var(v=-0.1112, grad=9.9956), Var(v=-0.0723, grad=-11.5123), Var(v=-0.1349, grad=5.7343)]] \n",
      " Biases:[Var(v=0.0000, grad=3.6048), Var(v=0.0000, grad=-0.0392), Var(v=0.0000, grad=-9.0836), Var(v=0.0000, grad=10.4620), Var(v=0.0000, grad=-5.2111)]\n",
      "Layer 1 \n",
      " 5 input nodes \n",
      "1 output nodes \n",
      " Weights:[[Var(v=-0.0412, grad=-4.4297)], [Var(v=-0.0005, grad=6.6930)], [Var(v=-0.1053, grad=10.5534)], [Var(v=0.1213, grad=6.8655)], [Var(v=-0.0604, grad=12.7998)]] \n",
      " Biases:[Var(v=0.0000, grad=-5.9799)]\n"
     ]
    },
    {
     "data": {
      "text/plain": [
       "[None, None]"
      ]
     },
     "execution_count": 22,
     "metadata": {},
     "output_type": "execute_result"
    }
   ],
   "source": [
    "[print('Layer', i, '\\n', NN[i]) for i in range(len(NN))] "
   ]
  },
  {
   "cell_type": "markdown",
   "metadata": {
    "id": "D7d7qK0uFtH9"
   },
   "source": [
    "# Backward pass unit test\n",
    "\n",
    "Above we used finite differences to test that Nanograd is actually doing what it is supposed to do. We can in principle try the same for the neural network. But we will trust that the test above is enough."
   ]
  },
  {
   "cell_type": "markdown",
   "metadata": {
    "id": "WgBi8GOSFtIN"
   },
   "source": [
    "# Training and validation\n",
    "\n",
    "We are ready to train some neural networks!\n",
    "\n",
    "We initialize again:"
   ]
  },
  {
   "cell_type": "code",
   "execution_count": 23,
   "metadata": {
    "id": "01ePmzBzRtdh"
   },
   "outputs": [],
   "source": [
    "NN = [\n",
    "    DenseLayer(1, 15, lambda x: x.relu()),\n",
    "    DenseLayer(15, 50, lambda x: x.relu()),\n",
    "    DenseLayer(50, 1, lambda x: x.identity())\n",
    "]\n",
    "\n",
    "output = forward(x_train, NN)\n",
    "\n",
    "Loss = squared_loss(y_train,output)\n",
    "Loss.backward()"
   ]
  },
  {
   "cell_type": "markdown",
   "metadata": {
    "id": "10iRPiQ1ISHw"
   },
   "source": [
    "and make an update:\n",
    "\n",
    "We introduce a help function parameters to have a handle in all parameters in the network."
   ]
  },
  {
   "cell_type": "code",
   "execution_count": 24,
   "metadata": {
    "id": "dhAI7eyeznia"
   },
   "outputs": [
    {
     "name": "stdout",
     "output_type": "stream",
     "text": [
      "Network before update:\n",
      "Layer 0 \n",
      " 1 input nodes \n",
      "15 output nodes \n",
      " Weights:[[Var(v=-0.0443, grad=0.7083), Var(v=-0.2229, grad=-0.1263), Var(v=0.0026, grad=0.4918), Var(v=-0.0330, grad=-7.9923), Var(v=0.1992, grad=-2.5511), Var(v=-0.0430, grad=-4.1783), Var(v=-0.0993, grad=2.8203), Var(v=-0.1289, grad=1.6250), Var(v=0.0261, grad=3.9231), Var(v=0.1491, grad=-4.8985), Var(v=-0.0197, grad=-2.1117), Var(v=-0.0817, grad=-4.0997), Var(v=-0.0597, grad=7.3440), Var(v=-0.0761, grad=-3.8633), Var(v=-0.1343, grad=-5.1852)]] \n",
      " Biases:[Var(v=0.0000, grad=-0.6439), Var(v=0.0000, grad=0.1149), Var(v=0.0000, grad=0.4226), Var(v=0.0000, grad=7.2658), Var(v=0.0000, grad=-2.1919), Var(v=0.0000, grad=3.7985), Var(v=0.0000, grad=-2.5640), Var(v=0.0000, grad=-1.4773), Var(v=0.0000, grad=3.3707), Var(v=0.0000, grad=-4.2088), Var(v=0.0000, grad=1.9197), Var(v=0.0000, grad=3.7270), Var(v=0.0000, grad=-6.6765), Var(v=0.0000, grad=3.5121), Var(v=0.0000, grad=4.7139)]\n",
      "Layer 1 \n",
      " 15 input nodes \n",
      "50 output nodes \n",
      " Weights:[[Var(v=0.0328, grad=0.0000), Var(v=0.1702, grad=0.2873), Var(v=0.0977, grad=-0.3897), Var(v=-0.0208, grad=0.0000), Var(v=-0.0394, grad=0.0000), Var(v=0.1166, grad=0.3885), Var(v=0.0065, grad=0.9768), Var(v=-0.0109, grad=0.0000), Var(v=-0.0041, grad=0.0000), Var(v=-0.1918, grad=0.0000), Var(v=0.0553, grad=0.0000), Var(v=-0.0593, grad=-0.2709), Var(v=-0.0169, grad=0.0000), Var(v=-0.0271, grad=0.0000), Var(v=-0.1600, grad=-0.2994), Var(v=-0.0356, grad=0.2909), Var(v=-0.0611, grad=0.0000), Var(v=0.1277, grad=0.0000), Var(v=-0.1176, grad=-0.1275), Var(v=0.0902, grad=-0.0613), Var(v=0.0030, grad=0.0000), Var(v=-0.0733, grad=0.2065), Var(v=0.0956, grad=0.0000), Var(v=0.0736, grad=0.0000), Var(v=-0.0269, grad=0.1809), Var(v=0.0931, grad=0.0000), Var(v=-0.0169, grad=0.0000), Var(v=0.0026, grad=0.0000), Var(v=0.0062, grad=0.0000), Var(v=-0.1294, grad=0.0000), Var(v=-0.2200, grad=0.2429), Var(v=0.0301, grad=-0.1987), Var(v=0.0555, grad=0.0000), Var(v=0.0842, grad=-0.2085), Var(v=-0.0130, grad=0.0000), Var(v=-0.0463, grad=0.0000), Var(v=0.0853, grad=-0.3434), Var(v=0.0902, grad=0.0452), Var(v=-0.0379, grad=0.4421), Var(v=0.1361, grad=-0.2865), Var(v=-0.0136, grad=0.0000), Var(v=0.0358, grad=0.2362), Var(v=0.1156, grad=0.4339), Var(v=0.0013, grad=-0.6888), Var(v=-0.0062, grad=0.0000), Var(v=0.0265, grad=-0.1419), Var(v=0.0968, grad=0.1468), Var(v=0.1555, grad=-0.0934), Var(v=0.1433, grad=-0.2269), Var(v=0.0514, grad=0.0000)], [Var(v=-0.0939, grad=0.0000), Var(v=-0.0243, grad=1.4466), Var(v=-0.0247, grad=-1.9623), Var(v=-0.0833, grad=0.0000), Var(v=-0.0746, grad=0.0000), Var(v=0.1612, grad=1.9562), Var(v=0.0495, grad=4.9188), Var(v=0.1115, grad=0.0000), Var(v=-0.0913, grad=0.0000), Var(v=0.0538, grad=0.0000), Var(v=-0.0794, grad=0.0000), Var(v=-0.1256, grad=-1.3641), Var(v=0.0087, grad=0.0000), Var(v=0.0187, grad=0.0000), Var(v=0.1515, grad=-1.5079), Var(v=0.0156, grad=1.4650), Var(v=-0.1471, grad=0.0000), Var(v=-0.1155, grad=0.0000), Var(v=0.0660, grad=-0.6421), Var(v=0.1051, grad=-0.3088), Var(v=-0.1378, grad=0.0000), Var(v=0.1058, grad=1.0400), Var(v=-0.0980, grad=0.0000), Var(v=-0.1332, grad=0.0000), Var(v=-0.0823, grad=0.9109), Var(v=-0.1635, grad=0.0000), Var(v=0.0499, grad=0.0000), Var(v=0.0616, grad=0.0000), Var(v=-0.0631, grad=0.0000), Var(v=-0.1000, grad=0.0000), Var(v=0.1223, grad=1.2232), Var(v=0.1003, grad=-1.0005), Var(v=-0.0622, grad=0.0000), Var(v=0.0507, grad=-1.0500), Var(v=-0.1276, grad=0.0000), Var(v=-0.0361, grad=0.0000), Var(v=-0.0055, grad=-1.7296), Var(v=-0.0316, grad=0.2278), Var(v=0.0889, grad=2.2264), Var(v=0.1136, grad=-1.4429), Var(v=-0.1227, grad=0.0000), Var(v=-0.1012, grad=1.1895), Var(v=0.0177, grad=2.1850), Var(v=0.0557, grad=-3.4689), Var(v=-0.0981, grad=0.0000), Var(v=0.1608, grad=-0.7148), Var(v=0.0820, grad=0.7395), Var(v=0.1262, grad=-0.4703), Var(v=0.0998, grad=-1.1426), Var(v=-0.0355, grad=0.0000)], [Var(v=0.0997, grad=-0.0279), Var(v=-0.2237, grad=-0.0177), Var(v=0.0060, grad=0.0000), Var(v=-0.2065, grad=-0.0068), Var(v=0.0761, grad=-0.0245), Var(v=0.0374, grad=-0.0240), Var(v=0.0119, grad=-0.0603), Var(v=-0.0676, grad=0.0161), Var(v=-0.0176, grad=-0.0401), Var(v=-0.0231, grad=-0.0250), Var(v=0.0289, grad=0.0000), Var(v=-0.0683, grad=0.0167), Var(v=-0.0982, grad=-0.0112), Var(v=-0.0209, grad=0.0089), Var(v=0.1243, grad=0.0185), Var(v=-0.0512, grad=0.0000), Var(v=-0.0413, grad=0.0000), Var(v=-0.1246, grad=0.0489), Var(v=-0.1129, grad=0.0000), Var(v=0.1229, grad=0.0038), Var(v=-0.0488, grad=0.0000), Var(v=-0.0576, grad=-0.0128), Var(v=0.0085, grad=0.0000), Var(v=0.0321, grad=-0.0051), Var(v=0.0087, grad=0.0000), Var(v=-0.0861, grad=0.0052), Var(v=0.0303, grad=0.0000), Var(v=-0.1115, grad=0.0000), Var(v=0.1346, grad=0.0000), Var(v=-0.0366, grad=0.0000), Var(v=0.1493, grad=-0.0150), Var(v=-0.0846, grad=0.0000), Var(v=-0.0193, grad=-0.0116), Var(v=-0.1809, grad=0.0129), Var(v=0.0693, grad=0.0315), Var(v=0.0696, grad=0.0141), Var(v=0.0320, grad=0.0000), Var(v=0.0314, grad=-0.0028), Var(v=0.1509, grad=0.0000), Var(v=0.0470, grad=0.0177), Var(v=-0.0798, grad=0.0000), Var(v=-0.0177, grad=0.0000), Var(v=-0.1374, grad=-0.0268), Var(v=0.0292, grad=0.0000), Var(v=-0.1705, grad=-0.0084), Var(v=0.0701, grad=0.0000), Var(v=-0.0395, grad=-0.0091), Var(v=0.0768, grad=0.0058), Var(v=-0.0044, grad=0.0140), Var(v=-0.0344, grad=0.0000)], [Var(v=-0.0201, grad=0.0000), Var(v=0.0597, grad=0.2140), Var(v=0.0595, grad=-0.2903), Var(v=0.0697, grad=0.0000), Var(v=0.1170, grad=0.0000), Var(v=0.0115, grad=0.2894), Var(v=0.0153, grad=0.7276), Var(v=-0.1907, grad=0.0000), Var(v=0.1177, grad=0.0000), Var(v=-0.0318, grad=0.0000), Var(v=-0.0267, grad=0.0000), Var(v=-0.0548, grad=-0.2018), Var(v=-0.0449, grad=0.0000), Var(v=0.0175, grad=0.0000), Var(v=0.0485, grad=-0.2231), Var(v=-0.0024, grad=0.2167), Var(v=0.0273, grad=0.0000), Var(v=0.0469, grad=0.0000), Var(v=-0.0341, grad=-0.0950), Var(v=0.1592, grad=-0.0457), Var(v=-0.1270, grad=0.0000), Var(v=0.0335, grad=0.1538), Var(v=-0.0332, grad=0.0000), Var(v=0.1080, grad=0.0000), Var(v=0.2393, grad=0.1347), Var(v=-0.1662, grad=0.0000), Var(v=-0.1141, grad=0.0000), Var(v=-0.0885, grad=0.0000), Var(v=0.0763, grad=0.0000), Var(v=-0.1214, grad=0.0000), Var(v=0.0636, grad=0.1809), Var(v=-0.0640, grad=-0.1480), Var(v=-0.2101, grad=0.0000), Var(v=0.0266, grad=-0.1553), Var(v=-0.0711, grad=0.0000), Var(v=0.0685, grad=0.0000), Var(v=-0.1257, grad=-0.2558), Var(v=-0.0710, grad=0.0337), Var(v=-0.0215, grad=0.3293), Var(v=-0.1976, grad=-0.2134), Var(v=-0.0490, grad=0.0000), Var(v=0.0367, grad=0.1760), Var(v=0.0735, grad=0.3232), Var(v=-0.1036, grad=-0.5131), Var(v=0.0397, grad=0.0000), Var(v=-0.0314, grad=-0.1057), Var(v=0.0926, grad=0.1094), Var(v=0.0574, grad=-0.0696), Var(v=-0.2720, grad=-0.1690), Var(v=-0.0798, grad=0.0000)], [Var(v=0.0158, grad=-2.1056), Var(v=0.0924, grad=-1.3389), Var(v=-0.1050, grad=0.0000), Var(v=-0.0301, grad=-0.5158), Var(v=-0.0237, grad=-1.8481), Var(v=-0.0097, grad=-1.8106), Var(v=0.1733, grad=-4.5525), Var(v=0.1487, grad=1.2177), Var(v=0.0753, grad=-3.0234), Var(v=0.1435, grad=-1.8839), Var(v=-0.0940, grad=0.0000), Var(v=-0.0017, grad=1.2625), Var(v=0.0717, grad=-0.8453), Var(v=0.2430, grad=0.6736), Var(v=0.1638, grad=1.3956), Var(v=-0.0533, grad=0.0000), Var(v=-0.1024, grad=0.0000), Var(v=0.0826, grad=3.6860), Var(v=-0.2483, grad=0.0000), Var(v=0.0104, grad=0.2858), Var(v=-0.0282, grad=0.0000), Var(v=0.0211, grad=-0.9626), Var(v=-0.0176, grad=0.0000), Var(v=0.1195, grad=-0.3829), Var(v=-0.1949, grad=0.0000), Var(v=-0.0522, grad=0.3916), Var(v=-0.0114, grad=0.0000), Var(v=-0.1333, grad=0.0000), Var(v=-0.1367, grad=0.0000), Var(v=0.0176, grad=0.0000), Var(v=0.0358, grad=-1.1322), Var(v=0.0776, grad=0.0000), Var(v=-0.0308, grad=-0.8732), Var(v=0.0542, grad=0.9718), Var(v=0.0604, grad=2.3797), Var(v=0.1895, grad=1.0623), Var(v=-0.0316, grad=0.0000), Var(v=0.1675, grad=-0.2108), Var(v=-0.0994, grad=0.0000), Var(v=0.0539, grad=1.3355), Var(v=-0.0203, grad=0.0000), Var(v=-0.0919, grad=0.0000), Var(v=0.0623, grad=-2.0223), Var(v=0.0322, grad=0.0000), Var(v=0.0171, grad=-0.6326), Var(v=0.0199, grad=0.0000), Var(v=0.1231, grad=-0.6844), Var(v=-0.0131, grad=0.4352), Var(v=-0.0632, grad=1.0575), Var(v=-0.1264, grad=0.0000)], [Var(v=-0.1231, grad=0.0000), Var(v=0.1661, grad=0.2789), Var(v=-0.0259, grad=-0.3784), Var(v=-0.0723, grad=0.0000), Var(v=-0.0368, grad=0.0000), Var(v=0.0928, grad=0.3772), Var(v=0.1630, grad=0.9484), Var(v=0.0788, grad=0.0000), Var(v=-0.0538, grad=0.0000), Var(v=-0.0645, grad=0.0000), Var(v=-0.0186, grad=0.0000), Var(v=-0.1493, grad=-0.2630), Var(v=-0.0626, grad=0.0000), Var(v=-0.1845, grad=0.0000), Var(v=0.1057, grad=-0.2907), Var(v=0.0919, grad=0.2825), Var(v=0.0728, grad=0.0000), Var(v=-0.0458, grad=0.0000), Var(v=-0.0062, grad=-0.1238), Var(v=-0.0104, grad=-0.0595), Var(v=-0.0195, grad=0.0000), Var(v=-0.0748, grad=0.2005), Var(v=-0.2029, grad=0.0000), Var(v=-0.0676, grad=0.0000), Var(v=0.0332, grad=0.1756), Var(v=-0.0543, grad=0.0000), Var(v=-0.1141, grad=0.0000), Var(v=-0.0534, grad=0.0000), Var(v=0.0240, grad=0.0000), Var(v=0.1487, grad=0.0000), Var(v=0.1185, grad=0.2358), Var(v=-0.1257, grad=-0.1929), Var(v=0.0560, grad=0.0000), Var(v=-0.1641, grad=-0.2024), Var(v=-0.0374, grad=0.0000), Var(v=0.1036, grad=0.0000), Var(v=0.1169, grad=-0.3335), Var(v=0.0013, grad=0.0439), Var(v=-0.0751, grad=0.4293), Var(v=-0.0179, grad=-0.2782), Var(v=0.0882, grad=0.0000), Var(v=-0.0526, grad=0.2293), Var(v=0.0329, grad=0.4213), Var(v=0.1968, grad=-0.6688), Var(v=-0.0819, grad=0.0000), Var(v=0.0734, grad=-0.1378), Var(v=0.1014, grad=0.1426), Var(v=-0.1477, grad=-0.0907), Var(v=0.0002, grad=-0.2203), Var(v=-0.1711, grad=0.0000)], [Var(v=0.1576, grad=0.0000), Var(v=0.1037, grad=0.6446), Var(v=-0.0309, grad=-0.8745), Var(v=0.0114, grad=0.0000), Var(v=0.0987, grad=0.0000), Var(v=-0.0887, grad=0.8718), Var(v=-0.0012, grad=2.1920), Var(v=-0.1075, grad=0.0000), Var(v=0.0704, grad=0.0000), Var(v=-0.0143, grad=0.0000), Var(v=-0.0807, grad=0.0000), Var(v=0.2467, grad=-0.6079), Var(v=0.0996, grad=0.0000), Var(v=-0.0386, grad=0.0000), Var(v=-0.0601, grad=-0.6720), Var(v=0.1429, grad=0.6529), Var(v=-0.0282, grad=0.0000), Var(v=-0.0071, grad=0.0000), Var(v=0.1092, grad=-0.2862), Var(v=-0.0412, grad=-0.1376), Var(v=-0.0429, grad=0.0000), Var(v=0.0611, grad=0.4635), Var(v=0.1357, grad=0.0000), Var(v=-0.0746, grad=0.0000), Var(v=-0.0540, grad=0.4059), Var(v=0.1266, grad=0.0000), Var(v=-0.1812, grad=0.0000), Var(v=0.0853, grad=0.0000), Var(v=-0.0999, grad=0.0000), Var(v=0.1369, grad=0.0000), Var(v=-0.1354, grad=0.5451), Var(v=0.1759, grad=-0.4459), Var(v=0.0579, grad=0.0000), Var(v=0.1486, grad=-0.4679), Var(v=-0.0895, grad=0.0000), Var(v=0.0481, grad=0.0000), Var(v=0.0925, grad=-0.7707), Var(v=0.0879, grad=0.1015), Var(v=0.0670, grad=0.9922), Var(v=-0.1202, grad=-0.6430), Var(v=0.1125, grad=0.0000), Var(v=0.1173, grad=0.5301), Var(v=-0.0940, grad=0.9737), Var(v=0.0384, grad=-1.5458), Var(v=-0.0428, grad=0.0000), Var(v=-0.0346, grad=-0.3185), Var(v=0.0138, grad=0.3295), Var(v=0.1219, grad=-0.2096), Var(v=0.0380, grad=-0.5092), Var(v=0.0096, grad=0.0000)], [Var(v=-0.0274, grad=0.0000), Var(v=-0.2414, grad=0.8368), Var(v=0.0874, grad=-1.1352), Var(v=-0.0013, grad=0.0000), Var(v=-0.0995, grad=0.0000), Var(v=-0.1090, grad=1.1316), Var(v=0.0055, grad=2.8453), Var(v=-0.0662, grad=0.0000), Var(v=-0.0336, grad=0.0000), Var(v=-0.1152, grad=0.0000), Var(v=0.0632, grad=0.0000), Var(v=0.0848, grad=-0.7891), Var(v=-0.1886, grad=0.0000), Var(v=-0.1123, grad=0.0000), Var(v=0.0134, grad=-0.8723), Var(v=-0.0200, grad=0.8475), Var(v=-0.0594, grad=0.0000), Var(v=0.0062, grad=0.0000), Var(v=0.0599, grad=-0.3714), Var(v=-0.0816, grad=-0.1786), Var(v=0.0785, grad=0.0000), Var(v=-0.1336, grad=0.6016), Var(v=0.0132, grad=0.0000), Var(v=-0.0128, grad=0.0000), Var(v=0.2231, grad=0.5269), Var(v=0.0906, grad=0.0000), Var(v=-0.1521, grad=0.0000), Var(v=-0.2826, grad=0.0000), Var(v=-0.0484, grad=0.0000), Var(v=-0.1186, grad=0.0000), Var(v=0.0931, grad=0.7076), Var(v=-0.0134, grad=-0.5788), Var(v=-0.1232, grad=0.0000), Var(v=0.0680, grad=-0.6074), Var(v=-0.0433, grad=0.0000), Var(v=-0.1028, grad=0.0000), Var(v=-0.0755, grad=-1.0005), Var(v=0.0902, grad=0.1318), Var(v=0.0048, grad=1.2879), Var(v=0.0924, grad=-0.8347), Var(v=0.0192, grad=0.0000), Var(v=-0.0971, grad=0.6881), Var(v=0.2161, grad=1.2639), Var(v=0.0097, grad=-2.0066), Var(v=0.0582, grad=0.0000), Var(v=0.0614, grad=-0.4135), Var(v=-0.1421, grad=0.4278), Var(v=0.0453, grad=-0.2720), Var(v=-0.1939, grad=-0.6610), Var(v=-0.1961, grad=0.0000)], [Var(v=-0.0543, grad=-0.2759), Var(v=-0.1041, grad=-0.1754), Var(v=-0.0786, grad=0.0000), Var(v=-0.0813, grad=-0.0676), Var(v=0.0649, grad=-0.2421), Var(v=-0.0837, grad=-0.2372), Var(v=0.0317, grad=-0.5965), Var(v=0.1450, grad=0.1595), Var(v=-0.0966, grad=-0.3961), Var(v=0.0566, grad=-0.2468), Var(v=0.0556, grad=0.0000), Var(v=0.0729, grad=0.1654), Var(v=-0.0199, grad=-0.1108), Var(v=-0.0008, grad=0.0883), Var(v=-0.0910, grad=0.1829), Var(v=0.0664, grad=0.0000), Var(v=-0.0853, grad=0.0000), Var(v=0.0189, grad=0.4829), Var(v=0.1503, grad=0.0000), Var(v=0.1189, grad=0.0374), Var(v=0.0351, grad=0.0000), Var(v=-0.0633, grad=-0.1261), Var(v=0.1342, grad=0.0000), Var(v=-0.0946, grad=-0.0502), Var(v=0.0493, grad=0.0000), Var(v=0.0356, grad=0.0513), Var(v=-0.0448, grad=0.0000), Var(v=-0.0870, grad=0.0000), Var(v=0.0783, grad=0.0000), Var(v=0.0144, grad=0.0000), Var(v=0.0481, grad=-0.1483), Var(v=-0.1935, grad=0.0000), Var(v=0.0104, grad=-0.1144), Var(v=-0.1509, grad=0.1273), Var(v=-0.0390, grad=0.3118), Var(v=0.0193, grad=0.1392), Var(v=0.0132, grad=0.0000), Var(v=-0.2381, grad=-0.0276), Var(v=-0.0518, grad=0.0000), Var(v=0.0530, grad=0.1750), Var(v=-0.1068, grad=0.0000), Var(v=0.0563, grad=0.0000), Var(v=-0.0274, grad=-0.2650), Var(v=0.0133, grad=0.0000), Var(v=0.0862, grad=-0.0829), Var(v=0.0107, grad=0.0000), Var(v=-0.1094, grad=-0.0897), Var(v=0.0132, grad=0.0570), Var(v=0.1141, grad=0.1386), Var(v=-0.0614, grad=0.0000)], [Var(v=0.0540, grad=-1.5760), Var(v=0.1461, grad=-1.0021), Var(v=0.0976, grad=0.0000), Var(v=0.0721, grad=-0.3861), Var(v=0.0847, grad=-1.3833), Var(v=0.0320, grad=-1.3552), Var(v=0.0215, grad=-3.4075), Var(v=-0.0356, grad=0.9114), Var(v=0.0050, grad=-2.2630), Var(v=0.0253, grad=-1.4101), Var(v=0.1086, grad=0.0000), Var(v=0.0650, grad=0.9449), Var(v=0.1540, grad=-0.6327), Var(v=-0.1348, grad=0.5042), Var(v=0.1519, grad=1.0446), Var(v=0.0151, grad=0.0000), Var(v=-0.0092, grad=0.0000), Var(v=-0.0934, grad=2.7589), Var(v=0.0089, grad=0.0000), Var(v=0.2123, grad=0.2139), Var(v=0.0081, grad=0.0000), Var(v=0.2530, grad=-0.7205), Var(v=-0.0009, grad=0.0000), Var(v=0.1112, grad=-0.2866), Var(v=-0.0850, grad=0.0000), Var(v=0.1141, grad=0.2931), Var(v=0.0055, grad=0.0000), Var(v=0.0415, grad=0.0000), Var(v=0.0248, grad=0.0000), Var(v=-0.0288, grad=0.0000), Var(v=-0.0437, grad=-0.8474), Var(v=-0.0815, grad=0.0000), Var(v=0.0465, grad=-0.6536), Var(v=0.2050, grad=0.7274), Var(v=-0.0331, grad=1.7811), Var(v=-0.1176, grad=0.7951), Var(v=-0.0673, grad=0.0000), Var(v=0.0763, grad=-0.1578), Var(v=0.1317, grad=0.0000), Var(v=0.0909, grad=0.9996), Var(v=-0.0143, grad=0.0000), Var(v=0.0303, grad=0.0000), Var(v=-0.0054, grad=-1.5136), Var(v=-0.1060, grad=0.0000), Var(v=0.0174, grad=-0.4735), Var(v=-0.1463, grad=0.0000), Var(v=-0.0123, grad=-0.5123), Var(v=0.0428, grad=0.3258), Var(v=0.0988, grad=0.7915), Var(v=0.1110, grad=0.0000)], [Var(v=0.2044, grad=0.0000), Var(v=0.1655, grad=0.1277), Var(v=0.0608, grad=-0.1732), Var(v=-0.0533, grad=0.0000), Var(v=-0.0691, grad=0.0000), Var(v=-0.0964, grad=0.1726), Var(v=0.0887, grad=0.4341), Var(v=0.0226, grad=0.0000), Var(v=0.0033, grad=0.0000), Var(v=-0.0694, grad=0.0000), Var(v=-0.0659, grad=0.0000), Var(v=0.1335, grad=-0.1204), Var(v=0.0647, grad=0.0000), Var(v=-0.0987, grad=0.0000), Var(v=0.1874, grad=-0.1331), Var(v=0.0397, grad=0.1293), Var(v=-0.0899, grad=0.0000), Var(v=0.0044, grad=0.0000), Var(v=-0.2468, grad=-0.0567), Var(v=-0.1814, grad=-0.0273), Var(v=0.0490, grad=0.0000), Var(v=0.0061, grad=0.0918), Var(v=-0.0139, grad=0.0000), Var(v=0.0396, grad=0.0000), Var(v=0.1300, grad=0.0804), Var(v=-0.1627, grad=0.0000), Var(v=-0.0507, grad=0.0000), Var(v=-0.0513, grad=0.0000), Var(v=0.0261, grad=0.0000), Var(v=0.1070, grad=0.0000), Var(v=-0.1737, grad=0.1080), Var(v=-0.0331, grad=-0.0883), Var(v=-0.0697, grad=0.0000), Var(v=-0.1409, grad=-0.0927), Var(v=0.0276, grad=0.0000), Var(v=0.0108, grad=0.0000), Var(v=-0.2116, grad=-0.1526), Var(v=-0.2144, grad=0.0201), Var(v=-0.0058, grad=0.1965), Var(v=-0.1994, grad=-0.1273), Var(v=0.1132, grad=0.0000), Var(v=0.0561, grad=0.1050), Var(v=-0.0951, grad=0.1928), Var(v=0.0662, grad=-0.3061), Var(v=0.0700, grad=0.0000), Var(v=0.0117, grad=-0.0631), Var(v=0.0949, grad=0.0653), Var(v=-0.0612, grad=-0.0415), Var(v=0.0962, grad=-0.1008), Var(v=-0.0521, grad=0.0000)], [Var(v=-0.1435, grad=0.0000), Var(v=0.0054, grad=0.5305), Var(v=0.1000, grad=-0.7196), Var(v=-0.2017, grad=0.0000), Var(v=0.1438, grad=0.0000), Var(v=0.0086, grad=0.7174), Var(v=-0.0113, grad=1.8038), Var(v=-0.0296, grad=0.0000), Var(v=0.0406, grad=0.0000), Var(v=0.0540, grad=0.0000), Var(v=0.1242, grad=0.0000), Var(v=-0.0583, grad=-0.5002), Var(v=0.0883, grad=0.0000), Var(v=0.1265, grad=0.0000), Var(v=-0.0333, grad=-0.5530), Var(v=0.0003, grad=0.5372), Var(v=-0.1604, grad=0.0000), Var(v=0.0026, grad=0.0000), Var(v=0.1214, grad=-0.2355), Var(v=-0.0132, grad=-0.1132), Var(v=-0.1292, grad=0.0000), Var(v=0.0989, grad=0.3814), Var(v=-0.0757, grad=0.0000), Var(v=0.1149, grad=0.0000), Var(v=0.2081, grad=0.3340), Var(v=-0.2998, grad=0.0000), Var(v=0.0046, grad=0.0000), Var(v=-0.1082, grad=0.0000), Var(v=-0.0416, grad=0.0000), Var(v=-0.0449, grad=0.0000), Var(v=0.1183, grad=0.4486), Var(v=-0.1514, grad=-0.3669), Var(v=-0.1122, grad=0.0000), Var(v=0.1318, grad=-0.3851), Var(v=0.0861, grad=0.0000), Var(v=-0.0581, grad=0.0000), Var(v=0.0171, grad=-0.6343), Var(v=0.0300, grad=0.0835), Var(v=-0.0124, grad=0.8165), Var(v=-0.0909, grad=-0.5291), Var(v=-0.0582, grad=0.0000), Var(v=0.0930, grad=0.4362), Var(v=0.0423, grad=0.8013), Var(v=-0.0517, grad=-1.2721), Var(v=-0.0017, grad=0.0000), Var(v=-0.0728, grad=-0.2621), Var(v=0.0618, grad=0.2712), Var(v=-0.2105, grad=-0.1725), Var(v=0.0222, grad=-0.4190), Var(v=0.0534, grad=0.0000)], [Var(v=0.0445, grad=0.0000), Var(v=0.0360, grad=0.3877), Var(v=0.0723, grad=-0.5259), Var(v=0.0215, grad=0.0000), Var(v=-0.0031, grad=0.0000), Var(v=-0.0629, grad=0.5243), Var(v=0.0324, grad=1.3183), Var(v=0.1279, grad=0.0000), Var(v=-0.0392, grad=0.0000), Var(v=0.0804, grad=0.0000), Var(v=-0.0332, grad=0.0000), Var(v=-0.0575, grad=-0.3656), Var(v=-0.1589, grad=0.0000), Var(v=-0.0182, grad=0.0000), Var(v=-0.0623, grad=-0.4041), Var(v=0.1969, grad=0.3926), Var(v=0.0346, grad=0.0000), Var(v=0.2010, grad=0.0000), Var(v=-0.0487, grad=-0.1721), Var(v=0.0729, grad=-0.0828), Var(v=0.0323, grad=0.0000), Var(v=-0.1248, grad=0.2787), Var(v=-0.0293, grad=0.0000), Var(v=0.0097, grad=0.0000), Var(v=-0.0138, grad=0.2441), Var(v=0.1279, grad=0.0000), Var(v=-0.0045, grad=0.0000), Var(v=0.0131, grad=0.0000), Var(v=-0.0648, grad=0.0000), Var(v=0.0968, grad=0.0000), Var(v=-0.0947, grad=0.3278), Var(v=0.0082, grad=-0.2681), Var(v=-0.0497, grad=0.0000), Var(v=0.0246, grad=-0.2814), Var(v=0.0367, grad=0.0000), Var(v=-0.0974, grad=0.0000), Var(v=0.1727, grad=-0.4635), Var(v=-0.0029, grad=0.0610), Var(v=-0.0300, grad=0.5967), Var(v=0.0390, grad=-0.3867), Var(v=-0.0694, grad=0.0000), Var(v=0.1484, grad=0.3188), Var(v=-0.1028, grad=0.5856), Var(v=0.2687, grad=-0.9297), Var(v=-0.1080, grad=0.0000), Var(v=0.1325, grad=-0.1916), Var(v=-0.0897, grad=0.1982), Var(v=-0.0730, grad=-0.1260), Var(v=0.2022, grad=-0.3062), Var(v=0.1066, grad=0.0000)], [Var(v=-0.1785, grad=0.0000), Var(v=0.0147, grad=0.4937), Var(v=-0.0011, grad=-0.6697), Var(v=0.0647, grad=0.0000), Var(v=-0.1213, grad=0.0000), Var(v=-0.0001, grad=0.6676), Var(v=0.1840, grad=1.6787), Var(v=-0.1034, grad=0.0000), Var(v=-0.0071, grad=0.0000), Var(v=-0.0935, grad=0.0000), Var(v=0.0280, grad=0.0000), Var(v=0.0140, grad=-0.4655), Var(v=0.1532, grad=0.0000), Var(v=-0.0072, grad=0.0000), Var(v=-0.1556, grad=-0.5146), Var(v=-0.0321, grad=0.5000), Var(v=-0.1814, grad=0.0000), Var(v=-0.1024, grad=0.0000), Var(v=0.0768, grad=-0.2192), Var(v=-0.1270, grad=-0.1054), Var(v=-0.0873, grad=0.0000), Var(v=0.0949, grad=0.3550), Var(v=0.1548, grad=0.0000), Var(v=0.0205, grad=0.0000), Var(v=-0.1330, grad=0.3109), Var(v=-0.1112, grad=0.0000), Var(v=-0.0965, grad=0.0000), Var(v=0.2110, grad=0.0000), Var(v=-0.0255, grad=0.0000), Var(v=-0.0018, grad=0.0000), Var(v=-0.0783, grad=0.4175), Var(v=-0.0120, grad=-0.3415), Var(v=0.0817, grad=0.0000), Var(v=-0.0358, grad=-0.3584), Var(v=-0.0309, grad=0.0000), Var(v=0.1137, grad=0.0000), Var(v=0.0130, grad=-0.5903), Var(v=-0.0736, grad=0.0777), Var(v=-0.1806, grad=0.7599), Var(v=0.1096, grad=-0.4924), Var(v=-0.0586, grad=0.0000), Var(v=0.1502, grad=0.4060), Var(v=-0.1168, grad=0.7457), Var(v=-0.0637, grad=-1.1839), Var(v=0.0139, grad=0.0000), Var(v=-0.2013, grad=-0.2439), Var(v=0.0755, grad=0.2524), Var(v=-0.1206, grad=-0.1605), Var(v=-0.0362, grad=-0.3900), Var(v=-0.0711, grad=0.0000)], [Var(v=0.0680, grad=0.0000), Var(v=0.0223, grad=0.8719), Var(v=0.0893, grad=-1.1827), Var(v=-0.1347, grad=0.0000), Var(v=-0.1765, grad=0.0000), Var(v=0.0676, grad=1.1790), Var(v=0.2246, grad=2.9646), Var(v=-0.0265, grad=0.0000), Var(v=-0.0793, grad=0.0000), Var(v=-0.1024, grad=0.0000), Var(v=-0.2653, grad=0.0000), Var(v=0.1237, grad=-0.8221), Var(v=0.0243, grad=0.0000), Var(v=-0.0558, grad=0.0000), Var(v=-0.0360, grad=-0.9088), Var(v=-0.0556, grad=0.8830), Var(v=-0.0403, grad=0.0000), Var(v=0.0535, grad=0.0000), Var(v=-0.0888, grad=-0.3870), Var(v=-0.0184, grad=-0.1861), Var(v=-0.1433, grad=0.0000), Var(v=-0.0176, grad=0.6268), Var(v=-0.1179, grad=0.0000), Var(v=0.0957, grad=0.0000), Var(v=-0.0842, grad=0.5490), Var(v=-0.0365, grad=0.0000), Var(v=0.0466, grad=0.0000), Var(v=-0.0694, grad=0.0000), Var(v=-0.0515, grad=0.0000), Var(v=-0.0993, grad=0.0000), Var(v=0.0273, grad=0.7373), Var(v=0.0668, grad=-0.6030), Var(v=0.1252, grad=0.0000), Var(v=0.0060, grad=-0.6329), Var(v=0.0019, grad=0.0000), Var(v=0.0220, grad=0.0000), Var(v=0.0097, grad=-1.0424), Var(v=0.0546, grad=0.1373), Var(v=0.0049, grad=1.3419), Var(v=0.0273, grad=-0.8696), Var(v=-0.0136, grad=0.0000), Var(v=0.0559, grad=0.7169), Var(v=-0.0272, grad=1.3169), Var(v=-0.0986, grad=-2.0907), Var(v=-0.0018, grad=0.0000), Var(v=-0.1115, grad=-0.4308), Var(v=0.0492, grad=0.4457), Var(v=0.0922, grad=-0.2834), Var(v=0.0518, grad=-0.6887), Var(v=-0.0644, grad=0.0000)]] \n",
      " Biases:[Var(v=0.0000, grad=-136.2061), Var(v=0.0000, grad=1.8956), Var(v=0.0000, grad=-120.0617), Var(v=0.0000, grad=-33.3666), Var(v=0.0000, grad=-119.5546), Var(v=0.0000, grad=2.5634), Var(v=0.0000, grad=6.4455), Var(v=0.0000, grad=78.7737), Var(v=0.0000, grad=-195.5812), Var(v=0.0000, grad=-121.8685), Var(v=0.0000, grad=0.0000), Var(v=0.0000, grad=-1.7874), Var(v=0.0000, grad=-54.6822), Var(v=0.0000, grad=43.5727), Var(v=0.0000, grad=-1.9759), Var(v=0.0000, grad=89.6326), Var(v=0.0000, grad=0.0000), Var(v=0.0000, grad=238.4436), Var(v=0.0000, grad=-39.2869), Var(v=0.0000, grad=-0.4046), Var(v=0.0000, grad=0.0000), Var(v=0.0000, grad=1.3629), Var(v=0.0000, grad=0.0000), Var(v=0.0000, grad=-24.7699), Var(v=0.0000, grad=55.7286), Var(v=0.0000, grad=25.3302), Var(v=0.0000, grad=0.0000), Var(v=0.0000, grad=0.0000), Var(v=0.0000, grad=0.0000), Var(v=0.0000, grad=0.0000), Var(v=0.0000, grad=1.6029), Var(v=0.0000, grad=-61.2135), Var(v=0.0000, grad=-56.4850), Var(v=0.0000, grad=-1.3759), Var(v=0.0000, grad=153.9375), Var(v=0.0000, grad=68.7177), Var(v=0.0000, grad=-105.8185), Var(v=0.0000, grad=0.2985), Var(v=0.0000, grad=136.2195), Var(v=0.0000, grad=-1.8908), Var(v=0.0000, grad=0.0000), Var(v=0.0000, grad=72.7763), Var(v=0.0000, grad=2.8632), Var(v=0.0000, grad=-212.2335), Var(v=0.0000, grad=-40.9236), Var(v=0.0000, grad=-43.7325), Var(v=0.0000, grad=0.9690), Var(v=0.0000, grad=-0.6162), Var(v=0.0000, grad=-1.4973), Var(v=0.0000, grad=0.0000)]\n",
      "Layer 2 \n",
      " 50 input nodes \n",
      "1 output nodes \n",
      " Weights:[[Var(v=0.1053, grad=-1.0069)], [Var(v=0.0670, grad=-3.6671)], [Var(v=-0.0908, grad=3.2431)], [Var(v=0.0258, grad=-0.2103)], [Var(v=0.0924, grad=-0.9837)], [Var(v=0.0906, grad=2.5128)], [Var(v=0.2277, grad=2.5585)], [Var(v=-0.0609, grad=-2.8014)], [Var(v=0.1512, grad=-1.3236)], [Var(v=0.0942, grad=-3.3882)], [Var(v=0.1012, grad=0.0000)], [Var(v=-0.0631, grad=-0.2671)], [Var(v=0.0423, grad=-3.6596)], [Var(v=-0.0337, grad=-2.8335)], [Var(v=-0.0698, grad=-4.4556)], [Var(v=0.0678, grad=1.9429)], [Var(v=-0.1217, grad=0.0000)], [Var(v=-0.1844, grad=-0.2703)], [Var(v=-0.0297, grad=2.2048)], [Var(v=-0.0143, grad=-3.2260)], [Var(v=-0.0872, grad=0.0000)], [Var(v=0.0481, grad=-2.7974)], [Var(v=0.1191, grad=0.0000)], [Var(v=0.0192, grad=-3.8135)], [Var(v=0.0422, grad=1.0188)], [Var(v=-0.0196, grad=-0.7347)], [Var(v=-0.0579, grad=0.0000)], [Var(v=-0.0042, grad=0.0000)], [Var(v=-0.0474, grad=0.0000)], [Var(v=0.0069, grad=0.0000)], [Var(v=0.0566, grad=1.8619)], [Var(v=-0.0463, grad=2.6609)], [Var(v=0.0437, grad=-0.1016)], [Var(v=-0.0486, grad=0.1644)], [Var(v=-0.1190, grad=-0.6284)], [Var(v=-0.0531, grad=-2.0964)], [Var(v=-0.0801, grad=1.2349)], [Var(v=0.0105, grad=-2.4381)], [Var(v=0.1031, grad=0.5319)], [Var(v=-0.0668, grad=0.0313)], [Var(v=0.1293, grad=0.0000)], [Var(v=0.0551, grad=1.3201)], [Var(v=0.1012, grad=0.3312)], [Var(v=-0.1606, grad=1.7070)], [Var(v=0.0316, grad=-0.7833)], [Var(v=-0.0331, grad=1.5052)], [Var(v=0.0342, grad=0.6295)], [Var(v=-0.0218, grad=2.3706)], [Var(v=-0.0529, grad=1.2691)], [Var(v=0.2566, grad=0.0000)]] \n",
      " Biases:[Var(v=0.0000, grad=94.3531)]\n",
      "\n",
      "Network after update:\n",
      "Layer 0 \n",
      " 1 input nodes \n",
      "15 output nodes \n",
      " Weights:[[Var(v=-0.0513, grad=0.7083), Var(v=-0.2216, grad=-0.1263), Var(v=-0.0023, grad=0.4918), Var(v=0.0470, grad=-7.9923), Var(v=0.2247, grad=-2.5511), Var(v=-0.0012, grad=-4.1783), Var(v=-0.1275, grad=2.8203), Var(v=-0.1452, grad=1.6250), Var(v=-0.0131, grad=3.9231), Var(v=0.1981, grad=-4.8985), Var(v=0.0014, grad=-2.1117), Var(v=-0.0407, grad=-4.0997), Var(v=-0.1332, grad=7.3440), Var(v=-0.0374, grad=-3.8633), Var(v=-0.0825, grad=-5.1852)]] \n",
      " Biases:[Var(v=0.0064, grad=-0.6439), Var(v=-0.0011, grad=0.1149), Var(v=-0.0042, grad=0.4226), Var(v=-0.0727, grad=7.2658), Var(v=0.0219, grad=-2.1919), Var(v=-0.0380, grad=3.7985), Var(v=0.0256, grad=-2.5640), Var(v=0.0148, grad=-1.4773), Var(v=-0.0337, grad=3.3707), Var(v=0.0421, grad=-4.2088), Var(v=-0.0192, grad=1.9197), Var(v=-0.0373, grad=3.7270), Var(v=0.0668, grad=-6.6765), Var(v=-0.0351, grad=3.5121), Var(v=-0.0471, grad=4.7139)]\n",
      "Layer 1 \n",
      " 15 input nodes \n",
      "50 output nodes \n",
      " Weights:[[Var(v=0.0328, grad=0.0000), Var(v=0.1673, grad=0.2873), Var(v=0.1016, grad=-0.3897), Var(v=-0.0208, grad=0.0000), Var(v=-0.0394, grad=0.0000), Var(v=0.1127, grad=0.3885), Var(v=-0.0033, grad=0.9768), Var(v=-0.0109, grad=0.0000), Var(v=-0.0041, grad=0.0000), Var(v=-0.1918, grad=0.0000), Var(v=0.0553, grad=0.0000), Var(v=-0.0566, grad=-0.2709), Var(v=-0.0169, grad=0.0000), Var(v=-0.0271, grad=0.0000), Var(v=-0.1570, grad=-0.2994), Var(v=-0.0385, grad=0.2909), Var(v=-0.0611, grad=0.0000), Var(v=0.1277, grad=0.0000), Var(v=-0.1164, grad=-0.1275), Var(v=0.0908, grad=-0.0613), Var(v=0.0030, grad=0.0000), Var(v=-0.0754, grad=0.2065), Var(v=0.0956, grad=0.0000), Var(v=0.0736, grad=0.0000), Var(v=-0.0288, grad=0.1809), Var(v=0.0931, grad=0.0000), Var(v=-0.0169, grad=0.0000), Var(v=0.0026, grad=0.0000), Var(v=0.0062, grad=0.0000), Var(v=-0.1294, grad=0.0000), Var(v=-0.2225, grad=0.2429), Var(v=0.0321, grad=-0.1987), Var(v=0.0555, grad=0.0000), Var(v=0.0863, grad=-0.2085), Var(v=-0.0130, grad=0.0000), Var(v=-0.0463, grad=0.0000), Var(v=0.0887, grad=-0.3434), Var(v=0.0898, grad=0.0452), Var(v=-0.0423, grad=0.4421), Var(v=0.1390, grad=-0.2865), Var(v=-0.0136, grad=0.0000), Var(v=0.0335, grad=0.2362), Var(v=0.1113, grad=0.4339), Var(v=0.0082, grad=-0.6888), Var(v=-0.0062, grad=0.0000), Var(v=0.0279, grad=-0.1419), Var(v=0.0953, grad=0.1468), Var(v=0.1564, grad=-0.0934), Var(v=0.1456, grad=-0.2269), Var(v=0.0514, grad=0.0000)], [Var(v=-0.0939, grad=0.0000), Var(v=-0.0387, grad=1.4466), Var(v=-0.0051, grad=-1.9623), Var(v=-0.0833, grad=0.0000), Var(v=-0.0746, grad=0.0000), Var(v=0.1416, grad=1.9562), Var(v=0.0003, grad=4.9188), Var(v=0.1115, grad=0.0000), Var(v=-0.0913, grad=0.0000), Var(v=0.0538, grad=0.0000), Var(v=-0.0794, grad=0.0000), Var(v=-0.1119, grad=-1.3641), Var(v=0.0087, grad=0.0000), Var(v=0.0187, grad=0.0000), Var(v=0.1666, grad=-1.5079), Var(v=0.0010, grad=1.4650), Var(v=-0.1471, grad=0.0000), Var(v=-0.1155, grad=0.0000), Var(v=0.0724, grad=-0.6421), Var(v=0.1082, grad=-0.3088), Var(v=-0.1378, grad=0.0000), Var(v=0.0954, grad=1.0400), Var(v=-0.0980, grad=0.0000), Var(v=-0.1332, grad=0.0000), Var(v=-0.0914, grad=0.9109), Var(v=-0.1635, grad=0.0000), Var(v=0.0499, grad=0.0000), Var(v=0.0616, grad=0.0000), Var(v=-0.0631, grad=0.0000), Var(v=-0.1000, grad=0.0000), Var(v=0.1100, grad=1.2232), Var(v=0.1103, grad=-1.0005), Var(v=-0.0622, grad=0.0000), Var(v=0.0612, grad=-1.0500), Var(v=-0.1276, grad=0.0000), Var(v=-0.0361, grad=0.0000), Var(v=0.0118, grad=-1.7296), Var(v=-0.0339, grad=0.2278), Var(v=0.0667, grad=2.2264), Var(v=0.1280, grad=-1.4429), Var(v=-0.1227, grad=0.0000), Var(v=-0.1131, grad=1.1895), Var(v=-0.0041, grad=2.1850), Var(v=0.0904, grad=-3.4689), Var(v=-0.0981, grad=0.0000), Var(v=0.1680, grad=-0.7148), Var(v=0.0746, grad=0.7395), Var(v=0.1309, grad=-0.4703), Var(v=0.1112, grad=-1.1426), Var(v=-0.0355, grad=0.0000)], [Var(v=0.1000, grad=-0.0279), Var(v=-0.2235, grad=-0.0177), Var(v=0.0060, grad=0.0000), Var(v=-0.2065, grad=-0.0068), Var(v=0.0763, grad=-0.0245), Var(v=0.0376, grad=-0.0240), Var(v=0.0125, grad=-0.0603), Var(v=-0.0677, grad=0.0161), Var(v=-0.0172, grad=-0.0401), Var(v=-0.0229, grad=-0.0250), Var(v=0.0289, grad=0.0000), Var(v=-0.0684, grad=0.0167), Var(v=-0.0981, grad=-0.0112), Var(v=-0.0210, grad=0.0089), Var(v=0.1241, grad=0.0185), Var(v=-0.0512, grad=0.0000), Var(v=-0.0413, grad=0.0000), Var(v=-0.1251, grad=0.0489), Var(v=-0.1129, grad=0.0000), Var(v=0.1228, grad=0.0038), Var(v=-0.0488, grad=0.0000), Var(v=-0.0575, grad=-0.0128), Var(v=0.0085, grad=0.0000), Var(v=0.0321, grad=-0.0051), Var(v=0.0087, grad=0.0000), Var(v=-0.0862, grad=0.0052), Var(v=0.0303, grad=0.0000), Var(v=-0.1115, grad=0.0000), Var(v=0.1346, grad=0.0000), Var(v=-0.0366, grad=0.0000), Var(v=0.1494, grad=-0.0150), Var(v=-0.0846, grad=0.0000), Var(v=-0.0192, grad=-0.0116), Var(v=-0.1810, grad=0.0129), Var(v=0.0690, grad=0.0315), Var(v=0.0694, grad=0.0141), Var(v=0.0320, grad=0.0000), Var(v=0.0314, grad=-0.0028), Var(v=0.1509, grad=0.0000), Var(v=0.0468, grad=0.0177), Var(v=-0.0798, grad=0.0000), Var(v=-0.0177, grad=0.0000), Var(v=-0.1371, grad=-0.0268), Var(v=0.0292, grad=0.0000), Var(v=-0.1704, grad=-0.0084), Var(v=0.0701, grad=0.0000), Var(v=-0.0394, grad=-0.0091), Var(v=0.0768, grad=0.0058), Var(v=-0.0045, grad=0.0140), Var(v=-0.0344, grad=0.0000)], [Var(v=-0.0201, grad=0.0000), Var(v=0.0575, grad=0.2140), Var(v=0.0624, grad=-0.2903), Var(v=0.0697, grad=0.0000), Var(v=0.1170, grad=0.0000), Var(v=0.0086, grad=0.2894), Var(v=0.0080, grad=0.7276), Var(v=-0.1907, grad=0.0000), Var(v=0.1177, grad=0.0000), Var(v=-0.0318, grad=0.0000), Var(v=-0.0267, grad=0.0000), Var(v=-0.0527, grad=-0.2018), Var(v=-0.0449, grad=0.0000), Var(v=0.0175, grad=0.0000), Var(v=0.0507, grad=-0.2231), Var(v=-0.0046, grad=0.2167), Var(v=0.0273, grad=0.0000), Var(v=0.0469, grad=0.0000), Var(v=-0.0331, grad=-0.0950), Var(v=0.1597, grad=-0.0457), Var(v=-0.1270, grad=0.0000), Var(v=0.0320, grad=0.1538), Var(v=-0.0332, grad=0.0000), Var(v=0.1080, grad=0.0000), Var(v=0.2380, grad=0.1347), Var(v=-0.1662, grad=0.0000), Var(v=-0.1141, grad=0.0000), Var(v=-0.0885, grad=0.0000), Var(v=0.0763, grad=0.0000), Var(v=-0.1214, grad=0.0000), Var(v=0.0618, grad=0.1809), Var(v=-0.0625, grad=-0.1480), Var(v=-0.2101, grad=0.0000), Var(v=0.0282, grad=-0.1553), Var(v=-0.0711, grad=0.0000), Var(v=0.0685, grad=0.0000), Var(v=-0.1231, grad=-0.2558), Var(v=-0.0713, grad=0.0337), Var(v=-0.0248, grad=0.3293), Var(v=-0.1955, grad=-0.2134), Var(v=-0.0490, grad=0.0000), Var(v=0.0349, grad=0.1760), Var(v=0.0703, grad=0.3232), Var(v=-0.0985, grad=-0.5131), Var(v=0.0397, grad=0.0000), Var(v=-0.0304, grad=-0.1057), Var(v=0.0915, grad=0.1094), Var(v=0.0581, grad=-0.0696), Var(v=-0.2703, grad=-0.1690), Var(v=-0.0798, grad=0.0000)], [Var(v=0.0368, grad=-2.1056), Var(v=0.1058, grad=-1.3389), Var(v=-0.1050, grad=0.0000), Var(v=-0.0249, grad=-0.5158), Var(v=-0.0052, grad=-1.8481), Var(v=0.0084, grad=-1.8106), Var(v=0.2188, grad=-4.5525), Var(v=0.1365, grad=1.2177), Var(v=0.1056, grad=-3.0234), Var(v=0.1623, grad=-1.8839), Var(v=-0.0940, grad=0.0000), Var(v=-0.0143, grad=1.2625), Var(v=0.0801, grad=-0.8453), Var(v=0.2363, grad=0.6736), Var(v=0.1498, grad=1.3956), Var(v=-0.0533, grad=0.0000), Var(v=-0.1024, grad=0.0000), Var(v=0.0458, grad=3.6860), Var(v=-0.2483, grad=0.0000), Var(v=0.0076, grad=0.2858), Var(v=-0.0282, grad=0.0000), Var(v=0.0307, grad=-0.9626), Var(v=-0.0176, grad=0.0000), Var(v=0.1233, grad=-0.3829), Var(v=-0.1949, grad=0.0000), Var(v=-0.0561, grad=0.3916), Var(v=-0.0114, grad=0.0000), Var(v=-0.1333, grad=0.0000), Var(v=-0.1367, grad=0.0000), Var(v=0.0176, grad=0.0000), Var(v=0.0471, grad=-1.1322), Var(v=0.0776, grad=0.0000), Var(v=-0.0221, grad=-0.8732), Var(v=0.0444, grad=0.9718), Var(v=0.0366, grad=2.3797), Var(v=0.1788, grad=1.0623), Var(v=-0.0316, grad=0.0000), Var(v=0.1696, grad=-0.2108), Var(v=-0.0994, grad=0.0000), Var(v=0.0405, grad=1.3355), Var(v=-0.0203, grad=0.0000), Var(v=-0.0919, grad=0.0000), Var(v=0.0826, grad=-2.0223), Var(v=0.0322, grad=0.0000), Var(v=0.0234, grad=-0.6326), Var(v=0.0199, grad=0.0000), Var(v=0.1300, grad=-0.6844), Var(v=-0.0174, grad=0.4352), Var(v=-0.0738, grad=1.0575), Var(v=-0.1264, grad=0.0000)], [Var(v=-0.1231, grad=0.0000), Var(v=0.1633, grad=0.2789), Var(v=-0.0221, grad=-0.3784), Var(v=-0.0723, grad=0.0000), Var(v=-0.0368, grad=0.0000), Var(v=0.0890, grad=0.3772), Var(v=0.1536, grad=0.9484), Var(v=0.0788, grad=0.0000), Var(v=-0.0538, grad=0.0000), Var(v=-0.0645, grad=0.0000), Var(v=-0.0186, grad=0.0000), Var(v=-0.1466, grad=-0.2630), Var(v=-0.0626, grad=0.0000), Var(v=-0.1845, grad=0.0000), Var(v=0.1086, grad=-0.2907), Var(v=0.0890, grad=0.2825), Var(v=0.0728, grad=0.0000), Var(v=-0.0458, grad=0.0000), Var(v=-0.0049, grad=-0.1238), Var(v=-0.0098, grad=-0.0595), Var(v=-0.0195, grad=0.0000), Var(v=-0.0768, grad=0.2005), Var(v=-0.2029, grad=0.0000), Var(v=-0.0676, grad=0.0000), Var(v=0.0315, grad=0.1756), Var(v=-0.0543, grad=0.0000), Var(v=-0.1141, grad=0.0000), Var(v=-0.0534, grad=0.0000), Var(v=0.0240, grad=0.0000), Var(v=0.1487, grad=0.0000), Var(v=0.1162, grad=0.2358), Var(v=-0.1238, grad=-0.1929), Var(v=0.0560, grad=0.0000), Var(v=-0.1621, grad=-0.2024), Var(v=-0.0374, grad=0.0000), Var(v=0.1036, grad=0.0000), Var(v=0.1203, grad=-0.3335), Var(v=0.0009, grad=0.0439), Var(v=-0.0794, grad=0.4293), Var(v=-0.0151, grad=-0.2782), Var(v=0.0882, grad=0.0000), Var(v=-0.0549, grad=0.2293), Var(v=0.0287, grad=0.4213), Var(v=0.2035, grad=-0.6688), Var(v=-0.0819, grad=0.0000), Var(v=0.0748, grad=-0.1378), Var(v=0.1000, grad=0.1426), Var(v=-0.1468, grad=-0.0907), Var(v=0.0025, grad=-0.2203), Var(v=-0.1711, grad=0.0000)], [Var(v=0.1576, grad=0.0000), Var(v=0.0972, grad=0.6446), Var(v=-0.0222, grad=-0.8745), Var(v=0.0114, grad=0.0000), Var(v=0.0987, grad=0.0000), Var(v=-0.0974, grad=0.8718), Var(v=-0.0231, grad=2.1920), Var(v=-0.1075, grad=0.0000), Var(v=0.0704, grad=0.0000), Var(v=-0.0143, grad=0.0000), Var(v=-0.0807, grad=0.0000), Var(v=0.2528, grad=-0.6079), Var(v=0.0996, grad=0.0000), Var(v=-0.0386, grad=0.0000), Var(v=-0.0534, grad=-0.6720), Var(v=0.1363, grad=0.6529), Var(v=-0.0282, grad=0.0000), Var(v=-0.0071, grad=0.0000), Var(v=0.1121, grad=-0.2862), Var(v=-0.0398, grad=-0.1376), Var(v=-0.0429, grad=0.0000), Var(v=0.0565, grad=0.4635), Var(v=0.1357, grad=0.0000), Var(v=-0.0746, grad=0.0000), Var(v=-0.0580, grad=0.4059), Var(v=0.1266, grad=0.0000), Var(v=-0.1812, grad=0.0000), Var(v=0.0853, grad=0.0000), Var(v=-0.0999, grad=0.0000), Var(v=0.1369, grad=0.0000), Var(v=-0.1409, grad=0.5451), Var(v=0.1803, grad=-0.4459), Var(v=0.0579, grad=0.0000), Var(v=0.1533, grad=-0.4679), Var(v=-0.0895, grad=0.0000), Var(v=0.0481, grad=0.0000), Var(v=0.1003, grad=-0.7707), Var(v=0.0869, grad=0.1015), Var(v=0.0571, grad=0.9922), Var(v=-0.1137, grad=-0.6430), Var(v=0.1125, grad=0.0000), Var(v=0.1120, grad=0.5301), Var(v=-0.1037, grad=0.9737), Var(v=0.0539, grad=-1.5458), Var(v=-0.0428, grad=0.0000), Var(v=-0.0314, grad=-0.3185), Var(v=0.0105, grad=0.3295), Var(v=0.1240, grad=-0.2096), Var(v=0.0431, grad=-0.5092), Var(v=0.0096, grad=0.0000)], [Var(v=-0.0274, grad=0.0000), Var(v=-0.2498, grad=0.8368), Var(v=0.0987, grad=-1.1352), Var(v=-0.0013, grad=0.0000), Var(v=-0.0995, grad=0.0000), Var(v=-0.1204, grad=1.1316), Var(v=-0.0229, grad=2.8453), Var(v=-0.0662, grad=0.0000), Var(v=-0.0336, grad=0.0000), Var(v=-0.1152, grad=0.0000), Var(v=0.0632, grad=0.0000), Var(v=0.0927, grad=-0.7891), Var(v=-0.1886, grad=0.0000), Var(v=-0.1123, grad=0.0000), Var(v=0.0221, grad=-0.8723), Var(v=-0.0284, grad=0.8475), Var(v=-0.0594, grad=0.0000), Var(v=0.0062, grad=0.0000), Var(v=0.0637, grad=-0.3714), Var(v=-0.0798, grad=-0.1786), Var(v=0.0785, grad=0.0000), Var(v=-0.1396, grad=0.6016), Var(v=0.0132, grad=0.0000), Var(v=-0.0128, grad=0.0000), Var(v=0.2178, grad=0.5269), Var(v=0.0906, grad=0.0000), Var(v=-0.1521, grad=0.0000), Var(v=-0.2826, grad=0.0000), Var(v=-0.0484, grad=0.0000), Var(v=-0.1186, grad=0.0000), Var(v=0.0861, grad=0.7076), Var(v=-0.0076, grad=-0.5788), Var(v=-0.1232, grad=0.0000), Var(v=0.0740, grad=-0.6074), Var(v=-0.0433, grad=0.0000), Var(v=-0.1028, grad=0.0000), Var(v=-0.0655, grad=-1.0005), Var(v=0.0889, grad=0.1318), Var(v=-0.0081, grad=1.2879), Var(v=0.1007, grad=-0.8347), Var(v=0.0192, grad=0.0000), Var(v=-0.1040, grad=0.6881), Var(v=0.2035, grad=1.2639), Var(v=0.0298, grad=-2.0066), Var(v=0.0582, grad=0.0000), Var(v=0.0656, grad=-0.4135), Var(v=-0.1463, grad=0.4278), Var(v=0.0481, grad=-0.2720), Var(v=-0.1873, grad=-0.6610), Var(v=-0.1961, grad=0.0000)], [Var(v=-0.0516, grad=-0.2759), Var(v=-0.1024, grad=-0.1754), Var(v=-0.0786, grad=0.0000), Var(v=-0.0806, grad=-0.0676), Var(v=0.0673, grad=-0.2421), Var(v=-0.0813, grad=-0.2372), Var(v=0.0377, grad=-0.5965), Var(v=0.1434, grad=0.1595), Var(v=-0.0927, grad=-0.3961), Var(v=0.0590, grad=-0.2468), Var(v=0.0556, grad=0.0000), Var(v=0.0712, grad=0.1654), Var(v=-0.0188, grad=-0.1108), Var(v=-0.0017, grad=0.0883), Var(v=-0.0929, grad=0.1829), Var(v=0.0664, grad=0.0000), Var(v=-0.0853, grad=0.0000), Var(v=0.0141, grad=0.4829), Var(v=0.1503, grad=0.0000), Var(v=0.1185, grad=0.0374), Var(v=0.0351, grad=0.0000), Var(v=-0.0620, grad=-0.1261), Var(v=0.1342, grad=0.0000), Var(v=-0.0941, grad=-0.0502), Var(v=0.0493, grad=0.0000), Var(v=0.0351, grad=0.0513), Var(v=-0.0448, grad=0.0000), Var(v=-0.0870, grad=0.0000), Var(v=0.0783, grad=0.0000), Var(v=0.0144, grad=0.0000), Var(v=0.0496, grad=-0.1483), Var(v=-0.1935, grad=0.0000), Var(v=0.0116, grad=-0.1144), Var(v=-0.1522, grad=0.1273), Var(v=-0.0421, grad=0.3118), Var(v=0.0179, grad=0.1392), Var(v=0.0132, grad=0.0000), Var(v=-0.2378, grad=-0.0276), Var(v=-0.0518, grad=0.0000), Var(v=0.0513, grad=0.1750), Var(v=-0.1068, grad=0.0000), Var(v=0.0563, grad=0.0000), Var(v=-0.0248, grad=-0.2650), Var(v=0.0133, grad=0.0000), Var(v=0.0870, grad=-0.0829), Var(v=0.0107, grad=0.0000), Var(v=-0.1085, grad=-0.0897), Var(v=0.0126, grad=0.0570), Var(v=0.1127, grad=0.1386), Var(v=-0.0614, grad=0.0000)], [Var(v=0.0697, grad=-1.5760), Var(v=0.1562, grad=-1.0021), Var(v=0.0976, grad=0.0000), Var(v=0.0760, grad=-0.3861), Var(v=0.0986, grad=-1.3833), Var(v=0.0456, grad=-1.3552), Var(v=0.0555, grad=-3.4075), Var(v=-0.0447, grad=0.9114), Var(v=0.0277, grad=-2.2630), Var(v=0.0394, grad=-1.4101), Var(v=0.1086, grad=0.0000), Var(v=0.0555, grad=0.9449), Var(v=0.1604, grad=-0.6327), Var(v=-0.1398, grad=0.5042), Var(v=0.1415, grad=1.0446), Var(v=0.0151, grad=0.0000), Var(v=-0.0092, grad=0.0000), Var(v=-0.1210, grad=2.7589), Var(v=0.0089, grad=0.0000), Var(v=0.2101, grad=0.2139), Var(v=0.0081, grad=0.0000), Var(v=0.2602, grad=-0.7205), Var(v=-0.0009, grad=0.0000), Var(v=0.1141, grad=-0.2866), Var(v=-0.0850, grad=0.0000), Var(v=0.1112, grad=0.2931), Var(v=0.0055, grad=0.0000), Var(v=0.0415, grad=0.0000), Var(v=0.0248, grad=0.0000), Var(v=-0.0288, grad=0.0000), Var(v=-0.0353, grad=-0.8474), Var(v=-0.0815, grad=0.0000), Var(v=0.0530, grad=-0.6536), Var(v=0.1977, grad=0.7274), Var(v=-0.0509, grad=1.7811), Var(v=-0.1256, grad=0.7951), Var(v=-0.0673, grad=0.0000), Var(v=0.0779, grad=-0.1578), Var(v=0.1317, grad=0.0000), Var(v=0.0809, grad=0.9996), Var(v=-0.0143, grad=0.0000), Var(v=0.0303, grad=0.0000), Var(v=0.0098, grad=-1.5136), Var(v=-0.1060, grad=0.0000), Var(v=0.0222, grad=-0.4735), Var(v=-0.1463, grad=0.0000), Var(v=-0.0071, grad=-0.5123), Var(v=0.0396, grad=0.3258), Var(v=0.0909, grad=0.7915), Var(v=0.1110, grad=0.0000)], [Var(v=0.2044, grad=0.0000), Var(v=0.1642, grad=0.1277), Var(v=0.0626, grad=-0.1732), Var(v=-0.0533, grad=0.0000), Var(v=-0.0691, grad=0.0000), Var(v=-0.0981, grad=0.1726), Var(v=0.0843, grad=0.4341), Var(v=0.0226, grad=0.0000), Var(v=0.0033, grad=0.0000), Var(v=-0.0694, grad=0.0000), Var(v=-0.0659, grad=0.0000), Var(v=0.1348, grad=-0.1204), Var(v=0.0647, grad=0.0000), Var(v=-0.0987, grad=0.0000), Var(v=0.1888, grad=-0.1331), Var(v=0.0384, grad=0.1293), Var(v=-0.0899, grad=0.0000), Var(v=0.0044, grad=0.0000), Var(v=-0.2462, grad=-0.0567), Var(v=-0.1811, grad=-0.0273), Var(v=0.0490, grad=0.0000), Var(v=0.0052, grad=0.0918), Var(v=-0.0139, grad=0.0000), Var(v=0.0396, grad=0.0000), Var(v=0.1291, grad=0.0804), Var(v=-0.1627, grad=0.0000), Var(v=-0.0507, grad=0.0000), Var(v=-0.0513, grad=0.0000), Var(v=0.0261, grad=0.0000), Var(v=0.1070, grad=0.0000), Var(v=-0.1748, grad=0.1080), Var(v=-0.0323, grad=-0.0883), Var(v=-0.0697, grad=0.0000), Var(v=-0.1400, grad=-0.0927), Var(v=0.0276, grad=0.0000), Var(v=0.0108, grad=0.0000), Var(v=-0.2101, grad=-0.1526), Var(v=-0.2146, grad=0.0201), Var(v=-0.0078, grad=0.1965), Var(v=-0.1981, grad=-0.1273), Var(v=0.1132, grad=0.0000), Var(v=0.0550, grad=0.1050), Var(v=-0.0971, grad=0.1928), Var(v=0.0693, grad=-0.3061), Var(v=0.0700, grad=0.0000), Var(v=0.0124, grad=-0.0631), Var(v=0.0942, grad=0.0653), Var(v=-0.0608, grad=-0.0415), Var(v=0.0973, grad=-0.1008), Var(v=-0.0521, grad=0.0000)], [Var(v=-0.1435, grad=0.0000), Var(v=0.0001, grad=0.5305), Var(v=0.1072, grad=-0.7196), Var(v=-0.2017, grad=0.0000), Var(v=0.1438, grad=0.0000), Var(v=0.0014, grad=0.7174), Var(v=-0.0293, grad=1.8038), Var(v=-0.0296, grad=0.0000), Var(v=0.0406, grad=0.0000), Var(v=0.0540, grad=0.0000), Var(v=0.1242, grad=0.0000), Var(v=-0.0533, grad=-0.5002), Var(v=0.0883, grad=0.0000), Var(v=0.1265, grad=0.0000), Var(v=-0.0277, grad=-0.5530), Var(v=-0.0051, grad=0.5372), Var(v=-0.1604, grad=0.0000), Var(v=0.0026, grad=0.0000), Var(v=0.1238, grad=-0.2355), Var(v=-0.0121, grad=-0.1132), Var(v=-0.1292, grad=0.0000), Var(v=0.0951, grad=0.3814), Var(v=-0.0757, grad=0.0000), Var(v=0.1149, grad=0.0000), Var(v=0.2048, grad=0.3340), Var(v=-0.2998, grad=0.0000), Var(v=0.0046, grad=0.0000), Var(v=-0.1082, grad=0.0000), Var(v=-0.0416, grad=0.0000), Var(v=-0.0449, grad=0.0000), Var(v=0.1138, grad=0.4486), Var(v=-0.1478, grad=-0.3669), Var(v=-0.1122, grad=0.0000), Var(v=0.1357, grad=-0.3851), Var(v=0.0861, grad=0.0000), Var(v=-0.0581, grad=0.0000), Var(v=0.0235, grad=-0.6343), Var(v=0.0292, grad=0.0835), Var(v=-0.0205, grad=0.8165), Var(v=-0.0856, grad=-0.5291), Var(v=-0.0582, grad=0.0000), Var(v=0.0886, grad=0.4362), Var(v=0.0343, grad=0.8013), Var(v=-0.0389, grad=-1.2721), Var(v=-0.0017, grad=0.0000), Var(v=-0.0701, grad=-0.2621), Var(v=0.0591, grad=0.2712), Var(v=-0.2088, grad=-0.1725), Var(v=0.0264, grad=-0.4190), Var(v=0.0534, grad=0.0000)], [Var(v=0.0445, grad=0.0000), Var(v=0.0321, grad=0.3877), Var(v=0.0776, grad=-0.5259), Var(v=0.0215, grad=0.0000), Var(v=-0.0031, grad=0.0000), Var(v=-0.0682, grad=0.5243), Var(v=0.0192, grad=1.3183), Var(v=0.1279, grad=0.0000), Var(v=-0.0392, grad=0.0000), Var(v=0.0804, grad=0.0000), Var(v=-0.0332, grad=0.0000), Var(v=-0.0538, grad=-0.3656), Var(v=-0.1589, grad=0.0000), Var(v=-0.0182, grad=0.0000), Var(v=-0.0583, grad=-0.4041), Var(v=0.1930, grad=0.3926), Var(v=0.0346, grad=0.0000), Var(v=0.2010, grad=0.0000), Var(v=-0.0470, grad=-0.1721), Var(v=0.0737, grad=-0.0828), Var(v=0.0323, grad=0.0000), Var(v=-0.1276, grad=0.2787), Var(v=-0.0293, grad=0.0000), Var(v=0.0097, grad=0.0000), Var(v=-0.0162, grad=0.2441), Var(v=0.1279, grad=0.0000), Var(v=-0.0045, grad=0.0000), Var(v=0.0131, grad=0.0000), Var(v=-0.0648, grad=0.0000), Var(v=0.0968, grad=0.0000), Var(v=-0.0980, grad=0.3278), Var(v=0.0109, grad=-0.2681), Var(v=-0.0497, grad=0.0000), Var(v=0.0274, grad=-0.2814), Var(v=0.0367, grad=0.0000), Var(v=-0.0974, grad=0.0000), Var(v=0.1774, grad=-0.4635), Var(v=-0.0035, grad=0.0610), Var(v=-0.0359, grad=0.5967), Var(v=0.0429, grad=-0.3867), Var(v=-0.0694, grad=0.0000), Var(v=0.1452, grad=0.3188), Var(v=-0.1087, grad=0.5856), Var(v=0.2780, grad=-0.9297), Var(v=-0.1080, grad=0.0000), Var(v=0.1344, grad=-0.1916), Var(v=-0.0917, grad=0.1982), Var(v=-0.0717, grad=-0.1260), Var(v=0.2053, grad=-0.3062), Var(v=0.1066, grad=0.0000)], [Var(v=-0.1785, grad=0.0000), Var(v=0.0098, grad=0.4937), Var(v=0.0056, grad=-0.6697), Var(v=0.0647, grad=0.0000), Var(v=-0.1213, grad=0.0000), Var(v=-0.0068, grad=0.6676), Var(v=0.1672, grad=1.6787), Var(v=-0.1034, grad=0.0000), Var(v=-0.0071, grad=0.0000), Var(v=-0.0935, grad=0.0000), Var(v=0.0280, grad=0.0000), Var(v=0.0186, grad=-0.4655), Var(v=0.1532, grad=0.0000), Var(v=-0.0072, grad=0.0000), Var(v=-0.1505, grad=-0.5146), Var(v=-0.0371, grad=0.5000), Var(v=-0.1814, grad=0.0000), Var(v=-0.1024, grad=0.0000), Var(v=0.0790, grad=-0.2192), Var(v=-0.1260, grad=-0.1054), Var(v=-0.0873, grad=0.0000), Var(v=0.0913, grad=0.3550), Var(v=0.1548, grad=0.0000), Var(v=0.0205, grad=0.0000), Var(v=-0.1361, grad=0.3109), Var(v=-0.1112, grad=0.0000), Var(v=-0.0965, grad=0.0000), Var(v=0.2110, grad=0.0000), Var(v=-0.0255, grad=0.0000), Var(v=-0.0018, grad=0.0000), Var(v=-0.0825, grad=0.4175), Var(v=-0.0086, grad=-0.3415), Var(v=0.0817, grad=0.0000), Var(v=-0.0322, grad=-0.3584), Var(v=-0.0309, grad=0.0000), Var(v=0.1137, grad=0.0000), Var(v=0.0189, grad=-0.5903), Var(v=-0.0744, grad=0.0777), Var(v=-0.1882, grad=0.7599), Var(v=0.1145, grad=-0.4924), Var(v=-0.0586, grad=0.0000), Var(v=0.1462, grad=0.4060), Var(v=-0.1243, grad=0.7457), Var(v=-0.0519, grad=-1.1839), Var(v=0.0139, grad=0.0000), Var(v=-0.1989, grad=-0.2439), Var(v=0.0730, grad=0.2524), Var(v=-0.1190, grad=-0.1605), Var(v=-0.0323, grad=-0.3900), Var(v=-0.0711, grad=0.0000)], [Var(v=0.0680, grad=0.0000), Var(v=0.0136, grad=0.8719), Var(v=0.1012, grad=-1.1827), Var(v=-0.1347, grad=0.0000), Var(v=-0.1765, grad=0.0000), Var(v=0.0558, grad=1.1790), Var(v=0.1949, grad=2.9646), Var(v=-0.0265, grad=0.0000), Var(v=-0.0793, grad=0.0000), Var(v=-0.1024, grad=0.0000), Var(v=-0.2653, grad=0.0000), Var(v=0.1319, grad=-0.8221), Var(v=0.0243, grad=0.0000), Var(v=-0.0558, grad=0.0000), Var(v=-0.0270, grad=-0.9088), Var(v=-0.0644, grad=0.8830), Var(v=-0.0403, grad=0.0000), Var(v=0.0535, grad=0.0000), Var(v=-0.0849, grad=-0.3870), Var(v=-0.0166, grad=-0.1861), Var(v=-0.1433, grad=0.0000), Var(v=-0.0239, grad=0.6268), Var(v=-0.1179, grad=0.0000), Var(v=0.0957, grad=0.0000), Var(v=-0.0897, grad=0.5490), Var(v=-0.0365, grad=0.0000), Var(v=0.0466, grad=0.0000), Var(v=-0.0694, grad=0.0000), Var(v=-0.0515, grad=0.0000), Var(v=-0.0993, grad=0.0000), Var(v=0.0199, grad=0.7373), Var(v=0.0728, grad=-0.6030), Var(v=0.1252, grad=0.0000), Var(v=0.0123, grad=-0.6329), Var(v=0.0019, grad=0.0000), Var(v=0.0220, grad=0.0000), Var(v=0.0202, grad=-1.0424), Var(v=0.0532, grad=0.1373), Var(v=-0.0085, grad=1.3419), Var(v=0.0360, grad=-0.8696), Var(v=-0.0136, grad=0.0000), Var(v=0.0487, grad=0.7169), Var(v=-0.0404, grad=1.3169), Var(v=-0.0777, grad=-2.0907), Var(v=-0.0018, grad=0.0000), Var(v=-0.1071, grad=-0.4308), Var(v=0.0447, grad=0.4457), Var(v=0.0950, grad=-0.2834), Var(v=0.0587, grad=-0.6887), Var(v=-0.0644, grad=0.0000)]] \n",
      " Biases:[Var(v=1.3621, grad=-136.2061), Var(v=-0.0190, grad=1.8956), Var(v=1.2006, grad=-120.0617), Var(v=0.3337, grad=-33.3666), Var(v=1.1955, grad=-119.5546), Var(v=-0.0256, grad=2.5634), Var(v=-0.0645, grad=6.4455), Var(v=-0.7877, grad=78.7737), Var(v=1.9558, grad=-195.5812), Var(v=1.2187, grad=-121.8685), Var(v=0.0000, grad=0.0000), Var(v=0.0179, grad=-1.7874), Var(v=0.5468, grad=-54.6822), Var(v=-0.4357, grad=43.5727), Var(v=0.0198, grad=-1.9759), Var(v=-0.8963, grad=89.6326), Var(v=0.0000, grad=0.0000), Var(v=-2.3844, grad=238.4436), Var(v=0.3929, grad=-39.2869), Var(v=0.0040, grad=-0.4046), Var(v=0.0000, grad=0.0000), Var(v=-0.0136, grad=1.3629), Var(v=0.0000, grad=0.0000), Var(v=0.2477, grad=-24.7699), Var(v=-0.5573, grad=55.7286), Var(v=-0.2533, grad=25.3302), Var(v=0.0000, grad=0.0000), Var(v=0.0000, grad=0.0000), Var(v=0.0000, grad=0.0000), Var(v=0.0000, grad=0.0000), Var(v=-0.0160, grad=1.6029), Var(v=0.6121, grad=-61.2135), Var(v=0.5649, grad=-56.4850), Var(v=0.0138, grad=-1.3759), Var(v=-1.5394, grad=153.9375), Var(v=-0.6872, grad=68.7177), Var(v=1.0582, grad=-105.8185), Var(v=-0.0030, grad=0.2985), Var(v=-1.3622, grad=136.2195), Var(v=0.0189, grad=-1.8908), Var(v=0.0000, grad=0.0000), Var(v=-0.7278, grad=72.7763), Var(v=-0.0286, grad=2.8632), Var(v=2.1223, grad=-212.2335), Var(v=0.4092, grad=-40.9236), Var(v=0.4373, grad=-43.7325), Var(v=-0.0097, grad=0.9690), Var(v=0.0062, grad=-0.6162), Var(v=0.0150, grad=-1.4973), Var(v=0.0000, grad=0.0000)]\n",
      "Layer 2 \n",
      " 50 input nodes \n",
      "1 output nodes \n",
      " Weights:[[Var(v=0.1154, grad=-1.0069)], [Var(v=0.1036, grad=-3.6671)], [Var(v=-0.1233, grad=3.2431)], [Var(v=0.0279, grad=-0.2103)], [Var(v=0.1023, grad=-0.9837)], [Var(v=0.0654, grad=2.5128)], [Var(v=0.2021, grad=2.5585)], [Var(v=-0.0329, grad=-2.8014)], [Var(v=0.1645, grad=-1.3236)], [Var(v=0.1281, grad=-3.3882)], [Var(v=0.1012, grad=0.0000)], [Var(v=-0.0605, grad=-0.2671)], [Var(v=0.0789, grad=-3.6596)], [Var(v=-0.0054, grad=-2.8335)], [Var(v=-0.0253, grad=-4.4556)], [Var(v=0.0484, grad=1.9429)], [Var(v=-0.1217, grad=0.0000)], [Var(v=-0.1817, grad=-0.2703)], [Var(v=-0.0518, grad=2.2048)], [Var(v=0.0180, grad=-3.2260)], [Var(v=-0.0872, grad=0.0000)], [Var(v=0.0761, grad=-2.7974)], [Var(v=0.1191, grad=0.0000)], [Var(v=0.0573, grad=-3.8135)], [Var(v=0.0320, grad=1.0188)], [Var(v=-0.0122, grad=-0.7347)], [Var(v=-0.0579, grad=0.0000)], [Var(v=-0.0042, grad=0.0000)], [Var(v=-0.0474, grad=0.0000)], [Var(v=0.0069, grad=0.0000)], [Var(v=0.0380, grad=1.8619)], [Var(v=-0.0729, grad=2.6609)], [Var(v=0.0447, grad=-0.1016)], [Var(v=-0.0503, grad=0.1644)], [Var(v=-0.1127, grad=-0.6284)], [Var(v=-0.0322, grad=-2.0964)], [Var(v=-0.0924, grad=1.2349)], [Var(v=0.0349, grad=-2.4381)], [Var(v=0.0978, grad=0.5319)], [Var(v=-0.0671, grad=0.0313)], [Var(v=0.1293, grad=0.0000)], [Var(v=0.0419, grad=1.3201)], [Var(v=0.0978, grad=0.3312)], [Var(v=-0.1777, grad=1.7070)], [Var(v=0.0395, grad=-0.7833)], [Var(v=-0.0481, grad=1.5052)], [Var(v=0.0279, grad=0.6295)], [Var(v=-0.0455, grad=2.3706)], [Var(v=-0.0656, grad=1.2691)], [Var(v=0.2566, grad=0.0000)]] \n",
      " Biases:[Var(v=-0.9435, grad=94.3531)]\n",
      "\n",
      "Network after zeroing gradients:\n",
      "Layer 0 \n",
      " 1 input nodes \n",
      "15 output nodes \n",
      " Weights:[[Var(v=-0.0513, grad=0.0000), Var(v=-0.2216, grad=0.0000), Var(v=-0.0023, grad=0.0000), Var(v=0.0470, grad=0.0000), Var(v=0.2247, grad=0.0000), Var(v=-0.0012, grad=0.0000), Var(v=-0.1275, grad=0.0000), Var(v=-0.1452, grad=0.0000), Var(v=-0.0131, grad=0.0000), Var(v=0.1981, grad=0.0000), Var(v=0.0014, grad=0.0000), Var(v=-0.0407, grad=0.0000), Var(v=-0.1332, grad=0.0000), Var(v=-0.0374, grad=0.0000), Var(v=-0.0825, grad=0.0000)]] \n",
      " Biases:[Var(v=0.0064, grad=0.0000), Var(v=-0.0011, grad=0.0000), Var(v=-0.0042, grad=0.0000), Var(v=-0.0727, grad=0.0000), Var(v=0.0219, grad=0.0000), Var(v=-0.0380, grad=0.0000), Var(v=0.0256, grad=0.0000), Var(v=0.0148, grad=0.0000), Var(v=-0.0337, grad=0.0000), Var(v=0.0421, grad=0.0000), Var(v=-0.0192, grad=0.0000), Var(v=-0.0373, grad=0.0000), Var(v=0.0668, grad=0.0000), Var(v=-0.0351, grad=0.0000), Var(v=-0.0471, grad=0.0000)]\n",
      "Layer 1 \n",
      " 15 input nodes \n",
      "50 output nodes \n",
      " Weights:[[Var(v=0.0328, grad=0.0000), Var(v=0.1673, grad=0.0000), Var(v=0.1016, grad=0.0000), Var(v=-0.0208, grad=0.0000), Var(v=-0.0394, grad=0.0000), Var(v=0.1127, grad=0.0000), Var(v=-0.0033, grad=0.0000), Var(v=-0.0109, grad=0.0000), Var(v=-0.0041, grad=0.0000), Var(v=-0.1918, grad=0.0000), Var(v=0.0553, grad=0.0000), Var(v=-0.0566, grad=0.0000), Var(v=-0.0169, grad=0.0000), Var(v=-0.0271, grad=0.0000), Var(v=-0.1570, grad=0.0000), Var(v=-0.0385, grad=0.0000), Var(v=-0.0611, grad=0.0000), Var(v=0.1277, grad=0.0000), Var(v=-0.1164, grad=0.0000), Var(v=0.0908, grad=0.0000), Var(v=0.0030, grad=0.0000), Var(v=-0.0754, grad=0.0000), Var(v=0.0956, grad=0.0000), Var(v=0.0736, grad=0.0000), Var(v=-0.0288, grad=0.0000), Var(v=0.0931, grad=0.0000), Var(v=-0.0169, grad=0.0000), Var(v=0.0026, grad=0.0000), Var(v=0.0062, grad=0.0000), Var(v=-0.1294, grad=0.0000), Var(v=-0.2225, grad=0.0000), Var(v=0.0321, grad=0.0000), Var(v=0.0555, grad=0.0000), Var(v=0.0863, grad=0.0000), Var(v=-0.0130, grad=0.0000), Var(v=-0.0463, grad=0.0000), Var(v=0.0887, grad=0.0000), Var(v=0.0898, grad=0.0000), Var(v=-0.0423, grad=0.0000), Var(v=0.1390, grad=0.0000), Var(v=-0.0136, grad=0.0000), Var(v=0.0335, grad=0.0000), Var(v=0.1113, grad=0.0000), Var(v=0.0082, grad=0.0000), Var(v=-0.0062, grad=0.0000), Var(v=0.0279, grad=0.0000), Var(v=0.0953, grad=0.0000), Var(v=0.1564, grad=0.0000), Var(v=0.1456, grad=0.0000), Var(v=0.0514, grad=0.0000)], [Var(v=-0.0939, grad=0.0000), Var(v=-0.0387, grad=0.0000), Var(v=-0.0051, grad=0.0000), Var(v=-0.0833, grad=0.0000), Var(v=-0.0746, grad=0.0000), Var(v=0.1416, grad=0.0000), Var(v=0.0003, grad=0.0000), Var(v=0.1115, grad=0.0000), Var(v=-0.0913, grad=0.0000), Var(v=0.0538, grad=0.0000), Var(v=-0.0794, grad=0.0000), Var(v=-0.1119, grad=0.0000), Var(v=0.0087, grad=0.0000), Var(v=0.0187, grad=0.0000), Var(v=0.1666, grad=0.0000), Var(v=0.0010, grad=0.0000), Var(v=-0.1471, grad=0.0000), Var(v=-0.1155, grad=0.0000), Var(v=0.0724, grad=0.0000), Var(v=0.1082, grad=0.0000), Var(v=-0.1378, grad=0.0000), Var(v=0.0954, grad=0.0000), Var(v=-0.0980, grad=0.0000), Var(v=-0.1332, grad=0.0000), Var(v=-0.0914, grad=0.0000), Var(v=-0.1635, grad=0.0000), Var(v=0.0499, grad=0.0000), Var(v=0.0616, grad=0.0000), Var(v=-0.0631, grad=0.0000), Var(v=-0.1000, grad=0.0000), Var(v=0.1100, grad=0.0000), Var(v=0.1103, grad=0.0000), Var(v=-0.0622, grad=0.0000), Var(v=0.0612, grad=0.0000), Var(v=-0.1276, grad=0.0000), Var(v=-0.0361, grad=0.0000), Var(v=0.0118, grad=0.0000), Var(v=-0.0339, grad=0.0000), Var(v=0.0667, grad=0.0000), Var(v=0.1280, grad=0.0000), Var(v=-0.1227, grad=0.0000), Var(v=-0.1131, grad=0.0000), Var(v=-0.0041, grad=0.0000), Var(v=0.0904, grad=0.0000), Var(v=-0.0981, grad=0.0000), Var(v=0.1680, grad=0.0000), Var(v=0.0746, grad=0.0000), Var(v=0.1309, grad=0.0000), Var(v=0.1112, grad=0.0000), Var(v=-0.0355, grad=0.0000)], [Var(v=0.1000, grad=0.0000), Var(v=-0.2235, grad=0.0000), Var(v=0.0060, grad=0.0000), Var(v=-0.2065, grad=0.0000), Var(v=0.0763, grad=0.0000), Var(v=0.0376, grad=0.0000), Var(v=0.0125, grad=0.0000), Var(v=-0.0677, grad=0.0000), Var(v=-0.0172, grad=0.0000), Var(v=-0.0229, grad=0.0000), Var(v=0.0289, grad=0.0000), Var(v=-0.0684, grad=0.0000), Var(v=-0.0981, grad=0.0000), Var(v=-0.0210, grad=0.0000), Var(v=0.1241, grad=0.0000), Var(v=-0.0512, grad=0.0000), Var(v=-0.0413, grad=0.0000), Var(v=-0.1251, grad=0.0000), Var(v=-0.1129, grad=0.0000), Var(v=0.1228, grad=0.0000), Var(v=-0.0488, grad=0.0000), Var(v=-0.0575, grad=0.0000), Var(v=0.0085, grad=0.0000), Var(v=0.0321, grad=0.0000), Var(v=0.0087, grad=0.0000), Var(v=-0.0862, grad=0.0000), Var(v=0.0303, grad=0.0000), Var(v=-0.1115, grad=0.0000), Var(v=0.1346, grad=0.0000), Var(v=-0.0366, grad=0.0000), Var(v=0.1494, grad=0.0000), Var(v=-0.0846, grad=0.0000), Var(v=-0.0192, grad=0.0000), Var(v=-0.1810, grad=0.0000), Var(v=0.0690, grad=0.0000), Var(v=0.0694, grad=0.0000), Var(v=0.0320, grad=0.0000), Var(v=0.0314, grad=0.0000), Var(v=0.1509, grad=0.0000), Var(v=0.0468, grad=0.0000), Var(v=-0.0798, grad=0.0000), Var(v=-0.0177, grad=0.0000), Var(v=-0.1371, grad=0.0000), Var(v=0.0292, grad=0.0000), Var(v=-0.1704, grad=0.0000), Var(v=0.0701, grad=0.0000), Var(v=-0.0394, grad=0.0000), Var(v=0.0768, grad=0.0000), Var(v=-0.0045, grad=0.0000), Var(v=-0.0344, grad=0.0000)], [Var(v=-0.0201, grad=0.0000), Var(v=0.0575, grad=0.0000), Var(v=0.0624, grad=0.0000), Var(v=0.0697, grad=0.0000), Var(v=0.1170, grad=0.0000), Var(v=0.0086, grad=0.0000), Var(v=0.0080, grad=0.0000), Var(v=-0.1907, grad=0.0000), Var(v=0.1177, grad=0.0000), Var(v=-0.0318, grad=0.0000), Var(v=-0.0267, grad=0.0000), Var(v=-0.0527, grad=0.0000), Var(v=-0.0449, grad=0.0000), Var(v=0.0175, grad=0.0000), Var(v=0.0507, grad=0.0000), Var(v=-0.0046, grad=0.0000), Var(v=0.0273, grad=0.0000), Var(v=0.0469, grad=0.0000), Var(v=-0.0331, grad=0.0000), Var(v=0.1597, grad=0.0000), Var(v=-0.1270, grad=0.0000), Var(v=0.0320, grad=0.0000), Var(v=-0.0332, grad=0.0000), Var(v=0.1080, grad=0.0000), Var(v=0.2380, grad=0.0000), Var(v=-0.1662, grad=0.0000), Var(v=-0.1141, grad=0.0000), Var(v=-0.0885, grad=0.0000), Var(v=0.0763, grad=0.0000), Var(v=-0.1214, grad=0.0000), Var(v=0.0618, grad=0.0000), Var(v=-0.0625, grad=0.0000), Var(v=-0.2101, grad=0.0000), Var(v=0.0282, grad=0.0000), Var(v=-0.0711, grad=0.0000), Var(v=0.0685, grad=0.0000), Var(v=-0.1231, grad=0.0000), Var(v=-0.0713, grad=0.0000), Var(v=-0.0248, grad=0.0000), Var(v=-0.1955, grad=0.0000), Var(v=-0.0490, grad=0.0000), Var(v=0.0349, grad=0.0000), Var(v=0.0703, grad=0.0000), Var(v=-0.0985, grad=0.0000), Var(v=0.0397, grad=0.0000), Var(v=-0.0304, grad=0.0000), Var(v=0.0915, grad=0.0000), Var(v=0.0581, grad=0.0000), Var(v=-0.2703, grad=0.0000), Var(v=-0.0798, grad=0.0000)], [Var(v=0.0368, grad=0.0000), Var(v=0.1058, grad=0.0000), Var(v=-0.1050, grad=0.0000), Var(v=-0.0249, grad=0.0000), Var(v=-0.0052, grad=0.0000), Var(v=0.0084, grad=0.0000), Var(v=0.2188, grad=0.0000), Var(v=0.1365, grad=0.0000), Var(v=0.1056, grad=0.0000), Var(v=0.1623, grad=0.0000), Var(v=-0.0940, grad=0.0000), Var(v=-0.0143, grad=0.0000), Var(v=0.0801, grad=0.0000), Var(v=0.2363, grad=0.0000), Var(v=0.1498, grad=0.0000), Var(v=-0.0533, grad=0.0000), Var(v=-0.1024, grad=0.0000), Var(v=0.0458, grad=0.0000), Var(v=-0.2483, grad=0.0000), Var(v=0.0076, grad=0.0000), Var(v=-0.0282, grad=0.0000), Var(v=0.0307, grad=0.0000), Var(v=-0.0176, grad=0.0000), Var(v=0.1233, grad=0.0000), Var(v=-0.1949, grad=0.0000), Var(v=-0.0561, grad=0.0000), Var(v=-0.0114, grad=0.0000), Var(v=-0.1333, grad=0.0000), Var(v=-0.1367, grad=0.0000), Var(v=0.0176, grad=0.0000), Var(v=0.0471, grad=0.0000), Var(v=0.0776, grad=0.0000), Var(v=-0.0221, grad=0.0000), Var(v=0.0444, grad=0.0000), Var(v=0.0366, grad=0.0000), Var(v=0.1788, grad=0.0000), Var(v=-0.0316, grad=0.0000), Var(v=0.1696, grad=0.0000), Var(v=-0.0994, grad=0.0000), Var(v=0.0405, grad=0.0000), Var(v=-0.0203, grad=0.0000), Var(v=-0.0919, grad=0.0000), Var(v=0.0826, grad=0.0000), Var(v=0.0322, grad=0.0000), Var(v=0.0234, grad=0.0000), Var(v=0.0199, grad=0.0000), Var(v=0.1300, grad=0.0000), Var(v=-0.0174, grad=0.0000), Var(v=-0.0738, grad=0.0000), Var(v=-0.1264, grad=0.0000)], [Var(v=-0.1231, grad=0.0000), Var(v=0.1633, grad=0.0000), Var(v=-0.0221, grad=0.0000), Var(v=-0.0723, grad=0.0000), Var(v=-0.0368, grad=0.0000), Var(v=0.0890, grad=0.0000), Var(v=0.1536, grad=0.0000), Var(v=0.0788, grad=0.0000), Var(v=-0.0538, grad=0.0000), Var(v=-0.0645, grad=0.0000), Var(v=-0.0186, grad=0.0000), Var(v=-0.1466, grad=0.0000), Var(v=-0.0626, grad=0.0000), Var(v=-0.1845, grad=0.0000), Var(v=0.1086, grad=0.0000), Var(v=0.0890, grad=0.0000), Var(v=0.0728, grad=0.0000), Var(v=-0.0458, grad=0.0000), Var(v=-0.0049, grad=0.0000), Var(v=-0.0098, grad=0.0000), Var(v=-0.0195, grad=0.0000), Var(v=-0.0768, grad=0.0000), Var(v=-0.2029, grad=0.0000), Var(v=-0.0676, grad=0.0000), Var(v=0.0315, grad=0.0000), Var(v=-0.0543, grad=0.0000), Var(v=-0.1141, grad=0.0000), Var(v=-0.0534, grad=0.0000), Var(v=0.0240, grad=0.0000), Var(v=0.1487, grad=0.0000), Var(v=0.1162, grad=0.0000), Var(v=-0.1238, grad=0.0000), Var(v=0.0560, grad=0.0000), Var(v=-0.1621, grad=0.0000), Var(v=-0.0374, grad=0.0000), Var(v=0.1036, grad=0.0000), Var(v=0.1203, grad=0.0000), Var(v=0.0009, grad=0.0000), Var(v=-0.0794, grad=0.0000), Var(v=-0.0151, grad=0.0000), Var(v=0.0882, grad=0.0000), Var(v=-0.0549, grad=0.0000), Var(v=0.0287, grad=0.0000), Var(v=0.2035, grad=0.0000), Var(v=-0.0819, grad=0.0000), Var(v=0.0748, grad=0.0000), Var(v=0.1000, grad=0.0000), Var(v=-0.1468, grad=0.0000), Var(v=0.0025, grad=0.0000), Var(v=-0.1711, grad=0.0000)], [Var(v=0.1576, grad=0.0000), Var(v=0.0972, grad=0.0000), Var(v=-0.0222, grad=0.0000), Var(v=0.0114, grad=0.0000), Var(v=0.0987, grad=0.0000), Var(v=-0.0974, grad=0.0000), Var(v=-0.0231, grad=0.0000), Var(v=-0.1075, grad=0.0000), Var(v=0.0704, grad=0.0000), Var(v=-0.0143, grad=0.0000), Var(v=-0.0807, grad=0.0000), Var(v=0.2528, grad=0.0000), Var(v=0.0996, grad=0.0000), Var(v=-0.0386, grad=0.0000), Var(v=-0.0534, grad=0.0000), Var(v=0.1363, grad=0.0000), Var(v=-0.0282, grad=0.0000), Var(v=-0.0071, grad=0.0000), Var(v=0.1121, grad=0.0000), Var(v=-0.0398, grad=0.0000), Var(v=-0.0429, grad=0.0000), Var(v=0.0565, grad=0.0000), Var(v=0.1357, grad=0.0000), Var(v=-0.0746, grad=0.0000), Var(v=-0.0580, grad=0.0000), Var(v=0.1266, grad=0.0000), Var(v=-0.1812, grad=0.0000), Var(v=0.0853, grad=0.0000), Var(v=-0.0999, grad=0.0000), Var(v=0.1369, grad=0.0000), Var(v=-0.1409, grad=0.0000), Var(v=0.1803, grad=0.0000), Var(v=0.0579, grad=0.0000), Var(v=0.1533, grad=0.0000), Var(v=-0.0895, grad=0.0000), Var(v=0.0481, grad=0.0000), Var(v=0.1003, grad=0.0000), Var(v=0.0869, grad=0.0000), Var(v=0.0571, grad=0.0000), Var(v=-0.1137, grad=0.0000), Var(v=0.1125, grad=0.0000), Var(v=0.1120, grad=0.0000), Var(v=-0.1037, grad=0.0000), Var(v=0.0539, grad=0.0000), Var(v=-0.0428, grad=0.0000), Var(v=-0.0314, grad=0.0000), Var(v=0.0105, grad=0.0000), Var(v=0.1240, grad=0.0000), Var(v=0.0431, grad=0.0000), Var(v=0.0096, grad=0.0000)], [Var(v=-0.0274, grad=0.0000), Var(v=-0.2498, grad=0.0000), Var(v=0.0987, grad=0.0000), Var(v=-0.0013, grad=0.0000), Var(v=-0.0995, grad=0.0000), Var(v=-0.1204, grad=0.0000), Var(v=-0.0229, grad=0.0000), Var(v=-0.0662, grad=0.0000), Var(v=-0.0336, grad=0.0000), Var(v=-0.1152, grad=0.0000), Var(v=0.0632, grad=0.0000), Var(v=0.0927, grad=0.0000), Var(v=-0.1886, grad=0.0000), Var(v=-0.1123, grad=0.0000), Var(v=0.0221, grad=0.0000), Var(v=-0.0284, grad=0.0000), Var(v=-0.0594, grad=0.0000), Var(v=0.0062, grad=0.0000), Var(v=0.0637, grad=0.0000), Var(v=-0.0798, grad=0.0000), Var(v=0.0785, grad=0.0000), Var(v=-0.1396, grad=0.0000), Var(v=0.0132, grad=0.0000), Var(v=-0.0128, grad=0.0000), Var(v=0.2178, grad=0.0000), Var(v=0.0906, grad=0.0000), Var(v=-0.1521, grad=0.0000), Var(v=-0.2826, grad=0.0000), Var(v=-0.0484, grad=0.0000), Var(v=-0.1186, grad=0.0000), Var(v=0.0861, grad=0.0000), Var(v=-0.0076, grad=0.0000), Var(v=-0.1232, grad=0.0000), Var(v=0.0740, grad=0.0000), Var(v=-0.0433, grad=0.0000), Var(v=-0.1028, grad=0.0000), Var(v=-0.0655, grad=0.0000), Var(v=0.0889, grad=0.0000), Var(v=-0.0081, grad=0.0000), Var(v=0.1007, grad=0.0000), Var(v=0.0192, grad=0.0000), Var(v=-0.1040, grad=0.0000), Var(v=0.2035, grad=0.0000), Var(v=0.0298, grad=0.0000), Var(v=0.0582, grad=0.0000), Var(v=0.0656, grad=0.0000), Var(v=-0.1463, grad=0.0000), Var(v=0.0481, grad=0.0000), Var(v=-0.1873, grad=0.0000), Var(v=-0.1961, grad=0.0000)], [Var(v=-0.0516, grad=0.0000), Var(v=-0.1024, grad=0.0000), Var(v=-0.0786, grad=0.0000), Var(v=-0.0806, grad=0.0000), Var(v=0.0673, grad=0.0000), Var(v=-0.0813, grad=0.0000), Var(v=0.0377, grad=0.0000), Var(v=0.1434, grad=0.0000), Var(v=-0.0927, grad=0.0000), Var(v=0.0590, grad=0.0000), Var(v=0.0556, grad=0.0000), Var(v=0.0712, grad=0.0000), Var(v=-0.0188, grad=0.0000), Var(v=-0.0017, grad=0.0000), Var(v=-0.0929, grad=0.0000), Var(v=0.0664, grad=0.0000), Var(v=-0.0853, grad=0.0000), Var(v=0.0141, grad=0.0000), Var(v=0.1503, grad=0.0000), Var(v=0.1185, grad=0.0000), Var(v=0.0351, grad=0.0000), Var(v=-0.0620, grad=0.0000), Var(v=0.1342, grad=0.0000), Var(v=-0.0941, grad=0.0000), Var(v=0.0493, grad=0.0000), Var(v=0.0351, grad=0.0000), Var(v=-0.0448, grad=0.0000), Var(v=-0.0870, grad=0.0000), Var(v=0.0783, grad=0.0000), Var(v=0.0144, grad=0.0000), Var(v=0.0496, grad=0.0000), Var(v=-0.1935, grad=0.0000), Var(v=0.0116, grad=0.0000), Var(v=-0.1522, grad=0.0000), Var(v=-0.0421, grad=0.0000), Var(v=0.0179, grad=0.0000), Var(v=0.0132, grad=0.0000), Var(v=-0.2378, grad=0.0000), Var(v=-0.0518, grad=0.0000), Var(v=0.0513, grad=0.0000), Var(v=-0.1068, grad=0.0000), Var(v=0.0563, grad=0.0000), Var(v=-0.0248, grad=0.0000), Var(v=0.0133, grad=0.0000), Var(v=0.0870, grad=0.0000), Var(v=0.0107, grad=0.0000), Var(v=-0.1085, grad=0.0000), Var(v=0.0126, grad=0.0000), Var(v=0.1127, grad=0.0000), Var(v=-0.0614, grad=0.0000)], [Var(v=0.0697, grad=0.0000), Var(v=0.1562, grad=0.0000), Var(v=0.0976, grad=0.0000), Var(v=0.0760, grad=0.0000), Var(v=0.0986, grad=0.0000), Var(v=0.0456, grad=0.0000), Var(v=0.0555, grad=0.0000), Var(v=-0.0447, grad=0.0000), Var(v=0.0277, grad=0.0000), Var(v=0.0394, grad=0.0000), Var(v=0.1086, grad=0.0000), Var(v=0.0555, grad=0.0000), Var(v=0.1604, grad=0.0000), Var(v=-0.1398, grad=0.0000), Var(v=0.1415, grad=0.0000), Var(v=0.0151, grad=0.0000), Var(v=-0.0092, grad=0.0000), Var(v=-0.1210, grad=0.0000), Var(v=0.0089, grad=0.0000), Var(v=0.2101, grad=0.0000), Var(v=0.0081, grad=0.0000), Var(v=0.2602, grad=0.0000), Var(v=-0.0009, grad=0.0000), Var(v=0.1141, grad=0.0000), Var(v=-0.0850, grad=0.0000), Var(v=0.1112, grad=0.0000), Var(v=0.0055, grad=0.0000), Var(v=0.0415, grad=0.0000), Var(v=0.0248, grad=0.0000), Var(v=-0.0288, grad=0.0000), Var(v=-0.0353, grad=0.0000), Var(v=-0.0815, grad=0.0000), Var(v=0.0530, grad=0.0000), Var(v=0.1977, grad=0.0000), Var(v=-0.0509, grad=0.0000), Var(v=-0.1256, grad=0.0000), Var(v=-0.0673, grad=0.0000), Var(v=0.0779, grad=0.0000), Var(v=0.1317, grad=0.0000), Var(v=0.0809, grad=0.0000), Var(v=-0.0143, grad=0.0000), Var(v=0.0303, grad=0.0000), Var(v=0.0098, grad=0.0000), Var(v=-0.1060, grad=0.0000), Var(v=0.0222, grad=0.0000), Var(v=-0.1463, grad=0.0000), Var(v=-0.0071, grad=0.0000), Var(v=0.0396, grad=0.0000), Var(v=0.0909, grad=0.0000), Var(v=0.1110, grad=0.0000)], [Var(v=0.2044, grad=0.0000), Var(v=0.1642, grad=0.0000), Var(v=0.0626, grad=0.0000), Var(v=-0.0533, grad=0.0000), Var(v=-0.0691, grad=0.0000), Var(v=-0.0981, grad=0.0000), Var(v=0.0843, grad=0.0000), Var(v=0.0226, grad=0.0000), Var(v=0.0033, grad=0.0000), Var(v=-0.0694, grad=0.0000), Var(v=-0.0659, grad=0.0000), Var(v=0.1348, grad=0.0000), Var(v=0.0647, grad=0.0000), Var(v=-0.0987, grad=0.0000), Var(v=0.1888, grad=0.0000), Var(v=0.0384, grad=0.0000), Var(v=-0.0899, grad=0.0000), Var(v=0.0044, grad=0.0000), Var(v=-0.2462, grad=0.0000), Var(v=-0.1811, grad=0.0000), Var(v=0.0490, grad=0.0000), Var(v=0.0052, grad=0.0000), Var(v=-0.0139, grad=0.0000), Var(v=0.0396, grad=0.0000), Var(v=0.1291, grad=0.0000), Var(v=-0.1627, grad=0.0000), Var(v=-0.0507, grad=0.0000), Var(v=-0.0513, grad=0.0000), Var(v=0.0261, grad=0.0000), Var(v=0.1070, grad=0.0000), Var(v=-0.1748, grad=0.0000), Var(v=-0.0323, grad=0.0000), Var(v=-0.0697, grad=0.0000), Var(v=-0.1400, grad=0.0000), Var(v=0.0276, grad=0.0000), Var(v=0.0108, grad=0.0000), Var(v=-0.2101, grad=0.0000), Var(v=-0.2146, grad=0.0000), Var(v=-0.0078, grad=0.0000), Var(v=-0.1981, grad=0.0000), Var(v=0.1132, grad=0.0000), Var(v=0.0550, grad=0.0000), Var(v=-0.0971, grad=0.0000), Var(v=0.0693, grad=0.0000), Var(v=0.0700, grad=0.0000), Var(v=0.0124, grad=0.0000), Var(v=0.0942, grad=0.0000), Var(v=-0.0608, grad=0.0000), Var(v=0.0973, grad=0.0000), Var(v=-0.0521, grad=0.0000)], [Var(v=-0.1435, grad=0.0000), Var(v=0.0001, grad=0.0000), Var(v=0.1072, grad=0.0000), Var(v=-0.2017, grad=0.0000), Var(v=0.1438, grad=0.0000), Var(v=0.0014, grad=0.0000), Var(v=-0.0293, grad=0.0000), Var(v=-0.0296, grad=0.0000), Var(v=0.0406, grad=0.0000), Var(v=0.0540, grad=0.0000), Var(v=0.1242, grad=0.0000), Var(v=-0.0533, grad=0.0000), Var(v=0.0883, grad=0.0000), Var(v=0.1265, grad=0.0000), Var(v=-0.0277, grad=0.0000), Var(v=-0.0051, grad=0.0000), Var(v=-0.1604, grad=0.0000), Var(v=0.0026, grad=0.0000), Var(v=0.1238, grad=0.0000), Var(v=-0.0121, grad=0.0000), Var(v=-0.1292, grad=0.0000), Var(v=0.0951, grad=0.0000), Var(v=-0.0757, grad=0.0000), Var(v=0.1149, grad=0.0000), Var(v=0.2048, grad=0.0000), Var(v=-0.2998, grad=0.0000), Var(v=0.0046, grad=0.0000), Var(v=-0.1082, grad=0.0000), Var(v=-0.0416, grad=0.0000), Var(v=-0.0449, grad=0.0000), Var(v=0.1138, grad=0.0000), Var(v=-0.1478, grad=0.0000), Var(v=-0.1122, grad=0.0000), Var(v=0.1357, grad=0.0000), Var(v=0.0861, grad=0.0000), Var(v=-0.0581, grad=0.0000), Var(v=0.0235, grad=0.0000), Var(v=0.0292, grad=0.0000), Var(v=-0.0205, grad=0.0000), Var(v=-0.0856, grad=0.0000), Var(v=-0.0582, grad=0.0000), Var(v=0.0886, grad=0.0000), Var(v=0.0343, grad=0.0000), Var(v=-0.0389, grad=0.0000), Var(v=-0.0017, grad=0.0000), Var(v=-0.0701, grad=0.0000), Var(v=0.0591, grad=0.0000), Var(v=-0.2088, grad=0.0000), Var(v=0.0264, grad=0.0000), Var(v=0.0534, grad=0.0000)], [Var(v=0.0445, grad=0.0000), Var(v=0.0321, grad=0.0000), Var(v=0.0776, grad=0.0000), Var(v=0.0215, grad=0.0000), Var(v=-0.0031, grad=0.0000), Var(v=-0.0682, grad=0.0000), Var(v=0.0192, grad=0.0000), Var(v=0.1279, grad=0.0000), Var(v=-0.0392, grad=0.0000), Var(v=0.0804, grad=0.0000), Var(v=-0.0332, grad=0.0000), Var(v=-0.0538, grad=0.0000), Var(v=-0.1589, grad=0.0000), Var(v=-0.0182, grad=0.0000), Var(v=-0.0583, grad=0.0000), Var(v=0.1930, grad=0.0000), Var(v=0.0346, grad=0.0000), Var(v=0.2010, grad=0.0000), Var(v=-0.0470, grad=0.0000), Var(v=0.0737, grad=0.0000), Var(v=0.0323, grad=0.0000), Var(v=-0.1276, grad=0.0000), Var(v=-0.0293, grad=0.0000), Var(v=0.0097, grad=0.0000), Var(v=-0.0162, grad=0.0000), Var(v=0.1279, grad=0.0000), Var(v=-0.0045, grad=0.0000), Var(v=0.0131, grad=0.0000), Var(v=-0.0648, grad=0.0000), Var(v=0.0968, grad=0.0000), Var(v=-0.0980, grad=0.0000), Var(v=0.0109, grad=0.0000), Var(v=-0.0497, grad=0.0000), Var(v=0.0274, grad=0.0000), Var(v=0.0367, grad=0.0000), Var(v=-0.0974, grad=0.0000), Var(v=0.1774, grad=0.0000), Var(v=-0.0035, grad=0.0000), Var(v=-0.0359, grad=0.0000), Var(v=0.0429, grad=0.0000), Var(v=-0.0694, grad=0.0000), Var(v=0.1452, grad=0.0000), Var(v=-0.1087, grad=0.0000), Var(v=0.2780, grad=0.0000), Var(v=-0.1080, grad=0.0000), Var(v=0.1344, grad=0.0000), Var(v=-0.0917, grad=0.0000), Var(v=-0.0717, grad=0.0000), Var(v=0.2053, grad=0.0000), Var(v=0.1066, grad=0.0000)], [Var(v=-0.1785, grad=0.0000), Var(v=0.0098, grad=0.0000), Var(v=0.0056, grad=0.0000), Var(v=0.0647, grad=0.0000), Var(v=-0.1213, grad=0.0000), Var(v=-0.0068, grad=0.0000), Var(v=0.1672, grad=0.0000), Var(v=-0.1034, grad=0.0000), Var(v=-0.0071, grad=0.0000), Var(v=-0.0935, grad=0.0000), Var(v=0.0280, grad=0.0000), Var(v=0.0186, grad=0.0000), Var(v=0.1532, grad=0.0000), Var(v=-0.0072, grad=0.0000), Var(v=-0.1505, grad=0.0000), Var(v=-0.0371, grad=0.0000), Var(v=-0.1814, grad=0.0000), Var(v=-0.1024, grad=0.0000), Var(v=0.0790, grad=0.0000), Var(v=-0.1260, grad=0.0000), Var(v=-0.0873, grad=0.0000), Var(v=0.0913, grad=0.0000), Var(v=0.1548, grad=0.0000), Var(v=0.0205, grad=0.0000), Var(v=-0.1361, grad=0.0000), Var(v=-0.1112, grad=0.0000), Var(v=-0.0965, grad=0.0000), Var(v=0.2110, grad=0.0000), Var(v=-0.0255, grad=0.0000), Var(v=-0.0018, grad=0.0000), Var(v=-0.0825, grad=0.0000), Var(v=-0.0086, grad=0.0000), Var(v=0.0817, grad=0.0000), Var(v=-0.0322, grad=0.0000), Var(v=-0.0309, grad=0.0000), Var(v=0.1137, grad=0.0000), Var(v=0.0189, grad=0.0000), Var(v=-0.0744, grad=0.0000), Var(v=-0.1882, grad=0.0000), Var(v=0.1145, grad=0.0000), Var(v=-0.0586, grad=0.0000), Var(v=0.1462, grad=0.0000), Var(v=-0.1243, grad=0.0000), Var(v=-0.0519, grad=0.0000), Var(v=0.0139, grad=0.0000), Var(v=-0.1989, grad=0.0000), Var(v=0.0730, grad=0.0000), Var(v=-0.1190, grad=0.0000), Var(v=-0.0323, grad=0.0000), Var(v=-0.0711, grad=0.0000)], [Var(v=0.0680, grad=0.0000), Var(v=0.0136, grad=0.0000), Var(v=0.1012, grad=0.0000), Var(v=-0.1347, grad=0.0000), Var(v=-0.1765, grad=0.0000), Var(v=0.0558, grad=0.0000), Var(v=0.1949, grad=0.0000), Var(v=-0.0265, grad=0.0000), Var(v=-0.0793, grad=0.0000), Var(v=-0.1024, grad=0.0000), Var(v=-0.2653, grad=0.0000), Var(v=0.1319, grad=0.0000), Var(v=0.0243, grad=0.0000), Var(v=-0.0558, grad=0.0000), Var(v=-0.0270, grad=0.0000), Var(v=-0.0644, grad=0.0000), Var(v=-0.0403, grad=0.0000), Var(v=0.0535, grad=0.0000), Var(v=-0.0849, grad=0.0000), Var(v=-0.0166, grad=0.0000), Var(v=-0.1433, grad=0.0000), Var(v=-0.0239, grad=0.0000), Var(v=-0.1179, grad=0.0000), Var(v=0.0957, grad=0.0000), Var(v=-0.0897, grad=0.0000), Var(v=-0.0365, grad=0.0000), Var(v=0.0466, grad=0.0000), Var(v=-0.0694, grad=0.0000), Var(v=-0.0515, grad=0.0000), Var(v=-0.0993, grad=0.0000), Var(v=0.0199, grad=0.0000), Var(v=0.0728, grad=0.0000), Var(v=0.1252, grad=0.0000), Var(v=0.0123, grad=0.0000), Var(v=0.0019, grad=0.0000), Var(v=0.0220, grad=0.0000), Var(v=0.0202, grad=0.0000), Var(v=0.0532, grad=0.0000), Var(v=-0.0085, grad=0.0000), Var(v=0.0360, grad=0.0000), Var(v=-0.0136, grad=0.0000), Var(v=0.0487, grad=0.0000), Var(v=-0.0404, grad=0.0000), Var(v=-0.0777, grad=0.0000), Var(v=-0.0018, grad=0.0000), Var(v=-0.1071, grad=0.0000), Var(v=0.0447, grad=0.0000), Var(v=0.0950, grad=0.0000), Var(v=0.0587, grad=0.0000), Var(v=-0.0644, grad=0.0000)]] \n",
      " Biases:[Var(v=1.3621, grad=0.0000), Var(v=-0.0190, grad=0.0000), Var(v=1.2006, grad=0.0000), Var(v=0.3337, grad=0.0000), Var(v=1.1955, grad=0.0000), Var(v=-0.0256, grad=0.0000), Var(v=-0.0645, grad=0.0000), Var(v=-0.7877, grad=0.0000), Var(v=1.9558, grad=0.0000), Var(v=1.2187, grad=0.0000), Var(v=0.0000, grad=0.0000), Var(v=0.0179, grad=0.0000), Var(v=0.5468, grad=0.0000), Var(v=-0.4357, grad=0.0000), Var(v=0.0198, grad=0.0000), Var(v=-0.8963, grad=0.0000), Var(v=0.0000, grad=0.0000), Var(v=-2.3844, grad=0.0000), Var(v=0.3929, grad=0.0000), Var(v=0.0040, grad=0.0000), Var(v=0.0000, grad=0.0000), Var(v=-0.0136, grad=0.0000), Var(v=0.0000, grad=0.0000), Var(v=0.2477, grad=0.0000), Var(v=-0.5573, grad=0.0000), Var(v=-0.2533, grad=0.0000), Var(v=0.0000, grad=0.0000), Var(v=0.0000, grad=0.0000), Var(v=0.0000, grad=0.0000), Var(v=0.0000, grad=0.0000), Var(v=-0.0160, grad=0.0000), Var(v=0.6121, grad=0.0000), Var(v=0.5649, grad=0.0000), Var(v=0.0138, grad=0.0000), Var(v=-1.5394, grad=0.0000), Var(v=-0.6872, grad=0.0000), Var(v=1.0582, grad=0.0000), Var(v=-0.0030, grad=0.0000), Var(v=-1.3622, grad=0.0000), Var(v=0.0189, grad=0.0000), Var(v=0.0000, grad=0.0000), Var(v=-0.7278, grad=0.0000), Var(v=-0.0286, grad=0.0000), Var(v=2.1223, grad=0.0000), Var(v=0.4092, grad=0.0000), Var(v=0.4373, grad=0.0000), Var(v=-0.0097, grad=0.0000), Var(v=0.0062, grad=0.0000), Var(v=0.0150, grad=0.0000), Var(v=0.0000, grad=0.0000)]\n",
      "Layer 2 \n",
      " 50 input nodes \n",
      "1 output nodes \n",
      " Weights:[[Var(v=0.1154, grad=0.0000)], [Var(v=0.1036, grad=0.0000)], [Var(v=-0.1233, grad=0.0000)], [Var(v=0.0279, grad=0.0000)], [Var(v=0.1023, grad=0.0000)], [Var(v=0.0654, grad=0.0000)], [Var(v=0.2021, grad=0.0000)], [Var(v=-0.0329, grad=0.0000)], [Var(v=0.1645, grad=0.0000)], [Var(v=0.1281, grad=0.0000)], [Var(v=0.1012, grad=0.0000)], [Var(v=-0.0605, grad=0.0000)], [Var(v=0.0789, grad=0.0000)], [Var(v=-0.0054, grad=0.0000)], [Var(v=-0.0253, grad=0.0000)], [Var(v=0.0484, grad=0.0000)], [Var(v=-0.1217, grad=0.0000)], [Var(v=-0.1817, grad=0.0000)], [Var(v=-0.0518, grad=0.0000)], [Var(v=0.0180, grad=0.0000)], [Var(v=-0.0872, grad=0.0000)], [Var(v=0.0761, grad=0.0000)], [Var(v=0.1191, grad=0.0000)], [Var(v=0.0573, grad=0.0000)], [Var(v=0.0320, grad=0.0000)], [Var(v=-0.0122, grad=0.0000)], [Var(v=-0.0579, grad=0.0000)], [Var(v=-0.0042, grad=0.0000)], [Var(v=-0.0474, grad=0.0000)], [Var(v=0.0069, grad=0.0000)], [Var(v=0.0380, grad=0.0000)], [Var(v=-0.0729, grad=0.0000)], [Var(v=0.0447, grad=0.0000)], [Var(v=-0.0503, grad=0.0000)], [Var(v=-0.1127, grad=0.0000)], [Var(v=-0.0322, grad=0.0000)], [Var(v=-0.0924, grad=0.0000)], [Var(v=0.0349, grad=0.0000)], [Var(v=0.0978, grad=0.0000)], [Var(v=-0.0671, grad=0.0000)], [Var(v=0.1293, grad=0.0000)], [Var(v=0.0419, grad=0.0000)], [Var(v=0.0978, grad=0.0000)], [Var(v=-0.1777, grad=0.0000)], [Var(v=0.0395, grad=0.0000)], [Var(v=-0.0481, grad=0.0000)], [Var(v=0.0279, grad=0.0000)], [Var(v=-0.0455, grad=0.0000)], [Var(v=-0.0656, grad=0.0000)], [Var(v=0.2566, grad=0.0000)]] \n",
      " Biases:[Var(v=-0.9435, grad=0.0000)]\n"
     ]
    },
    {
     "data": {
      "text/plain": [
       "[None, None, None]"
      ]
     },
     "execution_count": 24,
     "metadata": {},
     "output_type": "execute_result"
    }
   ],
   "source": [
    "print('Network before update:')\n",
    "[print('Layer', i, '\\n', NN[i]) for i in range(len(NN))] \n",
    "\n",
    "def parameters(network):\n",
    "    params = []\n",
    "    for layer in range(len(network)):\n",
    "        params += network[layer].parameters()\n",
    "    return params\n",
    "\n",
    "def update_parameters(params, learning_rate=0.01):\n",
    "    for p in params:\n",
    "        p.v -= learning_rate*p.grad\n",
    "\n",
    "def zero_gradients(params):\n",
    "    for p in params:\n",
    "        p.grad = 0.0\n",
    "\n",
    "update_parameters(parameters(NN))\n",
    "\n",
    "print('\\nNetwork after update:')\n",
    "[print('Layer', i, '\\n', NN[i]) for i in range(len(NN))] \n",
    "\n",
    "zero_gradients(parameters(NN))\n",
    "\n",
    "print('\\nNetwork after zeroing gradients:')\n",
    "[print('Layer', i, '\\n', NN[i]) for i in range(len(NN))] "
   ]
  },
  {
   "cell_type": "code",
   "execution_count": 25,
   "metadata": {
    "id": "woWYpdw6FtIO"
   },
   "outputs": [],
   "source": [
    "# Initialize an arbitrary neural network\n",
    "NN = [\n",
    "    DenseLayer(1, 8, lambda x: x.relu()),\n",
    "    DenseLayer(8, 1, lambda x: x.identity())\n",
    "]\n",
    "\n",
    "# Recommended hyper-parameters for 3-D: \n",
    "#NN = [\n",
    "#    DenseLayer(3, 16, lambda x: x.relu()),\n",
    "#    DenseLayer(16, 1, lambda x: x.identity())\n",
    "#]\n",
    "\n",
    "\n",
    "### Notice that, when we switch from tanh to relu activation, we decrease the learning rate. This is due the stability of the gradients \n",
    "## of the activation functions."
   ]
  },
  {
   "cell_type": "code",
   "execution_count": null,
   "metadata": {
    "id": "mdqaqYBVFtIR"
   },
   "outputs": [],
   "source": [
    "# Initialize training hyperparameters\n",
    "EPOCHS = 600\n",
    "LEARN_R = 3e-5"
   ]
  },
  {
   "cell_type": "code",
   "execution_count": null,
   "metadata": {
    "colab": {
     "base_uri": "https://localhost:8080/"
    },
    "id": "5kfg76GMFtIW",
    "outputId": "e30cf68a-31f2-42b4-cc5e-860c297c0f04"
   },
   "outputs": [],
   "source": [
    "train_loss = []\n",
    "val_loss = []\n",
    "\n",
    "for e in range(EPOCHS):\n",
    "     \n",
    "    # Forward pass and loss computation\n",
    "    Loss = squared_loss(y_train, forward(x_train, NN))\n",
    "\n",
    "    # Backward pass\n",
    "    Loss.backward()\n",
    "    \n",
    "    # gradient descent update\n",
    "    update_parameters(parameters(NN), LEARN_R)\n",
    "    zero_gradients(parameters(NN))\n",
    "    \n",
    "    # Training loss\n",
    "    train_loss.append(Loss.v)\n",
    "    \n",
    "    # Validation\n",
    "    Loss_validation = squared_loss(y_validation,forward(x_validation, NN))\n",
    "    val_loss.append(Loss_validation.v)\n",
    "    \n",
    "    if e%10==0:\n",
    "        print(\"{:4d}\".format(e),\n",
    "              \"({:5.2f}%)\".format(e/EPOCHS*100), \n",
    "              \"Train loss: {:4.3f} \\t Validation loss: {:4.3f}\".format(train_loss[-1], val_loss[-1]))\n",
    "        \n"
   ]
  },
  {
   "cell_type": "code",
   "execution_count": null,
   "metadata": {
    "colab": {
     "base_uri": "https://localhost:8080/",
     "height": 265
    },
    "id": "VetyRWFwFtIY",
    "outputId": "344e490d-6d7d-455a-fa6f-88dd11eb957e"
   },
   "outputs": [],
   "source": [
    "plt.plot(range(len(train_loss)), train_loss);\n",
    "plt.plot(range(len(val_loss)), val_loss);"
   ]
  },
  {
   "cell_type": "markdown",
   "metadata": {
    "id": "8OgmIrM9FtIb"
   },
   "source": [
    "# Testing\n",
    "\n",
    "We have kept the calculation of the test error separate in order to emphasize that you should not use the test set in optimization."
   ]
  },
  {
   "cell_type": "code",
   "execution_count": null,
   "metadata": {
    "id": "HmNi7S-vFtIc"
   },
   "outputs": [],
   "source": [
    "output_test = forward(x_test, NN)"
   ]
  },
  {
   "cell_type": "code",
   "execution_count": null,
   "metadata": {
    "colab": {
     "base_uri": "https://localhost:8080/",
     "height": 316
    },
    "id": "7mmJOTSEFtIf",
    "outputId": "e3264095-cefe-4aee-893d-bf152438e332"
   },
   "outputs": [],
   "source": [
    "y_test_np = Var_to_nparray(y_test)\n",
    "plt.scatter(y_test_np, Var_to_nparray(output_test));\n",
    "plt.plot([np.min(y_test_np), np.max(y_test_np)], [np.min(y_test_np), np.max(y_test_np)], color='k');\n",
    "plt.xlabel(\"y\");\n",
    "plt.ylabel(\"$\\hat{y}$\");\n",
    "plt.title(\"Model prediction vs real in the test set, the close to the line the better\")\n",
    "plt.grid(True);\n",
    "plt.axis('equal');\n",
    "plt.tight_layout();\n",
    "\n",
    "Loss_test = squared_loss(y_test, forward(x_test, NN))\n",
    "\n",
    "print(\"Test loss:  {:4.3f}\".format(Loss_test.v))"
   ]
  },
  {
   "cell_type": "code",
   "execution_count": null,
   "metadata": {
    "colab": {
     "base_uri": "https://localhost:8080/",
     "height": 279
    },
    "id": "ODi0WlmQFtIh",
    "outputId": "d1ab874f-0717-4987-87bf-1f0c7c8e7148"
   },
   "outputs": [],
   "source": [
    "x_test_np = Var_to_nparray(x_test)\n",
    "x_train_np = Var_to_nparray(x_train)\n",
    "y_train_np = Var_to_nparray(y_train)\n",
    "if D1:\n",
    "    plt.scatter(x_train_np, y_train_np, label=\"train data\");\n",
    "    plt.scatter(x_test_np, Var_to_nparray(output_test), label=\"test prediction\");\n",
    "    plt.scatter(x_test_np, y_test_np, label=\"test data\");\n",
    "    plt.legend();\n",
    "    plt.xlabel(\"x\");\n",
    "    plt.ylabel(\"y\");\n",
    "else:\n",
    "    plt.scatter(x_train_np[:,1], y_train, label=\"train data\");\n",
    "    plt.scatter(x_test_np[:,1], Var_to_nparray(output_test), label=\"test data prediction\");\n",
    "    plt.scatter(x_test_np[:,1], y_test_np, label=\"test data\");\n",
    "    plt.legend();\n",
    "    plt.xlabel(\"x\");\n",
    "    plt.ylabel(\"y\");"
   ]
  },
  {
   "cell_type": "markdown",
   "metadata": {
    "id": "zTBAmjsAFtIk"
   },
   "source": [
    "## Exercise k) Show overfitting, underfitting and just right fitting\n",
    "\n",
    "Vary the architecture and other things to show clear signs of overfitting (=training loss significantly lower than test loss) and underfitting (=not fitting enoung to training data so that test performance is also hurt).\n",
    "\n",
    "See also if you can get a good compromise which leads to a low validation loss. \n",
    "\n",
    "For this problem do you see any big difference between validation and test loss? The answer here will probably be no. Discuss cases where it is important to keep the two separate.\n",
    "\n",
    "_Insert written answer here._\n"
   ]
  },
  {
   "cell_type": "markdown",
   "metadata": {},
   "source": [
    "## Answer k)"
   ]
  },
  {
   "cell_type": "markdown",
   "metadata": {},
   "source": [
    "For separating the validation dataset and test dataset, it is mainly because the use of these two datasets is different.\n",
    "\n",
    "For validation dataset, we focus on building model, it means adjusting hyper parameters, like epoches, learning rate, nodes or so and avoid some accidents, like gradient explosion, to draw the model back into right way. \n",
    "\n",
    "For test dataset, we focus on testing model, it means the genralization ability of this model need to be test. In this dataset, we just test the performance of the model but do not adjust it. "
   ]
  },
  {
   "cell_type": "markdown",
   "metadata": {},
   "source": [
    "## Under Fitting"
   ]
  },
  {
   "cell_type": "code",
   "execution_count": 32,
   "metadata": {},
   "outputs": [
    {
     "name": "stdout",
     "output_type": "stream",
     "text": [
      "   0 ( 0.00%) Train loss: 106.206 \t Validation loss: 108.544\n",
      "  10 (15.15%) Train loss: 105.583 \t Validation loss: 108.151\n",
      "  20 (30.30%) Train loss: 104.985 \t Validation loss: 107.556\n",
      "  30 (45.45%) Train loss: 104.400 \t Validation loss: 106.972\n",
      "  40 (60.61%) Train loss: 103.823 \t Validation loss: 106.396\n",
      "  50 (75.76%) Train loss: 103.258 \t Validation loss: 105.831\n",
      "  60 (90.91%) Train loss: 102.711 \t Validation loss: 105.282\n",
      "_______________________________________________________________\n",
      "Train loss:  102.447\n",
      "Test loss:  97.414\n"
     ]
    },
    {
     "data": {
      "image/png": "[encoded data removed]",
      "text/plain": [
       "<Figure size 432x288 with 1 Axes>"
      ]
     },
     "metadata": {
      "needs_background": "light"
     },
     "output_type": "display_data"
    }
   ],
   "source": [
    "NN = [\n",
    "    DenseLayer(1, 8, lambda x: x.relu()),\n",
    "    DenseLayer(8, 1, lambda x: x.identity())\n",
    "]\n",
    "\n",
    "EPOCHS = 66\n",
    "LEARN_R = 3e-5\n",
    "\n",
    "train_loss = []\n",
    "val_loss = []\n",
    "\n",
    "for e in range(EPOCHS):\n",
    "     \n",
    "    # Forward pass and loss computation\n",
    "    Loss = squared_loss(y_train, forward(x_train, NN))\n",
    "\n",
    "    # Backward pass\n",
    "    Loss.backward()\n",
    "    \n",
    "    # gradient descent update\n",
    "    update_parameters(parameters(NN), LEARN_R)\n",
    "    zero_gradients(parameters(NN))\n",
    "    \n",
    "    # Training loss\n",
    "    train_loss.append(Loss.v)\n",
    "    \n",
    "    # Validation\n",
    "    Loss_validation = squared_loss(y_validation,forward(x_validation, NN))\n",
    "    val_loss.append(Loss_validation.v)\n",
    "    \n",
    "    if e%10==0:\n",
    "        print(\"{:4d}\".format(e),\n",
    "              \"({:5.2f}%)\".format(e/EPOCHS*100), \n",
    "              \"Train loss: {:4.3f} \\t Validation loss: {:4.3f}\".format(train_loss[-1], val_loss[-1]))\n",
    "        \n",
    "y_test_np = Var_to_nparray(y_test)\n",
    "output_test = forward(x_test, NN)\n",
    "\n",
    "plt.scatter(y_test_np, Var_to_nparray(output_test));\n",
    "plt.plot([np.min(y_test_np), np.max(y_test_np)], [np.min(y_test_np), np.max(y_test_np)], color='k');\n",
    "plt.xlabel(\"y\");\n",
    "plt.ylabel(\"$\\hat{y}$\");\n",
    "plt.title(\"Model prediction vs real in the test set, the close to the line the better\")\n",
    "plt.grid(True);\n",
    "plt.axis('equal');\n",
    "plt.tight_layout();\n",
    "\n",
    "Loss_test = squared_loss(y_test, forward(x_test, NN))\n",
    "\n",
    "print(\"_______________________________________________________________\")\n",
    "print(\"Train loss:  {:4.3f}\".format(train_loss[-1]))\n",
    "print(\"Test loss:  {:4.3f}\".format(Loss_test.v))"
   ]
  },
  {
   "cell_type": "markdown",
   "metadata": {},
   "source": [
    "## Right Fitting"
   ]
  },
  {
   "cell_type": "code",
   "execution_count": 31,
   "metadata": {},
   "outputs": [
    {
     "name": "stdout",
     "output_type": "stream",
     "text": [
      "   0 ( 0.00%) Train loss: 104.227 \t Validation loss: 106.711\n",
      " 100 ( 6.00%) Train loss: 97.145 \t Validation loss: 99.733\n",
      " 200 (12.00%) Train loss: 87.285 \t Validation loss: 89.700\n",
      " 300 (18.01%) Train loss: 71.732 \t Validation loss: 73.805\n",
      " 400 (24.01%) Train loss: 51.566 \t Validation loss: 53.004\n",
      " 500 (30.01%) Train loss: 32.824 \t Validation loss: 33.237\n",
      " 600 (36.01%) Train loss: 21.147 \t Validation loss: 20.346\n",
      " 700 (42.02%) Train loss: 16.150 \t Validation loss: 14.316\n",
      " 800 (48.02%) Train loss: 14.505 \t Validation loss: 11.995\n",
      " 900 (54.02%) Train loss: 14.005 \t Validation loss: 11.129\n",
      "1000 (60.02%) Train loss: 13.817 \t Validation loss: 10.768\n",
      "1100 (66.03%) Train loss: 13.711 \t Validation loss: 10.585\n",
      "1200 (72.03%) Train loss: 13.629 \t Validation loss: 10.470\n",
      "1300 (78.03%) Train loss: 13.562 \t Validation loss: 10.388\n",
      "1400 (84.03%) Train loss: 13.488 \t Validation loss: 10.319\n",
      "1500 (90.04%) Train loss: 13.413 \t Validation loss: 10.255\n",
      "1600 (96.04%) Train loss: 13.338 \t Validation loss: 10.192\n",
      "_______________________________________________________________\n",
      "Train loss:  13.289\n",
      "Test loss:  10.989\n"
     ]
    },
    {
     "data": {
      "image/png": "[encoded data removed]",
      "text/plain": [
       "<Figure size 432x288 with 1 Axes>"
      ]
     },
     "metadata": {
      "needs_background": "light"
     },
     "output_type": "display_data"
    }
   ],
   "source": [
    "NN = [\n",
    "    DenseLayer(1, 8, lambda x: x.relu()),\n",
    "    DenseLayer(8, 1, lambda x: x.identity())\n",
    "]\n",
    "\n",
    "EPOCHS = 1666\n",
    "LEARN_R = 3e-5\n",
    "\n",
    "train_loss = []\n",
    "val_loss = []\n",
    "\n",
    "for e in range(EPOCHS):\n",
    "     \n",
    "    # Forward pass and loss computation\n",
    "    Loss = squared_loss(y_train, forward(x_train, NN))\n",
    "\n",
    "    # Backward pass\n",
    "    Loss.backward()\n",
    "    \n",
    "    # gradient descent update\n",
    "    update_parameters(parameters(NN), LEARN_R)\n",
    "    zero_gradients(parameters(NN))\n",
    "    \n",
    "    # Training loss\n",
    "    train_loss.append(Loss.v)\n",
    "    \n",
    "    # Validation\n",
    "    Loss_validation = squared_loss(y_validation,forward(x_validation, NN))\n",
    "    val_loss.append(Loss_validation.v)\n",
    "    \n",
    "    if e%100==0:\n",
    "        print(\"{:4d}\".format(e),\n",
    "              \"({:5.2f}%)\".format(e/EPOCHS*100), \n",
    "              \"Train loss: {:4.3f} \\t Validation loss: {:4.3f}\".format(train_loss[-1], val_loss[-1]))\n",
    "        \n",
    "y_test_np = Var_to_nparray(y_test)\n",
    "output_test = forward(x_test, NN)\n",
    "\n",
    "plt.scatter(y_test_np, Var_to_nparray(output_test));\n",
    "plt.plot([np.min(y_test_np), np.max(y_test_np)], [np.min(y_test_np), np.max(y_test_np)], color='k');\n",
    "plt.xlabel(\"y\");\n",
    "plt.ylabel(\"$\\hat{y}$\");\n",
    "plt.title(\"Model prediction vs real in the test set, the close to the line the better\")\n",
    "plt.grid(True);\n",
    "plt.axis('equal');\n",
    "plt.tight_layout();\n",
    "\n",
    "Loss_test = squared_loss(y_test, forward(x_test, NN))\n",
    "\n",
    "print(\"_______________________________________________________________\")\n",
    "print(\"Train loss:  {:4.3f}\".format(train_loss[-1]))\n",
    "print(\"Test loss:  {:4.3f}\".format(Loss_test.v))"
   ]
  },
  {
   "cell_type": "markdown",
   "metadata": {},
   "source": [
    "## Over Fitting"
   ]
  },
  {
   "cell_type": "code",
   "execution_count": 30,
   "metadata": {},
   "outputs": [
    {
     "name": "stdout",
     "output_type": "stream",
     "text": [
      "   0 ( 0.00%) Train loss: 105.586 \t Validation loss: 108.400\n",
      " 100 ( 3.75%) Train loss: 101.126 \t Validation loss: 103.975\n",
      " 200 ( 7.50%) Train loss: 95.937 \t Validation loss: 98.824\n",
      " 300 (11.25%) Train loss: 86.911 \t Validation loss: 89.824\n",
      " 400 (15.00%) Train loss: 72.418 \t Validation loss: 75.262\n",
      " 500 (18.75%) Train loss: 53.452 \t Validation loss: 55.947\n",
      " 600 (22.51%) Train loss: 35.429 \t Validation loss: 37.109\n",
      " 700 (26.26%) Train loss: 23.761 \t Validation loss: 24.269\n",
      " 800 (30.01%) Train loss: 18.494 \t Validation loss: 17.857\n",
      " 900 (33.76%) Train loss: 16.636 \t Validation loss: 15.164\n",
      "1000 (37.51%) Train loss: 16.010 \t Validation loss: 14.021\n",
      "1100 (41.26%) Train loss: 15.732 \t Validation loss: 13.436\n",
      "1200 (45.01%) Train loss: 15.546 \t Validation loss: 13.071\n",
      "1300 (48.76%) Train loss: 15.387 \t Validation loss: 12.799\n",
      "1400 (52.51%) Train loss: 15.245 \t Validation loss: 12.574\n",
      "1500 (56.26%) Train loss: 15.120 \t Validation loss: 12.382\n",
      "1600 (60.02%) Train loss: 15.004 \t Validation loss: 12.212\n",
      "1700 (63.77%) Train loss: 14.899 \t Validation loss: 12.056\n",
      "1800 (67.52%) Train loss: 14.797 \t Validation loss: 11.911\n",
      "1900 (71.27%) Train loss: 14.702 \t Validation loss: 11.777\n",
      "2000 (75.02%) Train loss: 14.614 \t Validation loss: 11.653\n",
      "2100 (78.77%) Train loss: 14.528 \t Validation loss: 11.535\n",
      "2200 (82.52%) Train loss: 14.443 \t Validation loss: 11.422\n",
      "2300 (86.27%) Train loss: 14.352 \t Validation loss: 11.315\n",
      "2400 (90.02%) Train loss: 14.254 \t Validation loss: 11.212\n",
      "2500 (93.77%) Train loss: 14.157 \t Validation loss: 11.110\n",
      "2600 (97.52%) Train loss: 14.059 \t Validation loss: 11.007\n",
      "_______________________________________________________________\n",
      "Train loss:  13.984\n",
      "Test loss:  12.772\n"
     ]
    },
    {
     "data": {
      "image/png": "[encoded data removed]",
      "text/plain": [
       "<Figure size 432x288 with 1 Axes>"
      ]
     },
     "metadata": {
      "needs_background": "light"
     },
     "output_type": "display_data"
    }
   ],
   "source": [
    "NN = [\n",
    "    DenseLayer(1, 8, lambda x: x.relu()),\n",
    "    DenseLayer(8, 1, lambda x: x.identity())\n",
    "]\n",
    "\n",
    "EPOCHS = 2666\n",
    "LEARN_R = 3e-5\n",
    "\n",
    "train_loss = []\n",
    "val_loss = []\n",
    "\n",
    "for e in range(EPOCHS):\n",
    "     \n",
    "    # Forward pass and loss computation\n",
    "    Loss = squared_loss(y_train, forward(x_train, NN))\n",
    "\n",
    "    # Backward pass\n",
    "    Loss.backward()\n",
    "    \n",
    "    # gradient descent update\n",
    "    update_parameters(parameters(NN), LEARN_R)\n",
    "    zero_gradients(parameters(NN))\n",
    "    \n",
    "    # Training loss\n",
    "    train_loss.append(Loss.v)\n",
    "    \n",
    "    # Validation\n",
    "    Loss_validation = squared_loss(y_validation,forward(x_validation, NN))\n",
    "    val_loss.append(Loss_validation.v)\n",
    "    \n",
    "    if e%100==0:\n",
    "        print(\"{:4d}\".format(e),\n",
    "              \"({:5.2f}%)\".format(e/EPOCHS*100), \n",
    "              \"Train loss: {:4.3f} \\t Validation loss: {:4.3f}\".format(train_loss[-1], val_loss[-1]))\n",
    "        \n",
    "y_test_np = Var_to_nparray(y_test)\n",
    "output_test = forward(x_test, NN)\n",
    "\n",
    "plt.scatter(y_test_np, Var_to_nparray(output_test));\n",
    "plt.plot([np.min(y_test_np), np.max(y_test_np)], [np.min(y_test_np), np.max(y_test_np)], color='k');\n",
    "plt.xlabel(\"y\");\n",
    "plt.ylabel(\"$\\hat{y}$\");\n",
    "plt.title(\"Model prediction vs real in the test set, the close to the line the better\")\n",
    "plt.grid(True);\n",
    "plt.axis('equal');\n",
    "plt.tight_layout();\n",
    "\n",
    "Loss_test = squared_loss(y_test, forward(x_test, NN))\n",
    "\n",
    "print(\"_______________________________________________________________\")\n",
    "print(\"Train loss:  {:4.3f}\".format(train_loss[-1]))\n",
    "print(\"Test loss:  {:4.3f}\".format(Loss_test.v))"
   ]
  },
  {
   "cell_type": "markdown",
   "metadata": {
    "id": "fYPZP-eTFtIo"
   },
   "source": [
    "# Next steps - classification\n",
    "\n",
    "It is straight forward to extend what we have done to classification. \n",
    "\n",
    "For numerical stability it is better to make softmax and cross-entropy as one function so we write the cross entropy loss as a function of the logits we talked about last week. \n",
    "\n",
    "Next week we will see how to perform classification in PyTorch."
   ]
  },
  {
   "cell_type": "markdown",
   "metadata": {
    "id": "qsVPul3QFtIo"
   },
   "source": [
    "## Exercise l) optional - Implement backpropagation for classification\n",
    "\n",
    "Should be possible with very few lines of code. :-)"
   ]
  },
  {
   "cell_type": "code",
   "execution_count": null,
   "metadata": {
    "id": "oC8QrI2tFtIp"
   },
   "outputs": [],
   "source": [
    "# Just add code."
   ]
  },
  {
   "cell_type": "markdown",
   "metadata": {
    "id": "APqhJv3tta1O"
   },
   "source": [
    "## Exercise m) optional - Introduce a NeuralNetwork class\n",
    "\n",
    "The functions we applied on the neural network (parameters, update_parameters and zero_gradients) can more naturally be included as methods in a NeuralNetwork class. Make such a class and modify the code to use it. "
   ]
  },
  {
   "cell_type": "code",
   "execution_count": null,
   "metadata": {
    "id": "Dqfnor1ouMLq"
   },
   "outputs": [],
   "source": [
    "# just add some code"
   ]
  }
 ],
 "metadata": {
  "anaconda-cloud": {},
  "colab": {
   "collapsed_sections": [
    "U4057_ljNvWB",
    "p_8n_SKnIW2F",
    "oLrGJytZFtGm",
    "jpIZPBpNI0pO",
    "_79HOAXrFtHK",
    "mqeyab9qFtGs",
    "-XyXBD37FtHk",
    "SrwSJ2UWFtHu",
    "zTBAmjsAFtIk",
    "qsVPul3QFtIo",
    "APqhJv3tta1O"
   ],
   "name": "2.1-EXE-FNN-AutoDif-Nanograd.ipynb",
   "provenance": []
  },
  "kernelspec": {
   "display_name": "Python 3 (ipykernel)",
   "language": "python",
   "name": "python3"
  },
  "language_info": {
   "codemirror_mode": {
    "name": "ipython",
    "version": 3
   },
   "file_extension": ".py",
   "mimetype": "text/x-python",
   "name": "python",
   "nbconvert_exporter": "python",
   "pygments_lexer": "ipython3",
   "version": "3.9.12"
  }
 },
 "nbformat": 4,
 "nbformat_minor": 1
}
