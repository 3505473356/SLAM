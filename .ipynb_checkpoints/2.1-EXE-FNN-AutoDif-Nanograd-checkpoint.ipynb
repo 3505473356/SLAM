{
 "cells": [
  {
   "cell_type": "markdown",
   "metadata": {
    "id": "HAva8TnYFtFu"
   },
   "source": [
    "# Contents and why we need this lab\n",
    "\n",
    "This lab is about implementing neural networks yourself before we start using other frameworks which hide some of the computation from you. It builds on the first lab where you derived the equations for neural network forward and backward propagation and gradient descent parameter updates. \n",
    "\n",
    "All the frameworks for deep learning you will meet from now on uses automatic differentiation (autodiff) so you don't have to code the backward step yourself. In this version of this lab you will develop your own autodif implementation. We also have a [version](https://github.com/DeepLearningDTU/02456-deep-learning-with-PyTorch/blob/master/2_Feedforward_NumPy/2.1-FNN-NumPy.ipynb) of this lab where you have to code the backward pass explicitly in Numpy."
   ]
  },
  {
   "cell_type": "markdown",
   "metadata": {
    "id": "sCa7HzwpFtFy"
   },
   "source": [
    "# External sources of information\n",
    "\n",
    "1. Jupyter notebook. You can find more information about Jupyter notebooks [here](https://jupyter.org/). It will come as part of the [Anaconda](https://www.anaconda.com/) Python installation. \n",
    "2. [NumPy](https://numpy.org/). Part of Anaconda distribution. If you already know how to program most things about Python and NumPy can be found through Google search.\n",
    "3. [Nanograd](https://github.com/rasmusbergpalm/nanograd) is a minimalistic version of autodiff developed by Rasmus Berg Palm that we use for our framework.\n"
   ]
  },
  {
   "cell_type": "markdown",
   "metadata": {
    "id": "1SjiIp-TFtF0"
   },
   "source": [
    "# This notebook will follow the next steps:\n",
    "\n",
    "1. Nanograd automatic differentiation framework\n",
    "2. Finite difference method\n",
    "3. Data generation\n",
    "4. Defining and initializing the network\n",
    "5. Forward pass\n",
    "6. Training loop \n",
    "7. Testing your model\n",
    "8. Further extensions"
   ]
  },
  {
   "cell_type": "markdown",
   "metadata": {
    "id": "OyXeAA-HuT7s"
   },
   "source": [
    "# Nanograd automatic differention framework"
   ]
  },
  {
   "cell_type": "markdown",
   "metadata": {
    "id": "k6UWKCLKubgA"
   },
   "source": [
    "The [Nanograd](https://github.com/rasmusbergpalm/nanograd) framework defines a class Var which both holds a value and gradient value that we can use to store the intermediate values when we apply the chain rule of differentiation."
   ]
  },
  {
   "cell_type": "code",
   "execution_count": 1,
   "metadata": {
    "id": "Jd4CoEBNzNWS"
   },
   "outputs": [],
   "source": [
    "# Copy and pasted from https://github.com/rasmusbergpalm/nanograd/blob/main/nanograd.py\n",
    "\n",
    "from math import exp, log\n",
    "\n",
    "class Var:\n",
    "    \"\"\"\n",
    "    A variable which holds a float and enables gradient computations.\n",
    "    \"\"\"\n",
    "\n",
    "    def __init__(self, val: float, grad_fn=lambda: []):\n",
    "        assert type(val) == float\n",
    "        self.v = val\n",
    "        self.grad_fn = grad_fn\n",
    "        self.grad = 0.0\n",
    "\n",
    "    def backprop(self, bp):\n",
    "        self.grad += bp\n",
    "        for input, grad in self.grad_fn():\n",
    "            input.backprop(grad * bp)\n",
    "\n",
    "    def backward(self):\n",
    "        self.backprop(1.0)\n",
    "\n",
    "    def __add__(self: 'Var', other: 'Var') -> 'Var':\n",
    "        return Var(self.v + other.v, lambda: [(self, 1.0), (other, 1.0)])\n",
    "\n",
    "    def __mul__(self: 'Var', other: 'Var') -> 'Var':\n",
    "        return Var(self.v * other.v, lambda: [(self, other.v), (other, self.v)])\n",
    "\n",
    "    def __pow__(self, power):\n",
    "        assert type(power) in {float, int}, \"power must be float or int\"\n",
    "        return Var(self.v ** power, lambda: [(self, power * self.v ** (power - 1))])\n",
    "\n",
    "    def __neg__(self: 'Var') -> 'Var':\n",
    "        return Var(-1.0) * self\n",
    "\n",
    "    def __sub__(self: 'Var', other: 'Var') -> 'Var':\n",
    "        return self + (-other)\n",
    "\n",
    "    def __truediv__(self: 'Var', other: 'Var') -> 'Var':\n",
    "        return self * other ** -1\n",
    "\n",
    "    def __repr__(self):\n",
    "        return \"Var(v=%.4f, grad=%.4f)\" % (self.v, self.grad)\n",
    "\n",
    "    def relu(self):\n",
    "        return Var(self.v if self.v > 0.0 else 0.0, lambda: [(self, 1.0 if self.v > 0.0 else 0.0)])"
   ]
  },
  {
   "cell_type": "markdown",
   "metadata": {
    "id": "yDX67D6jzcte"
   },
   "source": [
    "A few examples illustrate how we can use this:"
   ]
  },
  {
   "cell_type": "code",
   "execution_count": 2,
   "metadata": {
    "colab": {
     "base_uri": "https://localhost:8080/"
    },
    "id": "xk6PeLc3zwPT",
    "outputId": "47e431b2-07ba-4cb1-ea21-997769641c67"
   },
   "outputs": [
    {
     "name": "stdout",
     "output_type": "stream",
     "text": [
      "Var(v=3.0000, grad=5.0000)\n",
      "Var(v=5.0000, grad=3.0000)\n",
      "Var(v=15.0000, grad=1.0000)\n"
     ]
    }
   ],
   "source": [
    "a = Var(3.0)\n",
    "b = Var(5.0)\n",
    "f = a * b\n",
    "\n",
    "f.backward()\n",
    "\n",
    "for v in [a, b, f]:\n",
    "    print(v)"
   ]
  },
  {
   "cell_type": "code",
   "execution_count": 3,
   "metadata": {
    "colab": {
     "base_uri": "https://localhost:8080/"
    },
    "id": "JmKhYgsY0g_o",
    "outputId": "06c1b1df-c33c-40d3-922a-624612a591c7"
   },
   "outputs": [
    {
     "name": "stdout",
     "output_type": "stream",
     "text": [
      "Var(v=3.0000, grad=14.0000)\n",
      "Var(v=5.0000, grad=3.0000)\n",
      "Var(v=15.0000, grad=1.0000)\n",
      "Var(v=9.0000, grad=3.0000)\n",
      "Var(v=27.0000, grad=1.0000)\n",
      "Var(v=42.0000, grad=1.0000)\n"
     ]
    }
   ],
   "source": [
    "a = Var(3.0)\n",
    "b = Var(5.0)\n",
    "c = a * b\n",
    "d = Var(9.0)\n",
    "e = a * d\n",
    "f = c + e\n",
    "\n",
    "f.backward()\n",
    "\n",
    "for v in [a, b, c, d, e, f]:\n",
    "    print(v)"
   ]
  },
  {
   "cell_type": "markdown",
   "metadata": {
    "id": "Fe3B6uEH140p"
   },
   "source": [
    "## Exercise a) What is being calculated?\n",
    "\n",
    "Explain briefly the output of the code? What is the expression we differentiate and with respect to what variables?"
   ]
  },
  {
   "cell_type": "markdown",
   "metadata": {},
   "source": [
    "## Answer a)\n",
    "\n",
    "The output is the gradient of specific variable, like the output of f.backward(), output a is Var(v=3, grad=14), it means the value of a is 3 and the differential coefficient of a to f is 14.\n",
    "\n",
    "$$\n",
    "\\frac{\\partial f}{\\partial a} = 14\n",
    "$$\n",
    "\n"
   ]
  },
  {
   "cell_type": "markdown",
   "metadata": {
    "id": "q8_Q0t2I3Ruj"
   },
   "source": [
    "## Exercise b) How does the backward function work?\n",
    "\n",
    "You need to understand how the backward function calculates the gradients. We can use the two examples above to help with that.\n",
    "\n",
    "Go through the following four steps and answer the questions on the way:\n",
    "\n",
    "1. We represent the two expressions as graphs as shown below. Fill in the missing expressions for the different derivatives.\n",
    "\n",
    "2. In the remainder consider the first expression. Make a schematic of the data structure which is generated when we define the expression for f. \n",
    "\n",
    "3. Then execute the backward function by hand to convince yourself that it indeed calculates the gradients with respect to the variables. \n",
    "\n",
    "4. Write down the sequence of calls to backprop."
   ]
  },
  {
   "cell_type": "code",
   "execution_count": 4,
   "metadata": {
    "id": "idGr71jYXl26"
   },
   "outputs": [],
   "source": [
    "# import logging\n",
    "import graphviz\n",
    "\n",
    "#logging.basicConfig(format='[%(levelname)s@%(name)s] %(message)s', level=logging.DEBUG)\n",
    "\n",
    "#graphviz.__version__, graphviz.version()"
   ]
  },
  {
   "cell_type": "markdown",
   "metadata": {},
   "source": [
    "## Answer b)\n",
    "\n",
    "As shown before, a=3, b=5, d=9"
   ]
  },
  {
   "cell_type": "code",
   "execution_count": 5,
   "metadata": {
    "colab": {
     "base_uri": "https://localhost:8080/",
     "height": 152
    },
    "id": "KPe30Q2QXzeG",
    "outputId": "7fa002cd-a018-4dbb-ddf1-28ed5e99ee19"
   },
   "outputs": [
    {
     "data": {
      "image/svg+xml": [
       "<?xml version=\"1.0\" encoding=\"UTF-8\" standalone=\"no\"?>\n",
       "<!DOCTYPE svg PUBLIC \"-//W3C//DTD SVG 1.1//EN\"\n",
       " \"http://www.w3.org/Graphics/SVG/1.1/DTD/svg11.dtd\">\n",
       "<!-- Generated by graphviz version 4.0.0 (20220529.0937)\n",
       " -->\n",
       "<!-- Title: first expression Pages: 1 -->\n",
       "<svg width=\"162pt\" height=\"98pt\"\n",
       " viewBox=\"0.00 0.00 162.00 98.00\" xmlns=\"http://www.w3.org/2000/svg\" xmlns:xlink=\"http://www.w3.org/1999/xlink\">\n",
       "<g id=\"graph0\" class=\"graph\" transform=\"scale(1 1) rotate(0) translate(4 94)\">\n",
       "<title>first expression</title>\n",
       "<polygon fill=\"white\" stroke=\"transparent\" points=\"-4,4 -4,-94 158,-94 158,4 -4,4\"/>\n",
       "<!-- a -->\n",
       "<g id=\"node1\" class=\"node\">\n",
       "<title>a</title>\n",
       "<ellipse fill=\"none\" stroke=\"black\" cx=\"18\" cy=\"-72\" rx=\"18\" ry=\"18\"/>\n",
       "<text text-anchor=\"middle\" x=\"18\" y=\"-68.3\" font-family=\"Times New Roman,serif\" font-size=\"14.00\">a</text>\n",
       "</g>\n",
       "<!-- f -->\n",
       "<g id=\"node2\" class=\"node\">\n",
       "<title>f</title>\n",
       "<ellipse fill=\"none\" stroke=\"black\" cx=\"136\" cy=\"-45\" rx=\"18\" ry=\"18\"/>\n",
       "<text text-anchor=\"middle\" x=\"136\" y=\"-41.3\" font-family=\"Times New Roman,serif\" font-size=\"14.00\">f</text>\n",
       "</g>\n",
       "<!-- a&#45;&gt;f -->\n",
       "<g id=\"edge1\" class=\"edge\">\n",
       "<title>a&#45;&gt;f</title>\n",
       "<path fill=\"none\" stroke=\"black\" d=\"M35.62,-68.13C54.66,-63.7 86.1,-56.38 108.52,-51.16\"/>\n",
       "<polygon fill=\"black\" stroke=\"black\" points=\"109.46,-54.54 118.41,-48.86 107.88,-47.72 109.46,-54.54\"/>\n",
       "<text text-anchor=\"middle\" x=\"77\" y=\"-66.8\" font-family=\"Times New Roman,serif\" font-size=\"14.00\">df/da=5</text>\n",
       "</g>\n",
       "<!-- b -->\n",
       "<g id=\"node3\" class=\"node\">\n",
       "<title>b</title>\n",
       "<ellipse fill=\"none\" stroke=\"black\" cx=\"18\" cy=\"-18\" rx=\"18\" ry=\"18\"/>\n",
       "<text text-anchor=\"middle\" x=\"18\" y=\"-14.3\" font-family=\"Times New Roman,serif\" font-size=\"14.00\">b</text>\n",
       "</g>\n",
       "<!-- b&#45;&gt;f -->\n",
       "<g id=\"edge2\" class=\"edge\">\n",
       "<title>b&#45;&gt;f</title>\n",
       "<path fill=\"none\" stroke=\"black\" d=\"M35.87,-20.78C52.34,-23.62 78.05,-28.4 100,-34 102.89,-34.74 105.9,-35.57 108.88,-36.45\"/>\n",
       "<polygon fill=\"black\" stroke=\"black\" points=\"108.14,-39.88 118.72,-39.48 110.2,-33.19 108.14,-39.88\"/>\n",
       "<text text-anchor=\"middle\" x=\"77\" y=\"-37.8\" font-family=\"Times New Roman,serif\" font-size=\"14.00\">df/db=3</text>\n",
       "</g>\n",
       "</g>\n",
       "</svg>\n"
      ],
      "text/plain": [
       "<graphviz.graphs.Digraph at 0x1935c3d7820>"
      ]
     },
     "execution_count": 5,
     "metadata": {},
     "output_type": "execute_result"
    }
   ],
   "source": [
    "e1 = graphviz.Digraph('first expression', filename='fsm.gv')\n",
    "\n",
    "e1.attr(rankdir='LR', size='8,5')\n",
    "\n",
    "e1.attr('node', shape='circle')\n",
    "e1.edge('a', 'f', label='df/da=5')\n",
    "e1.edge('b', 'f', label='df/db=3')\n",
    "\n",
    "e1"
   ]
  },
  {
   "cell_type": "code",
   "execution_count": 6,
   "metadata": {
    "colab": {
     "base_uri": "https://localhost:8080/",
     "height": 232
    },
    "id": "0nittR-mZFeX",
    "outputId": "fa3656a3-732c-4abe-8084-98a492b0d6be"
   },
   "outputs": [
    {
     "data": {
      "image/svg+xml": [
       "<?xml version=\"1.0\" encoding=\"UTF-8\" standalone=\"no\"?>\n",
       "<!DOCTYPE svg PUBLIC \"-//W3C//DTD SVG 1.1//EN\"\n",
       " \"http://www.w3.org/Graphics/SVG/1.1/DTD/svg11.dtd\">\n",
       "<!-- Generated by graphviz version 4.0.0 (20220529.0937)\n",
       " -->\n",
       "<!-- Title: second expression Pages: 1 -->\n",
       "<svg width=\"283pt\" height=\"158pt\"\n",
       " viewBox=\"0.00 0.00 283.00 158.00\" xmlns=\"http://www.w3.org/2000/svg\" xmlns:xlink=\"http://www.w3.org/1999/xlink\">\n",
       "<g id=\"graph0\" class=\"graph\" transform=\"scale(1 1) rotate(0) translate(4 154)\">\n",
       "<title>second expression</title>\n",
       "<polygon fill=\"white\" stroke=\"transparent\" points=\"-4,4 -4,-154 279,-154 279,4 -4,4\"/>\n",
       "<!-- a -->\n",
       "<g id=\"node1\" class=\"node\">\n",
       "<title>a</title>\n",
       "<ellipse fill=\"none\" stroke=\"black\" cx=\"18\" cy=\"-75\" rx=\"18\" ry=\"18\"/>\n",
       "<text text-anchor=\"middle\" x=\"18\" y=\"-71.3\" font-family=\"Times New Roman,serif\" font-size=\"14.00\">a</text>\n",
       "</g>\n",
       "<!-- c -->\n",
       "<g id=\"node2\" class=\"node\">\n",
       "<title>c</title>\n",
       "<ellipse fill=\"none\" stroke=\"black\" cx=\"139\" cy=\"-102\" rx=\"18\" ry=\"18\"/>\n",
       "<text text-anchor=\"middle\" x=\"139\" y=\"-98.3\" font-family=\"Times New Roman,serif\" font-size=\"14.00\">c</text>\n",
       "</g>\n",
       "<!-- a&#45;&gt;c -->\n",
       "<g id=\"edge1\" class=\"edge\">\n",
       "<title>a&#45;&gt;c</title>\n",
       "<path fill=\"none\" stroke=\"black\" d=\"M35.8,-78.81C55.47,-83.27 88.29,-90.72 111.42,-95.97\"/>\n",
       "<polygon fill=\"black\" stroke=\"black\" points=\"110.76,-99.41 121.29,-98.21 112.31,-92.58 110.76,-99.41\"/>\n",
       "<text text-anchor=\"middle\" x=\"78.5\" y=\"-97.8\" font-family=\"Times New Roman,serif\" font-size=\"14.00\">dc/da=5</text>\n",
       "</g>\n",
       "<!-- e -->\n",
       "<g id=\"node4\" class=\"node\">\n",
       "<title>e</title>\n",
       "<ellipse fill=\"none\" stroke=\"black\" cx=\"139\" cy=\"-48\" rx=\"18\" ry=\"18\"/>\n",
       "<text text-anchor=\"middle\" x=\"139\" y=\"-44.3\" font-family=\"Times New Roman,serif\" font-size=\"14.00\">e</text>\n",
       "</g>\n",
       "<!-- a&#45;&gt;e -->\n",
       "<g id=\"edge3\" class=\"edge\">\n",
       "<title>a&#45;&gt;e</title>\n",
       "<path fill=\"none\" stroke=\"black\" d=\"M35.22,-68.86C41.08,-66.79 47.78,-64.61 54,-63 72.82,-58.12 94.42,-54.3 111.01,-51.74\"/>\n",
       "<polygon fill=\"black\" stroke=\"black\" points=\"111.73,-55.17 121.1,-50.24 110.7,-48.25 111.73,-55.17\"/>\n",
       "<text text-anchor=\"middle\" x=\"78.5\" y=\"-66.8\" font-family=\"Times New Roman,serif\" font-size=\"14.00\">de/da=9</text>\n",
       "</g>\n",
       "<!-- f -->\n",
       "<g id=\"node6\" class=\"node\">\n",
       "<title>f</title>\n",
       "<ellipse fill=\"none\" stroke=\"black\" cx=\"257\" cy=\"-75\" rx=\"18\" ry=\"18\"/>\n",
       "<text text-anchor=\"middle\" x=\"257\" y=\"-71.3\" font-family=\"Times New Roman,serif\" font-size=\"14.00\">f</text>\n",
       "</g>\n",
       "<!-- c&#45;&gt;f -->\n",
       "<g id=\"edge5\" class=\"edge\">\n",
       "<title>c&#45;&gt;f</title>\n",
       "<path fill=\"none\" stroke=\"black\" d=\"M156.62,-98.13C175.66,-93.7 207.1,-86.38 229.52,-81.16\"/>\n",
       "<polygon fill=\"black\" stroke=\"black\" points=\"230.46,-84.54 239.41,-78.86 228.88,-77.72 230.46,-84.54\"/>\n",
       "<text text-anchor=\"middle\" x=\"198\" y=\"-96.8\" font-family=\"Times New Roman,serif\" font-size=\"14.00\">df/dc=1</text>\n",
       "</g>\n",
       "<!-- b -->\n",
       "<g id=\"node3\" class=\"node\">\n",
       "<title>b</title>\n",
       "<ellipse fill=\"none\" stroke=\"black\" cx=\"18\" cy=\"-132\" rx=\"18\" ry=\"18\"/>\n",
       "<text text-anchor=\"middle\" x=\"18\" y=\"-128.3\" font-family=\"Times New Roman,serif\" font-size=\"14.00\">b</text>\n",
       "</g>\n",
       "<!-- b&#45;&gt;c -->\n",
       "<g id=\"edge2\" class=\"edge\">\n",
       "<title>b&#45;&gt;c</title>\n",
       "<path fill=\"none\" stroke=\"black\" d=\"M35.55,-127.83C55.15,-122.89 88.08,-114.59 111.3,-108.73\"/>\n",
       "<polygon fill=\"black\" stroke=\"black\" points=\"112.37,-112.07 121.21,-106.23 110.66,-105.28 112.37,-112.07\"/>\n",
       "<text text-anchor=\"middle\" x=\"78.5\" y=\"-126.8\" font-family=\"Times New Roman,serif\" font-size=\"14.00\">dc/db=3</text>\n",
       "</g>\n",
       "<!-- e&#45;&gt;f -->\n",
       "<g id=\"edge6\" class=\"edge\">\n",
       "<title>e&#45;&gt;f</title>\n",
       "<path fill=\"none\" stroke=\"black\" d=\"M156.87,-50.78C173.34,-53.62 199.05,-58.4 221,-64 223.89,-64.74 226.9,-65.57 229.88,-66.45\"/>\n",
       "<polygon fill=\"black\" stroke=\"black\" points=\"229.14,-69.88 239.72,-69.48 231.2,-63.19 229.14,-69.88\"/>\n",
       "<text text-anchor=\"middle\" x=\"198\" y=\"-67.8\" font-family=\"Times New Roman,serif\" font-size=\"14.00\">df/de=1</text>\n",
       "</g>\n",
       "<!-- d -->\n",
       "<g id=\"node5\" class=\"node\">\n",
       "<title>d</title>\n",
       "<ellipse fill=\"none\" stroke=\"black\" cx=\"18\" cy=\"-18\" rx=\"18\" ry=\"18\"/>\n",
       "<text text-anchor=\"middle\" x=\"18\" y=\"-14.3\" font-family=\"Times New Roman,serif\" font-size=\"14.00\">d</text>\n",
       "</g>\n",
       "<!-- d&#45;&gt;e -->\n",
       "<g id=\"edge4\" class=\"edge\">\n",
       "<title>d&#45;&gt;e</title>\n",
       "<path fill=\"none\" stroke=\"black\" d=\"M35.96,-20.25C53.09,-22.75 80.2,-27.34 103,-34 106.2,-34.94 109.52,-36.06 112.78,-37.25\"/>\n",
       "<polygon fill=\"black\" stroke=\"black\" points=\"111.61,-40.55 122.2,-40.93 114.16,-34.03 111.61,-40.55\"/>\n",
       "<text text-anchor=\"middle\" x=\"78.5\" y=\"-37.8\" font-family=\"Times New Roman,serif\" font-size=\"14.00\">de/dd=3</text>\n",
       "</g>\n",
       "</g>\n",
       "</svg>\n"
      ],
      "text/plain": [
       "<graphviz.graphs.Digraph at 0x1935c3e71f0>"
      ]
     },
     "execution_count": 6,
     "metadata": {},
     "output_type": "execute_result"
    }
   ],
   "source": [
    "e2 = graphviz.Digraph('second expression', filename='fsm.gv')\n",
    "\n",
    "e2.attr(rankdir='LR', size='8,5')\n",
    "\n",
    "e2.attr('node', shape='circle')\n",
    "e2.edge('a', 'c', label='dc/da=5')\n",
    "e2.edge('b', 'c', label='dc/db=3')\n",
    "e2.edge('a', 'e', label='de/da=9')\n",
    "e2.edge('d', 'e', label='de/dd=3')\n",
    "e2.edge('c', 'f', label='df/dc=1')\n",
    "e2.edge('e', 'f', label='df/de=1')\n",
    "\n",
    "e2"
   ]
  },
  {
   "cell_type": "markdown",
   "metadata": {
    "id": "A5oi21W4gpeM"
   },
   "source": [
    "## Exercise c) What happens if we run backward again?\n",
    "\n",
    "Try to execute the code below. Explain what happens."
   ]
  },
  {
   "cell_type": "code",
   "execution_count": 7,
   "metadata": {
    "colab": {
     "base_uri": "https://localhost:8080/"
    },
    "id": "DCtpJyr-gyX1",
    "outputId": "d014bcfa-c9ae-49c3-d268-91cc6ca94ea5"
   },
   "outputs": [
    {
     "name": "stdout",
     "output_type": "stream",
     "text": [
      "Var(v=3.0000, grad=28.0000)\n",
      "Var(v=5.0000, grad=6.0000)\n",
      "Var(v=15.0000, grad=2.0000)\n",
      "Var(v=9.0000, grad=6.0000)\n",
      "Var(v=27.0000, grad=2.0000)\n",
      "Var(v=42.0000, grad=2.0000)\n"
     ]
    }
   ],
   "source": [
    "f.backward()\n",
    "\n",
    "for v in [a, b, c, d, e, f]:\n",
    "    print(v)"
   ]
  },
  {
   "cell_type": "markdown",
   "metadata": {},
   "source": [
    "## Answer c)\n",
    "\n",
    "The gradient of each variable is doubled. Because in this class, the author create one array to store each variable's value and gradient, what's more, the overload operators like: add and so on, are defined with corresponding derivate formula.\n",
    "\n",
    "Therefore, the intial gradient of each variable is the value calculated before, then if f.backward() twice, the gradient will be calculated again, ie, double. "
   ]
  },
  {
   "cell_type": "markdown",
   "metadata": {
    "id": "e8bPVq2VhsP-"
   },
   "source": [
    "## Exercise d) Zero gradient\n",
    "\n",
    "We can zero the gradient by backpropagating a -1.0 as is shown in the example below. (If you have run backward multiple time then you also have to run the cell below an equal amount of times.) Explain what is going on."
   ]
  },
  {
   "cell_type": "code",
   "execution_count": 8,
   "metadata": {
    "colab": {
     "base_uri": "https://localhost:8080/"
    },
    "id": "OnyPDQx9lJe0",
    "outputId": "7a125fdc-60c4-4340-a580-8b82aea5b0db"
   },
   "outputs": [
    {
     "name": "stdout",
     "output_type": "stream",
     "text": [
      "Var(v=2.0000, grad=0.0000)\n",
      "Var(v=5.0000, grad=6.0000)\n",
      "Var(v=15.0000, grad=2.0000)\n",
      "Var(v=9.0000, grad=6.0000)\n",
      "Var(v=27.0000, grad=2.0000)\n",
      "Var(v=42.0000, grad=2.0000)\n",
      "_________________________________________________\n",
      "Var(v=2.0000, grad=0.0000)\n",
      "Var(v=5.0000, grad=3.0000)\n",
      "Var(v=15.0000, grad=1.0000)\n",
      "Var(v=9.0000, grad=3.0000)\n",
      "Var(v=27.0000, grad=1.0000)\n",
      "Var(v=42.0000, grad=1.0000)\n"
     ]
    }
   ],
   "source": [
    "a = Var(2.0)\n",
    "\n",
    "for v in [a, b, c, d, e, f]:\n",
    "    print(v)\n",
    "\n",
    "f.backprop(-1.0)\n",
    "\n",
    "print(\"_________________________________________________\")\n",
    "\n",
    "for v in [a, b, c, d, e, f]:\n",
    "    print(v)"
   ]
  },
  {
   "cell_type": "markdown",
   "metadata": {},
   "source": [
    "## Answer d)\n",
    "\n",
    "For a, it mainly because the property of jupyter notebook. If we define the same variable with different value, the old one still exist and the related functions or algorithms still based on the old one, they will not be updated with new one. Therefore, the \"a\" in this exercise is the new \"a\", it does not one part of \"f\" function. That is why the gradient is zero.\n",
    "\n",
    "for f.backprop(-1), backprop() is different with backward(), in backward() the initial value of backprop() is 1. Therefore that's why if we f.backward() twice the gradient of each value will be double. But if we specify the value of f.backprop() is \"-1\" and run it, the doubled gradient will decrease their original gradient."
   ]
  },
  {
   "cell_type": "markdown",
   "metadata": {
    "id": "U4057_ljNvWB"
   },
   "source": [
    "## Exercise e) Test correctness of derivatives with the finite difference method\n",
    "\n",
    "Write a small function that uses [the finite difference method](https://en.wikipedia.org/wiki/Finite_difference_method) to numerically test that backpropation implementation is working. In short we will use\n",
    "$$\n",
    "\\frac{\\partial f(a)}{\\partial a} \\approx \\frac{f(a+da)-f(a)}{da}\n",
    "$$\n",
    "for $da \\ll 1$.\n",
    "\n",
    "As an example, we could approximate the derivative of the function $f(a)=a^2$ in e.g. the value $a=4$ using the finite difference method. This amounts to inserting the relevant values and approximating the gradient $f'(4)$ with the fraction above. \n"
   ]
  },
  {
   "cell_type": "code",
   "execution_count": 9,
   "metadata": {
    "colab": {
     "base_uri": "https://localhost:8080/"
    },
    "id": "9TGil92lSXDN",
    "outputId": "7ef5489b-b525-4132-ab08-0b1109c07f4d"
   },
   "outputs": [
    {
     "name": "stdout",
     "output_type": "stream",
     "text": [
      "Var(v=3.0000, grad=5.0000)\n",
      "Var(v=5.0000, grad=3.0000)\n",
      "Var(v=15.0000, grad=1.0000)\n",
      "8.000000661922968\n"
     ]
    }
   ],
   "source": [
    "# f function - try to change the code to test other types of functions as well (such as different polynomials etc.)\n",
    "def f_function(a):\n",
    "    a = Var(a)\n",
    "    b = Var(5.0)\n",
    "    f = a * b\n",
    "    f.backward()\n",
    "    \n",
    "    return a,b,f\n",
    "\n",
    "for v in f_function(3.0):\n",
    "    print(v)\n",
    "\n",
    "# Insert your finite difference code here\n",
    "def finite_difference(da=1e-10):\n",
    "    \"\"\"\n",
    "    This function compute the finite difference between\n",
    "    \n",
    "    Input:\n",
    "    da:          The finite difference                           (float)\n",
    "    \n",
    "    Output:\n",
    "    finite_difference: numerical approximation to the derivative (float) \n",
    "    \"\"\"\n",
    "    \n",
    "    fa_da = (4+da)**2           # <- Insert correct expression\n",
    "    fa = 4 ** 2               # <- Insert correct expression\n",
    "\n",
    "    finite_difference = (fa_da - fa) / da\n",
    "    \n",
    "    return finite_difference\n",
    "\n",
    "print(finite_difference())"
   ]
  },
  {
   "cell_type": "markdown",
   "metadata": {
    "id": "6pZar5RKaUkg"
   },
   "source": [
    "# Create an artificial dataset to play with\n",
    "\n",
    "We create a non-linear 1d regression task. The generator supports various noise levels and it creates train, validation and test sets. You can modify it yourself if you want more or less challenging tasks."
   ]
  },
  {
   "cell_type": "code",
   "execution_count": 10,
   "metadata": {
    "id": "Y6yfMAQ8aduj"
   },
   "outputs": [],
   "source": [
    "import numpy as np\n",
    "import matplotlib.pyplot as plt\n",
    "\n",
    "np.random.seed(42)"
   ]
  },
  {
   "cell_type": "code",
   "execution_count": 11,
   "metadata": {
    "id": "4YabfD43ajNh"
   },
   "outputs": [],
   "source": [
    "def data_generator(noise=0.1, n_samples=300, D1=True):\n",
    "    # Create covariates and response variable\n",
    "    if D1:\n",
    "        X = np.linspace(-3, 3, num=n_samples).reshape(-1,1) # 1-D\n",
    "        np.random.shuffle(X)\n",
    "        y = np.random.normal((0.5*np.sin(X[:,0]*3) + X[:,0]), noise) # 1-D with trend\n",
    "    else:\n",
    "        X = np.random.multivariate_normal(np.zeros(3), noise*np.eye(3), size = n_samples) # 3-D\n",
    "        np.random.shuffle(X)    \n",
    "        y = np.sin(X[:,0]) - 5*(X[:,1]**2) + 0.5*X[:,2] # 3-D\n",
    "\n",
    "    # Stack them together vertically to split data set\n",
    "    data_set = np.vstack((X.T,y)).T\n",
    "    \n",
    "    train, validation, test = np.split(data_set, [int(0.35*n_samples), int(0.7*n_samples)], axis=0)\n",
    "    \n",
    "    # Standardization of the data, remember we do the standardization with the training set mean and standard deviation\n",
    "    train_mu = np.mean(train, axis=0)\n",
    "    train_sigma = np.std(train, axis=0)\n",
    "    \n",
    "    train = (train-train_mu)/train_sigma\n",
    "    validation = (validation-train_mu)/train_sigma\n",
    "    test = (test-train_mu)/train_sigma\n",
    "    \n",
    "    x_train, x_validation, x_test = train[:,:-1], validation[:,:-1], test[:,:-1]\n",
    "    y_train, y_validation, y_test = train[:,-1], validation[:,-1], test[:,-1]\n",
    "\n",
    "    return x_train, y_train,  x_validation, y_validation, x_test, y_test"
   ]
  },
  {
   "cell_type": "code",
   "execution_count": 12,
   "metadata": {
    "id": "u1oDngHLapIz"
   },
   "outputs": [],
   "source": [
    "D1 = True\n",
    "x_train, y_train,  x_validation, y_validation, x_test, y_test = data_generator(noise=0.5, D1=D1)"
   ]
  },
  {
   "cell_type": "code",
   "execution_count": 13,
   "metadata": {
    "colab": {
     "base_uri": "https://localhost:8080/",
     "height": 265
    },
    "id": "Ysfa3FsBavlm",
    "outputId": "399e5382-ae7d-48f6-9774-7ea4c73e7d95"
   },
   "outputs": [
    {
     "data": {
      "image/png": "[encoded data removed]",
      "text/plain": [
       "<Figure size 432x288 with 1 Axes>"
      ]
     },
     "metadata": {
      "needs_background": "light"
     },
     "output_type": "display_data"
    }
   ],
   "source": [
    "if D1:\n",
    "    plt.scatter(x_train[:,0], y_train);\n",
    "    plt.scatter(x_validation[:,0], y_validation);\n",
    "    plt.scatter(x_test[:,0], y_test);\n",
    "else:\n",
    "    plt.scatter(x_train[:,1], y_train);\n",
    "    plt.scatter(x_validation[:,1], y_validation);\n",
    "    plt.scatter(x_test[:,1], y_test);\n",
    "plt.show()"
   ]
  },
  {
   "cell_type": "code",
   "execution_count": 14,
   "metadata": {
    "id": "zac2HHNlgbpm"
   },
   "outputs": [],
   "source": [
    "# convert from nparray to Var\n",
    "def nparray_to_Var(x):\n",
    "    if x.ndim==1:\n",
    "        y = [[Var(float(x[i]))] for i in range(x.shape[0])] # always work with list of list\n",
    "        \n",
    "    else:\n",
    "        y = [[Var(float(x[i,j])) for j in range(x.shape[1])] for i in range(x.shape[0])]\n",
    "        \n",
    "    return y\n",
    "   \n",
    "x_train = nparray_to_Var(x_train)\n",
    "y_train = nparray_to_Var(y_train)\n",
    "x_validation = nparray_to_Var(x_validation)\n",
    "y_validation = nparray_to_Var(y_validation)\n",
    "x_test = nparray_to_Var(x_test)\n",
    "y_test = nparray_to_Var(y_test)\n"
   ]
  },
  {
   "cell_type": "markdown",
   "metadata": {
    "id": "VbjrqcpVFtGe"
   },
   "source": [
    "# Defining and initializing the network\n",
    "\n",
    "The steps to create a feed forward neural network are the following:\n",
    "\n",
    "1. **Number of hidden layer and hidden units**. We have to define the number of hidden units in each layer. The number of features in X and the output dimensionality (the size of Y) are given but the numbers in between are set by the researcher. Remember that for each unit in each layer beside in the input has a bias term.\n",
    "2. **Activation functions** for each hidden layer. Each hidden layer in your list must have an activation function (it can also be the linear activation which is equivalent to identity function). The power of neural networks comes from non-linear activation functions that learn representations (features) from the data allowing us to learn from it. \n",
    "3. **Parameter initialization**. We will initialize the weights to have random values. This is done in practice by drawing pseudo random numbers from a Gaussian or uniform distribution. It turns out that for deeper models we have to be careful about how we scale the random numbers. This will be the topic of the exercise below. For now we will just use unit variance Gaussians.  \n",
    "\n",
    "In order to make life easier for ourselves we define a DenseLayer class that takes care of initialization and the forward pass. We can also extend it later with print and advanced initialization capabilities. For the latter we have introduced a Initializer class.\n",
    "\n",
    "Note that we use Sequence in the code below. A Sequence is an ordered list. This means the order we insert and access items are the same."
   ]
  },
  {
   "cell_type": "code",
   "execution_count": 15,
   "metadata": {
    "id": "ij_ieRsAt7Xt"
   },
   "outputs": [],
   "source": [
    "class Initializer:\n",
    "    def init_weights(self, n_in, n_out):\n",
    "        raise NotImplementedError\n",
    "        \n",
    "    def init_bias(self, n_out):\n",
    "        raise NotImplementedError"
   ]
  },
  {
   "cell_type": "code",
   "execution_count": 16,
   "metadata": {
    "id": "eb18N5phuIha"
   },
   "outputs": [],
   "source": [
    "import random\n",
    "\n",
    "class NormalInitializer(Initializer):\n",
    "\n",
    "    def __init__(self, mean=0, std=0.1):\n",
    "        self.mean = mean\n",
    "        self.std = std\n",
    "\n",
    "    def init_weights(self, n_in, n_out):\n",
    "        return [[Var(random.gauss(self.mean, self.std)) for _ in range(n_out)] for _ in range(n_in)]\n",
    "\n",
    "    def init_bias(self, n_out):\n",
    "        return [Var(0.0) for _ in range(n_out)]\n",
    "\n",
    "class ConstantInitializer(Initializer):\n",
    "\n",
    "    def __init__(self, weight=1.0, bias=0.0):\n",
    "        self.weight = weight\n",
    "        self.bias = bias\n",
    "\n",
    "    def init_weights(self, n_in, n_out):\n",
    "        return [[Var(self.weight) for _ in range(n_out)] for _ in range(n_in)]\n",
    "\n",
    "    def init_bias(self, n_out):\n",
    "        return [Var(self.bias) for _ in range(n_out)]"
   ]
  },
  {
   "cell_type": "code",
   "execution_count": 19,
   "metadata": {
    "id": "jOLYGnZKuM6W"
   },
   "outputs": [],
   "source": [
    "from typing import Sequence\n",
    "\n",
    "class DenseLayer:\n",
    "    def __init__(self, n_in: int, n_out: int, act_fn, initializer = NormalInitializer()):\n",
    "        self.weights = initializer.init_weights(n_in, n_out)\n",
    "        self.bias = initializer.init_bias(n_out)\n",
    "        self.act_fn = act_fn\n",
    "    \n",
    "    def __repr__(self):\n",
    "        \n",
    "        return 'Weights: ' + repr(self.weights) + ' Biases: ' + repr(self.bias)\n",
    "                      \n",
    "    def parameters(self) -> Sequence[Var]:\n",
    "        params = []\n",
    "        for r in self.weights:\n",
    "            params += r\n",
    "        \n",
    "        return params + self.bias\n",
    "\n",
    "    def forward(self, single_input: Sequence[Var]) -> Sequence[Var]:\n",
    "        # self.weights is a matrix with dimension n_in x n_out. We check that the dimensionality of the input \n",
    "        # to the current layer matches the number of nodes in the current layer\n",
    "        assert len(self.weights) == len(single_input), \"weights and single_input must match in first dimension\"\n",
    "        weights = self.weights\n",
    "        out = []\n",
    "        # For some given data point single_input, we now want to calculate the resulting value in each node in the current layer\n",
    "        # We therefore loop over the (number of) nodes in the current layer:\n",
    "        for j in range(len(weights[0])): \n",
    "            # Initialize the node value depending on its corresponding parameters.\n",
    "            node = Var(0.0) # <- Insert code\n",
    "            \n",
    "            # We now finish the linear transformation corresponding to the parameters of the currently considered node.\n",
    "            for i in range(len(weights)):\n",
    "                node += weights[i][j] * single_input[i] + self.bias[j]# <- Insert code\n",
    "                \n",
    "            node = self.act_fn(node)\n",
    "            out.append(node)\n",
    "\n",
    "        return out"
   ]
  },
  {
   "cell_type": "markdown",
   "metadata": {
    "id": "jpIZPBpNI0pO"
   },
   "source": [
    "## Exercise f) Add more activation functions\n",
    "\n",
    "To have a full definition of the neural network, we must define an activation function for every layer. Several activation functions have been proposed and have different characteristics. In the Var class we have already defined the rectified linear init (relu). \n",
    " \n",
    "Implement the following activation functions in the Var class:\n",
    "\n",
    "* Identity: $$\\mathrm{identity}(x) = x$$\n",
    "* Hyperbolic tangent: $$\\tanh(x)$$\n",
    "* Sigmoid (or logistic function): $$\\mathrm{sigmoid}(x) = \\frac{1}{1.0 + \\exp(-x ) }$$  Hint: $\\mathrm{sigmoid}'(x)= \\mathrm{sigmoid}(x)(1-\\mathrm{sigmoid}(x))$.  \n",
    "\n",
    "Hint: You can seek inspiration in the relu method in the Var class."
   ]
  },
  {
   "cell_type": "markdown",
   "metadata": {},
   "source": [
    "## Answer f)"
   ]
  },
  {
   "cell_type": "code",
   "execution_count": 17,
   "metadata": {},
   "outputs": [],
   "source": [
    "from math import exp, log\n",
    "\n",
    "class Var:\n",
    "    \"\"\"\n",
    "    A variable which holds a float and enables gradient computations.\n",
    "    \"\"\"\n",
    "\n",
    "    def __init__(self, val: float, grad_fn=lambda: []):\n",
    "        assert type(val) == float\n",
    "        self.v = val\n",
    "        self.grad_fn = grad_fn\n",
    "        self.grad = 0.0\n",
    "\n",
    "    def backprop(self, bp):\n",
    "        self.grad += bp\n",
    "        for input, grad in self.grad_fn():\n",
    "            input.backprop(grad * bp)\n",
    "\n",
    "    def backward(self):\n",
    "        self.backprop(1.0)\n",
    "\n",
    "    def __add__(self: 'Var', other: 'Var') -> 'Var':\n",
    "        return Var(self.v + other.v, lambda: [(self, 1.0), (other, 1.0)])\n",
    "\n",
    "    def __mul__(self: 'Var', other: 'Var') -> 'Var':\n",
    "        return Var(self.v * other.v, lambda: [(self, other.v), (other, self.v)])\n",
    "\n",
    "    def __pow__(self, power):\n",
    "        assert type(power) in {float, int}, \"power must be float or int\"\n",
    "        return Var(self.v ** power, lambda: [(self, power * self.v ** (power - 1))])\n",
    "\n",
    "    def __neg__(self: 'Var') -> 'Var':\n",
    "        return Var(-1.0) * self\n",
    "\n",
    "    def __sub__(self: 'Var', other: 'Var') -> 'Var':\n",
    "        return self + (-other)\n",
    "\n",
    "    def __truediv__(self: 'Var', other: 'Var') -> 'Var':\n",
    "        return self * other ** -1\n",
    "\n",
    "    def __repr__(self):\n",
    "        return \"Var(v=%.4f, grad=%.4f)\" % (self.v, self.grad)\n",
    "\n",
    "    def relu(self):\n",
    "        return Var(self.v if self.v > 0.0 else 0.0, lambda: [(self, 1.0 if self.v > 0.0 else 0.0)])\n",
    "    \n",
    "    def identity(self):\n",
    "        return Var(self.v, lambda:[(self, 1.0)])\n",
    "\n",
    "    def tanh(self):\n",
    "        return Var(self.v, lambda:[(self, 1.0-(self.v)**2)])\n",
    "\n",
    "    def sigmoid(self):\n",
    "        return Var(self.v, lambda:[(self, self.v * (1-self.v))])\n",
    "    \n",
    "    def exp(self):\n",
    "        return Var(exp(self.v), lambda: [(self, exp(self.v))])\n",
    "    \n",
    "    def log(self):\n",
    "        return Var(log(self.v), lambda: [(self, self.v ** -1)])"
   ]
  },
  {
   "cell_type": "markdown",
   "metadata": {
    "id": "p_8n_SKnIW2F"
   },
   "source": [
    "## Exercise g) Complete the forward pass\n",
    "\n",
    "In the code below we initialize a 1-5-1 network and pass the training set through it. *The forward method in DenseLayer is **not** complete*. It just outputs zeros right now. The method forward should perform an [affine transformation](https://en.wikipedia.org/wiki/Affine_transformation) on the input followed by an application of the activation function."
   ]
  },
  {
   "cell_type": "code",
   "execution_count": 20,
   "metadata": {
    "colab": {
     "base_uri": "https://localhost:8080/",
     "height": 337
    },
    "id": "xDEjtePxE7Mv",
    "outputId": "753406cd-d8a1-4282-ce03-25ad959b0e11"
   },
   "outputs": [
    {
     "name": "stdout",
     "output_type": "stream",
     "text": [
      "[[Var(v=0.0016, grad=0.0000)], [Var(v=0.0031, grad=0.0000)], [Var(v=0.0003, grad=0.0000)], [Var(v=-0.1111, grad=0.0000)], [Var(v=0.0023, grad=0.0000)], [Var(v=0.0021, grad=0.0000)], [Var(v=0.0014, grad=0.0000)], [Var(v=-0.0267, grad=0.0000)], [Var(v=-0.1145, grad=0.0000)], [Var(v=0.0009, grad=0.0000)], [Var(v=0.0024, grad=0.0000)], [Var(v=-0.0706, grad=0.0000)], [Var(v=0.0019, grad=0.0000)], [Var(v=-0.0807, grad=0.0000)], [Var(v=0.0010, grad=0.0000)], [Var(v=0.0020, grad=0.0000)], [Var(v=0.0037, grad=0.0000)], [Var(v=0.0018, grad=0.0000)], [Var(v=0.0002, grad=0.0000)], [Var(v=0.0006, grad=0.0000)], [Var(v=-0.0529, grad=0.0000)], [Var(v=-0.0233, grad=0.0000)], [Var(v=0.0027, grad=0.0000)], [Var(v=0.0027, grad=0.0000)], [Var(v=-0.0309, grad=0.0000)], [Var(v=-0.0833, grad=0.0000)], [Var(v=0.0035, grad=0.0000)], [Var(v=0.0039, grad=0.0000)], [Var(v=0.0004, grad=0.0000)], [Var(v=0.0024, grad=0.0000)], [Var(v=-0.1044, grad=0.0000)], [Var(v=0.0006, grad=0.0000)], [Var(v=-0.0909, grad=0.0000)], [Var(v=-0.0985, grad=0.0000)], [Var(v=0.0019, grad=0.0000)], [Var(v=-0.0183, grad=0.0000)], [Var(v=-0.1128, grad=0.0000)], [Var(v=-0.0427, grad=0.0000)], [Var(v=-0.0799, grad=0.0000)], [Var(v=-0.0571, grad=0.0000)], [Var(v=-0.0402, grad=0.0000)], [Var(v=-0.0546, grad=0.0000)], [Var(v=0.0037, grad=0.0000)], [Var(v=-0.0681, grad=0.0000)], [Var(v=-0.0537, grad=0.0000)], [Var(v=-0.0655, grad=0.0000)], [Var(v=0.0023, grad=0.0000)], [Var(v=0.0022, grad=0.0000)], [Var(v=-0.0250, grad=0.0000)], [Var(v=0.0023, grad=0.0000)], [Var(v=0.0010, grad=0.0000)], [Var(v=0.0001, grad=0.0000)], [Var(v=0.0025, grad=0.0000)], [Var(v=-0.0554, grad=0.0000)], [Var(v=0.0039, grad=0.0000)], [Var(v=0.0035, grad=0.0000)], [Var(v=-0.0368, grad=0.0000)], [Var(v=-0.0411, grad=0.0000)], [Var(v=0.0013, grad=0.0000)], [Var(v=-0.0976, grad=0.0000)], [Var(v=0.0023, grad=0.0000)], [Var(v=-0.0689, grad=0.0000)], [Var(v=-0.1137, grad=0.0000)], [Var(v=0.0011, grad=0.0000)], [Var(v=0.0008, grad=0.0000)], [Var(v=-0.0934, grad=0.0000)], [Var(v=-0.1002, grad=0.0000)], [Var(v=0.0029, grad=0.0000)], [Var(v=-0.0715, grad=0.0000)], [Var(v=0.0011, grad=0.0000)], [Var(v=-0.0275, grad=0.0000)], [Var(v=-0.0123, grad=0.0000)], [Var(v=0.0022, grad=0.0000)], [Var(v=0.0013, grad=0.0000)], [Var(v=-0.0098, grad=0.0000)], [Var(v=0.0036, grad=0.0000)], [Var(v=-0.0495, grad=0.0000)], [Var(v=-0.0478, grad=0.0000)], [Var(v=-0.0630, grad=0.0000)], [Var(v=0.0037, grad=0.0000)], [Var(v=0.0006, grad=0.0000)], [Var(v=0.0003, grad=0.0000)], [Var(v=-0.1027, grad=0.0000)], [Var(v=-0.0140, grad=0.0000)], [Var(v=-0.0520, grad=0.0000)], [Var(v=-0.0225, grad=0.0000)], [Var(v=-0.0191, grad=0.0000)], [Var(v=-0.0579, grad=0.0000)], [Var(v=-0.1061, grad=0.0000)], [Var(v=-0.1103, grad=0.0000)], [Var(v=0.0013, grad=0.0000)], [Var(v=-0.0335, grad=0.0000)], [Var(v=-0.0613, grad=0.0000)], [Var(v=0.0021, grad=0.0000)], [Var(v=-0.0875, grad=0.0000)], [Var(v=-0.1052, grad=0.0000)], [Var(v=0.0010, grad=0.0000)], [Var(v=0.0002, grad=0.0000)], [Var(v=0.0033, grad=0.0000)], [Var(v=-0.0622, grad=0.0000)], [Var(v=0.0022, grad=0.0000)], [Var(v=-0.0605, grad=0.0000)], [Var(v=-0.0926, grad=0.0000)], [Var(v=0.0011, grad=0.0000)], [Var(v=0.0031, grad=0.0000)]]\n"
     ]
    }
   ],
   "source": [
    "NN = [\n",
    "    DenseLayer(1, 5, lambda x: x.relu()),\n",
    "    DenseLayer(5, 1, lambda x: x.identity())\n",
    "]\n",
    "\n",
    "def forward(input, network):\n",
    "    \n",
    "    def forward_single(x, network):\n",
    "        for layer in network:\n",
    "            x = layer.forward(x)\n",
    "        return x\n",
    "\n",
    "    output = [ forward_single(input[n], network) for n in range(len(input))]\n",
    "    \n",
    "    return output\n",
    "\n",
    "print(forward(x_train, NN))"
   ]
  },
  {
   "cell_type": "markdown",
   "metadata": {
    "id": "oLrGJytZFtGm"
   },
   "source": [
    "## Exercise h) Print all network parameters\n",
    "\n",
    "Make a function that prints all the parameters of the network (weights and biases) with information about in which layer the appear. In the object oriented spirit you should introduce a method in the DenseLayer class to print the parameters of a layer. Hint: You can take inspiration from the corresponding method in Var. "
   ]
  },
  {
   "cell_type": "code",
   "execution_count": 21,
   "metadata": {
    "id": "iac-VwYGFtGm"
   },
   "outputs": [],
   "source": [
    "# Insert code here and in the DenseLayer class\n",
    "from typing import Sequence\n",
    "\n",
    "class DenseLayer:\n",
    "    def __init__(self, n_in: int, n_out: int, act_fn, initializer = NormalInitializer()):\n",
    "        self.weights = initializer.init_weights(n_in, n_out)\n",
    "        self.bias = initializer.init_bias(n_out)\n",
    "        self.act_fn = act_fn\n",
    "    \n",
    "    def __repr__(self):\n",
    "        \n",
    "        return \"%s input nodes \\n%s output nodes \\n Weights:%s \\n Biases:%s\" % (len(self.weights), len(self.weights[0]), self.weights, self.bias)\n",
    "                      \n",
    "    def parameters(self) -> Sequence[Var]:\n",
    "        params = []\n",
    "        for r in self.weights:\n",
    "            params += r\n",
    "        \n",
    "        return params + self.bias\n",
    "\n",
    "    def forward(self, single_input: Sequence[Var]) -> Sequence[Var]:\n",
    "        # self.weights is a matrix with dimension n_in x n_out. We check that the dimensionality of the input \n",
    "        # to the current layer matches the number of nodes in the current layer\n",
    "        assert len(self.weights) == len(single_input), \"weights and single_input must match in first dimension\"\n",
    "        weights = self.weights\n",
    "        out = []\n",
    "        # For some given data point single_input, we now want to calculate the resulting value in each node in the current layer\n",
    "        # We therefore loop over the (number of) nodes in the current layer:\n",
    "        for j in range(len(weights[0])): \n",
    "            # Initialize the node value depending on its corresponding parameters.\n",
    "            node = Var(0.0) # <- Insert code\n",
    "            \n",
    "            # We now finish the linear transformation corresponding to the parameters of the currently considered node.\n",
    "            for i in range(len(weights)):\n",
    "                node += weights[i][j] * single_input[i] + self.bias[j]# <- Insert code\n",
    "                \n",
    "            node = self.act_fn(node)\n",
    "            out.append(node)\n",
    "\n",
    "        return out"
   ]
  },
  {
   "cell_type": "code",
   "execution_count": 22,
   "metadata": {},
   "outputs": [
    {
     "name": "stdout",
     "output_type": "stream",
     "text": [
      "1 input nodes \n",
      "5 output nodes \n",
      " Weights:[[Var(v=0.0267, grad=0.0000), Var(v=-0.0854, grad=0.0000), Var(v=0.0073, grad=0.0000), Var(v=-0.1332, grad=0.0000), Var(v=-0.0400, grad=0.0000)]] \n",
      " Biases:[Var(v=0.0000, grad=0.0000), Var(v=0.0000, grad=0.0000), Var(v=0.0000, grad=0.0000), Var(v=0.0000, grad=0.0000), Var(v=0.0000, grad=0.0000)]\n"
     ]
    }
   ],
   "source": [
    "print(DenseLayer(1, 5, lambda x: x.relu()))"
   ]
  },
  {
   "cell_type": "markdown",
   "metadata": {
    "id": "_79HOAXrFtHK"
   },
   "source": [
    "## Visualization\n",
    "\n",
    "Now that we have defined our activation functions we can visualize them to see what they look like:"
   ]
  },
  {
   "cell_type": "code",
   "execution_count": 23,
   "metadata": {
    "id": "1FcylHqLTl-Z"
   },
   "outputs": [
    {
     "data": {
      "text/plain": [
       "[<matplotlib.lines.Line2D at 0x1935ee19460>]"
      ]
     },
     "execution_count": 23,
     "metadata": {},
     "output_type": "execute_result"
    },
    {
     "data": {
      "image/png": "[encoded data removed]",
      "text/plain": [
       "<Figure size 432x288 with 1 Axes>"
      ]
     },
     "metadata": {
      "needs_background": "light"
     },
     "output_type": "display_data"
    }
   ],
   "source": [
    "x = np.linspace(-6, 6, 100)\n",
    "\n",
    "# convert from Var to ndarray  \n",
    "def Var_to_nparray(x):\n",
    "    y = np.zeros((len(x),len(x[0])))\n",
    "    for i in range(len(x)):\n",
    "        for j in range(len(x[0])):\n",
    "            y[i,j] = x[i][j].v\n",
    "    \n",
    "    return y\n",
    "\n",
    "# define 1-1 network with weight = 1 and relu activation \n",
    "NN = [ DenseLayer(1, 1, lambda x: x.relu(), initializer = ConstantInitializer(1.0)) ] \n",
    "y = Var_to_nparray(forward(nparray_to_Var(x), NN))\n",
    "\n",
    "#y = Var_to_nparray(relu(nparray_to_Var(x)))\n",
    "plt.plot(x,y)"
   ]
  },
  {
   "cell_type": "code",
   "execution_count": 24,
   "metadata": {
    "id": "oOL2UolJFtHL"
   },
   "outputs": [
    {
     "data": {
      "image/png": "[encoded data removed]",
      "text/plain": [
       "<Figure size 360x360 with 1 Axes>"
      ]
     },
     "metadata": {
      "needs_background": "light"
     },
     "output_type": "display_data"
    }
   ],
   "source": [
    "# Testing all activation layers\n",
    "\n",
    "x = np.linspace(-6, 6, 100)\n",
    "units = {\n",
    "    \"identity\": lambda x: x.identity(),\n",
    "    #\"sigmoid\": lambda x: x.sigmoid(),  <- uncomment before sharing\n",
    "    \"relu\": lambda x: x.relu(),\n",
    "    #\"tanh\": lambda x: x.tanh() <- uncomment before sharing\n",
    "}\n",
    "\n",
    "plt.figure(figsize=(5, 5))\n",
    "[plt.plot(x, Var_to_nparray(forward(nparray_to_Var(x), [DenseLayer(1, 1, unit, initializer = ConstantInitializer(1.0))]) ), label=unit_name, lw=2) for unit_name, unit in units.items()] # unit(nparray_to_Var(x))), label=unit_name, lw=2) for unit_name, unit in units.items()]\n",
    "plt.legend(loc=2, fontsize=16)\n",
    "plt.title('Our activation functions', fontsize=20)\n",
    "plt.ylim([-2, 5])\n",
    "plt.xlim([-6, 6])\n",
    "plt.show()"
   ]
  },
  {
   "cell_type": "markdown",
   "metadata": {
    "id": "b-jdEl-7FtGs"
   },
   "source": [
    "# Advanced initialization schemes\n",
    "\n",
    "If we are not careful with initialization, the signals we propagate forward ($a^{(l)}$, $l=1,\\ldots,L$) and backward ($\\delta^l$, $l=L,L-1,\\ldots,1$) can blow up or shrink to zero. A statistical analysis of the variance of the signals for different activation functions can be found in these two papers: [Glorot initialization](http://proceedings.mlr.press/v9/glorot10a/glorot10a.pdf) and [He initialization](https://arxiv.org/pdf/1502.01852v1.pdf). \n",
    "\n",
    "The result of the analyses are proposals for how to make the initialization such that the variance of the signals (forward and backward) are kept approxmimatly constant when propagating from layer to layer. The exact expressions depend upon the non-linear activation function used. In Glorot initialization, the aim is to keep both the forward and backward variances constant whereas He only aims at keeping the variance in the forward pass constant.\n",
    "\n",
    "We define $n_{in}$ and $n_{out}$ as the number of input units and output units of a particular layer. \n",
    "\n",
    "The Glorot initialization has the form: \n",
    "\n",
    "$$w_{ij} \\sim N \\bigg( 0, \\, \\frac{2 \\alpha }{n_{in} + n_{out}} \\bigg) \\ . $$\n",
    "\n",
    "where $N(\\mu,\\sigma^2)$ is a Gaussian distribution with mean $\\mu$ and variance $\\sigma^2$ and $\\alpha$ is a parameter that depends upon the activation function used. For $\\tanh$, $\\alpha=1$ and for Rectified Linear Unit (ReLU) activations, $\\alpha=2$. (It is also possible to use a uniform distribution for initialization, see [this blog post](https://mmuratarat.github.io/2019-02-25/xavier-glorot-he-weight-init).) \n",
    "\n",
    "The He initialization is very similar\n",
    "\n",
    "$$w_{ij} \\sim N \\bigg( 0, \\, \\frac{\\alpha}{n_{in}} \\bigg) \\ . $$"
   ]
  },
  {
   "cell_type": "markdown",
   "metadata": {
    "id": "mqeyab9qFtGs"
   },
   "source": [
    "## Exercise i) Glorot and He initialization\n",
    " \n",
    "Using the Initializer class, implement functions that implement Glorot and He \n",
    "\n",
    "Explain briefly how you would test numerically that these initializations have the sought after property. Hint: See plots in Glorot paper.\n",
    "\n",
    "Comment: If you want to be more advanced then try to make a universal initializer taking both the activation function and type (Glorot or He) as argument."
   ]
  },
  {
   "cell_type": "code",
   "execution_count": 25,
   "metadata": {
    "id": "Qyk01CgaFtGt"
   },
   "outputs": [],
   "source": [
    "## Glorot\n",
    "def DenseLayer_Glorot_tanh(n_in: int, n_out: int):\n",
    "    std = 2 / (n_in + n_out) # <- replace with proper initialization\n",
    "    return DenseLayer(n_in, n_out, lambda x: x.tanh(), initializer = NormalInitializer(std))\n",
    "\n",
    "## He\n",
    "def DenseLayer_He_relu(n_in: int, n_out: int):\n",
    "    std = 1 / (n_in) # <- replace with proper initialization\n",
    "    return DenseLayer(n_in, n_out, lambda x: x.relu(), initializer = NormalInitializer(std))"
   ]
  },
  {
   "cell_type": "markdown",
   "metadata": {
    "id": "-XyXBD37FtHk"
   },
   "source": [
    "## Exercise j) Forward pass unit test\n",
    "\n",
    "Write a bit of code to make a unit test that the forward pass works. This can be done by defining a simple network with for example all weights equal to one (using the ConstantInitializer method) and identity activation functions. \n",
    "\n",
    "Hints: Use the [assert](https://www.w3schools.com/python/ref_keyword_assert.asp), the nparray_to_Var and the Var_to_nparray commands. "
   ]
  },
  {
   "cell_type": "code",
   "execution_count": 26,
   "metadata": {
    "id": "k0miqRUAFtHl"
   },
   "outputs": [
    {
     "data": {
      "text/plain": [
       "[<matplotlib.lines.Line2D at 0x1935ee2d310>]"
      ]
     },
     "execution_count": 26,
     "metadata": {},
     "output_type": "execute_result"
    },
    {
     "data": {
      "image/png": "[encoded data removed]",
      "text/plain": [
       "<Figure size 432x288 with 1 Axes>"
      ]
     },
     "metadata": {
      "needs_background": "light"
     },
     "output_type": "display_data"
    }
   ],
   "source": [
    "# Insert code here\n",
    "x = np.linspace(-6, 6, 100)\n",
    "\n",
    "x = nparray_to_Var(x)\n",
    "\n",
    "NN = [\n",
    "    DenseLayer_Glorot_tanh(1, 5),\n",
    "    DenseLayer_He_relu(5, 1)\n",
    "]\n",
    "\n",
    "output = Var_to_nparray(forward(x, NN))\n",
    "\n",
    "x = Var_to_nparray(x)\n",
    "\n",
    "plt.plot(x,y)"
   ]
  },
  {
   "cell_type": "markdown",
   "metadata": {
    "id": "faCxhfFnFtHp"
   },
   "source": [
    "# Loss functions\n",
    "\n",
    "We are only missing a loss function to we need to define a loss function and its derivative with respect to the output of the neural network $y$"
   ]
  },
  {
   "cell_type": "code",
   "execution_count": 27,
   "metadata": {
    "id": "I2eDYKvAFtHq"
   },
   "outputs": [],
   "source": [
    "def squared_loss(x, y):\n",
    "    \n",
    "  # add check that sizes agree\n",
    "    def squared_loss_single(t, y):\n",
    "        loss = Var(0.0)\n",
    "        for i in range(len(t)): # sum over outputs\n",
    "            loss += (t[i]-y[i]) ** 2\n",
    "        \n",
    "        return loss\n",
    "        \n",
    "    Loss = Var(0.0)\n",
    "    for n in range(len(x)): # sum over training data\n",
    "        Loss += squared_loss_single(x[n],y[n])\n",
    "        \n",
    "    return Loss"
   ]
  },
  {
   "cell_type": "markdown",
   "metadata": {
    "id": "SrwSJ2UWFtHu"
   },
   "source": [
    "## Exercise j) Implement cross entropy loss\n",
    "\n",
    "Insert code below to implement cross-entropy loss for general dimensionality of $t$. Use a logits formulation:\n",
    "$$\n",
    "\\rm{Loss} = - \\sum_i t_i \\, log \\, p_i \n",
    "$$\n",
    "with $p$ given by the the softmax function in terms of the logits $h$:\n",
    "$$\n",
    "p_i = \\frac{\\exp(h_i)}{\\sum_{i'} \\exp(h_{i'})} .\n",
    "$$\n",
    "Inserting $p$ in the expression for the loss gives\n",
    "$$\n",
    "\\rm{Loss} = - \\sum_i t_i h_i + \\rm{LogSumExp}(h) \\ ,\n",
    "$$\n",
    "where \n",
    "$$\n",
    "\\rm{LogSumExp}(h) = \\log \\sum_i \\exp h_i \\ .\n",
    "$$\n",
    "This is true for $t$ being a one-hot vector. \n",
    "\n",
    "Call the function to convince yourself it works. \n",
    "\n",
    "In practice you want to implement a [numerically stable](https://leimao.github.io/blog/LogSumExp/) version of LogSumExp. But we will not bother about that here.\n",
    "\n",
    "Help: You can add these methods in the Var class:\n",
    "\n",
    "    def exp(self):\n",
    "        return Var(exp(self.v), lambda: [(self, exp(self.v))])\n",
    "    \n",
    "    def log(self):\n",
    "        return Var(log(self.v), lambda: [(self, self.v ** -1)])"
   ]
  },
  {
   "cell_type": "code",
   "execution_count": 28,
   "metadata": {
    "id": "6nMuxyfzFtHv"
   },
   "outputs": [],
   "source": [
    "def cross_entropy_loss(t, h):\n",
    "     \n",
    "    loss = Var(0.0)\n",
    "    loss_a = 0\n",
    "    # Insert code here\n",
    "    for i in range(len(h)):\n",
    "        SumExp += exp(h[i])\n",
    "        \n",
    "        loss_a += t[i] * h[i]\n",
    "        \n",
    "    LogSumExp = log(SumExp)\n",
    "    \n",
    "    loss = -loss_a + LogSumExp\n",
    "    \n",
    "    return loss"
   ]
  },
  {
   "cell_type": "markdown",
   "metadata": {
    "id": "8fAF5ew4FtHy"
   },
   "source": [
    "# Backward pass\n",
    "\n",
    "Now the magic happens! We get the calculation of the gradients for free. Just do:"
   ]
  },
  {
   "cell_type": "code",
   "execution_count": 29,
   "metadata": {
    "id": "iHyfPPI9Qqwu"
   },
   "outputs": [],
   "source": [
    "NN = [\n",
    "    DenseLayer(1, 5, lambda x: x.relu()),\n",
    "    DenseLayer(5, 1, lambda x: x.identity())\n",
    "]\n",
    "\n",
    "output = forward(x_train, NN)\n",
    "\n",
    "loss = squared_loss(y_train,output)\n",
    "loss.backward()"
   ]
  },
  {
   "cell_type": "markdown",
   "metadata": {
    "id": "49biIAYKQ1oG"
   },
   "source": [
    "and the gradients will be calculated:"
   ]
  },
  {
   "cell_type": "code",
   "execution_count": 30,
   "metadata": {
    "id": "_rGt1bq_Q7uk"
   },
   "outputs": [
    {
     "name": "stdout",
     "output_type": "stream",
     "text": [
      "Layer 0 \n",
      " 1 input nodes \n",
      "5 output nodes \n",
      " Weights:[[Var(v=0.0587, grad=1.6317), Var(v=0.0695, grad=3.7035), Var(v=0.0347, grad=2.2415), Var(v=-0.1196, grad=9.7891), Var(v=0.0208, grad=7.3107)]] \n",
      " Biases:[Var(v=0.0000, grad=1.4015), Var(v=0.0000, grad=3.1810), Var(v=0.0000, grad=1.9252), Var(v=0.0000, grad=-8.8958), Var(v=0.0000, grad=6.2792)]\n",
      "Layer 1 \n",
      " 5 input nodes \n",
      "1 output nodes \n",
      " Weights:[[Var(v=-0.0160, grad=-6.0007)], [Var(v=-0.0362, grad=-7.1049)], [Var(v=-0.0219, grad=-3.5487)], [Var(v=-0.1033, grad=11.3308)], [Var(v=-0.0715, grad=-2.1268)]] \n",
      " Biases:[Var(v=0.0000, grad=-8.3599)]\n"
     ]
    },
    {
     "data": {
      "text/plain": [
       "[None, None]"
      ]
     },
     "execution_count": 30,
     "metadata": {},
     "output_type": "execute_result"
    }
   ],
   "source": [
    "[print('Layer', i, '\\n', NN[i]) for i in range(len(NN))] "
   ]
  },
  {
   "cell_type": "markdown",
   "metadata": {
    "id": "D7d7qK0uFtH9"
   },
   "source": [
    "# Backward pass unit test\n",
    "\n",
    "Above we used finite differences to test that Nanograd is actually doing what it is supposed to do. We can in principle try the same for the neural network. But we will trust that the test above is enough."
   ]
  },
  {
   "cell_type": "markdown",
   "metadata": {
    "id": "WgBi8GOSFtIN"
   },
   "source": [
    "# Training and validation\n",
    "\n",
    "We are ready to train some neural networks!\n",
    "\n",
    "We initialize again:"
   ]
  },
  {
   "cell_type": "code",
   "execution_count": 31,
   "metadata": {
    "id": "01ePmzBzRtdh"
   },
   "outputs": [],
   "source": [
    "NN = [\n",
    "    DenseLayer(1, 15, lambda x: x.relu()),\n",
    "    DenseLayer(15, 50, lambda x: x.relu()),\n",
    "    DenseLayer(50, 1, lambda x: x.identity())\n",
    "]\n",
    "\n",
    "output = forward(x_train, NN)\n",
    "\n",
    "Loss = squared_loss(y_train,output)\n",
    "Loss.backward()"
   ]
  },
  {
   "cell_type": "markdown",
   "metadata": {
    "id": "10iRPiQ1ISHw"
   },
   "source": [
    "and make an update:\n",
    "\n",
    "We introduce a help function parameters to have a handle in all parameters in the network."
   ]
  },
  {
   "cell_type": "code",
   "execution_count": 32,
   "metadata": {
    "id": "dhAI7eyeznia"
   },
   "outputs": [
    {
     "name": "stdout",
     "output_type": "stream",
     "text": [
      "Network before update:\n",
      "Layer 0 \n",
      " 1 input nodes \n",
      "15 output nodes \n",
      " Weights:[[Var(v=-0.1733, grad=5.6938), Var(v=-0.1763, grad=-2.3613), Var(v=0.1136, grad=-2.0099), Var(v=-0.0140, grad=4.6636), Var(v=-0.1096, grad=0.2174), Var(v=-0.0033, grad=0.8883), Var(v=0.0072, grad=7.9579), Var(v=-0.0400, grad=9.9126), Var(v=0.1803, grad=1.0342), Var(v=-0.1355, grad=-1.1555), Var(v=0.0715, grad=0.1974), Var(v=0.0298, grad=-1.7484), Var(v=-0.0294, grad=10.8249), Var(v=-0.0787, grad=-0.7817), Var(v=-0.0665, grad=2.7455)]] \n",
      " Biases:[Var(v=0.0000, grad=-5.1740), Var(v=0.0000, grad=2.1457), Var(v=0.0000, grad=-1.7265), Var(v=0.0000, grad=-4.2379), Var(v=0.0000, grad=-0.1976), Var(v=0.0000, grad=-0.8072), Var(v=0.0000, grad=6.8359), Var(v=0.0000, grad=-9.0077), Var(v=0.0000, grad=0.8884), Var(v=0.0000, grad=1.0500), Var(v=0.0000, grad=0.1696), Var(v=0.0000, grad=-1.5019), Var(v=0.0000, grad=-9.8367), Var(v=0.0000, grad=0.7103), Var(v=0.0000, grad=-2.4949)]\n",
      "Layer 1 \n",
      " 15 input nodes \n",
      "50 output nodes \n",
      " Weights:[[Var(v=-0.1665, grad=0.0330), Var(v=-0.0985, grad=0.0000), Var(v=0.0608, grad=-2.1164), Var(v=0.1551, grad=2.6439), Var(v=-0.0248, grad=0.0000), Var(v=-0.0696, grad=-1.0999), Var(v=0.1541, grad=0.0000), Var(v=-0.0229, grad=0.0000), Var(v=0.1206, grad=0.8961), Var(v=0.0172, grad=0.0000), Var(v=0.0797, grad=-0.2365), Var(v=-0.1102, grad=0.0000), Var(v=0.0386, grad=1.3463), Var(v=-0.0312, grad=-0.8193), Var(v=-0.0882, grad=0.9847), Var(v=0.1500, grad=0.3177), Var(v=0.0313, grad=0.0000), Var(v=0.0154, grad=2.4058), Var(v=-0.0208, grad=0.0000), Var(v=-0.0257, grad=1.7233), Var(v=0.0933, grad=-3.0550), Var(v=0.0687, grad=0.0000), Var(v=0.1220, grad=-2.1953), Var(v=0.1407, grad=0.5243), Var(v=0.0483, grad=-1.0847), Var(v=-0.0586, grad=-0.5595), Var(v=0.0018, grad=0.0000), Var(v=0.1803, grad=-2.0820), Var(v=0.0649, grad=-3.5998), Var(v=-0.1066, grad=0.0000), Var(v=-0.0802, grad=1.5597), Var(v=-0.0808, grad=0.0000), Var(v=-0.1060, grad=0.0000), Var(v=0.0732, grad=3.0217), Var(v=0.0267, grad=0.0000), Var(v=0.1514, grad=-2.9002), Var(v=0.0285, grad=2.6129), Var(v=0.0786, grad=-0.4265), Var(v=-0.1929, grad=0.0000), Var(v=0.0271, grad=-2.5531), Var(v=0.0326, grad=-1.4837), Var(v=-0.0653, grad=0.0000), Var(v=-0.1733, grad=0.0000), Var(v=0.0705, grad=1.3850), Var(v=0.0428, grad=3.3451), Var(v=0.2801, grad=-0.6171), Var(v=-0.0053, grad=0.0000), Var(v=0.0055, grad=0.0000), Var(v=-0.2709, grad=0.0000), Var(v=-0.0540, grad=0.0000)], [Var(v=0.0665, grad=0.0336), Var(v=-0.0517, grad=0.0000), Var(v=0.0136, grad=-2.1530), Var(v=0.1665, grad=2.6896), Var(v=0.1403, grad=0.0000), Var(v=-0.0214, grad=-1.1189), Var(v=-0.0687, grad=0.0000), Var(v=-0.0199, grad=0.0000), Var(v=0.0632, grad=0.9116), Var(v=0.0475, grad=0.0000), Var(v=-0.0722, grad=-0.2406), Var(v=0.1215, grad=0.0000), Var(v=0.1878, grad=1.3696), Var(v=0.0498, grad=-0.8334), Var(v=0.1263, grad=1.0017), Var(v=-0.0378, grad=0.3232), Var(v=-0.0818, grad=0.0000), Var(v=-0.0016, grad=2.4474), Var(v=-0.0421, grad=0.0000), Var(v=0.0723, grad=1.7531), Var(v=-0.0146, grad=-3.1078), Var(v=-0.0241, grad=0.0000), Var(v=-0.0148, grad=-2.2332), Var(v=0.0099, grad=0.5333), Var(v=-0.0016, grad=-1.1034), Var(v=0.1734, grad=-0.5692), Var(v=-0.0702, grad=0.0000), Var(v=-0.0413, grad=-2.1179), Var(v=-0.0017, grad=-3.6620), Var(v=0.0705, grad=0.0000), Var(v=-0.0696, grad=1.5867), Var(v=0.0932, grad=0.0000), Var(v=0.1187, grad=0.0000), Var(v=-0.1274, grad=3.0739), Var(v=0.0376, grad=0.0000), Var(v=0.0853, grad=-2.9502), Var(v=0.0112, grad=2.6580), Var(v=0.2328, grad=-0.4339), Var(v=-0.0193, grad=0.0000), Var(v=-0.0481, grad=-2.5972), Var(v=0.0203, grad=-1.5093), Var(v=-0.0756, grad=0.0000), Var(v=0.0925, grad=0.0000), Var(v=-0.0611, grad=1.4089), Var(v=0.0804, grad=3.4028), Var(v=0.1490, grad=-0.6277), Var(v=0.0324, grad=0.0000), Var(v=-0.1148, grad=0.0000), Var(v=-0.0091, grad=0.0000), Var(v=-0.0997, grad=0.0000)], [Var(v=0.0479, grad=0.0000), Var(v=0.1485, grad=0.0000), Var(v=-0.0224, grad=1.4898), Var(v=0.0024, grad=0.0000), Var(v=0.1173, grad=0.0000), Var(v=0.1841, grad=0.7743), Var(v=0.1920, grad=0.0000), Var(v=-0.0153, grad=-0.2773), Var(v=-0.0405, grad=0.0000), Var(v=0.1082, grad=1.2132), Var(v=-0.0100, grad=0.0000), Var(v=0.0350, grad=-2.2451), Var(v=-0.1633, grad=-0.9477), Var(v=-0.0441, grad=0.5767), Var(v=0.0439, grad=0.0000), Var(v=0.0515, grad=0.0000), Var(v=-0.2368, grad=0.0000), Var(v=0.0705, grad=-1.6936), Var(v=0.0390, grad=0.0000), Var(v=0.0978, grad=-1.2131), Var(v=0.0441, grad=2.1506), Var(v=-0.0422, grad=0.0000), Var(v=-0.0435, grad=1.5454), Var(v=0.1942, grad=-0.3691), Var(v=0.0508, grad=0.7635), Var(v=0.0068, grad=0.0000), Var(v=-0.0748, grad=0.0000), Var(v=-0.0460, grad=1.4656), Var(v=-0.1245, grad=0.0000), Var(v=0.0300, grad=0.0000), Var(v=0.0443, grad=-1.0980), Var(v=-0.0929, grad=-1.5955), Var(v=-0.1695, grad=0.0000), Var(v=-0.0450, grad=-2.1271), Var(v=0.0481, grad=0.0000), Var(v=-0.0716, grad=2.0415), Var(v=0.1763, grad=-1.8393), Var(v=-0.2283, grad=0.0000), Var(v=-0.0853, grad=0.8654), Var(v=-0.0704, grad=0.0000), Var(v=-0.0549, grad=0.0000), Var(v=-0.0465, grad=0.0000), Var(v=0.1590, grad=0.8539), Var(v=-0.0667, grad=0.0000), Var(v=-0.0910, grad=0.0000), Var(v=0.1089, grad=0.0000), Var(v=-0.0077, grad=0.0000), Var(v=0.0019, grad=0.0000), Var(v=-0.0279, grad=0.0000), Var(v=-0.0491, grad=0.0000)], [Var(v=-0.0708, grad=0.0027), Var(v=0.0259, grad=0.0000), Var(v=0.0646, grad=-0.1707), Var(v=-0.1161, grad=0.2133), Var(v=-0.1784, grad=0.0000), Var(v=0.0349, grad=-0.0887), Var(v=-0.0584, grad=0.0000), Var(v=0.0661, grad=0.0000), Var(v=-0.0527, grad=0.0723), Var(v=-0.1719, grad=0.0000), Var(v=-0.1114, grad=-0.0191), Var(v=-0.1323, grad=0.0000), Var(v=-0.1001, grad=0.1086), Var(v=-0.0480, grad=-0.0661), Var(v=0.1643, grad=0.0794), Var(v=-0.0279, grad=0.0256), Var(v=0.0746, grad=0.0000), Var(v=0.1671, grad=0.1941), Var(v=0.0352, grad=0.0000), Var(v=-0.1238, grad=0.1390), Var(v=0.1945, grad=-0.2465), Var(v=-0.0998, grad=0.0000), Var(v=-0.0127, grad=-0.1771), Var(v=0.1747, grad=0.0423), Var(v=-0.0720, grad=-0.0875), Var(v=-0.0428, grad=-0.0451), Var(v=0.0095, grad=0.0000), Var(v=-0.1394, grad=-0.1680), Var(v=0.0884, grad=-0.2904), Var(v=-0.0454, grad=0.0000), Var(v=0.1394, grad=0.1258), Var(v=0.0141, grad=0.0000), Var(v=0.0988, grad=0.0000), Var(v=-0.0589, grad=0.2438), Var(v=0.0322, grad=0.0000), Var(v=-0.0613, grad=-0.2340), Var(v=0.0105, grad=0.2108), Var(v=-0.0786, grad=-0.0344), Var(v=0.0594, grad=0.0000), Var(v=-0.0073, grad=-0.2060), Var(v=0.1448, grad=-0.1197), Var(v=0.0067, grad=0.0000), Var(v=0.0004, grad=0.0000), Var(v=-0.0041, grad=0.1117), Var(v=-0.0914, grad=0.2699), Var(v=-0.1308, grad=-0.0498), Var(v=0.0574, grad=0.0000), Var(v=0.0120, grad=0.0000), Var(v=0.0877, grad=0.0000), Var(v=-0.1374, grad=0.0000)], [Var(v=0.2204, grad=0.0209), Var(v=-0.0097, grad=0.0000), Var(v=0.1202, grad=-1.3385), Var(v=0.1286, grad=1.6721), Var(v=-0.0565, grad=0.0000), Var(v=0.0622, grad=-0.6956), Var(v=-0.0125, grad=0.0000), Var(v=0.0386, grad=0.0000), Var(v=-0.0317, grad=0.5667), Var(v=-0.2272, grad=0.0000), Var(v=-0.1394, grad=-0.1496), Var(v=0.0320, grad=0.0000), Var(v=-0.0774, grad=0.8515), Var(v=0.1036, grad=-0.5181), Var(v=-0.0440, grad=0.6227), Var(v=0.0288, grad=0.2009), Var(v=-0.0957, grad=0.0000), Var(v=0.0661, grad=1.5215), Var(v=-0.2016, grad=0.0000), Var(v=0.0952, grad=1.0899), Var(v=0.0089, grad=-1.9321), Var(v=-0.1387, grad=0.0000), Var(v=0.0986, grad=-1.3884), Var(v=-0.1933, grad=0.3316), Var(v=0.0757, grad=-0.6860), Var(v=0.0687, grad=-0.3539), Var(v=-0.0031, grad=0.0000), Var(v=-0.0675, grad=-1.3167), Var(v=-0.1615, grad=-2.2766), Var(v=-0.1793, grad=0.0000), Var(v=0.1021, grad=0.9864), Var(v=0.0087, grad=0.0000), Var(v=-0.1620, grad=0.0000), Var(v=-0.0997, grad=1.9110), Var(v=-0.0725, grad=0.0000), Var(v=0.1151, grad=-1.8341), Var(v=-0.0070, grad=1.6525), Var(v=-0.0168, grad=-0.2698), Var(v=-0.0273, grad=0.0000), Var(v=0.0155, grad=-1.6146), Var(v=-0.0047, grad=-0.9383), Var(v=-0.0095, grad=0.0000), Var(v=0.0771, grad=0.0000), Var(v=0.1557, grad=0.8759), Var(v=-0.0626, grad=2.1155), Var(v=-0.1465, grad=-0.3903), Var(v=-0.1361, grad=0.0000), Var(v=-0.0813, grad=0.0000), Var(v=-0.0019, grad=0.0000), Var(v=0.0271, grad=0.0000)], [Var(v=-0.1300, grad=0.0006), Var(v=-0.0132, grad=0.0000), Var(v=-0.0240, grad=-0.0403), Var(v=0.0338, grad=0.0504), Var(v=-0.0232, grad=0.0000), Var(v=0.0199, grad=-0.0210), Var(v=0.0832, grad=0.0000), Var(v=-0.0908, grad=0.0000), Var(v=-0.1792, grad=0.0171), Var(v=0.0829, grad=0.0000), Var(v=-0.0132, grad=-0.0045), Var(v=0.0318, grad=0.0000), Var(v=0.1898, grad=0.0257), Var(v=0.0201, grad=-0.0156), Var(v=0.0745, grad=0.0188), Var(v=-0.0184, grad=0.0061), Var(v=-0.1003, grad=0.0000), Var(v=-0.1971, grad=0.0459), Var(v=-0.0188, grad=0.0000), Var(v=0.0620, grad=0.0328), Var(v=0.0454, grad=-0.0582), Var(v=0.0877, grad=0.0000), Var(v=0.0538, grad=-0.0418), Var(v=0.0856, grad=0.0100), Var(v=-0.1556, grad=-0.0207), Var(v=-0.1041, grad=-0.0107), Var(v=0.0493, grad=0.0000), Var(v=-0.0057, grad=-0.0397), Var(v=0.0648, grad=-0.0686), Var(v=-0.2098, grad=0.0000), Var(v=-0.1234, grad=0.0297), Var(v=-0.1247, grad=0.0000), Var(v=-0.0971, grad=0.0000), Var(v=0.0213, grad=0.0576), Var(v=-0.2253, grad=0.0000), Var(v=-0.0336, grad=-0.0553), Var(v=-0.0665, grad=0.0498), Var(v=-0.1179, grad=-0.0081), Var(v=0.0339, grad=0.0000), Var(v=0.0602, grad=-0.0487), Var(v=-0.1131, grad=-0.0283), Var(v=-0.0183, grad=0.0000), Var(v=-0.0532, grad=0.0000), Var(v=0.0596, grad=0.0264), Var(v=0.0524, grad=0.0638), Var(v=-0.0634, grad=-0.0118), Var(v=0.1352, grad=0.0000), Var(v=0.0922, grad=0.0000), Var(v=-0.0742, grad=0.0000), Var(v=0.1050, grad=0.0000)], [Var(v=-0.1229, grad=0.0000), Var(v=-0.0965, grad=0.0000), Var(v=-0.0482, grad=0.0949), Var(v=0.2215, grad=0.0000), Var(v=-0.1029, grad=0.0000), Var(v=-0.0669, grad=0.0493), Var(v=0.0623, grad=0.0000), Var(v=-0.0167, grad=-0.0177), Var(v=-0.0011, grad=0.0000), Var(v=-0.0420, grad=0.0772), Var(v=-0.0289, grad=0.0000), Var(v=-0.1494, grad=-0.1429), Var(v=0.0353, grad=-0.0603), Var(v=-0.1208, grad=0.0367), Var(v=0.0101, grad=0.0000), Var(v=0.0026, grad=0.0000), Var(v=0.0505, grad=0.0000), Var(v=-0.0285, grad=-0.1078), Var(v=-0.0661, grad=0.0000), Var(v=0.1044, grad=-0.0772), Var(v=-0.0105, grad=0.1369), Var(v=-0.0500, grad=0.0000), Var(v=0.1922, grad=0.0984), Var(v=-0.1226, grad=-0.0235), Var(v=-0.0744, grad=0.0486), Var(v=-0.0362, grad=0.0000), Var(v=-0.0510, grad=0.0000), Var(v=0.1183, grad=0.0933), Var(v=0.0599, grad=0.0000), Var(v=-0.0083, grad=0.0000), Var(v=0.0790, grad=-0.0699), Var(v=-0.1649, grad=-0.1016), Var(v=-0.0309, grad=0.0000), Var(v=-0.2142, grad=-0.1354), Var(v=0.0126, grad=0.0000), Var(v=-0.0249, grad=0.1300), Var(v=0.0563, grad=-0.1171), Var(v=0.1035, grad=0.0000), Var(v=-0.0263, grad=0.0551), Var(v=-0.1245, grad=0.0000), Var(v=0.0271, grad=0.0000), Var(v=0.0869, grad=0.0000), Var(v=0.0341, grad=0.0544), Var(v=0.1172, grad=0.0000), Var(v=0.0616, grad=0.0000), Var(v=-0.0059, grad=0.0000), Var(v=0.2167, grad=0.0000), Var(v=-0.0258, grad=0.0000), Var(v=-0.0089, grad=0.0000), Var(v=-0.0199, grad=0.0000)], [Var(v=-0.0409, grad=0.0076), Var(v=-0.0721, grad=0.0000), Var(v=0.1985, grad=-0.4884), Var(v=-0.0403, grad=0.6101), Var(v=-0.1398, grad=0.0000), Var(v=0.1936, grad=-0.2538), Var(v=0.0648, grad=0.0000), Var(v=-0.0553, grad=0.0000), Var(v=0.0706, grad=0.2068), Var(v=0.0368, grad=0.0000), Var(v=-0.1043, grad=-0.0546), Var(v=-0.0874, grad=0.0000), Var(v=-0.0106, grad=0.3107), Var(v=0.0562, grad=-0.1890), Var(v=-0.0213, grad=0.2272), Var(v=-0.0939, grad=0.0733), Var(v=0.0517, grad=0.0000), Var(v=-0.1021, grad=0.5551), Var(v=0.0749, grad=0.0000), Var(v=-0.0381, grad=0.3977), Var(v=-0.2252, grad=-0.7049), Var(v=0.0915, grad=0.0000), Var(v=0.0265, grad=-0.5066), Var(v=-0.0264, grad=0.1210), Var(v=0.0286, grad=-0.2503), Var(v=0.0880, grad=-0.1291), Var(v=-0.0084, grad=0.0000), Var(v=0.1287, grad=-0.4804), Var(v=0.0293, grad=-0.8307), Var(v=-0.1170, grad=0.0000), Var(v=0.0273, grad=0.3599), Var(v=0.0316, grad=0.0000), Var(v=-0.1365, grad=0.0000), Var(v=-0.0083, grad=0.6973), Var(v=-0.0436, grad=0.0000), Var(v=0.1180, grad=-0.6692), Var(v=0.0928, grad=0.6029), Var(v=0.1351, grad=-0.0984), Var(v=0.0751, grad=0.0000), Var(v=0.1673, grad=-0.5891), Var(v=-0.0089, grad=-0.3424), Var(v=-0.1217, grad=0.0000), Var(v=-0.0891, grad=0.0000), Var(v=0.0781, grad=0.3196), Var(v=-0.1461, grad=0.7719), Var(v=-0.2102, grad=-0.1424), Var(v=-0.0667, grad=0.0000), Var(v=-0.0250, grad=0.0000), Var(v=-0.0883, grad=0.0000), Var(v=-0.0305, grad=0.0000)], [Var(v=-0.0619, grad=0.0000), Var(v=-0.1772, grad=0.0000), Var(v=0.0967, grad=2.3637), Var(v=-0.0077, grad=0.0000), Var(v=-0.0780, grad=0.0000), Var(v=-0.0426, grad=1.2284), Var(v=-0.1373, grad=0.0000), Var(v=0.0550, grad=-0.4400), Var(v=-0.1533, grad=0.0000), Var(v=-0.0454, grad=1.9249), Var(v=-0.0112, grad=0.0000), Var(v=-0.0406, grad=-3.5620), Var(v=0.2122, grad=-1.5037), Var(v=0.0450, grad=0.9150), Var(v=-0.0139, grad=0.0000), Var(v=-0.0579, grad=0.0000), Var(v=-0.0025, grad=0.0000), Var(v=0.1797, grad=-2.6870), Var(v=-0.0768, grad=0.0000), Var(v=0.0329, grad=-1.9247), Var(v=0.0674, grad=3.4121), Var(v=-0.0924, grad=0.0000), Var(v=-0.0113, grad=2.4518), Var(v=-0.0463, grad=-0.5855), Var(v=-0.0363, grad=1.2114), Var(v=-0.1628, grad=0.0000), Var(v=-0.1042, grad=0.0000), Var(v=0.0999, grad=2.3253), Var(v=-0.0082, grad=0.0000), Var(v=-0.1098, grad=0.0000), Var(v=0.1107, grad=-1.7420), Var(v=0.0420, grad=-2.5315), Var(v=0.1440, grad=0.0000), Var(v=0.1028, grad=-3.3748), Var(v=-0.1286, grad=0.0000), Var(v=0.1438, grad=3.2391), Var(v=0.0137, grad=-2.9182), Var(v=0.0907, grad=0.0000), Var(v=0.1939, grad=1.3730), Var(v=0.0332, grad=0.0000), Var(v=-0.0563, grad=0.0000), Var(v=-0.0251, grad=0.0000), Var(v=0.2489, grad=1.3547), Var(v=-0.0092, grad=0.0000), Var(v=-0.3271, grad=0.0000), Var(v=-0.0884, grad=0.0000), Var(v=-0.1506, grad=0.0000), Var(v=-0.1593, grad=0.0000), Var(v=-0.0835, grad=0.0000), Var(v=-0.0961, grad=0.0000)], [Var(v=-0.0761, grad=0.0258), Var(v=-0.1088, grad=0.0000), Var(v=0.0394, grad=-1.6552), Var(v=0.0081, grad=2.0677), Var(v=-0.2367, grad=0.0000), Var(v=0.0846, grad=-0.8602), Var(v=-0.1761, grad=0.0000), Var(v=-0.0623, grad=0.0000), Var(v=-0.0413, grad=0.7008), Var(v=-0.0671, grad=0.0000), Var(v=0.1832, grad=-0.1850), Var(v=0.1010, grad=0.0000), Var(v=0.0017, grad=1.0529), Var(v=0.0530, grad=-0.6407), Var(v=0.1375, grad=0.7701), Var(v=-0.1427, grad=0.2485), Var(v=0.0745, grad=0.0000), Var(v=0.0808, grad=1.8815), Var(v=0.1630, grad=0.0000), Var(v=0.0683, grad=1.3477), Var(v=0.0275, grad=-2.3892), Var(v=-0.0435, grad=0.0000), Var(v=0.2068, grad=-1.7168), Var(v=-0.0387, grad=0.4100), Var(v=-0.0881, grad=-0.8483), Var(v=-0.0912, grad=-0.4376), Var(v=0.0050, grad=0.0000), Var(v=0.0441, grad=-1.6282), Var(v=0.0459, grad=-2.8153), Var(v=-0.0279, grad=0.0000), Var(v=0.1581, grad=1.2198), Var(v=-0.1557, grad=0.0000), Var(v=-0.0040, grad=0.0000), Var(v=0.1845, grad=2.3631), Var(v=-0.0853, grad=0.0000), Var(v=0.0818, grad=-2.2681), Var(v=0.1050, grad=2.0434), Var(v=0.0366, grad=-0.3336), Var(v=0.0147, grad=0.0000), Var(v=-0.0323, grad=-1.9967), Var(v=0.2391, grad=-1.1603), Var(v=0.1785, grad=0.0000), Var(v=-0.0882, grad=0.0000), Var(v=-0.0608, grad=1.0831), Var(v=0.0755, grad=2.6160), Var(v=-0.0396, grad=-0.4826), Var(v=-0.0231, grad=0.0000), Var(v=-0.0251, grad=0.0000), Var(v=-0.1986, grad=0.0000), Var(v=0.0560, grad=0.0000)], [Var(v=-0.2205, grad=0.0000), Var(v=-0.0745, grad=0.0000), Var(v=-0.0272, grad=0.9376), Var(v=-0.1575, grad=0.0000), Var(v=-0.0507, grad=0.0000), Var(v=-0.0159, grad=0.4872), Var(v=-0.0159, grad=0.0000), Var(v=-0.0074, grad=-0.1745), Var(v=0.1501, grad=0.0000), Var(v=-0.0228, grad=0.7635), Var(v=0.0338, grad=0.0000), Var(v=0.1182, grad=-1.4128), Var(v=0.1317, grad=-0.5964), Var(v=0.0252, grad=0.3629), Var(v=-0.1033, grad=0.0000), Var(v=-0.0676, grad=0.0000), Var(v=-0.0724, grad=0.0000), Var(v=-0.1594, grad=-1.0658), Var(v=0.0735, grad=0.0000), Var(v=-0.0307, grad=-0.7634), Var(v=-0.0336, grad=1.3534), Var(v=0.0266, grad=0.0000), Var(v=0.1391, grad=0.9725), Var(v=0.0443, grad=-0.2322), Var(v=0.0695, grad=0.4805), Var(v=-0.0337, grad=0.0000), Var(v=0.1709, grad=0.0000), Var(v=0.0865, grad=0.9223), Var(v=-0.0380, grad=0.0000), Var(v=0.0915, grad=0.0000), Var(v=-0.0371, grad=-0.6910), Var(v=0.0365, grad=-1.0041), Var(v=-0.0933, grad=0.0000), Var(v=-0.0317, grad=-1.3386), Var(v=0.1630, grad=0.0000), Var(v=-0.0122, grad=1.2848), Var(v=0.0436, grad=-1.1575), Var(v=-0.0130, grad=0.0000), Var(v=-0.0509, grad=0.5446), Var(v=-0.0630, grad=0.0000), Var(v=-0.0830, grad=0.0000), Var(v=0.0222, grad=0.0000), Var(v=-0.0444, grad=0.5373), Var(v=0.0794, grad=0.0000), Var(v=0.0790, grad=0.0000), Var(v=0.0074, grad=0.0000), Var(v=0.0859, grad=0.0000), Var(v=-0.0201, grad=0.0000), Var(v=0.0270, grad=0.0000), Var(v=-0.1547, grad=0.0000)], [Var(v=0.0786, grad=0.0000), Var(v=0.1128, grad=0.0000), Var(v=0.0140, grad=0.3912), Var(v=0.0952, grad=0.0000), Var(v=-0.0270, grad=0.0000), Var(v=-0.1440, grad=0.2033), Var(v=-0.0952, grad=0.0000), Var(v=-0.0186, grad=-0.0728), Var(v=0.1681, grad=0.0000), Var(v=0.0822, grad=0.3186), Var(v=-0.0673, grad=0.0000), Var(v=-0.0188, grad=-0.5895), Var(v=-0.1211, grad=-0.2489), Var(v=-0.0877, grad=0.1514), Var(v=0.0495, grad=0.0000), Var(v=0.1060, grad=0.0000), Var(v=-0.0636, grad=0.0000), Var(v=0.0669, grad=-0.4447), Var(v=0.0564, grad=0.0000), Var(v=-0.0579, grad=-0.3185), Var(v=-0.0140, grad=0.5647), Var(v=-0.1879, grad=0.0000), Var(v=0.0064, grad=0.4058), Var(v=-0.0224, grad=-0.0969), Var(v=-0.0542, grad=0.2005), Var(v=-0.1817, grad=0.0000), Var(v=0.0531, grad=0.0000), Var(v=-0.0795, grad=0.3848), Var(v=-0.0120, grad=0.0000), Var(v=-0.0702, grad=0.0000), Var(v=-0.0813, grad=-0.2883), Var(v=0.0828, grad=-0.4190), Var(v=-0.0170, grad=0.0000), Var(v=-0.1373, grad=-0.5585), Var(v=0.0347, grad=0.0000), Var(v=-0.0227, grad=0.5361), Var(v=0.1187, grad=-0.4830), Var(v=0.1505, grad=0.0000), Var(v=-0.0381, grad=0.2272), Var(v=-0.2064, grad=0.0000), Var(v=0.0088, grad=0.0000), Var(v=0.2024, grad=0.0000), Var(v=-0.0675, grad=0.2242), Var(v=-0.1797, grad=0.0000), Var(v=0.0500, grad=0.0000), Var(v=-0.0930, grad=0.0000), Var(v=-0.0208, grad=0.0000), Var(v=0.0650, grad=0.0000), Var(v=0.0545, grad=0.0000), Var(v=0.0517, grad=0.0000)], [Var(v=0.0316, grad=0.0056), Var(v=-0.0117, grad=0.0000), Var(v=0.0214, grad=-0.3585), Var(v=-0.0305, grad=0.4478), Var(v=-0.0191, grad=0.0000), Var(v=0.0371, grad=-0.1863), Var(v=0.0194, grad=0.0000), Var(v=-0.0391, grad=0.0000), Var(v=-0.0640, grad=0.1518), Var(v=-0.0611, grad=0.0000), Var(v=0.1034, grad=-0.0401), Var(v=-0.0033, grad=0.0000), Var(v=0.1011, grad=0.2280), Var(v=-0.0778, grad=-0.1388), Var(v=0.0106, grad=0.1668), Var(v=0.1397, grad=0.0538), Var(v=0.0370, grad=0.0000), Var(v=0.1010, grad=0.4075), Var(v=-0.0578, grad=0.0000), Var(v=-0.0916, grad=0.2919), Var(v=0.0039, grad=-0.5174), Var(v=0.0767, grad=0.0000), Var(v=0.1287, grad=-0.3718), Var(v=-0.0857, grad=0.0888), Var(v=0.0966, grad=-0.1837), Var(v=0.1230, grad=-0.0948), Var(v=0.0212, grad=0.0000), Var(v=0.0394, grad=-0.3526), Var(v=0.2091, grad=-0.6097), Var(v=0.0276, grad=0.0000), Var(v=-0.0332, grad=0.2642), Var(v=-0.0646, grad=0.0000), Var(v=-0.0701, grad=0.0000), Var(v=-0.0606, grad=0.5118), Var(v=0.1167, grad=0.0000), Var(v=0.0341, grad=-0.4912), Var(v=-0.1594, grad=0.4425), Var(v=-0.0965, grad=-0.0722), Var(v=-0.1419, grad=0.0000), Var(v=-0.1191, grad=-0.4324), Var(v=0.0924, grad=-0.2513), Var(v=0.0787, grad=0.0000), Var(v=0.0831, grad=0.0000), Var(v=0.1095, grad=0.2346), Var(v=-0.0743, grad=0.5666), Var(v=-0.0295, grad=-0.1045), Var(v=0.0172, grad=0.0000), Var(v=0.0183, grad=0.0000), Var(v=0.0364, grad=0.0000), Var(v=0.0426, grad=0.0000)], [Var(v=0.0200, grad=0.0150), Var(v=-0.0360, grad=0.0000), Var(v=0.1510, grad=-0.9607), Var(v=0.1106, grad=1.2001), Var(v=-0.1945, grad=0.0000), Var(v=-0.1118, grad=-0.4993), Var(v=0.0381, grad=0.0000), Var(v=-0.1509, grad=0.0000), Var(v=-0.0610, grad=0.4068), Var(v=0.0206, grad=0.0000), Var(v=0.0243, grad=-0.1073), Var(v=-0.1504, grad=0.0000), Var(v=0.0454, grad=0.6111), Var(v=-0.2290, grad=-0.3719), Var(v=0.1854, grad=0.4470), Var(v=0.0866, grad=0.1442), Var(v=0.0354, grad=0.0000), Var(v=-0.0046, grad=1.0920), Var(v=0.1240, grad=0.0000), Var(v=0.0309, grad=0.7822), Var(v=0.2740, grad=-1.3867), Var(v=0.1081, grad=0.0000), Var(v=0.0002, grad=-0.9965), Var(v=0.0657, grad=0.2380), Var(v=0.1186, grad=-0.4923), Var(v=-0.0822, grad=-0.2540), Var(v=-0.0219, grad=0.0000), Var(v=0.1158, grad=-0.9450), Var(v=0.0302, grad=-1.6340), Var(v=0.0549, grad=0.0000), Var(v=-0.0196, grad=0.7080), Var(v=-0.0501, grad=0.0000), Var(v=0.0372, grad=0.0000), Var(v=0.1791, grad=1.3716), Var(v=-0.1369, grad=0.0000), Var(v=-0.0087, grad=-1.3164), Var(v=0.1522, grad=1.1860), Var(v=0.0018, grad=-0.1936), Var(v=-0.1279, grad=0.0000), Var(v=0.0273, grad=-1.1589), Var(v=0.0211, grad=-0.6735), Var(v=-0.0896, grad=0.0000), Var(v=-0.0473, grad=0.0000), Var(v=0.0341, grad=0.6287), Var(v=-0.0266, grad=1.5184), Var(v=-0.0714, grad=-0.2801), Var(v=-0.0799, grad=0.0000), Var(v=-0.0422, grad=0.0000), Var(v=0.0231, grad=0.0000), Var(v=-0.0473, grad=0.0000)], [Var(v=0.0904, grad=0.0127), Var(v=0.0804, grad=0.0000), Var(v=0.0837, grad=-0.8127), Var(v=-0.0398, grad=1.0152), Var(v=-0.1302, grad=0.0000), Var(v=0.0964, grad=-0.4223), Var(v=-0.0386, grad=0.0000), Var(v=0.0464, grad=0.0000), Var(v=0.0729, grad=0.3441), Var(v=-0.0372, grad=0.0000), Var(v=-0.0122, grad=-0.0908), Var(v=-0.1006, grad=0.0000), Var(v=-0.0858, grad=0.5170), Var(v=0.0092, grad=-0.3146), Var(v=-0.0078, grad=0.3781), Var(v=0.0277, grad=0.1220), Var(v=0.0031, grad=0.0000), Var(v=-0.0428, grad=0.9238), Var(v=-0.0630, grad=0.0000), Var(v=-0.1529, grad=0.6617), Var(v=-0.1167, grad=-1.1731), Var(v=-0.0397, grad=0.0000), Var(v=0.0474, grad=-0.8430), Var(v=0.1347, grad=0.2013), Var(v=0.0032, grad=-0.4165), Var(v=0.0617, grad=-0.2149), Var(v=0.0563, grad=0.0000), Var(v=-0.0987, grad=-0.7994), Var(v=-0.0749, grad=-1.3823), Var(v=-0.0287, grad=0.0000), Var(v=0.0658, grad=0.5989), Var(v=0.0029, grad=0.0000), Var(v=-0.0204, grad=0.0000), Var(v=-0.1633, grad=1.1603), Var(v=-0.1211, grad=0.0000), Var(v=0.0815, grad=-1.1136), Var(v=0.0977, grad=1.0033), Var(v=0.1972, grad=-0.1638), Var(v=0.2250, grad=0.0000), Var(v=0.0793, grad=-0.9803), Var(v=0.0063, grad=-0.5697), Var(v=-0.0719, grad=0.0000), Var(v=-0.0886, grad=0.0000), Var(v=0.1009, grad=0.5318), Var(v=0.0362, grad=1.2845), Var(v=0.0373, grad=-0.2369), Var(v=0.0618, grad=0.0000), Var(v=0.0367, grad=0.0000), Var(v=0.0934, grad=0.0000), Var(v=-0.0574, grad=0.0000)]] \n",
      " Biases:[Var(v=0.0000, grad=2.5963), Var(v=0.0000, grad=0.0000), Var(v=0.0000, grad=2.5035), Var(v=0.0000, grad=207.9464), Var(v=0.0000, grad=0.0000), Var(v=0.0000, grad=1.3010), Var(v=0.0000, grad=0.0000), Var(v=0.0000, grad=-31.4476), Var(v=0.0000, grad=70.4810), Var(v=0.0000, grad=137.5901), Var(v=0.0000, grad=-18.6003), Var(v=0.0000, grad=-254.6116), Var(v=0.0000, grad=-1.5925), Var(v=0.0000, grad=0.9691), Var(v=0.0000, grad=77.4431), Var(v=0.0000, grad=24.9875), Var(v=0.0000, grad=0.0000), Var(v=0.0000, grad=-2.8458), Var(v=0.0000, grad=0.0000), Var(v=0.0000, grad=-2.0385), Var(v=0.0000, grad=3.6137), Var(v=0.0000, grad=0.0000), Var(v=0.0000, grad=2.5968), Var(v=0.0000, grad=-0.6202), Var(v=0.0000, grad=1.2830), Var(v=0.0000, grad=-44.0073), Var(v=0.0000, grad=0.0000), Var(v=0.0000, grad=2.4627), Var(v=0.0000, grad=-283.1253), Var(v=0.0000, grad=0.0000), Var(v=0.0000, grad=-1.8450), Var(v=0.0000, grad=-180.9476), Var(v=0.0000, grad=0.0000), Var(v=0.0000, grad=-3.5743), Var(v=0.0000, grad=0.0000), Var(v=0.0000, grad=3.4305), Var(v=0.0000, grad=-3.0907), Var(v=0.0000, grad=-33.5477), Var(v=0.0000, grad=98.1434), Var(v=0.0000, grad=-200.8001), Var(v=0.0000, grad=-116.6908), Var(v=0.0000, grad=0.0000), Var(v=0.0000, grad=96.8349), Var(v=0.0000, grad=108.9273), Var(v=0.0000, grad=263.0883), Var(v=0.0000, grad=-48.5329), Var(v=0.0000, grad=0.0000), Var(v=0.0000, grad=0.0000), Var(v=0.0000, grad=0.0000), Var(v=0.0000, grad=0.0000)]\n",
      "Layer 2 \n",
      " 50 input nodes \n",
      "1 output nodes \n",
      " Weights:[[Var(v=0.0020, grad=0.2065)], [Var(v=-0.0556, grad=0.0000)], [Var(v=-0.1291, grad=4.1917)], [Var(v=0.1613, grad=6.9485)], [Var(v=-0.0839, grad=0.0000)], [Var(v=-0.0671, grad=0.1516)], [Var(v=-0.0699, grad=0.0000)], [Var(v=0.0240, grad=-0.7081)], [Var(v=0.0547, grad=2.1404)], [Var(v=-0.1051, grad=-0.4706)], [Var(v=-0.0144, grad=0.8511)], [Var(v=0.1946, grad=-0.3520)], [Var(v=0.0821, grad=0.3346)], [Var(v=-0.0500, grad=0.2217)], [Var(v=0.0601, grad=3.4867)], [Var(v=0.0194, grad=1.1060)], [Var(v=0.0777, grad=0.0000)], [Var(v=0.1468, grad=-1.4298)], [Var(v=-0.0136, grad=0.0000)], [Var(v=0.1051, grad=-0.0378)], [Var(v=-0.1864, grad=1.0158)], [Var(v=0.0089, grad=0.0000)], [Var(v=-0.1339, grad=5.7231)], [Var(v=0.0320, grad=-0.3291)], [Var(v=-0.0662, grad=1.3469)], [Var(v=-0.0341, grad=1.8352)], [Var(v=-0.0163, grad=0.0000)], [Var(v=-0.1270, grad=1.0107)], [Var(v=-0.2196, grad=0.5313)], [Var(v=0.0661, grad=0.0000)], [Var(v=0.0951, grad=-1.0452)], [Var(v=0.1383, grad=-0.0906)], [Var(v=-0.0242, grad=0.0000)], [Var(v=0.1843, grad=-0.1201)], [Var(v=-0.0702, grad=0.0000)], [Var(v=-0.1769, grad=5.4146)], [Var(v=0.1594, grad=0.5743)], [Var(v=-0.0260, grad=6.8232)], [Var(v=-0.0750, grad=-2.0620)], [Var(v=-0.1557, grad=0.4017)], [Var(v=-0.0905, grad=4.4643)], [Var(v=-0.1667, grad=0.0000)], [Var(v=-0.0740, grad=-5.8893)], [Var(v=0.0845, grad=2.4721)], [Var(v=0.2041, grad=1.5268)], [Var(v=-0.0376, grad=3.6847)], [Var(v=-0.1128, grad=0.0000)], [Var(v=-0.0048, grad=0.0000)], [Var(v=0.1074, grad=0.0000)], [Var(v=-0.1919, grad=0.0000)]] \n",
      " Biases:[Var(v=0.0000, grad=-64.6371)]\n",
      "\n",
      "Network after update:\n",
      "Layer 0 \n",
      " 1 input nodes \n",
      "15 output nodes \n",
      " Weights:[[Var(v=-0.2302, grad=5.6938), Var(v=-0.1527, grad=-2.3613), Var(v=0.1337, grad=-2.0099), Var(v=-0.0606, grad=4.6636), Var(v=-0.1118, grad=0.2174), Var(v=-0.0122, grad=0.8883), Var(v=-0.0723, grad=7.9579), Var(v=-0.1391, grad=9.9126), Var(v=0.1699, grad=1.0342), Var(v=-0.1240, grad=-1.1555), Var(v=0.0695, grad=0.1974), Var(v=0.0473, grad=-1.7484), Var(v=-0.1376, grad=10.8249), Var(v=-0.0709, grad=-0.7817), Var(v=-0.0940, grad=2.7455)]] \n",
      " Biases:[Var(v=0.0517, grad=-5.1740), Var(v=-0.0215, grad=2.1457), Var(v=0.0173, grad=-1.7265), Var(v=0.0424, grad=-4.2379), Var(v=0.0020, grad=-0.1976), Var(v=0.0081, grad=-0.8072), Var(v=-0.0684, grad=6.8359), Var(v=0.0901, grad=-9.0077), Var(v=-0.0089, grad=0.8884), Var(v=-0.0105, grad=1.0500), Var(v=-0.0017, grad=0.1696), Var(v=0.0150, grad=-1.5019), Var(v=0.0984, grad=-9.8367), Var(v=-0.0071, grad=0.7103), Var(v=0.0249, grad=-2.4949)]\n",
      "Layer 1 \n",
      " 15 input nodes \n",
      "50 output nodes \n",
      " Weights:[[Var(v=-0.1668, grad=0.0330), Var(v=-0.0985, grad=0.0000), Var(v=0.0820, grad=-2.1164), Var(v=0.1287, grad=2.6439), Var(v=-0.0248, grad=0.0000), Var(v=-0.0586, grad=-1.0999), Var(v=0.1541, grad=0.0000), Var(v=-0.0229, grad=0.0000), Var(v=0.1116, grad=0.8961), Var(v=0.0172, grad=0.0000), Var(v=0.0821, grad=-0.2365), Var(v=-0.1102, grad=0.0000), Var(v=0.0251, grad=1.3463), Var(v=-0.0231, grad=-0.8193), Var(v=-0.0981, grad=0.9847), Var(v=0.1468, grad=0.3177), Var(v=0.0313, grad=0.0000), Var(v=-0.0086, grad=2.4058), Var(v=-0.0208, grad=0.0000), Var(v=-0.0430, grad=1.7233), Var(v=0.1239, grad=-3.0550), Var(v=0.0687, grad=0.0000), Var(v=0.1440, grad=-2.1953), Var(v=0.1355, grad=0.5243), Var(v=0.0591, grad=-1.0847), Var(v=-0.0531, grad=-0.5595), Var(v=0.0018, grad=0.0000), Var(v=0.2011, grad=-2.0820), Var(v=0.1009, grad=-3.5998), Var(v=-0.1066, grad=0.0000), Var(v=-0.0958, grad=1.5597), Var(v=-0.0808, grad=0.0000), Var(v=-0.1060, grad=0.0000), Var(v=0.0429, grad=3.0217), Var(v=0.0267, grad=0.0000), Var(v=0.1804, grad=-2.9002), Var(v=0.0024, grad=2.6129), Var(v=0.0829, grad=-0.4265), Var(v=-0.1929, grad=0.0000), Var(v=0.0526, grad=-2.5531), Var(v=0.0474, grad=-1.4837), Var(v=-0.0653, grad=0.0000), Var(v=-0.1733, grad=0.0000), Var(v=0.0566, grad=1.3850), Var(v=0.0093, grad=3.3451), Var(v=0.2863, grad=-0.6171), Var(v=-0.0053, grad=0.0000), Var(v=0.0055, grad=0.0000), Var(v=-0.2709, grad=0.0000), Var(v=-0.0540, grad=0.0000)], [Var(v=0.0662, grad=0.0336), Var(v=-0.0517, grad=0.0000), Var(v=0.0351, grad=-2.1530), Var(v=0.1396, grad=2.6896), Var(v=0.1403, grad=0.0000), Var(v=-0.0102, grad=-1.1189), Var(v=-0.0687, grad=0.0000), Var(v=-0.0199, grad=0.0000), Var(v=0.0541, grad=0.9116), Var(v=0.0475, grad=0.0000), Var(v=-0.0698, grad=-0.2406), Var(v=0.1215, grad=0.0000), Var(v=0.1741, grad=1.3696), Var(v=0.0581, grad=-0.8334), Var(v=0.1163, grad=1.0017), Var(v=-0.0411, grad=0.3232), Var(v=-0.0818, grad=0.0000), Var(v=-0.0260, grad=2.4474), Var(v=-0.0421, grad=0.0000), Var(v=0.0548, grad=1.7531), Var(v=0.0164, grad=-3.1078), Var(v=-0.0241, grad=0.0000), Var(v=0.0075, grad=-2.2332), Var(v=0.0046, grad=0.5333), Var(v=0.0094, grad=-1.1034), Var(v=0.1791, grad=-0.5692), Var(v=-0.0702, grad=0.0000), Var(v=-0.0201, grad=-2.1179), Var(v=0.0349, grad=-3.6620), Var(v=0.0705, grad=0.0000), Var(v=-0.0855, grad=1.5867), Var(v=0.0932, grad=0.0000), Var(v=0.1187, grad=0.0000), Var(v=-0.1582, grad=3.0739), Var(v=0.0376, grad=0.0000), Var(v=0.1148, grad=-2.9502), Var(v=-0.0154, grad=2.6580), Var(v=0.2371, grad=-0.4339), Var(v=-0.0193, grad=0.0000), Var(v=-0.0221, grad=-2.5972), Var(v=0.0354, grad=-1.5093), Var(v=-0.0756, grad=0.0000), Var(v=0.0925, grad=0.0000), Var(v=-0.0752, grad=1.4089), Var(v=0.0463, grad=3.4028), Var(v=0.1553, grad=-0.6277), Var(v=0.0324, grad=0.0000), Var(v=-0.1148, grad=0.0000), Var(v=-0.0091, grad=0.0000), Var(v=-0.0997, grad=0.0000)], [Var(v=0.0479, grad=0.0000), Var(v=0.1485, grad=0.0000), Var(v=-0.0373, grad=1.4898), Var(v=0.0024, grad=0.0000), Var(v=0.1173, grad=0.0000), Var(v=0.1763, grad=0.7743), Var(v=0.1920, grad=0.0000), Var(v=-0.0125, grad=-0.2773), Var(v=-0.0405, grad=0.0000), Var(v=0.0961, grad=1.2132), Var(v=-0.0100, grad=0.0000), Var(v=0.0575, grad=-2.2451), Var(v=-0.1538, grad=-0.9477), Var(v=-0.0499, grad=0.5767), Var(v=0.0439, grad=0.0000), Var(v=0.0515, grad=0.0000), Var(v=-0.2368, grad=0.0000), Var(v=0.0874, grad=-1.6936), Var(v=0.0390, grad=0.0000), Var(v=0.1099, grad=-1.2131), Var(v=0.0226, grad=2.1506), Var(v=-0.0422, grad=0.0000), Var(v=-0.0590, grad=1.5454), Var(v=0.1979, grad=-0.3691), Var(v=0.0432, grad=0.7635), Var(v=0.0068, grad=0.0000), Var(v=-0.0748, grad=0.0000), Var(v=-0.0606, grad=1.4656), Var(v=-0.1245, grad=0.0000), Var(v=0.0300, grad=0.0000), Var(v=0.0553, grad=-1.0980), Var(v=-0.0770, grad=-1.5955), Var(v=-0.1695, grad=0.0000), Var(v=-0.0238, grad=-2.1271), Var(v=0.0481, grad=0.0000), Var(v=-0.0921, grad=2.0415), Var(v=0.1947, grad=-1.8393), Var(v=-0.2283, grad=0.0000), Var(v=-0.0939, grad=0.8654), Var(v=-0.0704, grad=0.0000), Var(v=-0.0549, grad=0.0000), Var(v=-0.0465, grad=0.0000), Var(v=0.1504, grad=0.8539), Var(v=-0.0667, grad=0.0000), Var(v=-0.0910, grad=0.0000), Var(v=0.1089, grad=0.0000), Var(v=-0.0077, grad=0.0000), Var(v=0.0019, grad=0.0000), Var(v=-0.0279, grad=0.0000), Var(v=-0.0491, grad=0.0000)], [Var(v=-0.0708, grad=0.0027), Var(v=0.0259, grad=0.0000), Var(v=0.0663, grad=-0.1707), Var(v=-0.1182, grad=0.2133), Var(v=-0.1784, grad=0.0000), Var(v=0.0358, grad=-0.0887), Var(v=-0.0584, grad=0.0000), Var(v=0.0661, grad=0.0000), Var(v=-0.0534, grad=0.0723), Var(v=-0.1719, grad=0.0000), Var(v=-0.1112, grad=-0.0191), Var(v=-0.1323, grad=0.0000), Var(v=-0.1011, grad=0.1086), Var(v=-0.0473, grad=-0.0661), Var(v=0.1635, grad=0.0794), Var(v=-0.0282, grad=0.0256), Var(v=0.0746, grad=0.0000), Var(v=0.1652, grad=0.1941), Var(v=0.0352, grad=0.0000), Var(v=-0.1252, grad=0.1390), Var(v=0.1969, grad=-0.2465), Var(v=-0.0998, grad=0.0000), Var(v=-0.0110, grad=-0.1771), Var(v=0.1743, grad=0.0423), Var(v=-0.0712, grad=-0.0875), Var(v=-0.0424, grad=-0.0451), Var(v=0.0095, grad=0.0000), Var(v=-0.1377, grad=-0.1680), Var(v=0.0913, grad=-0.2904), Var(v=-0.0454, grad=0.0000), Var(v=0.1381, grad=0.1258), Var(v=0.0141, grad=0.0000), Var(v=0.0988, grad=0.0000), Var(v=-0.0614, grad=0.2438), Var(v=0.0322, grad=0.0000), Var(v=-0.0590, grad=-0.2340), Var(v=0.0084, grad=0.2108), Var(v=-0.0782, grad=-0.0344), Var(v=0.0594, grad=0.0000), Var(v=-0.0052, grad=-0.2060), Var(v=0.1460, grad=-0.1197), Var(v=0.0067, grad=0.0000), Var(v=0.0004, grad=0.0000), Var(v=-0.0052, grad=0.1117), Var(v=-0.0941, grad=0.2699), Var(v=-0.1303, grad=-0.0498), Var(v=0.0574, grad=0.0000), Var(v=0.0120, grad=0.0000), Var(v=0.0877, grad=0.0000), Var(v=-0.1374, grad=0.0000)], [Var(v=0.2202, grad=0.0209), Var(v=-0.0097, grad=0.0000), Var(v=0.1336, grad=-1.3385), Var(v=0.1118, grad=1.6721), Var(v=-0.0565, grad=0.0000), Var(v=0.0691, grad=-0.6956), Var(v=-0.0125, grad=0.0000), Var(v=0.0386, grad=0.0000), Var(v=-0.0374, grad=0.5667), Var(v=-0.2272, grad=0.0000), Var(v=-0.1379, grad=-0.1496), Var(v=0.0320, grad=0.0000), Var(v=-0.0859, grad=0.8515), Var(v=0.1088, grad=-0.5181), Var(v=-0.0502, grad=0.6227), Var(v=0.0268, grad=0.2009), Var(v=-0.0957, grad=0.0000), Var(v=0.0509, grad=1.5215), Var(v=-0.2016, grad=0.0000), Var(v=0.0843, grad=1.0899), Var(v=0.0282, grad=-1.9321), Var(v=-0.1387, grad=0.0000), Var(v=0.1125, grad=-1.3884), Var(v=-0.1967, grad=0.3316), Var(v=0.0825, grad=-0.6860), Var(v=0.0722, grad=-0.3539), Var(v=-0.0031, grad=0.0000), Var(v=-0.0544, grad=-1.3167), Var(v=-0.1388, grad=-2.2766), Var(v=-0.1793, grad=0.0000), Var(v=0.0922, grad=0.9864), Var(v=0.0087, grad=0.0000), Var(v=-0.1620, grad=0.0000), Var(v=-0.1188, grad=1.9110), Var(v=-0.0725, grad=0.0000), Var(v=0.1335, grad=-1.8341), Var(v=-0.0235, grad=1.6525), Var(v=-0.0141, grad=-0.2698), Var(v=-0.0273, grad=0.0000), Var(v=0.0316, grad=-1.6146), Var(v=0.0047, grad=-0.9383), Var(v=-0.0095, grad=0.0000), Var(v=0.0771, grad=0.0000), Var(v=0.1469, grad=0.8759), Var(v=-0.0837, grad=2.1155), Var(v=-0.1426, grad=-0.3903), Var(v=-0.1361, grad=0.0000), Var(v=-0.0813, grad=0.0000), Var(v=-0.0019, grad=0.0000), Var(v=0.0271, grad=0.0000)], [Var(v=-0.1300, grad=0.0006), Var(v=-0.0132, grad=0.0000), Var(v=-0.0236, grad=-0.0403), Var(v=0.0333, grad=0.0504), Var(v=-0.0232, grad=0.0000), Var(v=0.0201, grad=-0.0210), Var(v=0.0832, grad=0.0000), Var(v=-0.0908, grad=0.0000), Var(v=-0.1794, grad=0.0171), Var(v=0.0829, grad=0.0000), Var(v=-0.0131, grad=-0.0045), Var(v=0.0318, grad=0.0000), Var(v=0.1895, grad=0.0257), Var(v=0.0202, grad=-0.0156), Var(v=0.0743, grad=0.0188), Var(v=-0.0185, grad=0.0061), Var(v=-0.1003, grad=0.0000), Var(v=-0.1976, grad=0.0459), Var(v=-0.0188, grad=0.0000), Var(v=0.0617, grad=0.0328), Var(v=0.0460, grad=-0.0582), Var(v=0.0877, grad=0.0000), Var(v=0.0542, grad=-0.0418), Var(v=0.0855, grad=0.0100), Var(v=-0.1554, grad=-0.0207), Var(v=-0.1039, grad=-0.0107), Var(v=0.0493, grad=0.0000), Var(v=-0.0053, grad=-0.0397), Var(v=0.0655, grad=-0.0686), Var(v=-0.2098, grad=0.0000), Var(v=-0.1237, grad=0.0297), Var(v=-0.1247, grad=0.0000), Var(v=-0.0971, grad=0.0000), Var(v=0.0207, grad=0.0576), Var(v=-0.2253, grad=0.0000), Var(v=-0.0331, grad=-0.0553), Var(v=-0.0670, grad=0.0498), Var(v=-0.1178, grad=-0.0081), Var(v=0.0339, grad=0.0000), Var(v=0.0607, grad=-0.0487), Var(v=-0.1128, grad=-0.0283), Var(v=-0.0183, grad=0.0000), Var(v=-0.0532, grad=0.0000), Var(v=0.0594, grad=0.0264), Var(v=0.0518, grad=0.0638), Var(v=-0.0633, grad=-0.0118), Var(v=0.1352, grad=0.0000), Var(v=0.0922, grad=0.0000), Var(v=-0.0742, grad=0.0000), Var(v=0.1050, grad=0.0000)], [Var(v=-0.1229, grad=0.0000), Var(v=-0.0965, grad=0.0000), Var(v=-0.0491, grad=0.0949), Var(v=0.2215, grad=0.0000), Var(v=-0.1029, grad=0.0000), Var(v=-0.0674, grad=0.0493), Var(v=0.0623, grad=0.0000), Var(v=-0.0165, grad=-0.0177), Var(v=-0.0011, grad=0.0000), Var(v=-0.0428, grad=0.0772), Var(v=-0.0289, grad=0.0000), Var(v=-0.1480, grad=-0.1429), Var(v=0.0359, grad=-0.0603), Var(v=-0.1211, grad=0.0367), Var(v=0.0101, grad=0.0000), Var(v=0.0026, grad=0.0000), Var(v=0.0505, grad=0.0000), Var(v=-0.0274, grad=-0.1078), Var(v=-0.0661, grad=0.0000), Var(v=0.1052, grad=-0.0772), Var(v=-0.0119, grad=0.1369), Var(v=-0.0500, grad=0.0000), Var(v=0.1912, grad=0.0984), Var(v=-0.1224, grad=-0.0235), Var(v=-0.0749, grad=0.0486), Var(v=-0.0362, grad=0.0000), Var(v=-0.0510, grad=0.0000), Var(v=0.1174, grad=0.0933), Var(v=0.0599, grad=0.0000), Var(v=-0.0083, grad=0.0000), Var(v=0.0797, grad=-0.0699), Var(v=-0.1639, grad=-0.1016), Var(v=-0.0309, grad=0.0000), Var(v=-0.2128, grad=-0.1354), Var(v=0.0126, grad=0.0000), Var(v=-0.0262, grad=0.1300), Var(v=0.0574, grad=-0.1171), Var(v=0.1035, grad=0.0000), Var(v=-0.0269, grad=0.0551), Var(v=-0.1245, grad=0.0000), Var(v=0.0271, grad=0.0000), Var(v=0.0869, grad=0.0000), Var(v=0.0335, grad=0.0544), Var(v=0.1172, grad=0.0000), Var(v=0.0616, grad=0.0000), Var(v=-0.0059, grad=0.0000), Var(v=0.2167, grad=0.0000), Var(v=-0.0258, grad=0.0000), Var(v=-0.0089, grad=0.0000), Var(v=-0.0199, grad=0.0000)], [Var(v=-0.0410, grad=0.0076), Var(v=-0.0721, grad=0.0000), Var(v=0.2034, grad=-0.4884), Var(v=-0.0464, grad=0.6101), Var(v=-0.1398, grad=0.0000), Var(v=0.1962, grad=-0.2538), Var(v=0.0648, grad=0.0000), Var(v=-0.0553, grad=0.0000), Var(v=0.0685, grad=0.2068), Var(v=0.0368, grad=0.0000), Var(v=-0.1037, grad=-0.0546), Var(v=-0.0874, grad=0.0000), Var(v=-0.0137, grad=0.3107), Var(v=0.0581, grad=-0.1890), Var(v=-0.0236, grad=0.2272), Var(v=-0.0946, grad=0.0733), Var(v=0.0517, grad=0.0000), Var(v=-0.1077, grad=0.5551), Var(v=0.0749, grad=0.0000), Var(v=-0.0421, grad=0.3977), Var(v=-0.2182, grad=-0.7049), Var(v=0.0915, grad=0.0000), Var(v=0.0315, grad=-0.5066), Var(v=-0.0276, grad=0.1210), Var(v=0.0311, grad=-0.2503), Var(v=0.0893, grad=-0.1291), Var(v=-0.0084, grad=0.0000), Var(v=0.1335, grad=-0.4804), Var(v=0.0376, grad=-0.8307), Var(v=-0.1170, grad=0.0000), Var(v=0.0237, grad=0.3599), Var(v=0.0316, grad=0.0000), Var(v=-0.1365, grad=0.0000), Var(v=-0.0153, grad=0.6973), Var(v=-0.0436, grad=0.0000), Var(v=0.1246, grad=-0.6692), Var(v=0.0868, grad=0.6029), Var(v=0.1361, grad=-0.0984), Var(v=0.0751, grad=0.0000), Var(v=0.1732, grad=-0.5891), Var(v=-0.0055, grad=-0.3424), Var(v=-0.1217, grad=0.0000), Var(v=-0.0891, grad=0.0000), Var(v=0.0749, grad=0.3196), Var(v=-0.1538, grad=0.7719), Var(v=-0.2088, grad=-0.1424), Var(v=-0.0667, grad=0.0000), Var(v=-0.0250, grad=0.0000), Var(v=-0.0883, grad=0.0000), Var(v=-0.0305, grad=0.0000)], [Var(v=-0.0619, grad=0.0000), Var(v=-0.1772, grad=0.0000), Var(v=0.0731, grad=2.3637), Var(v=-0.0077, grad=0.0000), Var(v=-0.0780, grad=0.0000), Var(v=-0.0549, grad=1.2284), Var(v=-0.1373, grad=0.0000), Var(v=0.0594, grad=-0.4400), Var(v=-0.1533, grad=0.0000), Var(v=-0.0646, grad=1.9249), Var(v=-0.0112, grad=0.0000), Var(v=-0.0050, grad=-3.5620), Var(v=0.2272, grad=-1.5037), Var(v=0.0359, grad=0.9150), Var(v=-0.0139, grad=0.0000), Var(v=-0.0579, grad=0.0000), Var(v=-0.0025, grad=0.0000), Var(v=0.2066, grad=-2.6870), Var(v=-0.0768, grad=0.0000), Var(v=0.0521, grad=-1.9247), Var(v=0.0333, grad=3.4121), Var(v=-0.0924, grad=0.0000), Var(v=-0.0358, grad=2.4518), Var(v=-0.0404, grad=-0.5855), Var(v=-0.0484, grad=1.2114), Var(v=-0.1628, grad=0.0000), Var(v=-0.1042, grad=0.0000), Var(v=0.0766, grad=2.3253), Var(v=-0.0082, grad=0.0000), Var(v=-0.1098, grad=0.0000), Var(v=0.1281, grad=-1.7420), Var(v=0.0673, grad=-2.5315), Var(v=0.1440, grad=0.0000), Var(v=0.1366, grad=-3.3748), Var(v=-0.1286, grad=0.0000), Var(v=0.1114, grad=3.2391), Var(v=0.0429, grad=-2.9182), Var(v=0.0907, grad=0.0000), Var(v=0.1802, grad=1.3730), Var(v=0.0332, grad=0.0000), Var(v=-0.0563, grad=0.0000), Var(v=-0.0251, grad=0.0000), Var(v=0.2353, grad=1.3547), Var(v=-0.0092, grad=0.0000), Var(v=-0.3271, grad=0.0000), Var(v=-0.0884, grad=0.0000), Var(v=-0.1506, grad=0.0000), Var(v=-0.1593, grad=0.0000), Var(v=-0.0835, grad=0.0000), Var(v=-0.0961, grad=0.0000)], [Var(v=-0.0763, grad=0.0258), Var(v=-0.1088, grad=0.0000), Var(v=0.0560, grad=-1.6552), Var(v=-0.0126, grad=2.0677), Var(v=-0.2367, grad=0.0000), Var(v=0.0932, grad=-0.8602), Var(v=-0.1761, grad=0.0000), Var(v=-0.0623, grad=0.0000), Var(v=-0.0484, grad=0.7008), Var(v=-0.0671, grad=0.0000), Var(v=0.1851, grad=-0.1850), Var(v=0.1010, grad=0.0000), Var(v=-0.0088, grad=1.0529), Var(v=0.0594, grad=-0.6407), Var(v=0.1298, grad=0.7701), Var(v=-0.1452, grad=0.2485), Var(v=0.0745, grad=0.0000), Var(v=0.0620, grad=1.8815), Var(v=0.1630, grad=0.0000), Var(v=0.0549, grad=1.3477), Var(v=0.0514, grad=-2.3892), Var(v=-0.0435, grad=0.0000), Var(v=0.2240, grad=-1.7168), Var(v=-0.0428, grad=0.4100), Var(v=-0.0796, grad=-0.8483), Var(v=-0.0868, grad=-0.4376), Var(v=0.0050, grad=0.0000), Var(v=0.0604, grad=-1.6282), Var(v=0.0740, grad=-2.8153), Var(v=-0.0279, grad=0.0000), Var(v=0.1459, grad=1.2198), Var(v=-0.1557, grad=0.0000), Var(v=-0.0040, grad=0.0000), Var(v=0.1608, grad=2.3631), Var(v=-0.0853, grad=0.0000), Var(v=0.1045, grad=-2.2681), Var(v=0.0846, grad=2.0434), Var(v=0.0399, grad=-0.3336), Var(v=0.0147, grad=0.0000), Var(v=-0.0123, grad=-1.9967), Var(v=0.2507, grad=-1.1603), Var(v=0.1785, grad=0.0000), Var(v=-0.0882, grad=0.0000), Var(v=-0.0716, grad=1.0831), Var(v=0.0493, grad=2.6160), Var(v=-0.0348, grad=-0.4826), Var(v=-0.0231, grad=0.0000), Var(v=-0.0251, grad=0.0000), Var(v=-0.1986, grad=0.0000), Var(v=0.0560, grad=0.0000)], [Var(v=-0.2205, grad=0.0000), Var(v=-0.0745, grad=0.0000), Var(v=-0.0366, grad=0.9376), Var(v=-0.1575, grad=0.0000), Var(v=-0.0507, grad=0.0000), Var(v=-0.0208, grad=0.4872), Var(v=-0.0159, grad=0.0000), Var(v=-0.0056, grad=-0.1745), Var(v=0.1501, grad=0.0000), Var(v=-0.0304, grad=0.7635), Var(v=0.0338, grad=0.0000), Var(v=0.1324, grad=-1.4128), Var(v=0.1376, grad=-0.5964), Var(v=0.0216, grad=0.3629), Var(v=-0.1033, grad=0.0000), Var(v=-0.0676, grad=0.0000), Var(v=-0.0724, grad=0.0000), Var(v=-0.1488, grad=-1.0658), Var(v=0.0735, grad=0.0000), Var(v=-0.0230, grad=-0.7634), Var(v=-0.0471, grad=1.3534), Var(v=0.0266, grad=0.0000), Var(v=0.1294, grad=0.9725), Var(v=0.0466, grad=-0.2322), Var(v=0.0647, grad=0.4805), Var(v=-0.0337, grad=0.0000), Var(v=0.1709, grad=0.0000), Var(v=0.0773, grad=0.9223), Var(v=-0.0380, grad=0.0000), Var(v=0.0915, grad=0.0000), Var(v=-0.0302, grad=-0.6910), Var(v=0.0465, grad=-1.0041), Var(v=-0.0933, grad=0.0000), Var(v=-0.0183, grad=-1.3386), Var(v=0.1630, grad=0.0000), Var(v=-0.0251, grad=1.2848), Var(v=0.0551, grad=-1.1575), Var(v=-0.0130, grad=0.0000), Var(v=-0.0563, grad=0.5446), Var(v=-0.0630, grad=0.0000), Var(v=-0.0830, grad=0.0000), Var(v=0.0222, grad=0.0000), Var(v=-0.0497, grad=0.5373), Var(v=0.0794, grad=0.0000), Var(v=0.0790, grad=0.0000), Var(v=0.0074, grad=0.0000), Var(v=0.0859, grad=0.0000), Var(v=-0.0201, grad=0.0000), Var(v=0.0270, grad=0.0000), Var(v=-0.1547, grad=0.0000)], [Var(v=0.0786, grad=0.0000), Var(v=0.1128, grad=0.0000), Var(v=0.0101, grad=0.3912), Var(v=0.0952, grad=0.0000), Var(v=-0.0270, grad=0.0000), Var(v=-0.1460, grad=0.2033), Var(v=-0.0952, grad=0.0000), Var(v=-0.0178, grad=-0.0728), Var(v=0.1681, grad=0.0000), Var(v=0.0790, grad=0.3186), Var(v=-0.0673, grad=0.0000), Var(v=-0.0129, grad=-0.5895), Var(v=-0.1186, grad=-0.2489), Var(v=-0.0892, grad=0.1514), Var(v=0.0495, grad=0.0000), Var(v=0.1060, grad=0.0000), Var(v=-0.0636, grad=0.0000), Var(v=0.0714, grad=-0.4447), Var(v=0.0564, grad=0.0000), Var(v=-0.0547, grad=-0.3185), Var(v=-0.0197, grad=0.5647), Var(v=-0.1879, grad=0.0000), Var(v=0.0023, grad=0.4058), Var(v=-0.0214, grad=-0.0969), Var(v=-0.0562, grad=0.2005), Var(v=-0.1817, grad=0.0000), Var(v=0.0531, grad=0.0000), Var(v=-0.0834, grad=0.3848), Var(v=-0.0120, grad=0.0000), Var(v=-0.0702, grad=0.0000), Var(v=-0.0785, grad=-0.2883), Var(v=0.0870, grad=-0.4190), Var(v=-0.0170, grad=0.0000), Var(v=-0.1317, grad=-0.5585), Var(v=0.0347, grad=0.0000), Var(v=-0.0281, grad=0.5361), Var(v=0.1235, grad=-0.4830), Var(v=0.1505, grad=0.0000), Var(v=-0.0404, grad=0.2272), Var(v=-0.2064, grad=0.0000), Var(v=0.0088, grad=0.0000), Var(v=0.2024, grad=0.0000), Var(v=-0.0697, grad=0.2242), Var(v=-0.1797, grad=0.0000), Var(v=0.0500, grad=0.0000), Var(v=-0.0930, grad=0.0000), Var(v=-0.0208, grad=0.0000), Var(v=0.0650, grad=0.0000), Var(v=0.0545, grad=0.0000), Var(v=0.0517, grad=0.0000)], [Var(v=0.0315, grad=0.0056), Var(v=-0.0117, grad=0.0000), Var(v=0.0250, grad=-0.3585), Var(v=-0.0350, grad=0.4478), Var(v=-0.0191, grad=0.0000), Var(v=0.0390, grad=-0.1863), Var(v=0.0194, grad=0.0000), Var(v=-0.0391, grad=0.0000), Var(v=-0.0655, grad=0.1518), Var(v=-0.0611, grad=0.0000), Var(v=0.1038, grad=-0.0401), Var(v=-0.0033, grad=0.0000), Var(v=0.0988, grad=0.2280), Var(v=-0.0764, grad=-0.1388), Var(v=0.0090, grad=0.1668), Var(v=0.1392, grad=0.0538), Var(v=0.0370, grad=0.0000), Var(v=0.0970, grad=0.4075), Var(v=-0.0578, grad=0.0000), Var(v=-0.0945, grad=0.2919), Var(v=0.0091, grad=-0.5174), Var(v=0.0767, grad=0.0000), Var(v=0.1324, grad=-0.3718), Var(v=-0.0866, grad=0.0888), Var(v=0.0985, grad=-0.1837), Var(v=0.1240, grad=-0.0948), Var(v=0.0212, grad=0.0000), Var(v=0.0430, grad=-0.3526), Var(v=0.2152, grad=-0.6097), Var(v=0.0276, grad=0.0000), Var(v=-0.0358, grad=0.2642), Var(v=-0.0646, grad=0.0000), Var(v=-0.0701, grad=0.0000), Var(v=-0.0657, grad=0.5118), Var(v=0.1167, grad=0.0000), Var(v=0.0390, grad=-0.4912), Var(v=-0.1638, grad=0.4425), Var(v=-0.0958, grad=-0.0722), Var(v=-0.1419, grad=0.0000), Var(v=-0.1147, grad=-0.4324), Var(v=0.0949, grad=-0.2513), Var(v=0.0787, grad=0.0000), Var(v=0.0831, grad=0.0000), Var(v=0.1071, grad=0.2346), Var(v=-0.0799, grad=0.5666), Var(v=-0.0285, grad=-0.1045), Var(v=0.0172, grad=0.0000), Var(v=0.0183, grad=0.0000), Var(v=0.0364, grad=0.0000), Var(v=0.0426, grad=0.0000)], [Var(v=0.0199, grad=0.0150), Var(v=-0.0360, grad=0.0000), Var(v=0.1606, grad=-0.9607), Var(v=0.0986, grad=1.2001), Var(v=-0.1945, grad=0.0000), Var(v=-0.1068, grad=-0.4993), Var(v=0.0381, grad=0.0000), Var(v=-0.1509, grad=0.0000), Var(v=-0.0651, grad=0.4068), Var(v=0.0206, grad=0.0000), Var(v=0.0254, grad=-0.1073), Var(v=-0.1504, grad=0.0000), Var(v=0.0393, grad=0.6111), Var(v=-0.2253, grad=-0.3719), Var(v=0.1809, grad=0.4470), Var(v=0.0852, grad=0.1442), Var(v=0.0354, grad=0.0000), Var(v=-0.0156, grad=1.0920), Var(v=0.1240, grad=0.0000), Var(v=0.0230, grad=0.7822), Var(v=0.2878, grad=-1.3867), Var(v=0.1081, grad=0.0000), Var(v=0.0102, grad=-0.9965), Var(v=0.0633, grad=0.2380), Var(v=0.1235, grad=-0.4923), Var(v=-0.0797, grad=-0.2540), Var(v=-0.0219, grad=0.0000), Var(v=0.1253, grad=-0.9450), Var(v=0.0465, grad=-1.6340), Var(v=0.0549, grad=0.0000), Var(v=-0.0266, grad=0.7080), Var(v=-0.0501, grad=0.0000), Var(v=0.0372, grad=0.0000), Var(v=0.1654, grad=1.3716), Var(v=-0.1369, grad=0.0000), Var(v=0.0045, grad=-1.3164), Var(v=0.1404, grad=1.1860), Var(v=0.0037, grad=-0.1936), Var(v=-0.1279, grad=0.0000), Var(v=0.0389, grad=-1.1589), Var(v=0.0278, grad=-0.6735), Var(v=-0.0896, grad=0.0000), Var(v=-0.0473, grad=0.0000), Var(v=0.0278, grad=0.6287), Var(v=-0.0418, grad=1.5184), Var(v=-0.0686, grad=-0.2801), Var(v=-0.0799, grad=0.0000), Var(v=-0.0422, grad=0.0000), Var(v=0.0231, grad=0.0000), Var(v=-0.0473, grad=0.0000)], [Var(v=0.0903, grad=0.0127), Var(v=0.0804, grad=0.0000), Var(v=0.0918, grad=-0.8127), Var(v=-0.0500, grad=1.0152), Var(v=-0.1302, grad=0.0000), Var(v=0.1007, grad=-0.4223), Var(v=-0.0386, grad=0.0000), Var(v=0.0464, grad=0.0000), Var(v=0.0694, grad=0.3441), Var(v=-0.0372, grad=0.0000), Var(v=-0.0113, grad=-0.0908), Var(v=-0.1006, grad=0.0000), Var(v=-0.0910, grad=0.5170), Var(v=0.0124, grad=-0.3146), Var(v=-0.0116, grad=0.3781), Var(v=0.0265, grad=0.1220), Var(v=0.0031, grad=0.0000), Var(v=-0.0521, grad=0.9238), Var(v=-0.0630, grad=0.0000), Var(v=-0.1596, grad=0.6617), Var(v=-0.1049, grad=-1.1731), Var(v=-0.0397, grad=0.0000), Var(v=0.0559, grad=-0.8430), Var(v=0.1327, grad=0.2013), Var(v=0.0073, grad=-0.4165), Var(v=0.0638, grad=-0.2149), Var(v=0.0563, grad=0.0000), Var(v=-0.0907, grad=-0.7994), Var(v=-0.0611, grad=-1.3823), Var(v=-0.0287, grad=0.0000), Var(v=0.0598, grad=0.5989), Var(v=0.0029, grad=0.0000), Var(v=-0.0204, grad=0.0000), Var(v=-0.1749, grad=1.1603), Var(v=-0.1211, grad=0.0000), Var(v=0.0926, grad=-1.1136), Var(v=0.0877, grad=1.0033), Var(v=0.1988, grad=-0.1638), Var(v=0.2250, grad=0.0000), Var(v=0.0891, grad=-0.9803), Var(v=0.0120, grad=-0.5697), Var(v=-0.0719, grad=0.0000), Var(v=-0.0886, grad=0.0000), Var(v=0.0956, grad=0.5318), Var(v=0.0233, grad=1.2845), Var(v=0.0397, grad=-0.2369), Var(v=0.0618, grad=0.0000), Var(v=0.0367, grad=0.0000), Var(v=0.0934, grad=0.0000), Var(v=-0.0574, grad=0.0000)]] \n",
      " Biases:[Var(v=-0.0260, grad=2.5963), Var(v=0.0000, grad=0.0000), Var(v=-0.0250, grad=2.5035), Var(v=-2.0795, grad=207.9464), Var(v=0.0000, grad=0.0000), Var(v=-0.0130, grad=1.3010), Var(v=0.0000, grad=0.0000), Var(v=0.3145, grad=-31.4476), Var(v=-0.7048, grad=70.4810), Var(v=-1.3759, grad=137.5901), Var(v=0.1860, grad=-18.6003), Var(v=2.5461, grad=-254.6116), Var(v=0.0159, grad=-1.5925), Var(v=-0.0097, grad=0.9691), Var(v=-0.7744, grad=77.4431), Var(v=-0.2499, grad=24.9875), Var(v=0.0000, grad=0.0000), Var(v=0.0285, grad=-2.8458), Var(v=0.0000, grad=0.0000), Var(v=0.0204, grad=-2.0385), Var(v=-0.0361, grad=3.6137), Var(v=0.0000, grad=0.0000), Var(v=-0.0260, grad=2.5968), Var(v=0.0062, grad=-0.6202), Var(v=-0.0128, grad=1.2830), Var(v=0.4401, grad=-44.0073), Var(v=0.0000, grad=0.0000), Var(v=-0.0246, grad=2.4627), Var(v=2.8313, grad=-283.1253), Var(v=0.0000, grad=0.0000), Var(v=0.0184, grad=-1.8450), Var(v=1.8095, grad=-180.9476), Var(v=0.0000, grad=0.0000), Var(v=0.0357, grad=-3.5743), Var(v=0.0000, grad=0.0000), Var(v=-0.0343, grad=3.4305), Var(v=0.0309, grad=-3.0907), Var(v=0.3355, grad=-33.5477), Var(v=-0.9814, grad=98.1434), Var(v=2.0080, grad=-200.8001), Var(v=1.1669, grad=-116.6908), Var(v=0.0000, grad=0.0000), Var(v=-0.9683, grad=96.8349), Var(v=-1.0893, grad=108.9273), Var(v=-2.6309, grad=263.0883), Var(v=0.4853, grad=-48.5329), Var(v=0.0000, grad=0.0000), Var(v=0.0000, grad=0.0000), Var(v=0.0000, grad=0.0000), Var(v=0.0000, grad=0.0000)]\n",
      "Layer 2 \n",
      " 50 input nodes \n",
      "1 output nodes \n",
      " Weights:[[Var(v=-0.0001, grad=0.2065)], [Var(v=-0.0556, grad=0.0000)], [Var(v=-0.1710, grad=4.1917)], [Var(v=0.0918, grad=6.9485)], [Var(v=-0.0839, grad=0.0000)], [Var(v=-0.0686, grad=0.1516)], [Var(v=-0.0699, grad=0.0000)], [Var(v=0.0311, grad=-0.7081)], [Var(v=0.0333, grad=2.1404)], [Var(v=-0.1004, grad=-0.4706)], [Var(v=-0.0229, grad=0.8511)], [Var(v=0.1981, grad=-0.3520)], [Var(v=0.0788, grad=0.3346)], [Var(v=-0.0522, grad=0.2217)], [Var(v=0.0252, grad=3.4867)], [Var(v=0.0083, grad=1.1060)], [Var(v=0.0777, grad=0.0000)], [Var(v=0.1611, grad=-1.4298)], [Var(v=-0.0136, grad=0.0000)], [Var(v=0.1055, grad=-0.0378)], [Var(v=-0.1965, grad=1.0158)], [Var(v=0.0089, grad=0.0000)], [Var(v=-0.1911, grad=5.7231)], [Var(v=0.0353, grad=-0.3291)], [Var(v=-0.0796, grad=1.3469)], [Var(v=-0.0525, grad=1.8352)], [Var(v=-0.0163, grad=0.0000)], [Var(v=-0.1371, grad=1.0107)], [Var(v=-0.2249, grad=0.5313)], [Var(v=0.0661, grad=0.0000)], [Var(v=0.1056, grad=-1.0452)], [Var(v=0.1392, grad=-0.0906)], [Var(v=-0.0242, grad=0.0000)], [Var(v=0.1855, grad=-0.1201)], [Var(v=-0.0702, grad=0.0000)], [Var(v=-0.2311, grad=5.4146)], [Var(v=0.1536, grad=0.5743)], [Var(v=-0.0943, grad=6.8232)], [Var(v=-0.0544, grad=-2.0620)], [Var(v=-0.1598, grad=0.4017)], [Var(v=-0.1351, grad=4.4643)], [Var(v=-0.1667, grad=0.0000)], [Var(v=-0.0151, grad=-5.8893)], [Var(v=0.0598, grad=2.4721)], [Var(v=0.1888, grad=1.5268)], [Var(v=-0.0745, grad=3.6847)], [Var(v=-0.1128, grad=0.0000)], [Var(v=-0.0048, grad=0.0000)], [Var(v=0.1074, grad=0.0000)], [Var(v=-0.1919, grad=0.0000)]] \n",
      " Biases:[Var(v=0.6464, grad=-64.6371)]\n",
      "\n",
      "Network after zeroing gradients:\n",
      "Layer 0 \n",
      " 1 input nodes \n",
      "15 output nodes \n",
      " Weights:[[Var(v=-0.2302, grad=0.0000), Var(v=-0.1527, grad=0.0000), Var(v=0.1337, grad=0.0000), Var(v=-0.0606, grad=0.0000), Var(v=-0.1118, grad=0.0000), Var(v=-0.0122, grad=0.0000), Var(v=-0.0723, grad=0.0000), Var(v=-0.1391, grad=0.0000), Var(v=0.1699, grad=0.0000), Var(v=-0.1240, grad=0.0000), Var(v=0.0695, grad=0.0000), Var(v=0.0473, grad=0.0000), Var(v=-0.1376, grad=0.0000), Var(v=-0.0709, grad=0.0000), Var(v=-0.0940, grad=0.0000)]] \n",
      " Biases:[Var(v=0.0517, grad=0.0000), Var(v=-0.0215, grad=0.0000), Var(v=0.0173, grad=0.0000), Var(v=0.0424, grad=0.0000), Var(v=0.0020, grad=0.0000), Var(v=0.0081, grad=0.0000), Var(v=-0.0684, grad=0.0000), Var(v=0.0901, grad=0.0000), Var(v=-0.0089, grad=0.0000), Var(v=-0.0105, grad=0.0000), Var(v=-0.0017, grad=0.0000), Var(v=0.0150, grad=0.0000), Var(v=0.0984, grad=0.0000), Var(v=-0.0071, grad=0.0000), Var(v=0.0249, grad=0.0000)]\n",
      "Layer 1 \n",
      " 15 input nodes \n",
      "50 output nodes \n",
      " Weights:[[Var(v=-0.1668, grad=0.0000), Var(v=-0.0985, grad=0.0000), Var(v=0.0820, grad=0.0000), Var(v=0.1287, grad=0.0000), Var(v=-0.0248, grad=0.0000), Var(v=-0.0586, grad=0.0000), Var(v=0.1541, grad=0.0000), Var(v=-0.0229, grad=0.0000), Var(v=0.1116, grad=0.0000), Var(v=0.0172, grad=0.0000), Var(v=0.0821, grad=0.0000), Var(v=-0.1102, grad=0.0000), Var(v=0.0251, grad=0.0000), Var(v=-0.0231, grad=0.0000), Var(v=-0.0981, grad=0.0000), Var(v=0.1468, grad=0.0000), Var(v=0.0313, grad=0.0000), Var(v=-0.0086, grad=0.0000), Var(v=-0.0208, grad=0.0000), Var(v=-0.0430, grad=0.0000), Var(v=0.1239, grad=0.0000), Var(v=0.0687, grad=0.0000), Var(v=0.1440, grad=0.0000), Var(v=0.1355, grad=0.0000), Var(v=0.0591, grad=0.0000), Var(v=-0.0531, grad=0.0000), Var(v=0.0018, grad=0.0000), Var(v=0.2011, grad=0.0000), Var(v=0.1009, grad=0.0000), Var(v=-0.1066, grad=0.0000), Var(v=-0.0958, grad=0.0000), Var(v=-0.0808, grad=0.0000), Var(v=-0.1060, grad=0.0000), Var(v=0.0429, grad=0.0000), Var(v=0.0267, grad=0.0000), Var(v=0.1804, grad=0.0000), Var(v=0.0024, grad=0.0000), Var(v=0.0829, grad=0.0000), Var(v=-0.1929, grad=0.0000), Var(v=0.0526, grad=0.0000), Var(v=0.0474, grad=0.0000), Var(v=-0.0653, grad=0.0000), Var(v=-0.1733, grad=0.0000), Var(v=0.0566, grad=0.0000), Var(v=0.0093, grad=0.0000), Var(v=0.2863, grad=0.0000), Var(v=-0.0053, grad=0.0000), Var(v=0.0055, grad=0.0000), Var(v=-0.2709, grad=0.0000), Var(v=-0.0540, grad=0.0000)], [Var(v=0.0662, grad=0.0000), Var(v=-0.0517, grad=0.0000), Var(v=0.0351, grad=0.0000), Var(v=0.1396, grad=0.0000), Var(v=0.1403, grad=0.0000), Var(v=-0.0102, grad=0.0000), Var(v=-0.0687, grad=0.0000), Var(v=-0.0199, grad=0.0000), Var(v=0.0541, grad=0.0000), Var(v=0.0475, grad=0.0000), Var(v=-0.0698, grad=0.0000), Var(v=0.1215, grad=0.0000), Var(v=0.1741, grad=0.0000), Var(v=0.0581, grad=0.0000), Var(v=0.1163, grad=0.0000), Var(v=-0.0411, grad=0.0000), Var(v=-0.0818, grad=0.0000), Var(v=-0.0260, grad=0.0000), Var(v=-0.0421, grad=0.0000), Var(v=0.0548, grad=0.0000), Var(v=0.0164, grad=0.0000), Var(v=-0.0241, grad=0.0000), Var(v=0.0075, grad=0.0000), Var(v=0.0046, grad=0.0000), Var(v=0.0094, grad=0.0000), Var(v=0.1791, grad=0.0000), Var(v=-0.0702, grad=0.0000), Var(v=-0.0201, grad=0.0000), Var(v=0.0349, grad=0.0000), Var(v=0.0705, grad=0.0000), Var(v=-0.0855, grad=0.0000), Var(v=0.0932, grad=0.0000), Var(v=0.1187, grad=0.0000), Var(v=-0.1582, grad=0.0000), Var(v=0.0376, grad=0.0000), Var(v=0.1148, grad=0.0000), Var(v=-0.0154, grad=0.0000), Var(v=0.2371, grad=0.0000), Var(v=-0.0193, grad=0.0000), Var(v=-0.0221, grad=0.0000), Var(v=0.0354, grad=0.0000), Var(v=-0.0756, grad=0.0000), Var(v=0.0925, grad=0.0000), Var(v=-0.0752, grad=0.0000), Var(v=0.0463, grad=0.0000), Var(v=0.1553, grad=0.0000), Var(v=0.0324, grad=0.0000), Var(v=-0.1148, grad=0.0000), Var(v=-0.0091, grad=0.0000), Var(v=-0.0997, grad=0.0000)], [Var(v=0.0479, grad=0.0000), Var(v=0.1485, grad=0.0000), Var(v=-0.0373, grad=0.0000), Var(v=0.0024, grad=0.0000), Var(v=0.1173, grad=0.0000), Var(v=0.1763, grad=0.0000), Var(v=0.1920, grad=0.0000), Var(v=-0.0125, grad=0.0000), Var(v=-0.0405, grad=0.0000), Var(v=0.0961, grad=0.0000), Var(v=-0.0100, grad=0.0000), Var(v=0.0575, grad=0.0000), Var(v=-0.1538, grad=0.0000), Var(v=-0.0499, grad=0.0000), Var(v=0.0439, grad=0.0000), Var(v=0.0515, grad=0.0000), Var(v=-0.2368, grad=0.0000), Var(v=0.0874, grad=0.0000), Var(v=0.0390, grad=0.0000), Var(v=0.1099, grad=0.0000), Var(v=0.0226, grad=0.0000), Var(v=-0.0422, grad=0.0000), Var(v=-0.0590, grad=0.0000), Var(v=0.1979, grad=0.0000), Var(v=0.0432, grad=0.0000), Var(v=0.0068, grad=0.0000), Var(v=-0.0748, grad=0.0000), Var(v=-0.0606, grad=0.0000), Var(v=-0.1245, grad=0.0000), Var(v=0.0300, grad=0.0000), Var(v=0.0553, grad=0.0000), Var(v=-0.0770, grad=0.0000), Var(v=-0.1695, grad=0.0000), Var(v=-0.0238, grad=0.0000), Var(v=0.0481, grad=0.0000), Var(v=-0.0921, grad=0.0000), Var(v=0.1947, grad=0.0000), Var(v=-0.2283, grad=0.0000), Var(v=-0.0939, grad=0.0000), Var(v=-0.0704, grad=0.0000), Var(v=-0.0549, grad=0.0000), Var(v=-0.0465, grad=0.0000), Var(v=0.1504, grad=0.0000), Var(v=-0.0667, grad=0.0000), Var(v=-0.0910, grad=0.0000), Var(v=0.1089, grad=0.0000), Var(v=-0.0077, grad=0.0000), Var(v=0.0019, grad=0.0000), Var(v=-0.0279, grad=0.0000), Var(v=-0.0491, grad=0.0000)], [Var(v=-0.0708, grad=0.0000), Var(v=0.0259, grad=0.0000), Var(v=0.0663, grad=0.0000), Var(v=-0.1182, grad=0.0000), Var(v=-0.1784, grad=0.0000), Var(v=0.0358, grad=0.0000), Var(v=-0.0584, grad=0.0000), Var(v=0.0661, grad=0.0000), Var(v=-0.0534, grad=0.0000), Var(v=-0.1719, grad=0.0000), Var(v=-0.1112, grad=0.0000), Var(v=-0.1323, grad=0.0000), Var(v=-0.1011, grad=0.0000), Var(v=-0.0473, grad=0.0000), Var(v=0.1635, grad=0.0000), Var(v=-0.0282, grad=0.0000), Var(v=0.0746, grad=0.0000), Var(v=0.1652, grad=0.0000), Var(v=0.0352, grad=0.0000), Var(v=-0.1252, grad=0.0000), Var(v=0.1969, grad=0.0000), Var(v=-0.0998, grad=0.0000), Var(v=-0.0110, grad=0.0000), Var(v=0.1743, grad=0.0000), Var(v=-0.0712, grad=0.0000), Var(v=-0.0424, grad=0.0000), Var(v=0.0095, grad=0.0000), Var(v=-0.1377, grad=0.0000), Var(v=0.0913, grad=0.0000), Var(v=-0.0454, grad=0.0000), Var(v=0.1381, grad=0.0000), Var(v=0.0141, grad=0.0000), Var(v=0.0988, grad=0.0000), Var(v=-0.0614, grad=0.0000), Var(v=0.0322, grad=0.0000), Var(v=-0.0590, grad=0.0000), Var(v=0.0084, grad=0.0000), Var(v=-0.0782, grad=0.0000), Var(v=0.0594, grad=0.0000), Var(v=-0.0052, grad=0.0000), Var(v=0.1460, grad=0.0000), Var(v=0.0067, grad=0.0000), Var(v=0.0004, grad=0.0000), Var(v=-0.0052, grad=0.0000), Var(v=-0.0941, grad=0.0000), Var(v=-0.1303, grad=0.0000), Var(v=0.0574, grad=0.0000), Var(v=0.0120, grad=0.0000), Var(v=0.0877, grad=0.0000), Var(v=-0.1374, grad=0.0000)], [Var(v=0.2202, grad=0.0000), Var(v=-0.0097, grad=0.0000), Var(v=0.1336, grad=0.0000), Var(v=0.1118, grad=0.0000), Var(v=-0.0565, grad=0.0000), Var(v=0.0691, grad=0.0000), Var(v=-0.0125, grad=0.0000), Var(v=0.0386, grad=0.0000), Var(v=-0.0374, grad=0.0000), Var(v=-0.2272, grad=0.0000), Var(v=-0.1379, grad=0.0000), Var(v=0.0320, grad=0.0000), Var(v=-0.0859, grad=0.0000), Var(v=0.1088, grad=0.0000), Var(v=-0.0502, grad=0.0000), Var(v=0.0268, grad=0.0000), Var(v=-0.0957, grad=0.0000), Var(v=0.0509, grad=0.0000), Var(v=-0.2016, grad=0.0000), Var(v=0.0843, grad=0.0000), Var(v=0.0282, grad=0.0000), Var(v=-0.1387, grad=0.0000), Var(v=0.1125, grad=0.0000), Var(v=-0.1967, grad=0.0000), Var(v=0.0825, grad=0.0000), Var(v=0.0722, grad=0.0000), Var(v=-0.0031, grad=0.0000), Var(v=-0.0544, grad=0.0000), Var(v=-0.1388, grad=0.0000), Var(v=-0.1793, grad=0.0000), Var(v=0.0922, grad=0.0000), Var(v=0.0087, grad=0.0000), Var(v=-0.1620, grad=0.0000), Var(v=-0.1188, grad=0.0000), Var(v=-0.0725, grad=0.0000), Var(v=0.1335, grad=0.0000), Var(v=-0.0235, grad=0.0000), Var(v=-0.0141, grad=0.0000), Var(v=-0.0273, grad=0.0000), Var(v=0.0316, grad=0.0000), Var(v=0.0047, grad=0.0000), Var(v=-0.0095, grad=0.0000), Var(v=0.0771, grad=0.0000), Var(v=0.1469, grad=0.0000), Var(v=-0.0837, grad=0.0000), Var(v=-0.1426, grad=0.0000), Var(v=-0.1361, grad=0.0000), Var(v=-0.0813, grad=0.0000), Var(v=-0.0019, grad=0.0000), Var(v=0.0271, grad=0.0000)], [Var(v=-0.1300, grad=0.0000), Var(v=-0.0132, grad=0.0000), Var(v=-0.0236, grad=0.0000), Var(v=0.0333, grad=0.0000), Var(v=-0.0232, grad=0.0000), Var(v=0.0201, grad=0.0000), Var(v=0.0832, grad=0.0000), Var(v=-0.0908, grad=0.0000), Var(v=-0.1794, grad=0.0000), Var(v=0.0829, grad=0.0000), Var(v=-0.0131, grad=0.0000), Var(v=0.0318, grad=0.0000), Var(v=0.1895, grad=0.0000), Var(v=0.0202, grad=0.0000), Var(v=0.0743, grad=0.0000), Var(v=-0.0185, grad=0.0000), Var(v=-0.1003, grad=0.0000), Var(v=-0.1976, grad=0.0000), Var(v=-0.0188, grad=0.0000), Var(v=0.0617, grad=0.0000), Var(v=0.0460, grad=0.0000), Var(v=0.0877, grad=0.0000), Var(v=0.0542, grad=0.0000), Var(v=0.0855, grad=0.0000), Var(v=-0.1554, grad=0.0000), Var(v=-0.1039, grad=0.0000), Var(v=0.0493, grad=0.0000), Var(v=-0.0053, grad=0.0000), Var(v=0.0655, grad=0.0000), Var(v=-0.2098, grad=0.0000), Var(v=-0.1237, grad=0.0000), Var(v=-0.1247, grad=0.0000), Var(v=-0.0971, grad=0.0000), Var(v=0.0207, grad=0.0000), Var(v=-0.2253, grad=0.0000), Var(v=-0.0331, grad=0.0000), Var(v=-0.0670, grad=0.0000), Var(v=-0.1178, grad=0.0000), Var(v=0.0339, grad=0.0000), Var(v=0.0607, grad=0.0000), Var(v=-0.1128, grad=0.0000), Var(v=-0.0183, grad=0.0000), Var(v=-0.0532, grad=0.0000), Var(v=0.0594, grad=0.0000), Var(v=0.0518, grad=0.0000), Var(v=-0.0633, grad=0.0000), Var(v=0.1352, grad=0.0000), Var(v=0.0922, grad=0.0000), Var(v=-0.0742, grad=0.0000), Var(v=0.1050, grad=0.0000)], [Var(v=-0.1229, grad=0.0000), Var(v=-0.0965, grad=0.0000), Var(v=-0.0491, grad=0.0000), Var(v=0.2215, grad=0.0000), Var(v=-0.1029, grad=0.0000), Var(v=-0.0674, grad=0.0000), Var(v=0.0623, grad=0.0000), Var(v=-0.0165, grad=0.0000), Var(v=-0.0011, grad=0.0000), Var(v=-0.0428, grad=0.0000), Var(v=-0.0289, grad=0.0000), Var(v=-0.1480, grad=0.0000), Var(v=0.0359, grad=0.0000), Var(v=-0.1211, grad=0.0000), Var(v=0.0101, grad=0.0000), Var(v=0.0026, grad=0.0000), Var(v=0.0505, grad=0.0000), Var(v=-0.0274, grad=0.0000), Var(v=-0.0661, grad=0.0000), Var(v=0.1052, grad=0.0000), Var(v=-0.0119, grad=0.0000), Var(v=-0.0500, grad=0.0000), Var(v=0.1912, grad=0.0000), Var(v=-0.1224, grad=0.0000), Var(v=-0.0749, grad=0.0000), Var(v=-0.0362, grad=0.0000), Var(v=-0.0510, grad=0.0000), Var(v=0.1174, grad=0.0000), Var(v=0.0599, grad=0.0000), Var(v=-0.0083, grad=0.0000), Var(v=0.0797, grad=0.0000), Var(v=-0.1639, grad=0.0000), Var(v=-0.0309, grad=0.0000), Var(v=-0.2128, grad=0.0000), Var(v=0.0126, grad=0.0000), Var(v=-0.0262, grad=0.0000), Var(v=0.0574, grad=0.0000), Var(v=0.1035, grad=0.0000), Var(v=-0.0269, grad=0.0000), Var(v=-0.1245, grad=0.0000), Var(v=0.0271, grad=0.0000), Var(v=0.0869, grad=0.0000), Var(v=0.0335, grad=0.0000), Var(v=0.1172, grad=0.0000), Var(v=0.0616, grad=0.0000), Var(v=-0.0059, grad=0.0000), Var(v=0.2167, grad=0.0000), Var(v=-0.0258, grad=0.0000), Var(v=-0.0089, grad=0.0000), Var(v=-0.0199, grad=0.0000)], [Var(v=-0.0410, grad=0.0000), Var(v=-0.0721, grad=0.0000), Var(v=0.2034, grad=0.0000), Var(v=-0.0464, grad=0.0000), Var(v=-0.1398, grad=0.0000), Var(v=0.1962, grad=0.0000), Var(v=0.0648, grad=0.0000), Var(v=-0.0553, grad=0.0000), Var(v=0.0685, grad=0.0000), Var(v=0.0368, grad=0.0000), Var(v=-0.1037, grad=0.0000), Var(v=-0.0874, grad=0.0000), Var(v=-0.0137, grad=0.0000), Var(v=0.0581, grad=0.0000), Var(v=-0.0236, grad=0.0000), Var(v=-0.0946, grad=0.0000), Var(v=0.0517, grad=0.0000), Var(v=-0.1077, grad=0.0000), Var(v=0.0749, grad=0.0000), Var(v=-0.0421, grad=0.0000), Var(v=-0.2182, grad=0.0000), Var(v=0.0915, grad=0.0000), Var(v=0.0315, grad=0.0000), Var(v=-0.0276, grad=0.0000), Var(v=0.0311, grad=0.0000), Var(v=0.0893, grad=0.0000), Var(v=-0.0084, grad=0.0000), Var(v=0.1335, grad=0.0000), Var(v=0.0376, grad=0.0000), Var(v=-0.1170, grad=0.0000), Var(v=0.0237, grad=0.0000), Var(v=0.0316, grad=0.0000), Var(v=-0.1365, grad=0.0000), Var(v=-0.0153, grad=0.0000), Var(v=-0.0436, grad=0.0000), Var(v=0.1246, grad=0.0000), Var(v=0.0868, grad=0.0000), Var(v=0.1361, grad=0.0000), Var(v=0.0751, grad=0.0000), Var(v=0.1732, grad=0.0000), Var(v=-0.0055, grad=0.0000), Var(v=-0.1217, grad=0.0000), Var(v=-0.0891, grad=0.0000), Var(v=0.0749, grad=0.0000), Var(v=-0.1538, grad=0.0000), Var(v=-0.2088, grad=0.0000), Var(v=-0.0667, grad=0.0000), Var(v=-0.0250, grad=0.0000), Var(v=-0.0883, grad=0.0000), Var(v=-0.0305, grad=0.0000)], [Var(v=-0.0619, grad=0.0000), Var(v=-0.1772, grad=0.0000), Var(v=0.0731, grad=0.0000), Var(v=-0.0077, grad=0.0000), Var(v=-0.0780, grad=0.0000), Var(v=-0.0549, grad=0.0000), Var(v=-0.1373, grad=0.0000), Var(v=0.0594, grad=0.0000), Var(v=-0.1533, grad=0.0000), Var(v=-0.0646, grad=0.0000), Var(v=-0.0112, grad=0.0000), Var(v=-0.0050, grad=0.0000), Var(v=0.2272, grad=0.0000), Var(v=0.0359, grad=0.0000), Var(v=-0.0139, grad=0.0000), Var(v=-0.0579, grad=0.0000), Var(v=-0.0025, grad=0.0000), Var(v=0.2066, grad=0.0000), Var(v=-0.0768, grad=0.0000), Var(v=0.0521, grad=0.0000), Var(v=0.0333, grad=0.0000), Var(v=-0.0924, grad=0.0000), Var(v=-0.0358, grad=0.0000), Var(v=-0.0404, grad=0.0000), Var(v=-0.0484, grad=0.0000), Var(v=-0.1628, grad=0.0000), Var(v=-0.1042, grad=0.0000), Var(v=0.0766, grad=0.0000), Var(v=-0.0082, grad=0.0000), Var(v=-0.1098, grad=0.0000), Var(v=0.1281, grad=0.0000), Var(v=0.0673, grad=0.0000), Var(v=0.1440, grad=0.0000), Var(v=0.1366, grad=0.0000), Var(v=-0.1286, grad=0.0000), Var(v=0.1114, grad=0.0000), Var(v=0.0429, grad=0.0000), Var(v=0.0907, grad=0.0000), Var(v=0.1802, grad=0.0000), Var(v=0.0332, grad=0.0000), Var(v=-0.0563, grad=0.0000), Var(v=-0.0251, grad=0.0000), Var(v=0.2353, grad=0.0000), Var(v=-0.0092, grad=0.0000), Var(v=-0.3271, grad=0.0000), Var(v=-0.0884, grad=0.0000), Var(v=-0.1506, grad=0.0000), Var(v=-0.1593, grad=0.0000), Var(v=-0.0835, grad=0.0000), Var(v=-0.0961, grad=0.0000)], [Var(v=-0.0763, grad=0.0000), Var(v=-0.1088, grad=0.0000), Var(v=0.0560, grad=0.0000), Var(v=-0.0126, grad=0.0000), Var(v=-0.2367, grad=0.0000), Var(v=0.0932, grad=0.0000), Var(v=-0.1761, grad=0.0000), Var(v=-0.0623, grad=0.0000), Var(v=-0.0484, grad=0.0000), Var(v=-0.0671, grad=0.0000), Var(v=0.1851, grad=0.0000), Var(v=0.1010, grad=0.0000), Var(v=-0.0088, grad=0.0000), Var(v=0.0594, grad=0.0000), Var(v=0.1298, grad=0.0000), Var(v=-0.1452, grad=0.0000), Var(v=0.0745, grad=0.0000), Var(v=0.0620, grad=0.0000), Var(v=0.1630, grad=0.0000), Var(v=0.0549, grad=0.0000), Var(v=0.0514, grad=0.0000), Var(v=-0.0435, grad=0.0000), Var(v=0.2240, grad=0.0000), Var(v=-0.0428, grad=0.0000), Var(v=-0.0796, grad=0.0000), Var(v=-0.0868, grad=0.0000), Var(v=0.0050, grad=0.0000), Var(v=0.0604, grad=0.0000), Var(v=0.0740, grad=0.0000), Var(v=-0.0279, grad=0.0000), Var(v=0.1459, grad=0.0000), Var(v=-0.1557, grad=0.0000), Var(v=-0.0040, grad=0.0000), Var(v=0.1608, grad=0.0000), Var(v=-0.0853, grad=0.0000), Var(v=0.1045, grad=0.0000), Var(v=0.0846, grad=0.0000), Var(v=0.0399, grad=0.0000), Var(v=0.0147, grad=0.0000), Var(v=-0.0123, grad=0.0000), Var(v=0.2507, grad=0.0000), Var(v=0.1785, grad=0.0000), Var(v=-0.0882, grad=0.0000), Var(v=-0.0716, grad=0.0000), Var(v=0.0493, grad=0.0000), Var(v=-0.0348, grad=0.0000), Var(v=-0.0231, grad=0.0000), Var(v=-0.0251, grad=0.0000), Var(v=-0.1986, grad=0.0000), Var(v=0.0560, grad=0.0000)], [Var(v=-0.2205, grad=0.0000), Var(v=-0.0745, grad=0.0000), Var(v=-0.0366, grad=0.0000), Var(v=-0.1575, grad=0.0000), Var(v=-0.0507, grad=0.0000), Var(v=-0.0208, grad=0.0000), Var(v=-0.0159, grad=0.0000), Var(v=-0.0056, grad=0.0000), Var(v=0.1501, grad=0.0000), Var(v=-0.0304, grad=0.0000), Var(v=0.0338, grad=0.0000), Var(v=0.1324, grad=0.0000), Var(v=0.1376, grad=0.0000), Var(v=0.0216, grad=0.0000), Var(v=-0.1033, grad=0.0000), Var(v=-0.0676, grad=0.0000), Var(v=-0.0724, grad=0.0000), Var(v=-0.1488, grad=0.0000), Var(v=0.0735, grad=0.0000), Var(v=-0.0230, grad=0.0000), Var(v=-0.0471, grad=0.0000), Var(v=0.0266, grad=0.0000), Var(v=0.1294, grad=0.0000), Var(v=0.0466, grad=0.0000), Var(v=0.0647, grad=0.0000), Var(v=-0.0337, grad=0.0000), Var(v=0.1709, grad=0.0000), Var(v=0.0773, grad=0.0000), Var(v=-0.0380, grad=0.0000), Var(v=0.0915, grad=0.0000), Var(v=-0.0302, grad=0.0000), Var(v=0.0465, grad=0.0000), Var(v=-0.0933, grad=0.0000), Var(v=-0.0183, grad=0.0000), Var(v=0.1630, grad=0.0000), Var(v=-0.0251, grad=0.0000), Var(v=0.0551, grad=0.0000), Var(v=-0.0130, grad=0.0000), Var(v=-0.0563, grad=0.0000), Var(v=-0.0630, grad=0.0000), Var(v=-0.0830, grad=0.0000), Var(v=0.0222, grad=0.0000), Var(v=-0.0497, grad=0.0000), Var(v=0.0794, grad=0.0000), Var(v=0.0790, grad=0.0000), Var(v=0.0074, grad=0.0000), Var(v=0.0859, grad=0.0000), Var(v=-0.0201, grad=0.0000), Var(v=0.0270, grad=0.0000), Var(v=-0.1547, grad=0.0000)], [Var(v=0.0786, grad=0.0000), Var(v=0.1128, grad=0.0000), Var(v=0.0101, grad=0.0000), Var(v=0.0952, grad=0.0000), Var(v=-0.0270, grad=0.0000), Var(v=-0.1460, grad=0.0000), Var(v=-0.0952, grad=0.0000), Var(v=-0.0178, grad=0.0000), Var(v=0.1681, grad=0.0000), Var(v=0.0790, grad=0.0000), Var(v=-0.0673, grad=0.0000), Var(v=-0.0129, grad=0.0000), Var(v=-0.1186, grad=0.0000), Var(v=-0.0892, grad=0.0000), Var(v=0.0495, grad=0.0000), Var(v=0.1060, grad=0.0000), Var(v=-0.0636, grad=0.0000), Var(v=0.0714, grad=0.0000), Var(v=0.0564, grad=0.0000), Var(v=-0.0547, grad=0.0000), Var(v=-0.0197, grad=0.0000), Var(v=-0.1879, grad=0.0000), Var(v=0.0023, grad=0.0000), Var(v=-0.0214, grad=0.0000), Var(v=-0.0562, grad=0.0000), Var(v=-0.1817, grad=0.0000), Var(v=0.0531, grad=0.0000), Var(v=-0.0834, grad=0.0000), Var(v=-0.0120, grad=0.0000), Var(v=-0.0702, grad=0.0000), Var(v=-0.0785, grad=0.0000), Var(v=0.0870, grad=0.0000), Var(v=-0.0170, grad=0.0000), Var(v=-0.1317, grad=0.0000), Var(v=0.0347, grad=0.0000), Var(v=-0.0281, grad=0.0000), Var(v=0.1235, grad=0.0000), Var(v=0.1505, grad=0.0000), Var(v=-0.0404, grad=0.0000), Var(v=-0.2064, grad=0.0000), Var(v=0.0088, grad=0.0000), Var(v=0.2024, grad=0.0000), Var(v=-0.0697, grad=0.0000), Var(v=-0.1797, grad=0.0000), Var(v=0.0500, grad=0.0000), Var(v=-0.0930, grad=0.0000), Var(v=-0.0208, grad=0.0000), Var(v=0.0650, grad=0.0000), Var(v=0.0545, grad=0.0000), Var(v=0.0517, grad=0.0000)], [Var(v=0.0315, grad=0.0000), Var(v=-0.0117, grad=0.0000), Var(v=0.0250, grad=0.0000), Var(v=-0.0350, grad=0.0000), Var(v=-0.0191, grad=0.0000), Var(v=0.0390, grad=0.0000), Var(v=0.0194, grad=0.0000), Var(v=-0.0391, grad=0.0000), Var(v=-0.0655, grad=0.0000), Var(v=-0.0611, grad=0.0000), Var(v=0.1038, grad=0.0000), Var(v=-0.0033, grad=0.0000), Var(v=0.0988, grad=0.0000), Var(v=-0.0764, grad=0.0000), Var(v=0.0090, grad=0.0000), Var(v=0.1392, grad=0.0000), Var(v=0.0370, grad=0.0000), Var(v=0.0970, grad=0.0000), Var(v=-0.0578, grad=0.0000), Var(v=-0.0945, grad=0.0000), Var(v=0.0091, grad=0.0000), Var(v=0.0767, grad=0.0000), Var(v=0.1324, grad=0.0000), Var(v=-0.0866, grad=0.0000), Var(v=0.0985, grad=0.0000), Var(v=0.1240, grad=0.0000), Var(v=0.0212, grad=0.0000), Var(v=0.0430, grad=0.0000), Var(v=0.2152, grad=0.0000), Var(v=0.0276, grad=0.0000), Var(v=-0.0358, grad=0.0000), Var(v=-0.0646, grad=0.0000), Var(v=-0.0701, grad=0.0000), Var(v=-0.0657, grad=0.0000), Var(v=0.1167, grad=0.0000), Var(v=0.0390, grad=0.0000), Var(v=-0.1638, grad=0.0000), Var(v=-0.0958, grad=0.0000), Var(v=-0.1419, grad=0.0000), Var(v=-0.1147, grad=0.0000), Var(v=0.0949, grad=0.0000), Var(v=0.0787, grad=0.0000), Var(v=0.0831, grad=0.0000), Var(v=0.1071, grad=0.0000), Var(v=-0.0799, grad=0.0000), Var(v=-0.0285, grad=0.0000), Var(v=0.0172, grad=0.0000), Var(v=0.0183, grad=0.0000), Var(v=0.0364, grad=0.0000), Var(v=0.0426, grad=0.0000)], [Var(v=0.0199, grad=0.0000), Var(v=-0.0360, grad=0.0000), Var(v=0.1606, grad=0.0000), Var(v=0.0986, grad=0.0000), Var(v=-0.1945, grad=0.0000), Var(v=-0.1068, grad=0.0000), Var(v=0.0381, grad=0.0000), Var(v=-0.1509, grad=0.0000), Var(v=-0.0651, grad=0.0000), Var(v=0.0206, grad=0.0000), Var(v=0.0254, grad=0.0000), Var(v=-0.1504, grad=0.0000), Var(v=0.0393, grad=0.0000), Var(v=-0.2253, grad=0.0000), Var(v=0.1809, grad=0.0000), Var(v=0.0852, grad=0.0000), Var(v=0.0354, grad=0.0000), Var(v=-0.0156, grad=0.0000), Var(v=0.1240, grad=0.0000), Var(v=0.0230, grad=0.0000), Var(v=0.2878, grad=0.0000), Var(v=0.1081, grad=0.0000), Var(v=0.0102, grad=0.0000), Var(v=0.0633, grad=0.0000), Var(v=0.1235, grad=0.0000), Var(v=-0.0797, grad=0.0000), Var(v=-0.0219, grad=0.0000), Var(v=0.1253, grad=0.0000), Var(v=0.0465, grad=0.0000), Var(v=0.0549, grad=0.0000), Var(v=-0.0266, grad=0.0000), Var(v=-0.0501, grad=0.0000), Var(v=0.0372, grad=0.0000), Var(v=0.1654, grad=0.0000), Var(v=-0.1369, grad=0.0000), Var(v=0.0045, grad=0.0000), Var(v=0.1404, grad=0.0000), Var(v=0.0037, grad=0.0000), Var(v=-0.1279, grad=0.0000), Var(v=0.0389, grad=0.0000), Var(v=0.0278, grad=0.0000), Var(v=-0.0896, grad=0.0000), Var(v=-0.0473, grad=0.0000), Var(v=0.0278, grad=0.0000), Var(v=-0.0418, grad=0.0000), Var(v=-0.0686, grad=0.0000), Var(v=-0.0799, grad=0.0000), Var(v=-0.0422, grad=0.0000), Var(v=0.0231, grad=0.0000), Var(v=-0.0473, grad=0.0000)], [Var(v=0.0903, grad=0.0000), Var(v=0.0804, grad=0.0000), Var(v=0.0918, grad=0.0000), Var(v=-0.0500, grad=0.0000), Var(v=-0.1302, grad=0.0000), Var(v=0.1007, grad=0.0000), Var(v=-0.0386, grad=0.0000), Var(v=0.0464, grad=0.0000), Var(v=0.0694, grad=0.0000), Var(v=-0.0372, grad=0.0000), Var(v=-0.0113, grad=0.0000), Var(v=-0.1006, grad=0.0000), Var(v=-0.0910, grad=0.0000), Var(v=0.0124, grad=0.0000), Var(v=-0.0116, grad=0.0000), Var(v=0.0265, grad=0.0000), Var(v=0.0031, grad=0.0000), Var(v=-0.0521, grad=0.0000), Var(v=-0.0630, grad=0.0000), Var(v=-0.1596, grad=0.0000), Var(v=-0.1049, grad=0.0000), Var(v=-0.0397, grad=0.0000), Var(v=0.0559, grad=0.0000), Var(v=0.1327, grad=0.0000), Var(v=0.0073, grad=0.0000), Var(v=0.0638, grad=0.0000), Var(v=0.0563, grad=0.0000), Var(v=-0.0907, grad=0.0000), Var(v=-0.0611, grad=0.0000), Var(v=-0.0287, grad=0.0000), Var(v=0.0598, grad=0.0000), Var(v=0.0029, grad=0.0000), Var(v=-0.0204, grad=0.0000), Var(v=-0.1749, grad=0.0000), Var(v=-0.1211, grad=0.0000), Var(v=0.0926, grad=0.0000), Var(v=0.0877, grad=0.0000), Var(v=0.1988, grad=0.0000), Var(v=0.2250, grad=0.0000), Var(v=0.0891, grad=0.0000), Var(v=0.0120, grad=0.0000), Var(v=-0.0719, grad=0.0000), Var(v=-0.0886, grad=0.0000), Var(v=0.0956, grad=0.0000), Var(v=0.0233, grad=0.0000), Var(v=0.0397, grad=0.0000), Var(v=0.0618, grad=0.0000), Var(v=0.0367, grad=0.0000), Var(v=0.0934, grad=0.0000), Var(v=-0.0574, grad=0.0000)]] \n",
      " Biases:[Var(v=-0.0260, grad=0.0000), Var(v=0.0000, grad=0.0000), Var(v=-0.0250, grad=0.0000), Var(v=-2.0795, grad=0.0000), Var(v=0.0000, grad=0.0000), Var(v=-0.0130, grad=0.0000), Var(v=0.0000, grad=0.0000), Var(v=0.3145, grad=0.0000), Var(v=-0.7048, grad=0.0000), Var(v=-1.3759, grad=0.0000), Var(v=0.1860, grad=0.0000), Var(v=2.5461, grad=0.0000), Var(v=0.0159, grad=0.0000), Var(v=-0.0097, grad=0.0000), Var(v=-0.7744, grad=0.0000), Var(v=-0.2499, grad=0.0000), Var(v=0.0000, grad=0.0000), Var(v=0.0285, grad=0.0000), Var(v=0.0000, grad=0.0000), Var(v=0.0204, grad=0.0000), Var(v=-0.0361, grad=0.0000), Var(v=0.0000, grad=0.0000), Var(v=-0.0260, grad=0.0000), Var(v=0.0062, grad=0.0000), Var(v=-0.0128, grad=0.0000), Var(v=0.4401, grad=0.0000), Var(v=0.0000, grad=0.0000), Var(v=-0.0246, grad=0.0000), Var(v=2.8313, grad=0.0000), Var(v=0.0000, grad=0.0000), Var(v=0.0184, grad=0.0000), Var(v=1.8095, grad=0.0000), Var(v=0.0000, grad=0.0000), Var(v=0.0357, grad=0.0000), Var(v=0.0000, grad=0.0000), Var(v=-0.0343, grad=0.0000), Var(v=0.0309, grad=0.0000), Var(v=0.3355, grad=0.0000), Var(v=-0.9814, grad=0.0000), Var(v=2.0080, grad=0.0000), Var(v=1.1669, grad=0.0000), Var(v=0.0000, grad=0.0000), Var(v=-0.9683, grad=0.0000), Var(v=-1.0893, grad=0.0000), Var(v=-2.6309, grad=0.0000), Var(v=0.4853, grad=0.0000), Var(v=0.0000, grad=0.0000), Var(v=0.0000, grad=0.0000), Var(v=0.0000, grad=0.0000), Var(v=0.0000, grad=0.0000)]\n",
      "Layer 2 \n",
      " 50 input nodes \n",
      "1 output nodes \n",
      " Weights:[[Var(v=-0.0001, grad=0.0000)], [Var(v=-0.0556, grad=0.0000)], [Var(v=-0.1710, grad=0.0000)], [Var(v=0.0918, grad=0.0000)], [Var(v=-0.0839, grad=0.0000)], [Var(v=-0.0686, grad=0.0000)], [Var(v=-0.0699, grad=0.0000)], [Var(v=0.0311, grad=0.0000)], [Var(v=0.0333, grad=0.0000)], [Var(v=-0.1004, grad=0.0000)], [Var(v=-0.0229, grad=0.0000)], [Var(v=0.1981, grad=0.0000)], [Var(v=0.0788, grad=0.0000)], [Var(v=-0.0522, grad=0.0000)], [Var(v=0.0252, grad=0.0000)], [Var(v=0.0083, grad=0.0000)], [Var(v=0.0777, grad=0.0000)], [Var(v=0.1611, grad=0.0000)], [Var(v=-0.0136, grad=0.0000)], [Var(v=0.1055, grad=0.0000)], [Var(v=-0.1965, grad=0.0000)], [Var(v=0.0089, grad=0.0000)], [Var(v=-0.1911, grad=0.0000)], [Var(v=0.0353, grad=0.0000)], [Var(v=-0.0796, grad=0.0000)], [Var(v=-0.0525, grad=0.0000)], [Var(v=-0.0163, grad=0.0000)], [Var(v=-0.1371, grad=0.0000)], [Var(v=-0.2249, grad=0.0000)], [Var(v=0.0661, grad=0.0000)], [Var(v=0.1056, grad=0.0000)], [Var(v=0.1392, grad=0.0000)], [Var(v=-0.0242, grad=0.0000)], [Var(v=0.1855, grad=0.0000)], [Var(v=-0.0702, grad=0.0000)], [Var(v=-0.2311, grad=0.0000)], [Var(v=0.1536, grad=0.0000)], [Var(v=-0.0943, grad=0.0000)], [Var(v=-0.0544, grad=0.0000)], [Var(v=-0.1598, grad=0.0000)], [Var(v=-0.1351, grad=0.0000)], [Var(v=-0.1667, grad=0.0000)], [Var(v=-0.0151, grad=0.0000)], [Var(v=0.0598, grad=0.0000)], [Var(v=0.1888, grad=0.0000)], [Var(v=-0.0745, grad=0.0000)], [Var(v=-0.1128, grad=0.0000)], [Var(v=-0.0048, grad=0.0000)], [Var(v=0.1074, grad=0.0000)], [Var(v=-0.1919, grad=0.0000)]] \n",
      " Biases:[Var(v=0.6464, grad=0.0000)]\n"
     ]
    },
    {
     "data": {
      "text/plain": [
       "[None, None, None]"
      ]
     },
     "execution_count": 32,
     "metadata": {},
     "output_type": "execute_result"
    }
   ],
   "source": [
    "print('Network before update:')\n",
    "[print('Layer', i, '\\n', NN[i]) for i in range(len(NN))] \n",
    "\n",
    "def parameters(network):\n",
    "    params = []\n",
    "    for layer in range(len(network)):\n",
    "        params += network[layer].parameters()\n",
    "    return params\n",
    "\n",
    "def update_parameters(params, learning_rate=0.01):\n",
    "    for p in params:\n",
    "        p.v -= learning_rate*p.grad\n",
    "\n",
    "def zero_gradients(params):\n",
    "    for p in params:\n",
    "        p.grad = 0.0\n",
    "\n",
    "update_parameters(parameters(NN))\n",
    "\n",
    "print('\\nNetwork after update:')\n",
    "[print('Layer', i, '\\n', NN[i]) for i in range(len(NN))] \n",
    "\n",
    "zero_gradients(parameters(NN))\n",
    "\n",
    "print('\\nNetwork after zeroing gradients:')\n",
    "[print('Layer', i, '\\n', NN[i]) for i in range(len(NN))] "
   ]
  },
  {
   "cell_type": "code",
   "execution_count": 33,
   "metadata": {
    "id": "woWYpdw6FtIO"
   },
   "outputs": [],
   "source": [
    "# Initialize an arbitrary neural network\n",
    "NN = [\n",
    "    DenseLayer(1, 8, lambda x: x.relu()),\n",
    "    DenseLayer(8, 1, lambda x: x.identity())\n",
    "]\n",
    "\n",
    "# Recommended hyper-parameters for 3-D: \n",
    "#NN = [\n",
    "#    DenseLayer(3, 16, lambda x: x.relu()),\n",
    "#    DenseLayer(16, 1, lambda x: x.identity())\n",
    "#]\n",
    "\n",
    "\n",
    "### Notice that, when we switch from tanh to relu activation, we decrease the learning rate. This is due the stability of the gradients \n",
    "## of the activation functions."
   ]
  },
  {
   "cell_type": "code",
   "execution_count": 34,
   "metadata": {
    "id": "mdqaqYBVFtIR"
   },
   "outputs": [],
   "source": [
    "# Initialize training hyperparameters\n",
    "EPOCHS = 600\n",
    "LEARN_R = 3e-5"
   ]
  },
  {
   "cell_type": "code",
   "execution_count": 35,
   "metadata": {
    "colab": {
     "base_uri": "https://localhost:8080/"
    },
    "id": "5kfg76GMFtIW",
    "outputId": "e30cf68a-31f2-42b4-cc5e-860c297c0f04"
   },
   "outputs": [
    {
     "name": "stdout",
     "output_type": "stream",
     "text": [
      "   0 ( 0.00%) Train loss: 103.080 \t Validation loss: 106.214\n",
      "  10 ( 1.67%) Train loss: 102.453 \t Validation loss: 105.293\n",
      "  20 ( 3.33%) Train loss: 101.889 \t Validation loss: 104.721\n",
      "  30 ( 5.00%) Train loss: 101.421 \t Validation loss: 104.261\n",
      "  40 ( 6.67%) Train loss: 100.960 \t Validation loss: 103.796\n",
      "  50 ( 8.33%) Train loss: 100.478 \t Validation loss: 103.312\n",
      "  60 (10.00%) Train loss: 99.974 \t Validation loss: 102.805\n",
      "  70 (11.67%) Train loss: 99.445 \t Validation loss: 102.274\n",
      "  80 (13.33%) Train loss: 98.889 \t Validation loss: 101.715\n",
      "  90 (15.00%) Train loss: 98.304 \t Validation loss: 101.127\n",
      " 100 (16.67%) Train loss: 97.688 \t Validation loss: 100.507\n",
      " 110 (18.33%) Train loss: 97.036 \t Validation loss: 99.852\n",
      " 120 (20.00%) Train loss: 96.348 \t Validation loss: 99.159\n",
      " 130 (21.67%) Train loss: 95.621 \t Validation loss: 98.428\n",
      " 140 (23.33%) Train loss: 94.852 \t Validation loss: 97.654\n",
      " 150 (25.00%) Train loss: 94.039 \t Validation loss: 96.835\n",
      " 160 (26.67%) Train loss: 93.180 \t Validation loss: 95.969\n",
      " 170 (28.33%) Train loss: 92.270 \t Validation loss: 95.054\n",
      " 180 (30.00%) Train loss: 91.310 \t Validation loss: 94.087\n",
      " 190 (31.67%) Train loss: 90.297 \t Validation loss: 93.067\n",
      " 200 (33.33%) Train loss: 89.229 \t Validation loss: 91.990\n",
      " 210 (35.00%) Train loss: 88.105 \t Validation loss: 90.855\n",
      " 220 (36.67%) Train loss: 86.921 \t Validation loss: 89.661\n",
      " 230 (38.33%) Train loss: 85.678 \t Validation loss: 88.405\n",
      " 240 (40.00%) Train loss: 84.374 \t Validation loss: 87.087\n",
      " 250 (41.67%) Train loss: 83.009 \t Validation loss: 85.705\n",
      " 260 (43.33%) Train loss: 81.581 \t Validation loss: 84.259\n",
      " 270 (45.00%) Train loss: 80.091 \t Validation loss: 82.750\n",
      " 280 (46.67%) Train loss: 78.539 \t Validation loss: 81.176\n",
      " 290 (48.33%) Train loss: 76.927 \t Validation loss: 79.540\n",
      " 300 (50.00%) Train loss: 75.255 \t Validation loss: 77.843\n",
      " 310 (51.67%) Train loss: 73.525 \t Validation loss: 76.088\n",
      " 320 (53.33%) Train loss: 71.742 \t Validation loss: 74.275\n",
      " 330 (55.00%) Train loss: 69.908 \t Validation loss: 72.409\n",
      " 340 (56.67%) Train loss: 68.028 \t Validation loss: 70.493\n",
      " 350 (58.33%) Train loss: 66.107 \t Validation loss: 68.531\n",
      " 360 (60.00%) Train loss: 64.148 \t Validation loss: 66.529\n",
      " 370 (61.67%) Train loss: 62.157 \t Validation loss: 64.491\n",
      " 380 (63.33%) Train loss: 60.140 \t Validation loss: 62.423\n",
      " 390 (65.00%) Train loss: 58.105 \t Validation loss: 60.333\n",
      " 400 (66.67%) Train loss: 56.060 \t Validation loss: 58.228\n",
      " 410 (68.33%) Train loss: 54.012 \t Validation loss: 56.114\n",
      " 420 (70.00%) Train loss: 51.969 \t Validation loss: 54.000\n",
      " 430 (71.67%) Train loss: 49.938 \t Validation loss: 51.893\n",
      " 440 (73.33%) Train loss: 47.926 \t Validation loss: 49.802\n",
      " 450 (75.00%) Train loss: 45.943 \t Validation loss: 47.734\n",
      " 460 (76.67%) Train loss: 43.997 \t Validation loss: 45.697\n",
      " 470 (78.33%) Train loss: 42.095 \t Validation loss: 43.699\n",
      " 480 (80.00%) Train loss: 40.243 \t Validation loss: 41.747\n",
      " 490 (81.67%) Train loss: 38.449 \t Validation loss: 39.847\n",
      " 500 (83.33%) Train loss: 36.716 \t Validation loss: 38.005\n",
      " 510 (85.00%) Train loss: 35.049 \t Validation loss: 36.225\n",
      " 520 (86.67%) Train loss: 33.454 \t Validation loss: 34.513\n",
      " 530 (88.33%) Train loss: 31.932 \t Validation loss: 32.873\n",
      " 540 (90.00%) Train loss: 30.489 \t Validation loss: 31.306\n",
      " 550 (91.67%) Train loss: 29.124 \t Validation loss: 29.817\n",
      " 560 (93.33%) Train loss: 27.839 \t Validation loss: 28.406\n",
      " 570 (95.00%) Train loss: 26.634 \t Validation loss: 27.073\n",
      " 580 (96.67%) Train loss: 25.509 \t Validation loss: 25.819\n",
      " 590 (98.33%) Train loss: 24.463 \t Validation loss: 24.644\n"
     ]
    }
   ],
   "source": [
    "train_loss = []\n",
    "val_loss = []\n",
    "\n",
    "for e in range(EPOCHS):\n",
    "     \n",
    "    # Forward pass and loss computation\n",
    "    Loss = squared_loss(y_train, forward(x_train, NN))\n",
    "\n",
    "    # Backward pass\n",
    "    Loss.backward()\n",
    "    \n",
    "    # gradient descent update\n",
    "    update_parameters(parameters(NN), LEARN_R)\n",
    "    zero_gradients(parameters(NN))\n",
    "    \n",
    "    # Training loss\n",
    "    train_loss.append(Loss.v)\n",
    "    \n",
    "    # Validation\n",
    "    Loss_validation = squared_loss(y_validation,forward(x_validation, NN))\n",
    "    val_loss.append(Loss_validation.v)\n",
    "    \n",
    "    if e%10==0:\n",
    "        print(\"{:4d}\".format(e),\n",
    "              \"({:5.2f}%)\".format(e/EPOCHS*100), \n",
    "              \"Train loss: {:4.3f} \\t Validation loss: {:4.3f}\".format(train_loss[-1], val_loss[-1]))\n",
    "        \n"
   ]
  },
  {
   "cell_type": "code",
   "execution_count": 36,
   "metadata": {
    "colab": {
     "base_uri": "https://localhost:8080/",
     "height": 265
    },
    "id": "VetyRWFwFtIY",
    "outputId": "344e490d-6d7d-455a-fa6f-88dd11eb957e"
   },
   "outputs": [
    {
     "data": {
      "image/png": "[encoded data removed]",
      "text/plain": [
       "<Figure size 432x288 with 1 Axes>"
      ]
     },
     "metadata": {
      "needs_background": "light"
     },
     "output_type": "display_data"
    }
   ],
   "source": [
    "plt.plot(range(len(train_loss)), train_loss);\n",
    "plt.plot(range(len(val_loss)), val_loss);"
   ]
  },
  {
   "cell_type": "markdown",
   "metadata": {
    "id": "8OgmIrM9FtIb"
   },
   "source": [
    "# Testing\n",
    "\n",
    "We have kept the calculation of the test error separate in order to emphasize that you should not use the test set in optimization."
   ]
  },
  {
   "cell_type": "code",
   "execution_count": 37,
   "metadata": {
    "id": "HmNi7S-vFtIc"
   },
   "outputs": [],
   "source": [
    "output_test = forward(x_test, NN)"
   ]
  },
  {
   "cell_type": "code",
   "execution_count": 38,
   "metadata": {
    "colab": {
     "base_uri": "https://localhost:8080/",
     "height": 316
    },
    "id": "7mmJOTSEFtIf",
    "outputId": "e3264095-cefe-4aee-893d-bf152438e332"
   },
   "outputs": [
    {
     "name": "stdout",
     "output_type": "stream",
     "text": [
      "Test loss:  23.743\n"
     ]
    },
    {
     "data": {
      "image/png": "[encoded data removed]",
      "text/plain": [
       "<Figure size 432x288 with 1 Axes>"
      ]
     },
     "metadata": {
      "needs_background": "light"
     },
     "output_type": "display_data"
    }
   ],
   "source": [
    "y_test_np = Var_to_nparray(y_test)\n",
    "plt.scatter(y_test_np, Var_to_nparray(output_test));\n",
    "plt.plot([np.min(y_test_np), np.max(y_test_np)], [np.min(y_test_np), np.max(y_test_np)], color='k');\n",
    "plt.xlabel(\"y\");\n",
    "plt.ylabel(\"$\\hat{y}$\");\n",
    "plt.title(\"Model prediction vs real in the test set, the close to the line the better\")\n",
    "plt.grid(True);\n",
    "plt.axis('equal');\n",
    "plt.tight_layout();\n",
    "\n",
    "Loss_test = squared_loss(y_test, forward(x_test, NN))\n",
    "\n",
    "print(\"Test loss:  {:4.3f}\".format(Loss_test.v))"
   ]
  },
  {
   "cell_type": "code",
   "execution_count": 39,
   "metadata": {
    "colab": {
     "base_uri": "https://localhost:8080/",
     "height": 279
    },
    "id": "ODi0WlmQFtIh",
    "outputId": "d1ab874f-0717-4987-87bf-1f0c7c8e7148"
   },
   "outputs": [
    {
     "data": {
      "image/png": "[encoded data removed]",
      "text/plain": [
       "<Figure size 432x288 with 1 Axes>"
      ]
     },
     "metadata": {
      "needs_background": "light"
     },
     "output_type": "display_data"
    }
   ],
   "source": [
    "x_test_np = Var_to_nparray(x_test)\n",
    "x_train_np = Var_to_nparray(x_train)\n",
    "y_train_np = Var_to_nparray(y_train)\n",
    "if D1:\n",
    "    plt.scatter(x_train_np, y_train_np, label=\"train data\");\n",
    "    plt.scatter(x_test_np, Var_to_nparray(output_test), label=\"test prediction\");\n",
    "    plt.scatter(x_test_np, y_test_np, label=\"test data\");\n",
    "    plt.legend();\n",
    "    plt.xlabel(\"x\");\n",
    "    plt.ylabel(\"y\");\n",
    "else:\n",
    "    plt.scatter(x_train_np[:,1], y_train, label=\"train data\");\n",
    "    plt.scatter(x_test_np[:,1], Var_to_nparray(output_test), label=\"test data prediction\");\n",
    "    plt.scatter(x_test_np[:,1], y_test_np, label=\"test data\");\n",
    "    plt.legend();\n",
    "    plt.xlabel(\"x\");\n",
    "    plt.ylabel(\"y\");"
   ]
  },
  {
   "cell_type": "markdown",
   "metadata": {
    "id": "zTBAmjsAFtIk"
   },
   "source": [
    "## Exercise k) Show overfitting, underfitting and just right fitting\n",
    "\n",
    "Vary the architecture and other things to show clear signs of overfitting (=training loss significantly lower than test loss) and underfitting (=not fitting enoung to training data so that test performance is also hurt).\n",
    "\n",
    "See also if you can get a good compromise which leads to a low validation loss. \n",
    "\n",
    "For this problem do you see any big difference between validation and test loss? The answer here will probably be no. Discuss cases where it is important to keep the two separate.\n",
    "\n",
    "_Insert written answer here._\n"
   ]
  },
  {
   "cell_type": "markdown",
   "metadata": {},
   "source": [
    "## Answer k)"
   ]
  },
  {
   "cell_type": "markdown",
   "metadata": {},
   "source": [
    "For separating the validation dataset and test dataset, it is mainly because the use of these two datasets is different.\n",
    "\n",
    "For validation dataset, we focus on building model, it means adjusting hyper parameters, like epoches, learning rate, nodes or so and avoid some accidents, like gradient explosion, to draw the model back into right way. \n",
    "\n",
    "For test dataset, we focus on testing model, it means the genralization ability of this model need to be test. In this dataset, we just test the performance of the model but do not adjust it. "
   ]
  },
  {
   "cell_type": "markdown",
   "metadata": {},
   "source": [
    "## Under Fitting"
   ]
  },
  {
   "cell_type": "code",
   "execution_count": 32,
   "metadata": {},
   "outputs": [
    {
     "name": "stdout",
     "output_type": "stream",
     "text": [
      "   0 ( 0.00%) Train loss: 106.206 \t Validation loss: 108.544\n",
      "  10 (15.15%) Train loss: 105.583 \t Validation loss: 108.151\n",
      "  20 (30.30%) Train loss: 104.985 \t Validation loss: 107.556\n",
      "  30 (45.45%) Train loss: 104.400 \t Validation loss: 106.972\n",
      "  40 (60.61%) Train loss: 103.823 \t Validation loss: 106.396\n",
      "  50 (75.76%) Train loss: 103.258 \t Validation loss: 105.831\n",
      "  60 (90.91%) Train loss: 102.711 \t Validation loss: 105.282\n",
      "_______________________________________________________________\n",
      "Train loss:  102.447\n",
      "Test loss:  97.414\n"
     ]
    },
    {
     "data": {
      "image/png": "[encoded data removed]",
      "text/plain": [
       "<Figure size 432x288 with 1 Axes>"
      ]
     },
     "metadata": {
      "needs_background": "light"
     },
     "output_type": "display_data"
    }
   ],
   "source": [
    "NN = [\n",
    "    DenseLayer(1, 8, lambda x: x.relu()),\n",
    "    DenseLayer(8, 1, lambda x: x.identity())\n",
    "]\n",
    "\n",
    "EPOCHS = 66\n",
    "LEARN_R = 3e-5\n",
    "\n",
    "train_loss = []\n",
    "val_loss = []\n",
    "\n",
    "for e in range(EPOCHS):\n",
    "     \n",
    "    # Forward pass and loss computation\n",
    "    Loss = squared_loss(y_train, forward(x_train, NN))\n",
    "\n",
    "    # Backward pass\n",
    "    Loss.backward()\n",
    "    \n",
    "    # gradient descent update\n",
    "    update_parameters(parameters(NN), LEARN_R)\n",
    "    zero_gradients(parameters(NN))\n",
    "    \n",
    "    # Training loss\n",
    "    train_loss.append(Loss.v)\n",
    "    \n",
    "    # Validation\n",
    "    Loss_validation = squared_loss(y_validation,forward(x_validation, NN))\n",
    "    val_loss.append(Loss_validation.v)\n",
    "    \n",
    "    if e%10==0:\n",
    "        print(\"{:4d}\".format(e),\n",
    "              \"({:5.2f}%)\".format(e/EPOCHS*100), \n",
    "              \"Train loss: {:4.3f} \\t Validation loss: {:4.3f}\".format(train_loss[-1], val_loss[-1]))\n",
    "        \n",
    "y_test_np = Var_to_nparray(y_test)\n",
    "output_test = forward(x_test, NN)\n",
    "\n",
    "plt.scatter(y_test_np, Var_to_nparray(output_test));\n",
    "plt.plot([np.min(y_test_np), np.max(y_test_np)], [np.min(y_test_np), np.max(y_test_np)], color='k');\n",
    "plt.xlabel(\"y\");\n",
    "plt.ylabel(\"$\\hat{y}$\");\n",
    "plt.title(\"Model prediction vs real in the test set, the close to the line the better\")\n",
    "plt.grid(True);\n",
    "plt.axis('equal');\n",
    "plt.tight_layout();\n",
    "\n",
    "Loss_test = squared_loss(y_test, forward(x_test, NN))\n",
    "\n",
    "print(\"_______________________________________________________________\")\n",
    "print(\"Train loss:  {:4.3f}\".format(train_loss[-1]))\n",
    "print(\"Test loss:  {:4.3f}\".format(Loss_test.v))"
   ]
  },
  {
   "cell_type": "markdown",
   "metadata": {},
   "source": [
    "## Right Fitting"
   ]
  },
  {
   "cell_type": "code",
   "execution_count": 31,
   "metadata": {},
   "outputs": [
    {
     "name": "stdout",
     "output_type": "stream",
     "text": [
      "   0 ( 0.00%) Train loss: 104.227 \t Validation loss: 106.711\n",
      " 100 ( 6.00%) Train loss: 97.145 \t Validation loss: 99.733\n",
      " 200 (12.00%) Train loss: 87.285 \t Validation loss: 89.700\n",
      " 300 (18.01%) Train loss: 71.732 \t Validation loss: 73.805\n",
      " 400 (24.01%) Train loss: 51.566 \t Validation loss: 53.004\n",
      " 500 (30.01%) Train loss: 32.824 \t Validation loss: 33.237\n",
      " 600 (36.01%) Train loss: 21.147 \t Validation loss: 20.346\n",
      " 700 (42.02%) Train loss: 16.150 \t Validation loss: 14.316\n",
      " 800 (48.02%) Train loss: 14.505 \t Validation loss: 11.995\n",
      " 900 (54.02%) Train loss: 14.005 \t Validation loss: 11.129\n",
      "1000 (60.02%) Train loss: 13.817 \t Validation loss: 10.768\n",
      "1100 (66.03%) Train loss: 13.711 \t Validation loss: 10.585\n",
      "1200 (72.03%) Train loss: 13.629 \t Validation loss: 10.470\n",
      "1300 (78.03%) Train loss: 13.562 \t Validation loss: 10.388\n",
      "1400 (84.03%) Train loss: 13.488 \t Validation loss: 10.319\n",
      "1500 (90.04%) Train loss: 13.413 \t Validation loss: 10.255\n",
      "1600 (96.04%) Train loss: 13.338 \t Validation loss: 10.192\n",
      "_______________________________________________________________\n",
      "Train loss:  13.289\n",
      "Test loss:  10.989\n"
     ]
    },
    {
     "data": {
      "image/png": "[encoded data removed]",
      "text/plain": [
       "<Figure size 432x288 with 1 Axes>"
      ]
     },
     "metadata": {
      "needs_background": "light"
     },
     "output_type": "display_data"
    }
   ],
   "source": [
    "NN = [\n",
    "    DenseLayer(1, 8, lambda x: x.relu()),\n",
    "    DenseLayer(8, 1, lambda x: x.identity())\n",
    "]\n",
    "\n",
    "EPOCHS = 1666\n",
    "LEARN_R = 3e-5\n",
    "\n",
    "train_loss = []\n",
    "val_loss = []\n",
    "\n",
    "for e in range(EPOCHS):\n",
    "     \n",
    "    # Forward pass and loss computation\n",
    "    Loss = squared_loss(y_train, forward(x_train, NN))\n",
    "\n",
    "    # Backward pass\n",
    "    Loss.backward()\n",
    "    \n",
    "    # gradient descent update\n",
    "    update_parameters(parameters(NN), LEARN_R)\n",
    "    zero_gradients(parameters(NN))\n",
    "    \n",
    "    # Training loss\n",
    "    train_loss.append(Loss.v)\n",
    "    \n",
    "    # Validation\n",
    "    Loss_validation = squared_loss(y_validation,forward(x_validation, NN))\n",
    "    val_loss.append(Loss_validation.v)\n",
    "    \n",
    "    if e%100==0:\n",
    "        print(\"{:4d}\".format(e),\n",
    "              \"({:5.2f}%)\".format(e/EPOCHS*100), \n",
    "              \"Train loss: {:4.3f} \\t Validation loss: {:4.3f}\".format(train_loss[-1], val_loss[-1]))\n",
    "        \n",
    "y_test_np = Var_to_nparray(y_test)\n",
    "output_test = forward(x_test, NN)\n",
    "\n",
    "plt.scatter(y_test_np, Var_to_nparray(output_test));\n",
    "plt.plot([np.min(y_test_np), np.max(y_test_np)], [np.min(y_test_np), np.max(y_test_np)], color='k');\n",
    "plt.xlabel(\"y\");\n",
    "plt.ylabel(\"$\\hat{y}$\");\n",
    "plt.title(\"Model prediction vs real in the test set, the close to the line the better\")\n",
    "plt.grid(True);\n",
    "plt.axis('equal');\n",
    "plt.tight_layout();\n",
    "\n",
    "Loss_test = squared_loss(y_test, forward(x_test, NN))\n",
    "\n",
    "print(\"_______________________________________________________________\")\n",
    "print(\"Train loss:  {:4.3f}\".format(train_loss[-1]))\n",
    "print(\"Test loss:  {:4.3f}\".format(Loss_test.v))"
   ]
  },
  {
   "cell_type": "markdown",
   "metadata": {},
   "source": [
    "## Over Fitting"
   ]
  },
  {
   "cell_type": "code",
   "execution_count": 30,
   "metadata": {},
   "outputs": [
    {
     "name": "stdout",
     "output_type": "stream",
     "text": [
      "   0 ( 0.00%) Train loss: 105.586 \t Validation loss: 108.400\n",
      " 100 ( 3.75%) Train loss: 101.126 \t Validation loss: 103.975\n",
      " 200 ( 7.50%) Train loss: 95.937 \t Validation loss: 98.824\n",
      " 300 (11.25%) Train loss: 86.911 \t Validation loss: 89.824\n",
      " 400 (15.00%) Train loss: 72.418 \t Validation loss: 75.262\n",
      " 500 (18.75%) Train loss: 53.452 \t Validation loss: 55.947\n",
      " 600 (22.51%) Train loss: 35.429 \t Validation loss: 37.109\n",
      " 700 (26.26%) Train loss: 23.761 \t Validation loss: 24.269\n",
      " 800 (30.01%) Train loss: 18.494 \t Validation loss: 17.857\n",
      " 900 (33.76%) Train loss: 16.636 \t Validation loss: 15.164\n",
      "1000 (37.51%) Train loss: 16.010 \t Validation loss: 14.021\n",
      "1100 (41.26%) Train loss: 15.732 \t Validation loss: 13.436\n",
      "1200 (45.01%) Train loss: 15.546 \t Validation loss: 13.071\n",
      "1300 (48.76%) Train loss: 15.387 \t Validation loss: 12.799\n",
      "1400 (52.51%) Train loss: 15.245 \t Validation loss: 12.574\n",
      "1500 (56.26%) Train loss: 15.120 \t Validation loss: 12.382\n",
      "1600 (60.02%) Train loss: 15.004 \t Validation loss: 12.212\n",
      "1700 (63.77%) Train loss: 14.899 \t Validation loss: 12.056\n",
      "1800 (67.52%) Train loss: 14.797 \t Validation loss: 11.911\n",
      "1900 (71.27%) Train loss: 14.702 \t Validation loss: 11.777\n",
      "2000 (75.02%) Train loss: 14.614 \t Validation loss: 11.653\n",
      "2100 (78.77%) Train loss: 14.528 \t Validation loss: 11.535\n",
      "2200 (82.52%) Train loss: 14.443 \t Validation loss: 11.422\n",
      "2300 (86.27%) Train loss: 14.352 \t Validation loss: 11.315\n",
      "2400 (90.02%) Train loss: 14.254 \t Validation loss: 11.212\n",
      "2500 (93.77%) Train loss: 14.157 \t Validation loss: 11.110\n",
      "2600 (97.52%) Train loss: 14.059 \t Validation loss: 11.007\n",
      "_______________________________________________________________\n",
      "Train loss:  13.984\n",
      "Test loss:  12.772\n"
     ]
    },
    {
     "data": {
      "image/png": "[encoded data removed]",
      "text/plain": [
       "<Figure size 432x288 with 1 Axes>"
      ]
     },
     "metadata": {
      "needs_background": "light"
     },
     "output_type": "display_data"
    }
   ],
   "source": [
    "NN = [\n",
    "    DenseLayer(1, 8, lambda x: x.relu()),\n",
    "    DenseLayer(8, 1, lambda x: x.identity())\n",
    "]\n",
    "\n",
    "EPOCHS = 2666\n",
    "LEARN_R = 3e-5\n",
    "\n",
    "train_loss = []\n",
    "val_loss = []\n",
    "\n",
    "for e in range(EPOCHS):\n",
    "     \n",
    "    # Forward pass and loss computation\n",
    "    Loss = squared_loss(y_train, forward(x_train, NN))\n",
    "\n",
    "    # Backward pass\n",
    "    Loss.backward()\n",
    "    \n",
    "    # gradient descent update\n",
    "    update_parameters(parameters(NN), LEARN_R)\n",
    "    zero_gradients(parameters(NN))\n",
    "    \n",
    "    # Training loss\n",
    "    train_loss.append(Loss.v)\n",
    "    \n",
    "    # Validation\n",
    "    Loss_validation = squared_loss(y_validation,forward(x_validation, NN))\n",
    "    val_loss.append(Loss_validation.v)\n",
    "    \n",
    "    if e%100==0:\n",
    "        print(\"{:4d}\".format(e),\n",
    "              \"({:5.2f}%)\".format(e/EPOCHS*100), \n",
    "              \"Train loss: {:4.3f} \\t Validation loss: {:4.3f}\".format(train_loss[-1], val_loss[-1]))\n",
    "        \n",
    "y_test_np = Var_to_nparray(y_test)\n",
    "output_test = forward(x_test, NN)\n",
    "\n",
    "plt.scatter(y_test_np, Var_to_nparray(output_test));\n",
    "plt.plot([np.min(y_test_np), np.max(y_test_np)], [np.min(y_test_np), np.max(y_test_np)], color='k');\n",
    "plt.xlabel(\"y\");\n",
    "plt.ylabel(\"$\\hat{y}$\");\n",
    "plt.title(\"Model prediction vs real in the test set, the close to the line the better\")\n",
    "plt.grid(True);\n",
    "plt.axis('equal');\n",
    "plt.tight_layout();\n",
    "\n",
    "Loss_test = squared_loss(y_test, forward(x_test, NN))\n",
    "\n",
    "print(\"_______________________________________________________________\")\n",
    "print(\"Train loss:  {:4.3f}\".format(train_loss[-1]))\n",
    "print(\"Test loss:  {:4.3f}\".format(Loss_test.v))"
   ]
  },
  {
   "cell_type": "markdown",
   "metadata": {
    "id": "fYPZP-eTFtIo"
   },
   "source": [
    "# Next steps - classification\n",
    "\n",
    "It is straight forward to extend what we have done to classification. \n",
    "\n",
    "For numerical stability it is better to make softmax and cross-entropy as one function so we write the cross entropy loss as a function of the logits we talked about last week. \n",
    "\n",
    "Next week we will see how to perform classification in PyTorch."
   ]
  },
  {
   "cell_type": "markdown",
   "metadata": {
    "id": "qsVPul3QFtIo"
   },
   "source": [
    "## Exercise l) optional - Implement backpropagation for classification\n",
    "\n",
    "Should be possible with very few lines of code. :-)"
   ]
  },
  {
   "cell_type": "code",
   "execution_count": null,
   "metadata": {
    "id": "oC8QrI2tFtIp"
   },
   "outputs": [],
   "source": [
    "# Just add code."
   ]
  },
  {
   "cell_type": "markdown",
   "metadata": {
    "id": "APqhJv3tta1O"
   },
   "source": [
    "## Exercise m) optional - Introduce a NeuralNetwork class\n",
    "\n",
    "The functions we applied on the neural network (parameters, update_parameters and zero_gradients) can more naturally be included as methods in a NeuralNetwork class. Make such a class and modify the code to use it. "
   ]
  },
  {
   "cell_type": "code",
   "execution_count": null,
   "metadata": {
    "id": "Dqfnor1ouMLq"
   },
   "outputs": [],
   "source": [
    "# just add some code"
   ]
  }
 ],
 "metadata": {
  "anaconda-cloud": {},
  "colab": {
   "collapsed_sections": [
    "U4057_ljNvWB",
    "p_8n_SKnIW2F",
    "oLrGJytZFtGm",
    "jpIZPBpNI0pO",
    "_79HOAXrFtHK",
    "mqeyab9qFtGs",
    "-XyXBD37FtHk",
    "SrwSJ2UWFtHu",
    "zTBAmjsAFtIk",
    "qsVPul3QFtIo",
    "APqhJv3tta1O"
   ],
   "name": "2.1-EXE-FNN-AutoDif-Nanograd.ipynb",
   "provenance": []
  },
  "kernelspec": {
   "display_name": "Python 3",
   "language": "python",
   "name": "python3"
  },
  "language_info": {
   "codemirror_mode": {
    "name": "ipython",
    "version": 3
   },
   "file_extension": ".py",
   "mimetype": "text/x-python",
   "name": "python",
   "nbconvert_exporter": "python",
   "pygments_lexer": "ipython3",
   "version": "3.8.8"
  }
 },
 "nbformat": 4,
 "nbformat_minor": 1
}
